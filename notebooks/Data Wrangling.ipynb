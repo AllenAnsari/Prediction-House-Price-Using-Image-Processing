{
 "cells": [
  {
   "cell_type": "markdown",
   "metadata": {},
   "source": [
    "## 1. Data wrangling"
   ]
  },
  {
   "cell_type": "markdown",
   "metadata": {},
   "source": [
    "## 1.1 Contents<a id='2.1_Contents'></a>\n",
    "* [1 Data wrangling](#2_Data_wrangling)\n",
    "  * [1.1 Contents](#2.1_Contents)\n",
    "  * [1.2 Introduction](#2.2_Introduction)\n",
    "  * [1.3 Imports](#2.3_Imports)\n",
    "  * [1.4 Load The House Price Data](#2.4_Load_The_House_Price_Data)\n",
    "  * [1.5 Filtering Single Family Property Type](#2.5_Filtering_Single_Family_Property_Type) \n",
    "  * [1.6 Missing Values](#2.6_Missing_Values) \n",
    "    * [1.6.1 Features With > 90% Missing Values](#1.6.1_Features_With_>90%_Missing_Values)\n",
    "    * [1.6.2 Features With 80%-90% Missing Values](#1.6.2_Features_With_80%_-_90%_Missing_Values)\n",
    "    * [1.6.3 Features With 70%-80% Missing Values](#1.6.3_Features_With_70%_-_80%_Missing_Values)\n",
    "    * [1.6.4 Features With 50%-70% Missing Values](#1.6.4_Features_With_50%_-_70%_Missing_Values)\n",
    "    * [1.6.5 Features With 10%-50% Missing Values](#1.6.5_Features_With_10%_-_50%_Missing_Values)\n",
    "      * [1.6.5.1 Garage](#1.6.5.1_Garage)\n",
    "      * [1.6.5.2 Living](#1.6.5.2_Living) \n",
    "      * [1.6.5.3 Dining](#1.6.5.3_Dining) \n",
    "      * [1.6.5.4 Kitchen](#1.6.5.4_Kitchen)\n",
    "  * [1.7 Subdivisions And Their Facts](#1.7_Subdivisions_And_their_Facts)\n",
    "  * [1.8 Fill Null For Kitchen, Dining and Living](#1.8_Fill_Null_For_Kitchen_Dining_Living)\n",
    "  * [1.9 Listing Price](#1.9_Listing_Price)\n",
    "  * [1.10 Bedrooms](#1.10_Bedrooms)     \n",
    "  * [1.11 Bathrooms](#1.11_Bathrooms)\n",
    "  * [1.12 Stories](#1.12_Stories)\n",
    "  * [1.13 Style](#1.13_Style)\n",
    "  * [1.14 Year Built](#1.14_Year_Built)\n",
    "  * [1.15 Building Sqft](#1.15_Building_Sqft)\n",
    "  * [1.16 Lot Size](#1.16_Lot_Size)\n",
    "  * [1.17 Maintenance Fee](#1.17_Maintenance_Fee)\n",
    "  * [1.18 Fireplace](#1.18_Fireplace)\n",
    "  * [1.19 HOA Mandatory](#1.19_HOA_Mandatory)\n",
    "  * [1.20 Other Fees](#1.20_Other_Fees)\n",
    "  * [1.21 Roof](#1.21_Roof)"
   ]
  },
  {
   "cell_type": "markdown",
   "metadata": {},
   "source": [
    "## 2.2 Introduction<a id='2.2_Introduction'></a>"
   ]
  },
  {
   "cell_type": "markdown",
   "metadata": {},
   "source": [
    "In this section I will investigate data scrapped from www.HAR.com. Data cleaning will be done in this stage since all rows are categorical and need to be numerical. I will remove features with lost of none values and will create new features."
   ]
  },
  {
   "cell_type": "markdown",
   "metadata": {},
   "source": [
    "## 2.3 Imports<a id='2.3_Imports'></a>"
   ]
  },
  {
   "cell_type": "code",
   "execution_count": 1,
   "metadata": {},
   "outputs": [],
   "source": [
    "import numpy as np\n",
    "import pandas as pd\n",
    "import matplotlib.pyplot as plt\n",
    "import seaborn as sns\n",
    "import substring\n",
    "import os\n",
    "import re\n",
    "from tqdm import tqdm\n",
    "from fuzzywuzzy import process\n",
    "import warnings\n",
    "warnings.filterwarnings('ignore')"
   ]
  },
  {
   "cell_type": "markdown",
   "metadata": {},
   "source": [
    "## 2.4 Load The House Price Data<a id='2.4_Load_The_House_Price_Data'></a>"
   ]
  },
  {
   "cell_type": "code",
   "execution_count": 2,
   "metadata": {},
   "outputs": [
    {
     "name": "stdout",
     "output_type": "stream",
     "text": [
      "data shape is: (15065, 101)\n"
     ]
    }
   ],
   "source": [
    "data= pd.read_csv('../data/raw/Houston_Home_List.csv',encoding = \"ISO-8859-1\")\n",
    "print('data shape is:',data.shape)"
   ]
  },
  {
   "cell_type": "code",
   "execution_count": 3,
   "metadata": {},
   "outputs": [
    {
     "data": {
      "text/plain": [
       "Index(['Unnamed: 0', 'image_link', 'Listing Price:', 'Address:', 'City:',\n",
       "       'State:', 'Zip Code:', 'County:', 'Subdivision:', 'Legal Description:',\n",
       "       ...\n",
       "       'Extra Room:', 'Wine Room:', 'Carport Description:',\n",
       "       'Median Appraised Value / Square ft.:', 'Den:', 'Utility Room Desc:',\n",
       "       'Sunroom:', 'Guest Suite:', 'Bath:', 'Garage Apartment:'],\n",
       "      dtype='object', length=101)"
      ]
     },
     "execution_count": 3,
     "metadata": {},
     "output_type": "execute_result"
    }
   ],
   "source": [
    "data.columns"
   ]
  },
  {
   "cell_type": "markdown",
   "metadata": {},
   "source": [
    "## 2.5 Filtering Single Family Property Type<a id='2.5_Filtering_Single_Family_Property_Type'></a>"
   ]
  },
  {
   "cell_type": "markdown",
   "metadata": {},
   "source": [
    "Since we are going to analysis images and other house features it is important to have all records as same as possible. For example for lots there is no image for building or rooms and features for multi-family properties are different from single family homes. let see what kind of property type we have in our dataset:"
   ]
  },
  {
   "cell_type": "code",
   "execution_count": 4,
   "metadata": {},
   "outputs": [
    {
     "data": {
      "text/plain": [
       "Single-Family                          11034\n",
       "Lots                                    1591\n",
       "Townhouse/Condo - Townhouse              966\n",
       "Townhouse/Condo - Condominium            600\n",
       "Mid/Hi-Rise Condo                        444\n",
       "Country Homes/Acreage                    146\n",
       "Multi-Family - Duplex                    117\n",
       "Country Homes/Acreage - Free Standi       47\n",
       "Multi-Family - Fourplex                   40\n",
       "Multi-Family - 5 Plus                     37\n",
       "Multi-Family - Triplex                    18\n",
       "Multi-Family - Multiple Detached Dw       12\n",
       "Lot & Acreage - Residential                5\n",
       "Residential - Condo                        2\n",
       "Country Homes/Acreage - Manufacture        2\n",
       "Single Family                              1\n",
       "Residential - Townhouse                    1\n",
       "Name: Property Type:, dtype: int64"
      ]
     },
     "execution_count": 4,
     "metadata": {},
     "output_type": "execute_result"
    }
   ],
   "source": [
    "data['Property Type:'].value_counts()"
   ]
  },
  {
   "cell_type": "markdown",
   "metadata": {},
   "source": [
    "Majority of properties are single family so, I keep them and remove the rest of the types."
   ]
  },
  {
   "cell_type": "code",
   "execution_count": 5,
   "metadata": {},
   "outputs": [
    {
     "data": {
      "text/plain": [
       "11034"
      ]
     },
     "execution_count": 5,
     "metadata": {},
     "output_type": "execute_result"
    }
   ],
   "source": [
    "single_family_df = data[data['Property Type:']=='Single-Family']\n",
    "single_family_df.reset_index(drop=True,inplace=True)\n",
    "len(single_family_df)"
   ]
  },
  {
   "cell_type": "code",
   "execution_count": 6,
   "metadata": {},
   "outputs": [
    {
     "data": {
      "text/html": [
       "<div>\n",
       "<style scoped>\n",
       "    .dataframe tbody tr th:only-of-type {\n",
       "        vertical-align: middle;\n",
       "    }\n",
       "\n",
       "    .dataframe tbody tr th {\n",
       "        vertical-align: top;\n",
       "    }\n",
       "\n",
       "    .dataframe thead th {\n",
       "        text-align: right;\n",
       "    }\n",
       "</style>\n",
       "<table border=\"1\" class=\"dataframe\">\n",
       "  <thead>\n",
       "    <tr style=\"text-align: right;\">\n",
       "      <th></th>\n",
       "      <th>Unnamed: 0</th>\n",
       "      <th>image_link</th>\n",
       "      <th>Listing Price:</th>\n",
       "      <th>Address:</th>\n",
       "      <th>City:</th>\n",
       "      <th>State:</th>\n",
       "      <th>Zip Code:</th>\n",
       "      <th>County:</th>\n",
       "      <th>Subdivision:</th>\n",
       "      <th>Legal Description:</th>\n",
       "      <th>...</th>\n",
       "      <th>Extra Room:</th>\n",
       "      <th>Wine Room:</th>\n",
       "      <th>Carport Description:</th>\n",
       "      <th>Median Appraised Value / Square ft.:</th>\n",
       "      <th>Den:</th>\n",
       "      <th>Utility Room Desc:</th>\n",
       "      <th>Sunroom:</th>\n",
       "      <th>Guest Suite:</th>\n",
       "      <th>Bath:</th>\n",
       "      <th>Garage Apartment:</th>\n",
       "    </tr>\n",
       "  </thead>\n",
       "  <tbody>\n",
       "    <tr>\n",
       "      <th>0</th>\n",
       "      <td>0</td>\n",
       "      <td>['https://photos.harstatic.com/190420550/hr/im...</td>\n",
       "      <td>$ 465,000 ($221.85/sqft.) $Convert</td>\n",
       "      <td>110 Pierce Street</td>\n",
       "      <td>Houston</td>\n",
       "      <td>TX</td>\n",
       "      <td>77002</td>\n",
       "      <td>Harris County</td>\n",
       "      <td>Modern Midtown (View subdivision price trend)</td>\n",
       "      <td>LT 12 BLK 1 MODERN MIDTOWN</td>\n",
       "      <td>...</td>\n",
       "      <td>NaN</td>\n",
       "      <td>NaN</td>\n",
       "      <td>NaN</td>\n",
       "      <td>$223.83</td>\n",
       "      <td>NaN</td>\n",
       "      <td>NaN</td>\n",
       "      <td>NaN</td>\n",
       "      <td>NaN</td>\n",
       "      <td>NaN</td>\n",
       "      <td>NaN</td>\n",
       "    </tr>\n",
       "    <tr>\n",
       "      <th>1</th>\n",
       "      <td>2</td>\n",
       "      <td>['https://photos.harstatic.com/190088153/hr/im...</td>\n",
       "      <td>$ 450,000 ($223.33/sqft.) $Convert</td>\n",
       "      <td>118 Pierce Street</td>\n",
       "      <td>Houston</td>\n",
       "      <td>TX</td>\n",
       "      <td>77002</td>\n",
       "      <td>Harris County</td>\n",
       "      <td>Modern Midtown (View subdivision price trend)</td>\n",
       "      <td>LT 8 BLK 1 MODERN MIDTOWN</td>\n",
       "      <td>...</td>\n",
       "      <td>NaN</td>\n",
       "      <td>NaN</td>\n",
       "      <td>NaN</td>\n",
       "      <td>$223.83</td>\n",
       "      <td>NaN</td>\n",
       "      <td>NaN</td>\n",
       "      <td>NaN</td>\n",
       "      <td>NaN</td>\n",
       "      <td>NaN</td>\n",
       "      <td>NaN</td>\n",
       "    </tr>\n",
       "    <tr>\n",
       "      <th>2</th>\n",
       "      <td>105</td>\n",
       "      <td>['https://photos.harstatic.com/190618667/hr/im...</td>\n",
       "      <td>$ 575,000 ($232.98/sqft.) $Convert</td>\n",
       "      <td>1316 Hadley Street</td>\n",
       "      <td>Houston</td>\n",
       "      <td>TX</td>\n",
       "      <td>77002</td>\n",
       "      <td>Harris County</td>\n",
       "      <td>Austin Hadley Place</td>\n",
       "      <td>LT 4 BLK 1 AUSTIN HADLEY PLACE</td>\n",
       "      <td>...</td>\n",
       "      <td>NaN</td>\n",
       "      <td>NaN</td>\n",
       "      <td>NaN</td>\n",
       "      <td>NaN</td>\n",
       "      <td>NaN</td>\n",
       "      <td>NaN</td>\n",
       "      <td>NaN</td>\n",
       "      <td>NaN</td>\n",
       "      <td>NaN</td>\n",
       "      <td>NaN</td>\n",
       "    </tr>\n",
       "    <tr>\n",
       "      <th>3</th>\n",
       "      <td>109</td>\n",
       "      <td>['https://photos.harstatic.com/191391009/hr/im...</td>\n",
       "      <td>$ 514,900 ($208.88/sqft.) $Convert</td>\n",
       "      <td>2751 Freund Street</td>\n",
       "      <td>Houston</td>\n",
       "      <td>TX</td>\n",
       "      <td>77003</td>\n",
       "      <td>Harris County</td>\n",
       "      <td>EAST END ON THE BAYOU (View subdivision price...</td>\n",
       "      <td>Lot 9 of EAST END ON THE BAYOU SEC 3</td>\n",
       "      <td>...</td>\n",
       "      <td>['8 x 5, 3rd', '8 , 5, 3rd']</td>\n",
       "      <td>NaN</td>\n",
       "      <td>NaN</td>\n",
       "      <td>$196.51</td>\n",
       "      <td>NaN</td>\n",
       "      <td>NaN</td>\n",
       "      <td>NaN</td>\n",
       "      <td>NaN</td>\n",
       "      <td>['5 x 9, 3rd', '5 x 8, 4th', '5 x 8, 1st', '5 ...</td>\n",
       "      <td>NaN</td>\n",
       "    </tr>\n",
       "    <tr>\n",
       "      <th>4</th>\n",
       "      <td>110</td>\n",
       "      <td>['https://photos.harstatic.com/185138271/hr/im...</td>\n",
       "      <td>$ 514,900 ($208.88/sqft.) $Convert</td>\n",
       "      <td>2765 Freund Street</td>\n",
       "      <td>Houston</td>\n",
       "      <td>TX</td>\n",
       "      <td>77003</td>\n",
       "      <td>Harris County</td>\n",
       "      <td>EAST END ON THE BAYOU (View subdivision price...</td>\n",
       "      <td>Lot 15 of EAST END ON THE BAYOU SEC 3</td>\n",
       "      <td>...</td>\n",
       "      <td>['8 x 5, 3rd', '8 , 5, 3rd']</td>\n",
       "      <td>NaN</td>\n",
       "      <td>NaN</td>\n",
       "      <td>$196.51</td>\n",
       "      <td>NaN</td>\n",
       "      <td>NaN</td>\n",
       "      <td>NaN</td>\n",
       "      <td>NaN</td>\n",
       "      <td>['5 x 9, 3rd', '5 x 8, 4th', '5 x 8, 1st', '5 ...</td>\n",
       "      <td>NaN</td>\n",
       "    </tr>\n",
       "  </tbody>\n",
       "</table>\n",
       "<p>5 rows × 101 columns</p>\n",
       "</div>"
      ],
      "text/plain": [
       "   Unnamed: 0                                         image_link  \\\n",
       "0           0  ['https://photos.harstatic.com/190420550/hr/im...   \n",
       "1           2  ['https://photos.harstatic.com/190088153/hr/im...   \n",
       "2         105  ['https://photos.harstatic.com/190618667/hr/im...   \n",
       "3         109  ['https://photos.harstatic.com/191391009/hr/im...   \n",
       "4         110  ['https://photos.harstatic.com/185138271/hr/im...   \n",
       "\n",
       "                        Listing Price:            Address:    City: State:  \\\n",
       "0  $ 465,000 ($221.85/sqft.) $Convert    110 Pierce Street  Houston     TX   \n",
       "1  $ 450,000 ($223.33/sqft.) $Convert    118 Pierce Street  Houston     TX   \n",
       "2  $ 575,000 ($232.98/sqft.) $Convert   1316 Hadley Street  Houston     TX   \n",
       "3  $ 514,900 ($208.88/sqft.) $Convert   2751 Freund Street  Houston     TX   \n",
       "4  $ 514,900 ($208.88/sqft.) $Convert   2765 Freund Street  Houston     TX   \n",
       "\n",
       "   Zip Code:        County:  \\\n",
       "0      77002  Harris County   \n",
       "1      77002  Harris County   \n",
       "2      77002  Harris County   \n",
       "3      77003  Harris County   \n",
       "4      77003  Harris County   \n",
       "\n",
       "                                        Subdivision:  \\\n",
       "0      Modern Midtown (View subdivision price trend)   \n",
       "1      Modern Midtown (View subdivision price trend)   \n",
       "2                                Austin Hadley Place   \n",
       "3   EAST END ON THE BAYOU (View subdivision price...   \n",
       "4   EAST END ON THE BAYOU (View subdivision price...   \n",
       "\n",
       "                      Legal Description:  ...                   Extra Room:  \\\n",
       "0             LT 12 BLK 1 MODERN MIDTOWN  ...                           NaN   \n",
       "1              LT 8 BLK 1 MODERN MIDTOWN  ...                           NaN   \n",
       "2         LT 4 BLK 1 AUSTIN HADLEY PLACE  ...                           NaN   \n",
       "3   Lot 9 of EAST END ON THE BAYOU SEC 3  ...  ['8 x 5, 3rd', '8 , 5, 3rd']   \n",
       "4  Lot 15 of EAST END ON THE BAYOU SEC 3  ...  ['8 x 5, 3rd', '8 , 5, 3rd']   \n",
       "\n",
       "  Wine Room: Carport Description: Median Appraised Value / Square ft.:  Den:  \\\n",
       "0        NaN                  NaN                              $223.83   NaN   \n",
       "1        NaN                  NaN                              $223.83   NaN   \n",
       "2        NaN                  NaN                                  NaN   NaN   \n",
       "3        NaN                  NaN                              $196.51   NaN   \n",
       "4        NaN                  NaN                              $196.51   NaN   \n",
       "\n",
       "  Utility Room Desc: Sunroom: Guest Suite:  \\\n",
       "0                NaN      NaN          NaN   \n",
       "1                NaN      NaN          NaN   \n",
       "2                NaN      NaN          NaN   \n",
       "3                NaN      NaN          NaN   \n",
       "4                NaN      NaN          NaN   \n",
       "\n",
       "                                               Bath: Garage Apartment:  \n",
       "0                                                NaN               NaN  \n",
       "1                                                NaN               NaN  \n",
       "2                                                NaN               NaN  \n",
       "3  ['5 x 9, 3rd', '5 x 8, 4th', '5 x 8, 1st', '5 ...               NaN  \n",
       "4  ['5 x 9, 3rd', '5 x 8, 4th', '5 x 8, 1st', '5 ...               NaN  \n",
       "\n",
       "[5 rows x 101 columns]"
      ]
     },
     "execution_count": 6,
     "metadata": {},
     "output_type": "execute_result"
    }
   ],
   "source": [
    "single_family_df.head()"
   ]
  },
  {
   "cell_type": "markdown",
   "metadata": {},
   "source": [
    "In our dataset `State` and `Property Type` are the same for all houses so, we can remove them:"
   ]
  },
  {
   "cell_type": "code",
   "execution_count": 7,
   "metadata": {},
   "outputs": [],
   "source": [
    "single_family_df.drop(['Unnamed: 0','State:','Property Type:'],axis=1,inplace=True)"
   ]
  },
  {
   "cell_type": "markdown",
   "metadata": {},
   "source": [
    "## 2.6 Missing Values<a id='2.6_Missing_Values'></a>"
   ]
  },
  {
   "cell_type": "code",
   "execution_count": 8,
   "metadata": {},
   "outputs": [],
   "source": [
    "# function to find missing value and returning count abd %\n",
    "def missing_cal(df):\n",
    "    \"\"\"This function calculates missing value \n",
    "    for datafaram passed in as parameter\"\"\"\n",
    "    missing = pd.concat([single_family_df.isnull().sum(), 100 * single_family_df.isnull().mean()], axis=1)\n",
    "    missing.columns=['count', '%']\n",
    "    missing.sort_values(by='count',ascending=False)\n",
    "    return missing"
   ]
  },
  {
   "cell_type": "code",
   "execution_count": 9,
   "metadata": {},
   "outputs": [
    {
     "data": {
      "text/html": [
       "<div>\n",
       "<style scoped>\n",
       "    .dataframe tbody tr th:only-of-type {\n",
       "        vertical-align: middle;\n",
       "    }\n",
       "\n",
       "    .dataframe tbody tr th {\n",
       "        vertical-align: top;\n",
       "    }\n",
       "\n",
       "    .dataframe thead th {\n",
       "        text-align: right;\n",
       "    }\n",
       "</style>\n",
       "<table border=\"1\" class=\"dataframe\">\n",
       "  <thead>\n",
       "    <tr style=\"text-align: right;\">\n",
       "      <th></th>\n",
       "      <th>count</th>\n",
       "      <th>%</th>\n",
       "    </tr>\n",
       "  </thead>\n",
       "  <tbody>\n",
       "    <tr>\n",
       "      <th>image_link</th>\n",
       "      <td>0</td>\n",
       "      <td>0.000000</td>\n",
       "    </tr>\n",
       "    <tr>\n",
       "      <th>Listing Price:</th>\n",
       "      <td>3</td>\n",
       "      <td>0.027189</td>\n",
       "    </tr>\n",
       "    <tr>\n",
       "      <th>Address:</th>\n",
       "      <td>0</td>\n",
       "      <td>0.000000</td>\n",
       "    </tr>\n",
       "    <tr>\n",
       "      <th>City:</th>\n",
       "      <td>0</td>\n",
       "      <td>0.000000</td>\n",
       "    </tr>\n",
       "    <tr>\n",
       "      <th>Zip Code:</th>\n",
       "      <td>0</td>\n",
       "      <td>0.000000</td>\n",
       "    </tr>\n",
       "    <tr>\n",
       "      <th>...</th>\n",
       "      <td>...</td>\n",
       "      <td>...</td>\n",
       "    </tr>\n",
       "    <tr>\n",
       "      <th>Utility Room Desc:</th>\n",
       "      <td>7144</td>\n",
       "      <td>64.745333</td>\n",
       "    </tr>\n",
       "    <tr>\n",
       "      <th>Sunroom:</th>\n",
       "      <td>10805</td>\n",
       "      <td>97.924597</td>\n",
       "    </tr>\n",
       "    <tr>\n",
       "      <th>Guest Suite:</th>\n",
       "      <td>10902</td>\n",
       "      <td>98.803698</td>\n",
       "    </tr>\n",
       "    <tr>\n",
       "      <th>Bath:</th>\n",
       "      <td>9361</td>\n",
       "      <td>84.837774</td>\n",
       "    </tr>\n",
       "    <tr>\n",
       "      <th>Garage Apartment:</th>\n",
       "      <td>10732</td>\n",
       "      <td>97.263005</td>\n",
       "    </tr>\n",
       "  </tbody>\n",
       "</table>\n",
       "<p>98 rows × 2 columns</p>\n",
       "</div>"
      ],
      "text/plain": [
       "                    count          %\n",
       "image_link              0   0.000000\n",
       "Listing Price:          3   0.027189\n",
       "Address:                0   0.000000\n",
       "City:                   0   0.000000\n",
       "Zip Code:               0   0.000000\n",
       "...                   ...        ...\n",
       "Utility Room Desc:   7144  64.745333\n",
       "Sunroom:            10805  97.924597\n",
       "Guest Suite:        10902  98.803698\n",
       "Bath:                9361  84.837774\n",
       "Garage Apartment:   10732  97.263005\n",
       "\n",
       "[98 rows x 2 columns]"
      ]
     },
     "execution_count": 9,
     "metadata": {},
     "output_type": "execute_result"
    }
   ],
   "source": [
    "missing = missing_cal(single_family_df)\n",
    "missing"
   ]
  },
  {
   "cell_type": "markdown",
   "metadata": {},
   "source": [
    "## 1.6.1 Features With >90% Missing Values<a id='1.6.1_Features_With_>90%_Missing_Values'></a>"
   ]
  },
  {
   "cell_type": "markdown",
   "metadata": {},
   "source": [
    "Let's take a look at features with more than 90% missing values: "
   ]
  },
  {
   "cell_type": "code",
   "execution_count": 10,
   "metadata": {},
   "outputs": [
    {
     "name": "stdout",
     "output_type": "stream",
     "text": [
      "Number of Features with more than 90% None:  9\n"
     ]
    }
   ],
   "source": [
    "missing = missing_cal(single_family_df)\n",
    "nan_90 = missing.loc[missing['%']>90].index\n",
    "print('Number of Features with more than 90% None: ',len(nan_90))"
   ]
  },
  {
   "cell_type": "code",
   "execution_count": 11,
   "metadata": {},
   "outputs": [
    {
     "data": {
      "text/html": [
       "<div>\n",
       "<style scoped>\n",
       "    .dataframe tbody tr th:only-of-type {\n",
       "        vertical-align: middle;\n",
       "    }\n",
       "\n",
       "    .dataframe tbody tr th {\n",
       "        vertical-align: top;\n",
       "    }\n",
       "\n",
       "    .dataframe thead th {\n",
       "        text-align: right;\n",
       "    }\n",
       "</style>\n",
       "<table border=\"1\" class=\"dataframe\">\n",
       "  <thead>\n",
       "    <tr style=\"text-align: right;\">\n",
       "      <th></th>\n",
       "      <th>count</th>\n",
       "      <th>%</th>\n",
       "    </tr>\n",
       "  </thead>\n",
       "  <tbody>\n",
       "    <tr>\n",
       "      <th>Extra Room:</th>\n",
       "      <td>9980</td>\n",
       "      <td>90.447707</td>\n",
       "    </tr>\n",
       "    <tr>\n",
       "      <th>Median Appraised Value / Square ft.:</th>\n",
       "      <td>10056</td>\n",
       "      <td>91.136487</td>\n",
       "    </tr>\n",
       "    <tr>\n",
       "      <th>Media Room:</th>\n",
       "      <td>10075</td>\n",
       "      <td>91.308682</td>\n",
       "    </tr>\n",
       "    <tr>\n",
       "      <th>Carport Description:</th>\n",
       "      <td>10446</td>\n",
       "      <td>94.671017</td>\n",
       "    </tr>\n",
       "    <tr>\n",
       "      <th>Water Amenity:</th>\n",
       "      <td>10609</td>\n",
       "      <td>96.148269</td>\n",
       "    </tr>\n",
       "    <tr>\n",
       "      <th>Garage Apartment:</th>\n",
       "      <td>10732</td>\n",
       "      <td>97.263005</td>\n",
       "    </tr>\n",
       "    <tr>\n",
       "      <th>Sunroom:</th>\n",
       "      <td>10805</td>\n",
       "      <td>97.924597</td>\n",
       "    </tr>\n",
       "    <tr>\n",
       "      <th>Wine Room:</th>\n",
       "      <td>10897</td>\n",
       "      <td>98.758383</td>\n",
       "    </tr>\n",
       "    <tr>\n",
       "      <th>Guest Suite:</th>\n",
       "      <td>10902</td>\n",
       "      <td>98.803698</td>\n",
       "    </tr>\n",
       "  </tbody>\n",
       "</table>\n",
       "</div>"
      ],
      "text/plain": [
       "                                      count          %\n",
       "Extra Room:                            9980  90.447707\n",
       "Median Appraised Value / Square ft.:  10056  91.136487\n",
       "Media Room:                           10075  91.308682\n",
       "Carport Description:                  10446  94.671017\n",
       "Water Amenity:                        10609  96.148269\n",
       "Garage Apartment:                     10732  97.263005\n",
       "Sunroom:                              10805  97.924597\n",
       "Wine Room:                            10897  98.758383\n",
       "Guest Suite:                          10902  98.803698"
      ]
     },
     "execution_count": 11,
     "metadata": {},
     "output_type": "execute_result"
    }
   ],
   "source": [
    "missing.loc[nan_90].sort_values(by=\"%\")"
   ]
  },
  {
   "cell_type": "markdown",
   "metadata": {},
   "source": [
    "We need to see what kind of information are in each of these features:"
   ]
  },
  {
   "cell_type": "code",
   "execution_count": 12,
   "metadata": {},
   "outputs": [
    {
     "name": "stdout",
     "output_type": "stream",
     "text": [
      "Value Count for Media Room:\n",
      "['2nd', '2nd']                      30\n",
      "['13x15, 2nd', '3.96 x 4.57(m)']    16\n",
      "['14x13, 2nd', '4.27 x 3.96(m)']    15\n",
      "['16x12, 2nd', '4.88 x 3.66(m)']    15\n",
      "['15x13, 2nd', '4.57 x 3.96(m)']    14\n",
      "                                    ..\n",
      "['18X10, 2nd', '5.49 x 3.05(m)']     1\n",
      "['17 x 12, 2nd', '17 , 12, 2nd']     1\n",
      "['12 x 17, 2nd', '12 , 17, 2nd']     1\n",
      "['17x12, 3rd', '5.18 x 3.66(m)']     1\n",
      "['17X15, 1st', '5.18 x 4.57(m)']     1\n",
      "Name: Media Room:, Length: 463, dtype: int64\n",
      "----------------------------------------------------------------------------------------------------\n",
      "Value Count for Water Amenity:\n",
      "Lake View                                                     127\n",
      "Lake View, Lakefront                                           99\n",
      "Lakefront                                                      56\n",
      "Pond                                                           55\n",
      "Bayou View                                                     10\n",
      "Bayou Frontage, Bayou View                                      7\n",
      "Lake View, Lakefront, Pond                                      5\n",
      "Canal View                                                      4\n",
      "Canal Front                                                     4\n",
      "Bayou Frontage                                                  4\n",
      "River View                                                      4\n",
      "Lake View, Lakefront, Pier                                      3\n",
      "Riverfront                                                      3\n",
      "Pier, Pond                                                      3\n",
      "River View, Riverfront                                          2\n",
      "Lakefront, Pier                                                 2\n",
      "Boat Slip, Bulkhead, Lakefront                                  2\n",
      "Bulkhead, Lakefront                                             2\n",
      "Bulkhead, Lake View, Lakefront                                  2\n",
      "Canal Front, Canal View                                         2\n",
      "Bay View                                                        2\n",
      "Boat Slip, Lake View                                            1\n",
      "Boat Slip, Canal Front, Canal View, Lake View, Lakefront        1\n",
      "Boat Slip, Lake View, Lakefront                                 1\n",
      "Boat House, Boat Lift, Boat Slip, Canal Front, Lakefront        1\n",
      "Canal View, Lake View                                           1\n",
      "Lake View, Pond                                                 1\n",
      "Bulkhead, Lake View                                             1\n",
      "Bulkhead                                                        1\n",
      "Bay View, Gulf View, Lake View                                  1\n",
      "Lake View, Lakefront, Wood Bulkhead                             1\n",
      "Lakefront, Riverfront                                           1\n",
      "Boat Ramp, Lake View                                            1\n",
      "Canal Front, Canal View, Lakefront, Pier, Wood Bulkhead         1\n",
      "Canal Front, Canal View, Lake View, Lakefront, Pier             1\n",
      "Lakefront, Pier, Pond, River View, Riverfront                   1\n",
      "Lakefront, Wood Bulkhead                                        1\n",
      "Canal Front, Wood Bulkhead                                      1\n",
      "Concrete Bulkhead, Lake View, Lakefront, Wood Bulkhead          1\n",
      "Bulkhead, Canal Front, Lake View, Lakefront, Pier               1\n",
      "Lake View, Canal View                                           1\n",
      "Lake View, Pond, River View                                     1\n",
      "Lake View, Metal Bulkhead, River View                           1\n",
      "Bayou View, Lake View, Pond                                     1\n",
      "Lakefront, Pier, Wood Bulkhead                                  1\n",
      "Bulkhead, Canal Front, Lake View, Lakefront, Wood Bulkhead      1\n",
      "Lake View, Lakefront, Pier, Pond                                1\n",
      "Boat Ramp, Lakefront                                            1\n",
      "Name: Water Amenity:, dtype: int64\n",
      "----------------------------------------------------------------------------------------------------\n",
      "Value Count for Extra Room:\n",
      "['1st', '1st']                                                      19\n",
      "['12x10, 1st', '3.66 x 3.05(m)']                                    13\n",
      "['2nd', '2nd']                                                      13\n",
      "['12x11, 1st', '3.66 x 3.35(m)']                                    10\n",
      "['11x11, 1st', '3.35 x 3.35(m)']                                     9\n",
      "                                                                    ..\n",
      "['23x9, 1st', '7.01 x 2.74(m)']                                      1\n",
      "['18X18, 1st', '18X18, 1st', '5.49 x 5.49(m)', '5.49 x 5.49(m)']     1\n",
      "['11x6, 3rd', '3.35 x 1.83(m)']                                      1\n",
      "['17 x 13, 2nd', '17 , 13, 2nd']                                     1\n",
      "['10x06, 1st', '3.05 x 1.83(m)']                                     1\n",
      "Name: Extra Room:, Length: 697, dtype: int64\n",
      "----------------------------------------------------------------------------------------------------\n",
      "Value Count for Wine Room:\n",
      "['1st', '1st']                                                                                  23\n",
      "['7 x 4, 1st', '7 , 4, 1st']                                                                     4\n",
      "['5x5, 1st', '1.52 x 1.52(m)']                                                                   4\n",
      "['8x5, 1st', '2.44 x 1.52(m)']                                                                   4\n",
      "['7x4, 1st', '2.13 x 1.22(m)']                                                                   3\n",
      "                                                                                                ..\n",
      "['27-7 x 34-6, In House', '11 x 23, In House', '27-7 , 34-6, In House', '11 , 23, In House']     1\n",
      "['12x6, 1st', '3.66 x 1.83(m)']                                                                  1\n",
      "['4\\'4\" x 4\\'4\", 1st', '4\\'4\" , 4\\'4\", 1st']                                                     1\n",
      "['5x8, 1st', '1.52 x 2.44(m)']                                                                   1\n",
      "[\"8'x8', 1st\", \"8',8', 1st\"]                                                                     1\n",
      "Name: Wine Room:, Length: 90, dtype: int64\n",
      "----------------------------------------------------------------------------------------------------\n",
      "Value Count for Carport Description:\n",
      "Attached Carport       387\n",
      "Detached Carport       123\n",
      "Attached & Detached     78\n",
      "Name: Carport Description:, dtype: int64\n",
      "----------------------------------------------------------------------------------------------------\n",
      "Value Count for Median Appraised Value / Square ft.:\n",
      "$196.51    9\n",
      "$253.57    7\n",
      "$76.60     7\n",
      "$41.05     7\n",
      "$120.49    6\n",
      "          ..\n",
      "$102.43    1\n",
      "$89.34     1\n",
      "$92.41     1\n",
      "$318.28    1\n",
      "$148.58    1\n",
      "Name: Median Appraised Value / Square ft.:, Length: 642, dtype: int64\n",
      "----------------------------------------------------------------------------------------------------\n",
      "Value Count for Sunroom:\n",
      "['1st', '1st']                      8\n",
      "['15x12, 1st', '4.57 x 3.66(m)']    5\n",
      "['11x11, 1st', '3.35 x 3.35(m)']    4\n",
      "['13x11, 1st', '3.96 x 3.35(m)']    4\n",
      "['19x10, 1st', '5.79 x 3.05(m)']    3\n",
      "                                   ..\n",
      "['17x7, 1st', '5.18 x 2.13(m)']     1\n",
      "['8 x 11, 1st', '8 , 11, 1st']      1\n",
      "['27x11, 1st', '8.23 x 3.35(m)']    1\n",
      "['21x17, 1st', '6.40 x 5.18(m)']    1\n",
      "['13x8, 1st', '3.96 x 2.44(m)']     1\n",
      "Name: Sunroom:, Length: 180, dtype: int64\n",
      "----------------------------------------------------------------------------------------------------\n",
      "Value Count for Guest Suite:\n",
      "['1st', '1st']                                                      5\n",
      "['13x12, 1st', '3.96 x 3.66(m)']                                    4\n",
      "['14x13, 1st', '4.27 x 3.96(m)']                                    4\n",
      "['2nd', '2nd']                                                      4\n",
      "['12x14, 2nd', '3.66 x 4.27(m)']                                    3\n",
      "                                                                   ..\n",
      "['14x16, 1st', '4.27 x 4.88(m)']                                    1\n",
      "['14 x 14, 1st', '14 , 14, 1st']                                    1\n",
      "['14x15, 1st', '4.27 x 4.57(m)']                                    1\n",
      "['14x11, 3rd', '17x10, 2nd', '4.27 x 3.35(m)', '5.18 x 3.05(m)']    1\n",
      "['21.4x15.3, 2nd', '6.52 x 4.66(m)']                                1\n",
      "Name: Guest Suite:, Length: 105, dtype: int64\n",
      "----------------------------------------------------------------------------------------------------\n",
      "Value Count for Garage Apartment:\n",
      "Yes                                                    198\n",
      "['In Garage', 'In Garage', 'Yes']                       10\n",
      "['In Garage', 'In Garage']                               6\n",
      "['21x20, In Garage', '6.40 x 6.10(m)', 'Yes']            2\n",
      "['20x20, In Garage', '6.10 x 6.10(m)']                   2\n",
      "                                                      ... \n",
      "['20x30, In Garage', '6.10 x 9.14(m)', 'Yes']            1\n",
      "['23 x 12, In Garage', '23 , 12, In Garage']             1\n",
      "['24 x 19, In Garage', '24 , 19, In Garage', 'Yes']      1\n",
      "['12x12, In Garage', '3.66 x 3.66(m)', 'Yes']            1\n",
      "['22x22, In Garage', '6.71 x 6.71(m)', 'Yes']            1\n",
      "Name: Garage Apartment:, Length: 87, dtype: int64\n",
      "----------------------------------------------------------------------------------------------------\n"
     ]
    }
   ],
   "source": [
    "for item in nan_90:\n",
    "    print('Value Count for '+item)\n",
    "    print(single_family_df[item].value_counts())\n",
    "    print('-'*100)"
   ]
  },
  {
   "cell_type": "markdown",
   "metadata": {},
   "source": [
    "* Values for `Media Room`, `Extra Room`, `Wine Room`, `Sunroom`, `Guest Suite`and `Garage Apartment` are kind of dimension of each of those rooms along with some nonsense values like (`Yes` for `Garage Apartment`). \n",
    "* For `Water Amenity` there are to much unique categories and there is no way to be able to fill rest of none values with correct category\n",
    "* `Carport Description` has 3 different categories for total 611 house and the rest do not have any carport so I will fill  all none values with new category as 'Not Applicable'.\n",
    "* `Median Appraised Value / Square ft.:` is the fact (based on active listing) for each subdivision and can be fill by the value for same subdivision."
   ]
  },
  {
   "cell_type": "code",
   "execution_count": 13,
   "metadata": {},
   "outputs": [],
   "source": [
    "# Replacing None value for 'Carport Description:' with 'not applicable'\n",
    "single_family_df['Carport Description:'][single_family_df['Carport Description:'].isnull()]='not applicable'\n",
    "\n",
    "# Dropping 'Media Room:', 'Water Amenity:', 'Extra Room:', 'Wine Room:', \n",
    "#'Sunroom:', 'Guest Suite:', 'Garage Apartment:', 'Vacation Rental:'\n",
    "single_family_df.drop(['Media Room:', 'Water Amenity:', 'Extra Room:', 'Wine Room:', 'Sunroom:', 'Guest Suite:', \n",
    "                       'Garage Apartment:'],axis=1,inplace=True)"
   ]
  },
  {
   "cell_type": "markdown",
   "metadata": {},
   "source": [
    "## 1.6.2 Features With 80%-90% Missing Values<a id='1.6.2_Features_With_80%_-_90%_Missing_Values'></a>"
   ]
  },
  {
   "cell_type": "markdown",
   "metadata": {},
   "source": [
    "Next step is looking at the features with more than 80% none values:"
   ]
  },
  {
   "cell_type": "code",
   "execution_count": 14,
   "metadata": {},
   "outputs": [
    {
     "name": "stdout",
     "output_type": "stream",
     "text": [
      "Number of Features with more than 80% None:  14\n"
     ]
    }
   ],
   "source": [
    "missing = missing_cal(single_family_df)\n",
    "nan_80 = missing.loc[missing['%']>80].index\n",
    "print('Number of Features with more than 80% None: ',len(nan_80))"
   ]
  },
  {
   "cell_type": "code",
   "execution_count": 15,
   "metadata": {},
   "outputs": [
    {
     "data": {
      "text/html": [
       "<div>\n",
       "<style scoped>\n",
       "    .dataframe tbody tr th:only-of-type {\n",
       "        vertical-align: middle;\n",
       "    }\n",
       "\n",
       "    .dataframe tbody tr th {\n",
       "        vertical-align: top;\n",
       "    }\n",
       "\n",
       "    .dataframe thead th {\n",
       "        text-align: right;\n",
       "    }\n",
       "</style>\n",
       "<table border=\"1\" class=\"dataframe\">\n",
       "  <thead>\n",
       "    <tr style=\"text-align: right;\">\n",
       "      <th></th>\n",
       "      <th>count</th>\n",
       "      <th>%</th>\n",
       "    </tr>\n",
       "  </thead>\n",
       "  <tbody>\n",
       "    <tr>\n",
       "      <th>Average Square Ft.:</th>\n",
       "      <td>9281</td>\n",
       "      <td>84.112742</td>\n",
       "    </tr>\n",
       "    <tr>\n",
       "      <th>Average Price/Square Ft.:</th>\n",
       "      <td>9281</td>\n",
       "      <td>84.112742</td>\n",
       "    </tr>\n",
       "    <tr>\n",
       "      <th>Market Area Name:</th>\n",
       "      <td>9282</td>\n",
       "      <td>84.121805</td>\n",
       "    </tr>\n",
       "    <tr>\n",
       "      <th>Home For Sales:</th>\n",
       "      <td>9282</td>\n",
       "      <td>84.121805</td>\n",
       "    </tr>\n",
       "    <tr>\n",
       "      <th>Average List Price:</th>\n",
       "      <td>9282</td>\n",
       "      <td>84.121805</td>\n",
       "    </tr>\n",
       "    <tr>\n",
       "      <th>Home For Lease:</th>\n",
       "      <td>9282</td>\n",
       "      <td>84.121805</td>\n",
       "    </tr>\n",
       "    <tr>\n",
       "      <th>Average Lease/Square Ft.:</th>\n",
       "      <td>9282</td>\n",
       "      <td>84.121805</td>\n",
       "    </tr>\n",
       "    <tr>\n",
       "      <th>Average Lease:</th>\n",
       "      <td>9283</td>\n",
       "      <td>84.130868</td>\n",
       "    </tr>\n",
       "    <tr>\n",
       "      <th>Bath:</th>\n",
       "      <td>9361</td>\n",
       "      <td>84.837774</td>\n",
       "    </tr>\n",
       "    <tr>\n",
       "      <th>Den:</th>\n",
       "      <td>9472</td>\n",
       "      <td>85.843756</td>\n",
       "    </tr>\n",
       "    <tr>\n",
       "      <th>Private Pool Desc:</th>\n",
       "      <td>9585</td>\n",
       "      <td>86.867863</td>\n",
       "    </tr>\n",
       "    <tr>\n",
       "      <th>Master Planned Community:</th>\n",
       "      <td>9626</td>\n",
       "      <td>87.239442</td>\n",
       "    </tr>\n",
       "    <tr>\n",
       "      <th>Controlled Access:</th>\n",
       "      <td>9701</td>\n",
       "      <td>87.919159</td>\n",
       "    </tr>\n",
       "    <tr>\n",
       "      <th>Median Appraised Value / Square ft.:</th>\n",
       "      <td>10056</td>\n",
       "      <td>91.136487</td>\n",
       "    </tr>\n",
       "  </tbody>\n",
       "</table>\n",
       "</div>"
      ],
      "text/plain": [
       "                                      count          %\n",
       "Average Square Ft.:                    9281  84.112742\n",
       "Average Price/Square Ft.:              9281  84.112742\n",
       "Market Area Name:                      9282  84.121805\n",
       "Home For Sales:                        9282  84.121805\n",
       "Average List Price:                    9282  84.121805\n",
       "Home For Lease:                        9282  84.121805\n",
       "Average Lease/Square Ft.:              9282  84.121805\n",
       "Average Lease:                         9283  84.130868\n",
       "Bath:                                  9361  84.837774\n",
       "Den:                                   9472  85.843756\n",
       "Private Pool Desc:                     9585  86.867863\n",
       "Master Planned Community:              9626  87.239442\n",
       "Controlled Access:                     9701  87.919159\n",
       "Median Appraised Value / Square ft.:  10056  91.136487"
      ]
     },
     "execution_count": 15,
     "metadata": {},
     "output_type": "execute_result"
    }
   ],
   "source": [
    "missing.loc[nan_80].sort_values(by=\"%\")"
   ]
  },
  {
   "cell_type": "code",
   "execution_count": 16,
   "metadata": {},
   "outputs": [
    {
     "name": "stdout",
     "output_type": "stream",
     "text": [
      "Value Count for Private Pool Desc:\n",
      "In Ground                                    357\n",
      "Gunite, In Ground                            328\n",
      "Gunite, Heated, In Ground                    229\n",
      "Gunite                                       200\n",
      "Heated, In Ground                            103\n",
      "Gunite, Heated, In Ground, Salt Water         45\n",
      "Gunite, Heated                                42\n",
      "Above Ground                                  30\n",
      "Heated, In Ground, Salt Water                 25\n",
      "Gunite, In Ground, Salt Water                 18\n",
      "In Ground, Salt Water                         17\n",
      "Gunite, Salt Water                            10\n",
      "Gunite, Heated, Salt Water                     8\n",
      "Enclosed, Heated, In Ground                    6\n",
      "In Ground, Vinyl Lined                         5\n",
      "Heated                                         4\n",
      "Heated, Salt Water                             3\n",
      "Fiberglass                                     3\n",
      "Salt Water                                     2\n",
      "Enclosed, Gunite, In Ground                    1\n",
      "Above Ground, Fiberglass, Heated               1\n",
      "Above Ground, Heated                           1\n",
      "Fiberglass, Heated, In Ground, Salt Water      1\n",
      "Gunite, In Ground, Vinyl Lined                 1\n",
      "Enclosed, Heated                               1\n",
      "Fiberglass, Gunite                             1\n",
      "Above Ground, Vinyl Lined                      1\n",
      "Enclosed, Salt Water                           1\n",
      "Above Ground, In Ground                        1\n",
      "Fiberglass, Gunite, Heated                     1\n",
      "Fiberglass, In Ground                          1\n",
      "Enclosed, In Ground                            1\n",
      "Fiberglass, Salt Water                         1\n",
      "Name: Private Pool Desc:, dtype: int64\n",
      "----------------------------------------------------------------------------------------------------\n",
      "Value Count for Controlled Access:\n",
      "Automatic Gate                                532\n",
      "Driveway Gate                                 403\n",
      "Automatic Gate, Driveway Gate                 211\n",
      "Manned Gate                                   115\n",
      "Automatic Gate, Intercom                       27\n",
      "Automatic Gate, Manned Gate                    14\n",
      "Automatic Gate, Driveway Gate, Intercom         8\n",
      "Driveway Gate, Manned Gate                      8\n",
      "Intercom                                        7\n",
      "Automatic Gate, Driveway Gate, Manned Gate      3\n",
      "Driveway Gate, Intercom                         3\n",
      "Automatic Gate, Intercom, Manned Gate           2\n",
      "Name: Controlled Access:, dtype: int64\n",
      "----------------------------------------------------------------------------------------------------\n",
      "Value Count for Master Planned Community:\n",
      "Kingwood                      229\n",
      "Aliana                        112\n",
      "Bridgeland                     95\n",
      "Riverstone                     74\n",
      "Cane Island                    71\n",
      "Tavola                         68\n",
      "First Colony                   61\n",
      "Clear Lake City                58\n",
      "Towne Lake                     56\n",
      "The Woodlands                  49\n",
      "Elyson                         47\n",
      "Woodson's Reserve              40\n",
      "Gleannloch Farms               36\n",
      "Harmony                        35\n",
      "Oakhurst at Kingwood           34\n",
      "Telfair                        31\n",
      "Grand Mission                  27\n",
      "Long Meadow Farms              27\n",
      "Copperfield                    24\n",
      "The Falls at Imperial Oaks     23\n",
      "Lakes at Creekside             17\n",
      "Cypress Creek Lakes            15\n",
      "Greatwood                      15\n",
      "Sugar Creek                    14\n",
      "Windrose                       14\n",
      "New Territory                  14\n",
      "Wildwood at Northpointe        14\n",
      "Imperial Oaks                  11\n",
      "Lakemont                       10\n",
      "Spring Trails                   9\n",
      "Coles Crossing                  9\n",
      "City Park                       9\n",
      "Valley Ranch                    9\n",
      "Stone Gate                      8\n",
      "Canyon Lakes at Stone Gate      7\n",
      "Canyon Gate at Northpointe      6\n",
      "Fieldstone                      6\n",
      "Fairfield                       6\n",
      "Spring Lakes                    4\n",
      "Steeplechase                    2\n",
      "Quail Valley                    2\n",
      "Canyon Lakes West               2\n",
      "Twin Oaks                       1\n",
      "River Park                      1\n",
      "River Park West                 1\n",
      "Weston Lakes                    1\n",
      "Traditions                      1\n",
      "Woodtrace                       1\n",
      "WoodCreek Reserve               1\n",
      "West Ranch                      1\n",
      "Name: Master Planned Community:, dtype: int64\n",
      "----------------------------------------------------------------------------------------------------\n",
      "Value Count for Market Area Name:\n",
      "Katy - Old Towne                   140\n",
      "Spring Branch                      125\n",
      "Medical Center South               115\n",
      "Cypress South                      102\n",
      "Hockley                             76\n",
      "                                  ... \n",
      "Sugar Land North                     2\n",
      "Pasadena                             1\n",
      "Lake Conroe Area                     1\n",
      "Fort Bend County North/Richmond      1\n",
      "Spring/Klein                         1\n",
      "Name: Market Area Name:, Length: 74, dtype: int64\n",
      "----------------------------------------------------------------------------------------------------\n",
      "Value Count for Home For Sales:\n",
      "515      140\n",
      "459.0    115\n",
      "502      102\n",
      "264       75\n",
      "767.0     66\n",
      "        ... \n",
      "328.0      1\n",
      "1,514      1\n",
      "264.0      1\n",
      "328        1\n",
      "483        1\n",
      "Name: Home For Sales:, Length: 82, dtype: int64\n",
      "----------------------------------------------------------------------------------------------------\n",
      "Value Count for Average List Price:\n",
      "$364,081      140\n",
      "$467,602      125\n",
      "$203,610      115\n",
      "$406,124      102\n",
      "$309,007       76\n",
      "             ... \n",
      "$1,684,575      2\n",
      "$358,848        1\n",
      "$378,821        1\n",
      "$221,399        1\n",
      "$367,165        1\n",
      "Name: Average List Price:, Length: 74, dtype: int64\n",
      "----------------------------------------------------------------------------------------------------\n",
      "Value Count for Average Square Ft.:\n",
      "2,633    140\n",
      "2,337    131\n",
      "1,670    115\n",
      "2,919    102\n",
      "2,156     76\n",
      "        ... \n",
      "2,561      1\n",
      "2,808      1\n",
      "1,932      1\n",
      "2,749      1\n",
      "2,505      1\n",
      "Name: Average Square Ft.:, Length: 74, dtype: int64\n",
      "----------------------------------------------------------------------------------------------------\n",
      "Value Count for Average Price/Square Ft.:\n",
      "$137.98    140\n",
      "$223.51    125\n",
      "$123.71    115\n",
      "$138.59    102\n",
      "$138.98     76\n",
      "          ... \n",
      "$118.04      1\n",
      "$257         1\n",
      "$131.36      1\n",
      "$125.71      1\n",
      "$143.59      1\n",
      "Name: Average Price/Square Ft.:, Length: 75, dtype: int64\n",
      "----------------------------------------------------------------------------------------------------\n",
      "Value Count for Home For Lease:\n",
      "175.0    154\n",
      "27.0     140\n",
      "90.0     139\n",
      "56.0     102\n",
      "8.0       95\n",
      "265.0     66\n",
      "0.0       63\n",
      "126.0     62\n",
      "11.0      49\n",
      "108.0     49\n",
      "179.0     42\n",
      "10.0      42\n",
      "54.0      41\n",
      "51.0      41\n",
      "234.0     39\n",
      "34.0      37\n",
      "289.0     36\n",
      "93.0      35\n",
      "32.0      34\n",
      "25.0      33\n",
      "30.0      32\n",
      "127.0     32\n",
      "19.0      29\n",
      "186.0     27\n",
      "258.0     27\n",
      "205.0     26\n",
      "50.0      22\n",
      "142.0     21\n",
      "65.0      21\n",
      "21.0      19\n",
      "63.0      16\n",
      "98.0      14\n",
      "78.0      13\n",
      "17.0      13\n",
      "99.0      13\n",
      "22.0      12\n",
      "60.0      11\n",
      "212.0      9\n",
      "138.0      9\n",
      "2.0        9\n",
      "79.0       9\n",
      "58.0       9\n",
      "29.0       8\n",
      "116.0      7\n",
      "18.0       6\n",
      "9.0        5\n",
      "67.0       5\n",
      "1.0        4\n",
      "71.0       4\n",
      "53.0       4\n",
      "87.0       3\n",
      "4.0        3\n",
      "82.0       2\n",
      "37.0       2\n",
      "38.0       2\n",
      "62.0       2\n",
      "59.0       1\n",
      "74.0       1\n",
      "113.0      1\n",
      "Name: Home For Lease:, dtype: int64\n",
      "----------------------------------------------------------------------------------------------------\n",
      "Value Count for Average Lease:\n",
      "$1,699    144\n",
      "$2,001    125\n",
      "$1,494    115\n",
      "$1,950    102\n",
      "$1,893     76\n",
      "         ... \n",
      "$1,754      2\n",
      "$1,385      1\n",
      "$2,142      1\n",
      "$1,821      1\n",
      "$1,896      1\n",
      "Name: Average Lease:, Length: 70, dtype: int64\n",
      "----------------------------------------------------------------------------------------------------\n",
      "Value Count for Average Lease/Square Ft.:\n",
      "$1.04    191\n",
      "$1.00    168\n",
      "$1.20    151\n",
      "$1.02    140\n",
      "$1.06    122\n",
      "$0.92     67\n",
      "$1.62     66\n",
      "$0.00     63\n",
      "$1.11     62\n",
      "$1.29     53\n",
      "$1.54     48\n",
      "$1.48     44\n",
      "$0.74     42\n",
      "$1.24     42\n",
      "$1.14     38\n",
      "$1.34     37\n",
      "$0.93     36\n",
      "$0.99     33\n",
      "$1.17     32\n",
      "$1.67     29\n",
      "$1.53     29\n",
      "$0.98     26\n",
      "$1.38     26\n",
      "$0.97     24\n",
      "$0.96     23\n",
      "$0.91     21\n",
      "$1.23     18\n",
      "$1.09     13\n",
      "$1.59     12\n",
      "$1.13     11\n",
      "$0.84     10\n",
      "$0.81      9\n",
      "$0.87      9\n",
      "$0.90      9\n",
      "$0.94      9\n",
      "$1.12      6\n",
      "$1.47      6\n",
      "$1.10      5\n",
      "$1.44      5\n",
      "$1.84      4\n",
      "$1.19      3\n",
      "$1.08      3\n",
      "$1.46      3\n",
      "$1.83      2\n",
      "$1.28      2\n",
      "Name: Average Lease/Square Ft.:, dtype: int64\n",
      "----------------------------------------------------------------------------------------------------\n",
      "Value Count for Median Appraised Value / Square ft.:\n",
      "$196.51    9\n",
      "$253.57    7\n",
      "$76.60     7\n",
      "$41.05     7\n",
      "$120.49    6\n",
      "          ..\n",
      "$102.43    1\n",
      "$89.34     1\n",
      "$92.41     1\n",
      "$318.28    1\n",
      "$148.58    1\n",
      "Name: Median Appraised Value / Square ft.:, Length: 642, dtype: int64\n",
      "----------------------------------------------------------------------------------------------------\n",
      "Value Count for Den:\n",
      "['1st', '1st']                       34\n",
      "['20x16, 1st', '6.10 x 4.88(m)']     23\n",
      "['20x15, 1st', '6.10 x 4.57(m)']     22\n",
      "['17x15, 1st', '5.18 x 4.57(m)']     18\n",
      "['17x16, 1st', '5.18 x 4.88(m)']     18\n",
      "                                     ..\n",
      "['14 x 19, 1st', '14 , 19, 1st']      1\n",
      "['0 x 0, 1st', '0 , 0, 1st']          1\n",
      "['19x12,  1st', '5.79 x 3.66(m)']     1\n",
      "['30 x 17, 1st', '30 , 17, 1st']      1\n",
      "['15x15, 2nd', '4.57 x 4.57(m)']      1\n",
      "Name: Den:, Length: 629, dtype: int64\n",
      "----------------------------------------------------------------------------------------------------\n",
      "Value Count for Bath:\n",
      "['1st', '1st']                                                     176\n",
      "['1st', '2nd', '1st', '2nd']                                        84\n",
      "['2nd', '1st', '2nd', '1st']                                        81\n",
      "['1st', '2nd', '2nd', '1st', '2nd', '2nd']                          69\n",
      "['1st', '1st', '1st', '1st']                                        55\n",
      "                                                                  ... \n",
      "['9 x 12, 1st', '9 , 12, 1st']                                       1\n",
      "['4X14, 1st', '14x10, 2nd', '1.22 x 4.27(m)', '4.27 x 3.05(m)']      1\n",
      "['8', '5', '2.44(m)', '1.52(m)']                                     1\n",
      "['8x12, 1st', '2.44 x 3.66(m)']                                      1\n",
      "['8 X 10, 1st', '8 , 10, 1st']                                       1\n",
      "Name: Bath:, Length: 726, dtype: int64\n",
      "----------------------------------------------------------------------------------------------------\n"
     ]
    }
   ],
   "source": [
    "#printing value count for each feature with more than 80 none value\n",
    "for item in nan_80:\n",
    "    print('Value Count for '+item)\n",
    "    print(single_family_df[item].value_counts())\n",
    "    print('-'*100)"
   ]
  },
  {
   "cell_type": "markdown",
   "metadata": {},
   "source": [
    "* `Controlled Access`categories are mixed  of 'Automatic', 'Driveway', 'Manned' and 'Intercom' that makes me believe the rest of the house do not have any type of controlled access. I think filling none values with 'No controlled access' would be reasonable.\n",
    "* Same as `Water Amenity` there are so many categories for 'Private Pool Desc'. After counting each category for `Private Pool:` groups figured out that there are description for house without private pool and I think it may happened by mistake and I decided to drop this column.\n",
    "* `Master Planned Community` and `Market Area Name` categories seems to be same as subdivision name and we will deal with them later on subdivision section\n",
    "* `Home For Sales`, `Average List Price`,`Average Square Ft.`,`Average Price/Square Ft.`, `Home For Lease`, `Average Lease`and `Average Lease/Square Ft.`, are the facts (based on active listing) for each subdivision and can be fill by the value for same subdivision.\n",
    "* `Den` and `Bath` are dimension along with other values like '1th' which I think is typo mistake and I decided to drop them."
   ]
  },
  {
   "cell_type": "code",
   "execution_count": 17,
   "metadata": {},
   "outputs": [
    {
     "data": {
      "text/plain": [
       "Private Pool:  Private Pool Desc:                       \n",
       "No             In Ground                                     12\n",
       "               Above Ground                                   5\n",
       "               Enclosed, Heated, In Ground                    5\n",
       "               Heated, In Ground                              4\n",
       "               Gunite                                         3\n",
       "               Gunite, In Ground                              2\n",
       "               Fiberglass                                     1\n",
       "               Gunite, Heated, In Ground                      1\n",
       "               Gunite, Heated, In Ground, Salt Water          1\n",
       "Yes            In Ground                                    345\n",
       "               Gunite, In Ground                            326\n",
       "               Gunite, Heated, In Ground                    228\n",
       "               Gunite                                       197\n",
       "               Heated, In Ground                             99\n",
       "               Gunite, Heated, In Ground, Salt Water         44\n",
       "               Gunite, Heated                                42\n",
       "               Above Ground                                  25\n",
       "               Heated, In Ground, Salt Water                 25\n",
       "               Gunite, In Ground, Salt Water                 18\n",
       "               In Ground, Salt Water                         17\n",
       "               Gunite, Salt Water                            10\n",
       "               Gunite, Heated, Salt Water                     8\n",
       "               In Ground, Vinyl Lined                         5\n",
       "               Heated                                         4\n",
       "               Heated, Salt Water                             3\n",
       "               Fiberglass                                     2\n",
       "               Salt Water                                     2\n",
       "               Above Ground, Fiberglass, Heated               1\n",
       "               Above Ground, Heated                           1\n",
       "               Above Ground, In Ground                        1\n",
       "               Above Ground, Vinyl Lined                      1\n",
       "               Enclosed, Gunite, In Ground                    1\n",
       "               Enclosed, Heated                               1\n",
       "               Enclosed, Heated, In Ground                    1\n",
       "               Enclosed, In Ground                            1\n",
       "               Enclosed, Salt Water                           1\n",
       "               Fiberglass, Gunite                             1\n",
       "               Fiberglass, Gunite, Heated                     1\n",
       "               Fiberglass, Heated, In Ground, Salt Water      1\n",
       "               Fiberglass, In Ground                          1\n",
       "               Fiberglass, Salt Water                         1\n",
       "               Gunite, In Ground, Vinyl Lined                 1\n",
       "Name: Private Pool Desc:, dtype: int64"
      ]
     },
     "execution_count": 17,
     "metadata": {},
     "output_type": "execute_result"
    }
   ],
   "source": [
    "#counting 'Private Pool Desc:' category for `Private Pool:` groups\n",
    "single_family_df.groupby('Private Pool:')['Private Pool Desc:'].value_counts()"
   ]
  },
  {
   "cell_type": "code",
   "execution_count": 18,
   "metadata": {},
   "outputs": [],
   "source": [
    "single_family_df.drop(['Private Pool Desc:','Bath:','Den:'],axis=1,inplace=True)\n",
    "# Replacing None value for 'Carport Description:' with 'not applicable'\n",
    "single_family_df['Controlled Access:'][single_family_df['Controlled Access:'].isnull()]='no controlled access'"
   ]
  },
  {
   "cell_type": "markdown",
   "metadata": {},
   "source": [
    "## 1.6.3 Features With 70%-80% Missing Values<a id='1.6.3_Features_With_70%_-_80%_Missing_Values'></a>"
   ]
  },
  {
   "cell_type": "markdown",
   "metadata": {},
   "source": [
    "Now I investigating features with more than 70% none values:"
   ]
  },
  {
   "cell_type": "code",
   "execution_count": 19,
   "metadata": {},
   "outputs": [
    {
     "name": "stdout",
     "output_type": "stream",
     "text": [
      "Number of Features with more than 70% None:  2\n"
     ]
    }
   ],
   "source": [
    "missing = missing_cal(single_family_df)\n",
    "nan_70 = missing.loc[((missing['%']>70 )& (missing['%']<80))].index\n",
    "print('Number of Features with more than 70% None: ',len(nan_70))"
   ]
  },
  {
   "cell_type": "code",
   "execution_count": 20,
   "metadata": {},
   "outputs": [
    {
     "data": {
      "text/html": [
       "<div>\n",
       "<style scoped>\n",
       "    .dataframe tbody tr th:only-of-type {\n",
       "        vertical-align: middle;\n",
       "    }\n",
       "\n",
       "    .dataframe tbody tr th {\n",
       "        vertical-align: top;\n",
       "    }\n",
       "\n",
       "    .dataframe thead th {\n",
       "        text-align: right;\n",
       "    }\n",
       "</style>\n",
       "<table border=\"1\" class=\"dataframe\">\n",
       "  <thead>\n",
       "    <tr style=\"text-align: right;\">\n",
       "      <th></th>\n",
       "      <th>count</th>\n",
       "      <th>%</th>\n",
       "    </tr>\n",
       "  </thead>\n",
       "  <tbody>\n",
       "    <tr>\n",
       "      <th>Family Room:</th>\n",
       "      <td>7729</td>\n",
       "      <td>70.047127</td>\n",
       "    </tr>\n",
       "    <tr>\n",
       "      <th>Primary Bath:</th>\n",
       "      <td>8276</td>\n",
       "      <td>75.004531</td>\n",
       "    </tr>\n",
       "  </tbody>\n",
       "</table>\n",
       "</div>"
      ],
      "text/plain": [
       "               count          %\n",
       "Family Room:    7729  70.047127\n",
       "Primary Bath:   8276  75.004531"
      ]
     },
     "execution_count": 20,
     "metadata": {},
     "output_type": "execute_result"
    }
   ],
   "source": [
    "missing.loc[nan_70].sort_values(by=\"%\")"
   ]
  },
  {
   "cell_type": "code",
   "execution_count": 21,
   "metadata": {},
   "outputs": [
    {
     "name": "stdout",
     "output_type": "stream",
     "text": [
      "Value Count for Family Room:\n",
      "['1st', '1st']                              78\n",
      "['18x16, 1st', '5.49 x 4.88(m)']            46\n",
      "['20x17, 1st', '6.10 x 5.18(m)']            44\n",
      "['21x17, 1st', '6.40 x 5.18(m)']            42\n",
      "['19x18, 1st', '5.79 x 5.49(m)']            40\n",
      "                                            ..\n",
      "['20x14, 2nd', '6.10 x 4.27(m)']             1\n",
      "['23\\'8\"x20\\', 1st', '23\\'8\",20\\', 1st']     1\n",
      "[\"17'10X16'8, 1st\", \"17'10,16'8, 1st\"]       1\n",
      "['15X17, 1st', '4.57 x 5.18(m)']             1\n",
      "['14.6 x 20, 1st', '14.6 , 20, 1st']         1\n",
      "Name: Family Room:, Length: 919, dtype: int64\n",
      "----------------------------------------------------------------------------------------------------\n",
      "Value Count for Primary Bath:\n",
      "['1st', '1st']                                        742\n",
      "['2nd', '2nd']                                        304\n",
      "['3rd', '3rd']                                        109\n",
      "['12x10, 1st', '3.66 x 3.05(m)']                       25\n",
      "['10x8, 1st', '3.05 x 2.44(m)']                        19\n",
      "                                                     ... \n",
      "['10\\' 1\" x 5\\' 2\", 1st', '10\\' 1\" , 5\\' 2\", 1st']      1\n",
      "['8\\'x8\\'4\", 1st', '8\\',8\\'4\", 1st']                    1\n",
      "['17\\' 10\" x 21\\', 2nd', '17\\' 10\" , 21\\', 2nd']        1\n",
      "[\"6'x14', 1st\", \"6',14', 1st\"]                          1\n",
      "['8x4, 1st', '2.44 x 1.22(m)']                          1\n",
      "Name: Primary Bath:, Length: 883, dtype: int64\n",
      "----------------------------------------------------------------------------------------------------\n"
     ]
    }
   ],
   "source": [
    "#printing value count for each feature with more than 70 none value\n",
    "for item in nan_70:\n",
    "    print('Value Count for '+item)\n",
    "    print(single_family_df[item].value_counts())\n",
    "    print('-'*100)"
   ]
  },
  {
   "cell_type": "markdown",
   "metadata": {},
   "source": [
    "`Family Room` and `Primary Bath` are dimension for family room and master bath room and all houses should have these values and can not be 0. I think dropping these features would be appropriate since I can not fill values for more than 70% of houses."
   ]
  },
  {
   "cell_type": "code",
   "execution_count": 22,
   "metadata": {},
   "outputs": [],
   "source": [
    "single_family_df.drop(['Family Room:','Primary Bath:'],axis=1,inplace=True)"
   ]
  },
  {
   "cell_type": "markdown",
   "metadata": {},
   "source": [
    "## 1.6.4 Features With 50%-70% Missing Values<a id='1.6.4_Features_With_50%_-_70%_Missing_Values'></a>"
   ]
  },
  {
   "cell_type": "markdown",
   "metadata": {},
   "source": [
    "Next step is to look at features with none values between 50% and 70%:"
   ]
  },
  {
   "cell_type": "code",
   "execution_count": 23,
   "metadata": {},
   "outputs": [
    {
     "name": "stdout",
     "output_type": "stream",
     "text": [
      "Number of Features with more than 50% and less than 70% None:  6\n"
     ]
    }
   ],
   "source": [
    "missing = missing_cal(single_family_df)\n",
    "nan_50_70 = missing.loc[((missing['%']>50 )& (missing['%']<70))].index\n",
    "print('Number of Features with more than 50% and less than 70% None: ',len(nan_50_70))"
   ]
  },
  {
   "cell_type": "code",
   "execution_count": 24,
   "metadata": {},
   "outputs": [
    {
     "data": {
      "text/html": [
       "<div>\n",
       "<style scoped>\n",
       "    .dataframe tbody tr th:only-of-type {\n",
       "        vertical-align: middle;\n",
       "    }\n",
       "\n",
       "    .dataframe tbody tr th {\n",
       "        vertical-align: top;\n",
       "    }\n",
       "\n",
       "    .dataframe thead th {\n",
       "        text-align: right;\n",
       "    }\n",
       "</style>\n",
       "<table border=\"1\" class=\"dataframe\">\n",
       "  <thead>\n",
       "    <tr style=\"text-align: right;\">\n",
       "      <th></th>\n",
       "      <th>count</th>\n",
       "      <th>%</th>\n",
       "    </tr>\n",
       "  </thead>\n",
       "  <tbody>\n",
       "    <tr>\n",
       "      <th>Front Door:</th>\n",
       "      <td>6461</td>\n",
       "      <td>58.555374</td>\n",
       "    </tr>\n",
       "    <tr>\n",
       "      <th>Breakfast:</th>\n",
       "      <td>6651</td>\n",
       "      <td>60.277325</td>\n",
       "    </tr>\n",
       "    <tr>\n",
       "      <th>Garage Carport:</th>\n",
       "      <td>6675</td>\n",
       "      <td>60.494834</td>\n",
       "    </tr>\n",
       "    <tr>\n",
       "      <th>Utility Room Desc:</th>\n",
       "      <td>7144</td>\n",
       "      <td>64.745333</td>\n",
       "    </tr>\n",
       "    <tr>\n",
       "      <th>Game Room:</th>\n",
       "      <td>7224</td>\n",
       "      <td>65.470364</td>\n",
       "    </tr>\n",
       "    <tr>\n",
       "      <th>Study/Library:</th>\n",
       "      <td>7588</td>\n",
       "      <td>68.769259</td>\n",
       "    </tr>\n",
       "  </tbody>\n",
       "</table>\n",
       "</div>"
      ],
      "text/plain": [
       "                    count          %\n",
       "Front Door:          6461  58.555374\n",
       "Breakfast:           6651  60.277325\n",
       "Garage Carport:      6675  60.494834\n",
       "Utility Room Desc:   7144  64.745333\n",
       "Game Room:           7224  65.470364\n",
       "Study/Library:       7588  68.769259"
      ]
     },
     "execution_count": 24,
     "metadata": {},
     "output_type": "execute_result"
    }
   ],
   "source": [
    "missing.loc[nan_50_70].sort_values(by=\"%\")"
   ]
  },
  {
   "cell_type": "code",
   "execution_count": 25,
   "metadata": {},
   "outputs": [
    {
     "name": "stdout",
     "output_type": "stream",
     "text": [
      "Value Count for Breakfast:\n",
      "['1st', '1st']                                      188\n",
      "['11x10, 1st', '3.35 x 3.05(m)']                    155\n",
      "['10x10, 1st', '3.05 x 3.05(m)']                    142\n",
      "['12x10, 1st', '3.66 x 3.05(m)']                    135\n",
      "['10x9, 1st', '3.05 x 2.74(m)']                     103\n",
      "                                                   ... \n",
      "['11 x 17, 1st', '11 , 17, 1st']                      1\n",
      "['8 X 6, 1st', '8 , 6, 1st']                          1\n",
      "['12\\'6\"x18\\'4.5\", 1st', '12\\'6\",18\\'4.5\", 1st']      1\n",
      "['23x12, 2nd', '7.01 x 3.66(m)']                      1\n",
      "['9x6', '2.74 x 1.83(m)']                             1\n",
      "Name: Breakfast:, Length: 730, dtype: int64\n",
      "----------------------------------------------------------------------------------------------------\n",
      "Value Count for Game Room:\n",
      "['2nd', '2nd']                              67\n",
      "['18x14, 2nd', '5.49 x 4.27(m)']            49\n",
      "['19x16, 2nd', '5.79 x 4.88(m)']            46\n",
      "['19x15, 2nd', '5.79 x 4.57(m)']            42\n",
      "['16x14, 2nd', '4.88 x 4.27(m)']            41\n",
      "                                            ..\n",
      "['17.5 x 19.6, 1st', '17.5 , 19.6, 1st']     1\n",
      "['16*18, 2nd', '16*18, 2nd']                 1\n",
      "['12x21, 2nd', '3.66 x 6.40(m)']             1\n",
      "['12 x 12, 4th', '12 , 12, 4th']             1\n",
      "['14X19, 2nd', '4.27 x 5.79(m)']             1\n",
      "Name: Game Room:, Length: 1293, dtype: int64\n",
      "----------------------------------------------------------------------------------------------------\n",
      "Value Count for Study/Library:\n",
      "['12x11, 1st', '3.66 x 3.35(m)']                    157\n",
      "['12x12, 1st', '3.66 x 3.66(m)']                    134\n",
      "['13x12, 1st', '3.96 x 3.66(m)']                    130\n",
      "['13x11, 1st', '3.96 x 3.35(m)']                    107\n",
      "['14x12, 1st', '4.27 x 3.66(m)']                     99\n",
      "                                                   ... \n",
      "['16X12, 2nd', '4.88 x 3.66(m)']                      1\n",
      "['12 x 13.9, 1st', '12 , 13.9, 1st']                  1\n",
      "['8x5, 2nd', '2.44 x 1.52(m)']                        1\n",
      "['12X15, 2nd', '3.66 x 4.57(m)']                      1\n",
      "['20\\'11\"x14\\'9\",  1st', '20\\'11\",14\\'9\",  1st']      1\n",
      "Name: Study/Library:, Length: 829, dtype: int64\n",
      "----------------------------------------------------------------------------------------------------\n",
      "Value Count for Garage Carport:\n",
      "Auto Garage Door Opener                                                                                      1219\n",
      "Double-Wide Driveway                                                                                          611\n",
      "Auto Garage Door Opener, Double-Wide Driveway                                                                 600\n",
      "Additional Parking                                                                                            195\n",
      "Additional Parking, Auto Garage Door Opener, Double-Wide Driveway                                             161\n",
      "                                                                                                             ... \n",
      "Additional Parking, Auto Garage Door Opener, Double-Wide Driveway, Porte-Cochere, Workshop                      1\n",
      "Auto Driveway Gate, Converted Garage                                                                            1\n",
      "Circle Driveway, Double-Wide Driveway, Porte-Cochere                                                            1\n",
      "Additional Parking, Auto Driveway Gate, Auto Garage Door Opener, Circle Driveway, Driveway Gate, Workshop       1\n",
      "Auto Driveway Gate, Double-Wide Driveway, Driveway Gate                                                         1\n",
      "Name: Garage Carport:, Length: 312, dtype: int64\n",
      "----------------------------------------------------------------------------------------------------\n",
      "Value Count for Front Door:\n",
      "South                1306\n",
      "North                1262\n",
      "East                  841\n",
      "West                  834\n",
      "East, North            90\n",
      "South, West            85\n",
      "North, West            82\n",
      "East, South            68\n",
      "East, West              2\n",
      "North, South            2\n",
      "East, North, West       1\n",
      "Name: Front Door:, dtype: int64\n",
      "----------------------------------------------------------------------------------------------------\n",
      "Value Count for Utility Room Desc:\n",
      "['1st', '1st']                              721\n",
      "['2nd', '2nd']                              260\n",
      "['3rd', '3rd']                              111\n",
      "['6x6, 1st', '1.83 x 1.83(m)']              100\n",
      "['In House', 'In House']                     90\n",
      "                                           ... \n",
      "['8.8x6.1, 1st', '2.68 x 1.86(m)']            1\n",
      "['8X6, In House', '2.44 x 1.83(m)']           1\n",
      "['8X5, 2nd', '2.44 x 1.52(m)']                1\n",
      "['10.3 X 4.11, 1st', '10.3 , 4.11, 1st']      1\n",
      "['10x06, 1st', '3.05 x 1.83(m)']              1\n",
      "Name: Utility Room Desc:, Length: 833, dtype: int64\n",
      "----------------------------------------------------------------------------------------------------\n"
     ]
    }
   ],
   "source": [
    "#printing value count for each feature with more than 50 none value\n",
    "for item in nan_50_70:\n",
    "    print('Value Count for '+item)\n",
    "    print(single_family_df[item].value_counts())\n",
    "    print('-'*100)"
   ]
  },
  {
   "cell_type": "markdown",
   "metadata": {},
   "source": [
    "We can calculate area for `Utility Room`, `Study/Library`. `Game Room`and `Breakfast` based on  dimension we have and assume the NA values are zero for those houses that do not have these rooms. I drop `Garage Carport` and `Front Door` since there is no information for rest of the house."
   ]
  },
  {
   "cell_type": "code",
   "execution_count": 26,
   "metadata": {},
   "outputs": [],
   "source": [
    "def area_calc(item,pattern = \"([\\d.]+)(?:.*?([\\d]+))?.*?[x|*].*?([\\d]+)(?:.*?([\\d.]+))?\"):\n",
    "    \"\"\"This function calculates are based on dimension passed in as parameter. Regular experession\n",
    "    pattern will find dimension and group them as feet and inch\"\"\"\n",
    "    pattern = re.compile(pattern,re.IGNORECASE)\n",
    "    area=0\n",
    "    dim=[]\n",
    "    if type(item)==list:\n",
    "        for i in item:\n",
    "            if (('x' in i or 'X' in i or '*' in i )and '(m)' not in i ):\n",
    "                dim.append(i.replace('[','').strip())\n",
    "        for d in dim:\n",
    "            d=d.replace(' ','').strip()\n",
    "            match=pattern.findall(d)\n",
    "            try:\n",
    "                dimension_list = [float(item) if len(item)>0 else 0 for item in match[0]]\n",
    "                area += (dimension_list[0]+(dimension_list[1]/12))*(dimension_list[2]+(dimension_list[3]/12))\n",
    "            except:\n",
    "                area=None\n",
    "        return(area)"
   ]
  },
  {
   "cell_type": "code",
   "execution_count": 27,
   "metadata": {},
   "outputs": [],
   "source": [
    "# Calculating area for Utility room\n",
    "single_family_df['UtilitySqft'] = single_family_df['Utility Room Desc:'].str.split(',')\n",
    "single_family_df['UtilitySqft'] = single_family_df['UtilitySqft'].apply(area_calc)\n",
    "\n",
    "# Calculating area for Study/Library room\n",
    "single_family_df['StudySqft'] = single_family_df['Study/Library:'].str.split(',')\n",
    "single_family_df['StudySqft'] = single_family_df['StudySqft'].apply(area_calc)\n",
    "\n",
    "# Calculating area for Game room\n",
    "single_family_df['GameSqft'] = single_family_df['Game Room:'].str.split(',')\n",
    "single_family_df['GameSqft'] = single_family_df['GameSqft'].apply(area_calc)\n",
    "\n",
    "# Calculating area for Breakfast\n",
    "single_family_df['BreakfastSqft'] = single_family_df['Breakfast:'].str.split(',')\n",
    "single_family_df['BreakfastSqft'] = single_family_df['BreakfastSqft'].apply(area_calc)\n",
    "\n",
    "single_family_df.update(single_family_df[['UtilitySqft','StudySqft','GameSqft','BreakfastSqft']].fillna(0))"
   ]
  },
  {
   "cell_type": "code",
   "execution_count": 28,
   "metadata": {},
   "outputs": [],
   "source": [
    "single_family_df.drop(list(nan_50_70),axis=1,inplace=True)"
   ]
  },
  {
   "cell_type": "markdown",
   "metadata": {},
   "source": [
    "So far I investigated features with the none value more than 50% and still need to dig more and also fill values for features that are the facts (based on active listing) for each subdivision like: `Home For Sales`, `Average List Price`,`Average Square Ft.`,`Average Price/Square Ft.`, `Home For Lease`, `Average Lease`and `Average Lease/Square Ft.`. But before that lets take a look at features with none values more than 10%:"
   ]
  },
  {
   "cell_type": "markdown",
   "metadata": {},
   "source": [
    "## 1.6.5 Features With 10%-50% Missing Values<a id='1.6.5_Features_With_10%_-_50%_Missing_Values'></a>"
   ]
  },
  {
   "cell_type": "code",
   "execution_count": 29,
   "metadata": {},
   "outputs": [
    {
     "name": "stdout",
     "output_type": "stream",
     "text": [
      "Number of Features with more than 10% and less than 50% None:  35\n"
     ]
    }
   ],
   "source": [
    "missing = missing_cal(single_family_df)\n",
    "nan_10_50 = missing.loc[((missing['%']>10 )& (missing['%']<50))].index\n",
    "print('Number of Features with more than 10% and less than 50% None: ',len(nan_10_50))"
   ]
  },
  {
   "cell_type": "code",
   "execution_count": 30,
   "metadata": {},
   "outputs": [
    {
     "data": {
      "text/html": [
       "<div>\n",
       "<style scoped>\n",
       "    .dataframe tbody tr th:only-of-type {\n",
       "        vertical-align: middle;\n",
       "    }\n",
       "\n",
       "    .dataframe tbody tr th {\n",
       "        vertical-align: top;\n",
       "    }\n",
       "\n",
       "    .dataframe thead th {\n",
       "        text-align: right;\n",
       "    }\n",
       "</style>\n",
       "<table border=\"1\" class=\"dataframe\">\n",
       "  <thead>\n",
       "    <tr style=\"text-align: right;\">\n",
       "      <th></th>\n",
       "      <th>count</th>\n",
       "      <th>%</th>\n",
       "    </tr>\n",
       "  </thead>\n",
       "  <tbody>\n",
       "    <tr>\n",
       "      <th>Tax Rate:</th>\n",
       "      <td>1288</td>\n",
       "      <td>11.673011</td>\n",
       "    </tr>\n",
       "    <tr>\n",
       "      <th>Dishwasher:</th>\n",
       "      <td>1401</td>\n",
       "      <td>12.697118</td>\n",
       "    </tr>\n",
       "    <tr>\n",
       "      <th>Bedroom Desc:</th>\n",
       "      <td>1678</td>\n",
       "      <td>15.207540</td>\n",
       "    </tr>\n",
       "    <tr>\n",
       "      <th>Garage(s):</th>\n",
       "      <td>1759</td>\n",
       "      <td>15.941635</td>\n",
       "    </tr>\n",
       "    <tr>\n",
       "      <th>Median Appraised Value:</th>\n",
       "      <td>1769</td>\n",
       "      <td>16.032264</td>\n",
       "    </tr>\n",
       "    <tr>\n",
       "      <th>Median Year Built:</th>\n",
       "      <td>1769</td>\n",
       "      <td>16.032264</td>\n",
       "    </tr>\n",
       "    <tr>\n",
       "      <th>Median Lot Square Ft.:</th>\n",
       "      <td>1769</td>\n",
       "      <td>16.032264</td>\n",
       "    </tr>\n",
       "    <tr>\n",
       "      <th>Median Square Ft.:</th>\n",
       "      <td>1769</td>\n",
       "      <td>16.032264</td>\n",
       "    </tr>\n",
       "    <tr>\n",
       "      <th>Single Family Properties:</th>\n",
       "      <td>1769</td>\n",
       "      <td>16.032264</td>\n",
       "    </tr>\n",
       "    <tr>\n",
       "      <th>County / Zip Code:</th>\n",
       "      <td>1769</td>\n",
       "      <td>16.032264</td>\n",
       "    </tr>\n",
       "    <tr>\n",
       "      <th>Subdivision Name:</th>\n",
       "      <td>1769</td>\n",
       "      <td>16.032264</td>\n",
       "    </tr>\n",
       "    <tr>\n",
       "      <th>Neighborhood Value Range:</th>\n",
       "      <td>1769</td>\n",
       "      <td>16.032264</td>\n",
       "    </tr>\n",
       "    <tr>\n",
       "      <th>Disposal:</th>\n",
       "      <td>1785</td>\n",
       "      <td>16.177270</td>\n",
       "    </tr>\n",
       "    <tr>\n",
       "      <th>Microwave:</th>\n",
       "      <td>1900</td>\n",
       "      <td>17.219503</td>\n",
       "    </tr>\n",
       "    <tr>\n",
       "      <th>Financing Considered:</th>\n",
       "      <td>1928</td>\n",
       "      <td>17.473264</td>\n",
       "    </tr>\n",
       "    <tr>\n",
       "      <th>Floors:</th>\n",
       "      <td>2004</td>\n",
       "      <td>18.162045</td>\n",
       "    </tr>\n",
       "    <tr>\n",
       "      <th>Range:</th>\n",
       "      <td>2053</td>\n",
       "      <td>18.606127</td>\n",
       "    </tr>\n",
       "    <tr>\n",
       "      <th>Room Description:</th>\n",
       "      <td>2079</td>\n",
       "      <td>18.841762</td>\n",
       "    </tr>\n",
       "    <tr>\n",
       "      <th>Oven:</th>\n",
       "      <td>2428</td>\n",
       "      <td>22.004713</td>\n",
       "    </tr>\n",
       "    <tr>\n",
       "      <th>Connections:</th>\n",
       "      <td>2493</td>\n",
       "      <td>22.593801</td>\n",
       "    </tr>\n",
       "    <tr>\n",
       "      <th>Exterior:</th>\n",
       "      <td>2534</td>\n",
       "      <td>22.965380</td>\n",
       "    </tr>\n",
       "    <tr>\n",
       "      <th>Median Price / Square ft.:</th>\n",
       "      <td>2747</td>\n",
       "      <td>24.895777</td>\n",
       "    </tr>\n",
       "    <tr>\n",
       "      <th>Taxes w/o Exemp:</th>\n",
       "      <td>2817</td>\n",
       "      <td>25.530179</td>\n",
       "    </tr>\n",
       "    <tr>\n",
       "      <th>Energy Feature:</th>\n",
       "      <td>2945</td>\n",
       "      <td>26.690230</td>\n",
       "    </tr>\n",
       "    <tr>\n",
       "      <th>Bathroom Description:</th>\n",
       "      <td>2952</td>\n",
       "      <td>26.753670</td>\n",
       "    </tr>\n",
       "    <tr>\n",
       "      <th>Countertop:</th>\n",
       "      <td>3087</td>\n",
       "      <td>27.977162</td>\n",
       "    </tr>\n",
       "    <tr>\n",
       "      <th>Interior:</th>\n",
       "      <td>3154</td>\n",
       "      <td>28.584376</td>\n",
       "    </tr>\n",
       "    <tr>\n",
       "      <th>Kitchen:</th>\n",
       "      <td>3271</td>\n",
       "      <td>29.644734</td>\n",
       "    </tr>\n",
       "    <tr>\n",
       "      <th>Dining:</th>\n",
       "      <td>3580</td>\n",
       "      <td>32.445169</td>\n",
       "    </tr>\n",
       "    <tr>\n",
       "      <th>Kitchen Desc:</th>\n",
       "      <td>3877</td>\n",
       "      <td>35.136850</td>\n",
       "    </tr>\n",
       "    <tr>\n",
       "      <th>Fireplace:</th>\n",
       "      <td>4536</td>\n",
       "      <td>41.109299</td>\n",
       "    </tr>\n",
       "    <tr>\n",
       "      <th>Living:</th>\n",
       "      <td>4701</td>\n",
       "      <td>42.604676</td>\n",
       "    </tr>\n",
       "    <tr>\n",
       "      <th>Compactor:</th>\n",
       "      <td>5173</td>\n",
       "      <td>46.882364</td>\n",
       "    </tr>\n",
       "    <tr>\n",
       "      <th>Area Pool:</th>\n",
       "      <td>5296</td>\n",
       "      <td>47.997100</td>\n",
       "    </tr>\n",
       "    <tr>\n",
       "      <th>Ice Maker:</th>\n",
       "      <td>5476</td>\n",
       "      <td>49.628421</td>\n",
       "    </tr>\n",
       "  </tbody>\n",
       "</table>\n",
       "</div>"
      ],
      "text/plain": [
       "                            count          %\n",
       "Tax Rate:                    1288  11.673011\n",
       "Dishwasher:                  1401  12.697118\n",
       "Bedroom Desc:                1678  15.207540\n",
       "Garage(s):                   1759  15.941635\n",
       "Median Appraised Value:      1769  16.032264\n",
       "Median Year Built:           1769  16.032264\n",
       "Median Lot Square Ft.:       1769  16.032264\n",
       "Median Square Ft.:           1769  16.032264\n",
       "Single Family Properties:    1769  16.032264\n",
       "County / Zip Code:           1769  16.032264\n",
       "Subdivision Name:            1769  16.032264\n",
       "Neighborhood Value Range:    1769  16.032264\n",
       "Disposal:                    1785  16.177270\n",
       "Microwave:                   1900  17.219503\n",
       "Financing Considered:        1928  17.473264\n",
       "Floors:                      2004  18.162045\n",
       "Range:                       2053  18.606127\n",
       "Room Description:            2079  18.841762\n",
       "Oven:                        2428  22.004713\n",
       "Connections:                 2493  22.593801\n",
       "Exterior:                    2534  22.965380\n",
       "Median Price / Square ft.:   2747  24.895777\n",
       "Taxes w/o Exemp:             2817  25.530179\n",
       "Energy Feature:              2945  26.690230\n",
       "Bathroom Description:        2952  26.753670\n",
       "Countertop:                  3087  27.977162\n",
       "Interior:                    3154  28.584376\n",
       "Kitchen:                     3271  29.644734\n",
       "Dining:                      3580  32.445169\n",
       "Kitchen Desc:                3877  35.136850\n",
       "Fireplace:                   4536  41.109299\n",
       "Living:                      4701  42.604676\n",
       "Compactor:                   5173  46.882364\n",
       "Area Pool:                   5296  47.997100\n",
       "Ice Maker:                   5476  49.628421"
      ]
     },
     "execution_count": 30,
     "metadata": {},
     "output_type": "execute_result"
    }
   ],
   "source": [
    "missing.loc[nan_10_50].sort_values(by=\"%\")"
   ]
  },
  {
   "cell_type": "code",
   "execution_count": 31,
   "metadata": {
    "tags": [
     "outputPrepend"
    ]
   },
   "outputs": [
    {
     "name": "stdout",
     "output_type": "stream",
     "text": [
      "Value Count for Garage(s):\n",
      "2 / Attached              5211\n",
      "2 / Detached               963\n",
      "3 / Attached               703\n",
      "1 / Detached               352\n",
      "1 / Attached               287\n",
      "                          ... \n",
      "21 / Attached                1\n",
      "1 / Tandem                   1\n",
      "20 / Attached                1\n",
      "7 / Attached,Oversized       1\n",
      "6 / Detached                 1\n",
      "Name: Garage(s):, Length: 115, dtype: int64\n",
      "----------------------------------------------------------------------------------------------------\n",
      "Value Count for Living:\n",
      "['1st', '1st']                      177\n",
      "['18x15, 1st', '5.49 x 4.57(m)']     65\n",
      "['15x13, 1st', '4.57 x 3.96(m)']     64\n",
      "['14x12, 1st', '4.27 x 3.66(m)']     55\n",
      "['15x12, 1st', '4.57 x 3.66(m)']     54\n",
      "                                   ... \n",
      "['23 x 22, 1st', '23 , 22, 1st']      1\n",
      "['19 x 16, 2nd', '19 , 16, 2nd']      1\n",
      "['27x10, 1st', '8.23 x 3.05(m)']      1\n",
      "['28x21, 1st', '8.53 x 6.40(m)']      1\n",
      "['27X16, 2nd', '8.23 x 4.88(m)']      1\n",
      "Name: Living:, Length: 1559, dtype: int64\n",
      "----------------------------------------------------------------------------------------------------\n",
      "Value Count for Dining:\n",
      "['12x11, 1st', '3.66 x 3.35(m)']            219\n",
      "['13x11, 1st', '3.96 x 3.35(m)']            205\n",
      "['1st', '1st']                              188\n",
      "['14x12, 1st', '4.27 x 3.66(m)']            182\n",
      "['13x12, 1st', '3.96 x 3.66(m)']            162\n",
      "                                           ... \n",
      "['15.8 x 11.6, 1st', '15.8 , 11.6, 1st']      1\n",
      "['11.5x21, 1st', '3.51 x 6.40(m)']            1\n",
      "['8 x 10, 1st', '8 , 10, 1st']                1\n",
      "['10x14, 2nd', '3.05 x 4.27(m)']              1\n",
      "['12.8 x 11.6, 2nd', '12.8 , 11.6, 2nd']      1\n",
      "Name: Dining:, Length: 1245, dtype: int64\n",
      "----------------------------------------------------------------------------------------------------\n",
      "Value Count for Kitchen:\n",
      "['1st', '1st']                                      383\n",
      "['14x12, 1st', '4.27 x 3.66(m)']                    111\n",
      "['12x10, 1st', '3.66 x 3.05(m)']                    109\n",
      "['12x12, 1st', '3.66 x 3.66(m)']                    105\n",
      "['12x11, 1st', '3.66 x 3.35(m)']                    102\n",
      "                                                   ... \n",
      "['10x21, 2nd', '3.05 x 6.40(m)']                      1\n",
      "['31 x 35, 1st', '31 , 35, 1st']                      1\n",
      "['10X19, 1st', '3.05 x 5.79(m)']                      1\n",
      "['20\\'5\"x14\\'9\\', 1st', '20\\'5\",14\\'9\\', 1st']        1\n",
      "['10\\'4\" x 10\\'8\", 1st', '10\\'4\" , 10\\'8\", 1st']      1\n",
      "Name: Kitchen:, Length: 1558, dtype: int64\n",
      "----------------------------------------------------------------------------------------------------\n",
      "Value Count for Room Description:\n",
      "['1 Living Area', '1 Living Area']                                                                                                                                                                                                                                                128\n",
      "['Utility Room in House', 'Utility Room in House']                                                                                                                                                                                                                                 91\n",
      "['Breakfast Room, Family Room, Formal Dining, Gameroom Up, Study/Library, Utility Room in House,', 'Breakfast Room, Family Room, Formal Dining, Gameroom Up, Study/Library, Utility Room in House,']                                                                               89\n",
      "['Breakfast Room, Family Room, Formal Dining, Gameroom Up, Media, Study/Library, Utility Room in House,', 'Breakfast Room, Family Room, Formal Dining, Gameroom Up, Media, Study/Library, Utility Room in House,']                                                                 76\n",
      "['Breakfast Room, Family Room, Formal Dining, Gameroom Up, Utility Room in House,', 'Breakfast Room, Family Room, Formal Dining, Gameroom Up, Utility Room in House,']                                                                                                             69\n",
      "                                                                                                                                                                                                                                                                                 ... \n",
      "['1 Living Area, Breakfast Room, Family Room, Gameroom Up, Living Area - 1st Floor, Loft, Study/Library, Utility Room in House,', '1 Living Area, Breakfast Room, Family Room, Gameroom Up, Living Area - 1st Floor, Loft, Study/Library, Utility Room in House,']                  1\n",
      "['1 Living Area, Breakfast Room, Formal Dining, Gameroom Up, Media, Study/Library,', '1 Living Area, Breakfast Room, Formal Dining, Gameroom Up, Media, Study/Library,']                                                                                                            1\n",
      "['Den, Guest Suite, Kitchen/Dining Combo, Living Area - 2nd Floor, Utility Room in House,', 'Den, Guest Suite, Kitchen/Dining Combo, Living Area - 2nd Floor, Utility Room in House,']                                                                                              1\n",
      "['1 Living Area, Breakfast Room, Family Room, Formal Dining, Gameroom Up, Kitchen/Dining Combo, Study/Library, Utility Room in House,', '1 Living Area, Breakfast Room, Family Room, Formal Dining, Gameroom Up, Kitchen/Dining Combo, Study/Library, Utility Room in House,']      1\n",
      "['Family Room, Formal Dining, Gameroom Down, Study/Library, Sun Room, Utility Room in House,', 'Family Room, Formal Dining, Gameroom Down, Study/Library, Sun Room, Utility Room in House,']                                                                                        1\n",
      "Name: Room Description:, Length: 3128, dtype: int64\n",
      "----------------------------------------------------------------------------------------------------\n",
      "Value Count for Fireplace:\n",
      "1/Gaslog Fireplace                           1821\n",
      "1                                            1047\n",
      "1/Gas Connections                             886\n",
      "1/Wood Burning Fireplace                      541\n",
      "1/Gas Connections, Gaslog Fireplace           444\n",
      "                                             ... \n",
      "5/Gas Connections, Wood Burning Fireplace       1\n",
      "3/Freestanding, Gas Connections                 1\n",
      "3/Gas Connections, Mock Fireplace               1\n",
      "5/Wood Burning Fireplace                        1\n",
      "/Gaslog Fireplace, Wood Burning Fireplace       1\n",
      "Name: Fireplace:, Length: 93, dtype: int64\n",
      "----------------------------------------------------------------------------------------------------\n",
      "Value Count for Countertop:\n",
      "Granite              3983\n",
      "Quartz               1005\n",
      "granite               479\n",
      "GRANITE               385\n",
      "Marble                138\n",
      "                     ... \n",
      "Kitchen-Silestone       1\n",
      "Laminate / Wood         1\n",
      "Quartz /Stone           1\n",
      "Silestone/marble        1\n",
      "Concrete + Quartz       1\n",
      "Name: Countertop:, Length: 510, dtype: int64\n",
      "----------------------------------------------------------------------------------------------------\n",
      "Value Count for Floors:\n",
      "Carpet, Tile                                                1776\n",
      "Carpet, Tile, Wood                                          1545\n",
      "Tile, Wood                                                   844\n",
      "Carpet, Engineered Wood, Tile                                488\n",
      "Tile                                                         381\n",
      "                                                            ... \n",
      "Bamboo, Carpet, Slate, Tile, Travertine                        1\n",
      "Marble Floors, Tile, Travertine, Wood                          1\n",
      "Carpet, Engineered Wood, Stone, Tile, Travertine               1\n",
      "Concrete, Tile, Vinyl Plank                                    1\n",
      "Carpet, Concrete, Marble Floors, Tile, Vinyl Plank, Wood       1\n",
      "Name: Floors:, Length: 347, dtype: int64\n",
      "----------------------------------------------------------------------------------------------------\n",
      "Value Count for Bedroom Desc:\n",
      "All Bedrooms Down                                                                                           1275\n",
      "Primary Bed - 1st Floor                                                                                      808\n",
      "Primary Bed - 1st Floor, Walk-In Closet                                                                      667\n",
      "All Bedrooms Up                                                                                              465\n",
      "All Bedrooms Down, Primary Bed - 1st Floor                                                                   374\n",
      "                                                                                                            ... \n",
      "1 Bedroom Up, 2 Bedrooms Down, En-Suite Bath, Primary Bed - 2nd Floor, Walk-In Closet                          1\n",
      "1 Bedroom Down - Not Primary BR, All Bedrooms Up, Primary Bed - 1st Floor, Split Plan                          1\n",
      "1 Bedroom Down - Not Primary BR, 1 Bedroom Up, 2 Primary Bedrooms, Primary Bed - 1st Floor, Primary Bed        1\n",
      "2 Bedrooms Down, 2 Primary Bedrooms, Primary Bed - 1st Floor, Primary Bed - 2nd Floor                          1\n",
      "1 Bedroom Down - Not Primary BR, 2 Primary Bedrooms, All Bedrooms Down                                         1\n",
      "Name: Bedroom Desc:, Length: 463, dtype: int64\n",
      "----------------------------------------------------------------------------------------------------\n",
      "Value Count for Kitchen Desc:\n",
      "Breakfast Bar, Kitchen open to Family Room, Pantry                                                                                 352\n",
      "Pantry                                                                                                                             303\n",
      "Kitchen open to Family Room                                                                                                        277\n",
      "Kitchen open to Family Room, Pantry                                                                                                263\n",
      "Breakfast Bar                                                                                                                      253\n",
      "                                                                                                                                  ... \n",
      "Breakfast Bar, Kitchen open to Family Room, Pantry, Pots/Pans Drawers, Second Sink, Under Cabinet Lighting                           1\n",
      "Breakfast Bar, Island w/o Cooktop, Soft Closing Cabinets, Under Cabinet Lighting                                                     1\n",
      "Breakfast Bar, Island w/o Cooktop, Pots/Pans Drawers, Under Cabinet Lighting                                                         1\n",
      "Breakfast Bar, Island w/o Cooktop, Kitchen open to Family Room, Pantry, Pots/Pans Drawers, Soft Closing Drawers, Walk-in Pantry      1\n",
      "Pantry, Pots/Pans Drawers, Reverse Osmosis                                                                                           1\n",
      "Name: Kitchen Desc:, Length: 962, dtype: int64\n",
      "----------------------------------------------------------------------------------------------------\n",
      "Value Count for Bathroom Description:\n",
      "Double Sinks, Primary Bath + Separate Shower                                                                 1101\n",
      "Double Sinks, Primary Bath + Separate Shower, Whirlpool/Jetted Tub                                            365\n",
      "Double Sinks, Half Bath, Primary Bath + Separate Shower                                                       362\n",
      "Primary Bath + Separate Shower                                                                                360\n",
      "Tub w/shower                                                                                                  284\n",
      "                                                                                                             ... \n",
      "Bidet, Double Sinks, Half Bath, Primary Bath Shower Only, Tub w/shower, Whirlpool/Jetted Tub                    1\n",
      "Double Sinks, Half Bath, Vanity Area, Whirlpool/Jetted Tub                                                      1\n",
      "Disabled Access, Double Sinks, Primary Bath Shower Only, Shower Only                                            1\n",
      "Double Sinks, Half Bath, Primary Bath + Separate Shower, Primary Bath Shower Only, Tub w/shower, Vanity A       1\n",
      "Double Sinks, Primary Bath + Separate Shower, No Primary, Whirlpool/Jetted Tub                                  1\n",
      "Name: Bathroom Description:, Length: 515, dtype: int64\n",
      "----------------------------------------------------------------------------------------------------\n",
      "Value Count for Connections:\n",
      "Electric Dryer Connections, Gas Dryer Connections, Washer Connections    4174\n",
      "Electric Dryer Connections, Washer Connections                           2658\n",
      "Gas Dryer Connections, Washer Connections                                 715\n",
      "Electric Dryer Connections                                                352\n",
      "Electric Dryer Connections, Gas Dryer Connections                         272\n",
      "Washer Connections                                                        250\n",
      "Gas Dryer Connections                                                     120\n",
      "Name: Connections:, dtype: int64\n",
      "----------------------------------------------------------------------------------------------------\n",
      "Value Count for Ice Maker:\n",
      "No     5045\n",
      "Yes     513\n",
      "Name: Ice Maker:, dtype: int64\n",
      "----------------------------------------------------------------------------------------------------\n",
      "Value Count for Microwave:\n",
      "Yes    8199\n",
      "No      935\n",
      "Name: Microwave:, dtype: int64\n",
      "----------------------------------------------------------------------------------------------------\n",
      "Value Count for Oven:\n",
      "Electric Oven                                                                  2218\n",
      "Gas Oven                                                                       2068\n",
      "Double Oven                                                                     621\n",
      "Double Oven, Electric Oven                                                      562\n",
      "Single Oven                                                                     401\n",
      "Electric Oven, Single Oven                                                      379\n",
      "Convection Oven                                                                 320\n",
      "Freestanding Oven, Gas Oven                                                     272\n",
      "Freestanding Oven                                                               222\n",
      "Convection Oven, Double Oven                                                    207\n",
      "Convection Oven, Double Oven, Electric Oven                                     167\n",
      "Convection Oven, Electric Oven                                                  166\n",
      "Double Oven, Gas Oven                                                           162\n",
      "Freestanding Oven, Gas Oven, Single Oven                                        133\n",
      "Gas Oven, Single Oven                                                           126\n",
      "Electric Oven, Freestanding Oven                                                118\n",
      "Convection Oven, Gas Oven                                                        88\n",
      "Convection Oven, Electric Oven, Single Oven                                      57\n",
      "Convection Oven, Single Oven                                                     51\n",
      "Convection Oven, Double Oven, Gas Oven                                           47\n",
      "Electric Oven, Gas Oven                                                          28\n",
      "Freestanding Oven, Single Oven                                                   24\n",
      "Electric Oven, Freestanding Oven, Single Oven                                    23\n",
      "Convection Oven, Gas Oven, Single Oven                                           21\n",
      "Double Oven, Freestanding Oven                                                   15\n",
      "Double Oven, Freestanding Oven, Gas Oven                                         10\n",
      "Double Oven, Electric Oven, Gas Oven                                              9\n",
      "Convection Oven, Double Oven, Freestanding Oven, Gas Oven                         9\n",
      "Convection Oven, Double Oven, Electric Oven, Freestanding Oven                    9\n",
      "Convection Oven, Freestanding Oven                                                8\n",
      "Convection Oven, Double Oven, Freestanding Oven                                   7\n",
      "Convection Oven, Freestanding Oven, Gas Oven                                      7\n",
      "Double Oven, Electric Oven, Freestanding Oven                                     7\n",
      "Convection Oven, Double Oven, Electric Oven, Gas Oven                             6\n",
      "Convection Oven, Electric Oven, Gas Oven                                          5\n",
      "Double Oven, Single Oven                                                          4\n",
      "Convection Oven, Electric Oven, Freestanding Oven                                 4\n",
      "Convection Oven, Electric Oven, Freestanding Oven, Single Oven                    4\n",
      "Electric Oven, Freestanding Oven, Gas Oven                                        3\n",
      "Convection Oven, Double Oven, Electric Oven, Freestanding Oven, Gas Oven          3\n",
      "Convection Oven, Freestanding Oven, Gas Oven, Single Oven                         3\n",
      "Electric Oven, Gas Oven, Single Oven                                              3\n",
      "Convection Oven, Double Oven, Electric Oven, Single Oven                          2\n",
      "Convection Oven, Double Oven, Freestanding Oven, Single Oven                      1\n",
      "Convection Oven, Freestanding Oven, Single Oven                                   1\n",
      "Double Oven, Electric Oven, Single Oven                                           1\n",
      "Convection Oven, Electric Oven, Freestanding Oven, Gas Oven                       1\n",
      "Electric Oven, Freestanding Oven, Gas Oven, Single Oven                           1\n",
      "Convection Oven, Double Oven, Electric Oven, Freestanding Oven, Single Oven       1\n",
      "Double Oven, Electric Oven, Gas Oven, Single Oven                                 1\n",
      "Name: Oven:, dtype: int64\n",
      "----------------------------------------------------------------------------------------------------\n",
      "Value Count for Compactor:\n",
      "No     5645\n",
      "Yes     216\n",
      "Name: Compactor:, dtype: int64\n",
      "----------------------------------------------------------------------------------------------------\n",
      "Value Count for Dishwasher:\n",
      "Yes    9369\n",
      "No      264\n",
      "Name: Dishwasher:, dtype: int64\n",
      "----------------------------------------------------------------------------------------------------\n",
      "Value Count for Range:\n",
      "Gas Cooktop                                                 3121\n",
      "Gas Range                                                   2818\n",
      "Electric Cooktop                                             947\n",
      "Electric Range                                               726\n",
      "Freestanding Range, Gas Range                                480\n",
      "Gas Cooktop, Gas Range                                       206\n",
      "Freestanding Range                                           203\n",
      "Electric Range, Freestanding Range                           106\n",
      "Freestanding Range, Gas Cooktop                               85\n",
      "Electric Cooktop, Electric Range                              58\n",
      "Gas Cooktop, Grill                                            48\n",
      "Gas Range, Grill                                              30\n",
      "Freestanding Range, Gas Cooktop, Gas Range                    29\n",
      "Electric Cooktop, Freestanding Range                          20\n",
      "Gas Cooktop, Gas Range, Grill                                 18\n",
      "Electric Range, Gas Cooktop                                   16\n",
      "Freestanding Range, Gas Range, Grill                          14\n",
      "Electric Range, Gas Range                                     11\n",
      "Electric Cooktop, Electric Range, Freestanding Range           8\n",
      "Electric Cooktop, Grill                                        6\n",
      "Electric Cooktop, Gas Range                                    5\n",
      "Electric Cooktop, Gas Cooktop                                  5\n",
      "Freestanding Range, Gas Cooktop, Gas Range, Grill              4\n",
      "Electric Cooktop, Gas Cooktop, Gas Range                       3\n",
      "Grill                                                          3\n",
      "Electric Range, Gas Cooktop, Gas Range                         3\n",
      "Freestanding Range, Gas Cooktop, Grill                         3\n",
      "Electric Range, Freestanding Range, Gas Range                  2\n",
      "Electric Cooktop, Electric Range, Gas Cooktop                  1\n",
      "Electric Cooktop, Gas Cooktop, Grill                           1\n",
      "Electric Cooktop, Electric Range, Gas Cooktop, Gas Range       1\n",
      "Name: Range:, dtype: int64\n",
      "----------------------------------------------------------------------------------------------------\n",
      "Value Count for Disposal:\n",
      "Yes    8922\n",
      "No      327\n",
      "Name: Disposal:, dtype: int64\n",
      "----------------------------------------------------------------------------------------------------\n",
      "Value Count for Energy Feature:\n",
      "Ceiling Fans                                                                                                                                                                                                                                                                                                                                                              1044\n",
      "Ceiling Fans, Digital Program Thermostat                                                                                                                                                                                                                                                                                                                                   432\n",
      "Attic Vents, Ceiling Fans, Digital Program Thermostat                                                                                                                                                                                                                                                                                                                      129\n",
      "Attic Vents, Ceiling Fans                                                                                                                                                                                                                                                                                                                                                  127\n",
      "Ceiling Fans, Digital Program Thermostat, Insulated/Low-E windows                                                                                                                                                                                                                                                                                                          112\n",
      "                                                                                                                                                                                                                                                                                                                                                                          ... \n",
      "Attic Vents, Ceiling Fans, Digital Program Thermostat, Energy Star Appliances, High-Efficiency HVAC, HVAC>13 SEER, Insulated/Low-E windows, Insulation - Batt, Insulation - Blown Cellulose, Radiant Attic Barrier                                                                                                                                                           1\n",
      "Ceiling Fans, Digital Program Thermostat, High-Efficiency HVAC, HVAC>13 SEER, Insulated Doors, Insulated/Low-E windows, Insulation - Blown Fiberglass, Radiant Attic Barrier, Tankless/On-Demand H2O Heater                                                                                                                                                                  1\n",
      "Attic Fan, Attic Vents, Ceiling Fans, Digital Program Thermostat, Energy Star Appliances, Energy Star/Reflective Roof, HVAC>13 SEER, Insulated/Low-E windows, Radiant Attic Barrier                                                                                                                                                                                          1\n",
      "Attic Vents, Ceiling Fans, Digital Program Thermostat, Energy Star Appliances, Energy Star/CFL/LED Lights, Energy Star/Reflective Roof, High-Efficiency HVAC, HVAC>13 SEER, Insulated Doors, Insulated/Low-E windows, Insulation - Batt, Insulation - Blown Fiberglass, Insulation - Other, North/South Exposure, Radiant Attic Barrier, Tankless/On-Demand H2O Heater       1\n",
      "Ceiling Fans, Digital Program Thermostat, Energy Star/CFL/LED Lights, High-Efficiency HVAC, Radiant Attic Barrier, Tankless/On-Demand H2O Heater                                                                                                                                                                                                                             1\n",
      "Name: Energy Feature:, Length: 2741, dtype: int64\n",
      "----------------------------------------------------------------------------------------------------\n",
      "Value Count for Interior:\n",
      "Fire/Smoke Alarm, High Ceiling                                                                                                                                               364\n",
      "Fire/Smoke Alarm                                                                                                                                                             325\n",
      "Fire/Smoke Alarm, High Ceiling, Prewired for Alarm System                                                                                                                    274\n",
      "Drapes/Curtains/Window Cover, Fire/Smoke Alarm                                                                                                                               220\n",
      "High Ceiling                                                                                                                                                                 208\n",
      "                                                                                                                                                                            ... \n",
      "Balcony, Elevator, High Ceiling, Prewired for Alarm System, Refrigerator Included, Steel Beams, Wired for Sound                                                                1\n",
      "Alarm System - Owned, Atrium, Balcony, Elevator Shaft, Fire/Smoke Alarm, High Ceiling, Prewired for Alarm System, Refrigerator Included, Wet Bar, Wired for Sound              1\n",
      "Alarm System - Owned, Crown Molding, Drapes/Curtains/Window Cover, Formal Entry/Foyer, High Ceiling, Refrigerator Included, Steel Beams, Wired for Sound                       1\n",
      "Alarm System - Owned, Crown Molding, Dry Bar, Fire/Smoke Alarm, High Ceiling, Wired for Sound                                                                                  1\n",
      "Alarm System - Leased, Drapes/Curtains/Window Cover, Dry Bar, Fire/Smoke Alarm, Formal Entry/Foyer, High Ceiling, Prewired for Alarm System, Spa/Hot Tub, Wired for Sound      1\n",
      "Name: Interior:, Length: 2498, dtype: int64\n",
      "----------------------------------------------------------------------------------------------------\n",
      "Value Count for Area Pool:\n",
      "Yes    3457\n",
      "No     2281\n",
      "Name: Area Pool:, dtype: int64\n",
      "----------------------------------------------------------------------------------------------------\n",
      "Value Count for Exterior:\n",
      "Back Yard Fenced                                                                                                                                                              410\n",
      "Back Yard, Back Yard Fenced, Covered Patio/Deck                                                                                                                               325\n",
      "Back Yard Fenced, Covered Patio/Deck                                                                                                                                          272\n",
      "Back Yard, Back Yard Fenced                                                                                                                                                   223\n",
      "Back Yard Fenced, Patio/Deck                                                                                                                                                  204\n",
      "                                                                                                                                                                             ... \n",
      "Back Yard, Back Yard Fenced, Balcony, Controlled Subdivision Access, Partially Fenced, Patio/Deck, Porch, Side Yard, Sprinkler System, Subdivision Tennis Court                 1\n",
      "Balcony, Patio/Deck, Porch, Sprinkler System                                                                                                                                    1\n",
      "Back Yard, Balcony, Covered Patio/Deck, Sprinkler System                                                                                                                        1\n",
      "Back Green Space, Back Yard, Back Yard Fenced, Covered Patio/Deck, Outdoor Fireplace, Outdoor Kitchen, Patio/Deck, Spa/Hot Tub, Sprinkler System, Subdivision Tennis Court      1\n",
      "Back Yard, Back Yard Fenced, Balcony, Covered Patio/Deck, Outdoor Kitchen, Partially Fenced, Patio/Deck, Rooftop Deck, Satellite Dish, Sprinkler System                         1\n",
      "Name: Exterior:, Length: 2711, dtype: int64\n",
      "----------------------------------------------------------------------------------------------------\n",
      "Value Count for Financing Considered:\n",
      "Cash Sale, Conventional, FHA, VA                                                                             3828\n",
      "Cash Sale, Conventional                                                                                      2120\n",
      "Cash Sale, Conventional, FHA                                                                                  685\n",
      "Cash Sale, Conventional, FHA, Investor, VA                                                                    561\n",
      "Cash Sale, Conventional, VA                                                                                   403\n",
      "                                                                                                             ... \n",
      "Cash Sale, Conventional, VA, Wrap                                                                               1\n",
      "Cash Sale, Conventional, FHA, Owner Financing, USDA Loan                                                        1\n",
      "Affordable Housing Program (subject to conditions), Cash Sale, Conventional, FHA, Investor, USDA Loan, VA       1\n",
      "Cash Sale, Conventional, Investor, Other, USDA Loan, VA                                                         1\n",
      "Cash Sale, Conventional, Owner Financing, Seller to Contribute to Buyer's Closing Costs                         1\n",
      "Name: Financing Considered:, Length: 154, dtype: int64\n",
      "----------------------------------------------------------------------------------------------------\n",
      "Value Count for Taxes w/o Exemp:\n",
      "$1, 016/2019     13\n",
      "$1, 232/2019      8\n",
      "$1, 332/2019      7\n",
      "$703/2019         6\n",
      "$15, 740/2019     6\n",
      "                 ..\n",
      "$1, 121/2019      1\n",
      "$11, 565/2019     1\n",
      "$15, 636/2019     1\n",
      "$5, 019/2019      1\n",
      "$15, 183/2018     1\n",
      "Name: Taxes w/o Exemp:, Length: 7044, dtype: int64\n",
      "----------------------------------------------------------------------------------------------------\n",
      "Value Count for Tax Rate:\n",
      "2.42160    2247\n",
      "2.53040     256\n",
      "2.52160     252\n",
      "2.71080     245\n",
      "2.60560     176\n",
      "           ... \n",
      "3.18810       1\n",
      "3.62130       1\n",
      "2.38539       1\n",
      "2.12995       1\n",
      "2.37500       1\n",
      "Name: Tax Rate:, Length: 809, dtype: int64\n",
      "----------------------------------------------------------------------------------------------------\n",
      "Value Count for Subdivision Name:\n",
      "Aliana                 115\n",
      "Houston Heights         98\n",
      "Tavola                  87\n",
      "Oak Forest ( East )     84\n",
      "Westbury                78\n",
      "                      ... \n",
      "Wincrest Falls           1\n",
      "Old Mill Park            1\n",
      "Riverbrook               1\n",
      "Cypress Creek Manor      1\n",
      "Beall 15 1/2 Street      1\n",
      "Name: Subdivision Name:, Length: 2173, dtype: int64\n",
      "----------------------------------------------------------------------------------------------------\n",
      "Value Count for County / Zip Code:\n",
      "77407.0    227\n",
      "77373.0    218\n",
      "77479.0    218\n",
      "77379.0    212\n",
      "77077.0    212\n",
      "          ... \n",
      "77401.0      1\n",
      "77450.0      1\n",
      "77355.0      1\n",
      "77503.0      1\n",
      "77362.0      1\n",
      "Name: County / Zip Code:, Length: 116, dtype: int64\n",
      "----------------------------------------------------------------------------------------------------\n",
      "Value Count for Single Family Properties:\n",
      "3,292    115\n",
      "3,936     98\n",
      "852       89\n",
      "3,845     84\n",
      "3,399     78\n",
      "        ... \n",
      "373        1\n",
      "835        1\n",
      "304        1\n",
      "323        1\n",
      "944        1\n",
      "Name: Single Family Properties:, Length: 769, dtype: int64\n",
      "----------------------------------------------------------------------------------------------------\n",
      "Value Count for Median Square Ft.:\n",
      "3,158    115\n",
      "2,083     99\n",
      "1,823     93\n",
      "2,678     87\n",
      "1,581     84\n",
      "        ... \n",
      "1,276      1\n",
      "2,285      1\n",
      "1,788      1\n",
      "1,095      1\n",
      "3,605      1\n",
      "Name: Median Square Ft.:, Length: 1498, dtype: int64\n",
      "----------------------------------------------------------------------------------------------------\n",
      "Value Count for Median Lot Square Ft.:\n",
      "5,000     349\n",
      "6,600     211\n",
      "7,200     138\n",
      "8,604     115\n",
      "6,900     107\n",
      "         ... \n",
      "2,104       1\n",
      "6,573       1\n",
      "1,667       1\n",
      "9,450       1\n",
      "10,500      1\n",
      "Name: Median Lot Square Ft.:, Length: 1487, dtype: int64\n",
      "----------------------------------------------------------------------------------------------------\n",
      "Value Count for Median Year Built:\n",
      "2015.0    331\n",
      "2018.0    319\n",
      "2017.0    288\n",
      "1982.0    283\n",
      "1940.0    267\n",
      "         ... \n",
      "1931.0      2\n",
      "1927.0      1\n",
      "2019.0      1\n",
      "1922.0      1\n",
      "1916.0      1\n",
      "Name: Median Year Built:, Length: 99, dtype: int64\n",
      "----------------------------------------------------------------------------------------------------\n",
      "Value Count for Median Appraised Value:\n",
      "$349,020    115\n",
      "$571,506     98\n",
      "$238,290     87\n",
      "$353,597     84\n",
      "$234,244     78\n",
      "           ... \n",
      "$267,297      1\n",
      "$369,241      1\n",
      "$657,800      1\n",
      "$185,770      1\n",
      "$17,655       1\n",
      "Name: Median Appraised Value:, Length: 2150, dtype: int64\n",
      "----------------------------------------------------------------------------------------------------\n",
      "Value Count for Neighborhood Value Range:\n",
      "$279 - $479 K     115\n",
      "$335 - $1040 K     98\n",
      "$40 - $345 K       87\n",
      "$288 - $823 K      84\n",
      "$152 - $333 K      78\n",
      "                 ... \n",
      "$48 - $123 K        1\n",
      "$66 - $154 K        1\n",
      "$18 - $119 K        1\n",
      "$108 - $154 K       1\n",
      "$327 - $493 K       1\n",
      "Name: Neighborhood Value Range:, Length: 2141, dtype: int64\n",
      "----------------------------------------------------------------------------------------------------\n",
      "Value Count for Median Price / Square ft.:\n",
      "$127.37    115\n",
      "$303.75     98\n",
      "$108.33     87\n",
      "$259.49     84\n",
      "$146.71     78\n",
      "          ... \n",
      "$113.81      1\n",
      "$88.78       1\n",
      "$108.80      1\n",
      "$115.18      1\n",
      "$190.92      1\n",
      "Name: Median Price / Square ft.:, Length: 1418, dtype: int64\n",
      "----------------------------------------------------------------------------------------------------\n"
     ]
    }
   ],
   "source": [
    "#printing value count for each feature with more than 50 none value\n",
    "for item in nan_10_50:\n",
    "    print('Value Count for '+item)\n",
    "    print(single_family_df[item].value_counts())\n",
    "    print('-'*100)"
   ]
  },
  {
   "cell_type": "markdown",
   "metadata": {},
   "source": [
    "`Room Description`, `Countertop`, `Floors`, `Bedroom Desc`, `Kitchen Desc`, `Bathroom Description`, `Connections`, `Oven`, `Range`, `Energy Feature`, `Interior`, `Exterior`, `Financing Considered` are just information and we can not fill them with unknown values since some may not be accurate and I don't think they are relevant to our analysis so, I will drop all of them.\n",
    "We also do not need `County / Zip Code:` since we do have another column for zip codes.\n",
    "I could not find any information regarding to `Single Family Properties:` so, this column will be dropped as well."
   ]
  },
  {
   "cell_type": "code",
   "execution_count": 32,
   "metadata": {},
   "outputs": [],
   "source": [
    "single_family_df.drop(['Room Description:', 'Countertop:', 'Floors:', 'Bedroom Desc:', 'Kitchen Desc:', \n",
    "                       'Bathroom Description:','Connections:', 'Oven:', 'Range:', 'Energy Feature:',\n",
    "                       'Interior:', 'Exterior:', 'Financing Considered:','Single Family Properties:','County / Zip Code:'], axis=1,inplace=True)"
   ]
  },
  {
   "cell_type": "markdown",
   "metadata": {},
   "source": [
    "`Ice Maker`, `Microwave`, `Compactor`, `Dishwasher`, `Disposal` and `Area Pool` are 'Yes/No' categories and I think it is relevant to fill none values with 'No'. For sure it is a little bit optimistic since some houses may have those features and owner/agent forgot to fill them but for now filling with 'No' value is the best way to dealing with them."
   ]
  },
  {
   "cell_type": "code",
   "execution_count": 33,
   "metadata": {},
   "outputs": [],
   "source": [
    "single_family_df['Disposal:'][single_family_df['Disposal:'].isnull()]='No'\n",
    "single_family_df['Ice Maker:'][single_family_df['Ice Maker:'].isnull()]='No'\n",
    "single_family_df['Compactor:'][single_family_df['Compactor:'].isnull()]='No'\n",
    "single_family_df['Area Pool:'][single_family_df['Area Pool:'].isnull()]='No'\n",
    "single_family_df['Microwave:'][single_family_df['Microwave:'].isnull()]='No'\n",
    "single_family_df['Dishwasher:'][single_family_df['Dishwasher:'].isnull()]='No'"
   ]
  },
  {
   "cell_type": "markdown",
   "metadata": {},
   "source": [
    "At this point I am investigating other features indevisually:"
   ]
  },
  {
   "cell_type": "markdown",
   "metadata": {},
   "source": [
    "## 1.6.5.1 Garage<a id='1.6.5.1_Garage'></a>"
   ]
  },
  {
   "cell_type": "code",
   "execution_count": 34,
   "metadata": {},
   "outputs": [
    {
     "data": {
      "text/plain": [
       "2 / Attached              5211\n",
       "2 / Detached               963\n",
       "3 / Attached               703\n",
       "1 / Detached               352\n",
       "1 / Attached               287\n",
       "                          ... \n",
       "21 / Attached                1\n",
       "1 / Tandem                   1\n",
       "20 / Attached                1\n",
       "7 / Attached,Oversized       1\n",
       "6 / Detached                 1\n",
       "Name: Garage(s):, Length: 115, dtype: int64"
      ]
     },
     "execution_count": 34,
     "metadata": {},
     "output_type": "execute_result"
    }
   ],
   "source": [
    "single_family_df['Garage(s):'].value_counts()"
   ]
  },
  {
   "cell_type": "markdown",
   "metadata": {},
   "source": [
    "The important part of this feature is the number of garage each house has. Also we now almost every single family homes have at least 2 garages and it is relevant to fill none values with '2'."
   ]
  },
  {
   "cell_type": "code",
   "execution_count": 35,
   "metadata": {},
   "outputs": [
    {
     "data": {
      "text/plain": [
       "2     8620\n",
       "3     1439\n",
       "1      735\n",
       "4      176\n",
       "5       19\n",
       "6       11\n",
       "8        5\n",
       "7        4\n",
       "24       3\n",
       "40       3\n",
       "63       2\n",
       "36       2\n",
       "10       2\n",
       "14       1\n",
       "56       1\n",
       "22       1\n",
       "9        1\n",
       "49       1\n",
       "60       1\n",
       "42       1\n",
       "58       1\n",
       "27       1\n",
       "21       1\n",
       "20       1\n",
       "28       1\n",
       "26       1\n",
       "Name: Garage, dtype: int64"
      ]
     },
     "execution_count": 35,
     "metadata": {},
     "output_type": "execute_result"
    }
   ],
   "source": [
    "single_family_df['Garage(s):'].fillna('2',inplace=True)\n",
    "single_family_df['Garage'] = [item[0] if item !=None else 0 for item in single_family_df['Garage(s):'].str.split(' ') ]\n",
    "single_family_df['Garage']=single_family_df['Garage'].astype(int)\n",
    "single_family_df.drop('Garage(s):',axis=1,inplace=True)\n",
    "single_family_df['Garage'].value_counts()"
   ]
  },
  {
   "cell_type": "markdown",
   "metadata": {},
   "source": [
    "As you can see there are some houses with more than 10 garage which is odd. After checking images for some of these houses in www.HAR.com it seems those have only 2 garage and I fill those values with 2 which is the median of this feature."
   ]
  },
  {
   "cell_type": "code",
   "execution_count": 36,
   "metadata": {},
   "outputs": [
    {
     "data": {
      "text/plain": [
       "2    8650\n",
       "3    1439\n",
       "1     735\n",
       "4     176\n",
       "5      19\n",
       "6      11\n",
       "7       4\n",
       "Name: Garage, dtype: int64"
      ]
     },
     "execution_count": 36,
     "metadata": {},
     "output_type": "execute_result"
    }
   ],
   "source": [
    "single_family_df.Garage[single_family_df['Garage']>7]=single_family_df['Garage'].median()\n",
    "single_family_df['Garage'].value_counts()"
   ]
  },
  {
   "cell_type": "markdown",
   "metadata": {},
   "source": [
    "## 1.6.5.2 Living<a id='1.6.5.2_Living'></a>"
   ]
  },
  {
   "cell_type": "markdown",
   "metadata": {},
   "source": [
    "To calculate the living area I use area calculation function, pass in the dimension of the living room and return the area and for the next step I will fill none values with the average of living room area per subdivision"
   ]
  },
  {
   "cell_type": "code",
   "execution_count": 37,
   "metadata": {},
   "outputs": [],
   "source": [
    "single_family_df['LivingSqft'] = single_family_df['Living:'].str.split(',')\n",
    "single_family_df['LivingSqft'] = single_family_df['LivingSqft'].apply(area_calc)        "
   ]
  },
  {
   "cell_type": "code",
   "execution_count": 38,
   "metadata": {},
   "outputs": [
    {
     "data": {
      "text/plain": [
       "count    6333.000000\n",
       "mean      281.339938\n",
       "std       158.494631\n",
       "min         0.000000\n",
       "25%       204.000000\n",
       "50%       272.000000\n",
       "75%       342.000000\n",
       "max      6651.000000\n",
       "Name: LivingSqft, dtype: float64"
      ]
     },
     "execution_count": 38,
     "metadata": {},
     "output_type": "execute_result"
    }
   ],
   "source": [
    "single_family_df['LivingSqft'].describe()"
   ]
  },
  {
   "cell_type": "code",
   "execution_count": 39,
   "metadata": {},
   "outputs": [
    {
     "data": {
      "text/html": [
       "<div>\n",
       "<style scoped>\n",
       "    .dataframe tbody tr th:only-of-type {\n",
       "        vertical-align: middle;\n",
       "    }\n",
       "\n",
       "    .dataframe tbody tr th {\n",
       "        vertical-align: top;\n",
       "    }\n",
       "\n",
       "    .dataframe thead th {\n",
       "        text-align: right;\n",
       "    }\n",
       "</style>\n",
       "<table border=\"1\" class=\"dataframe\">\n",
       "  <thead>\n",
       "    <tr style=\"text-align: right;\">\n",
       "      <th></th>\n",
       "      <th>LivingSqft</th>\n",
       "      <th>Living:</th>\n",
       "      <th>Address:</th>\n",
       "      <th>Building Sqft.:</th>\n",
       "    </tr>\n",
       "  </thead>\n",
       "  <tbody>\n",
       "    <tr>\n",
       "      <th>20</th>\n",
       "      <td>0.0</td>\n",
       "      <td>['2nd', '2nd']</td>\n",
       "      <td>619 Live Oak Street</td>\n",
       "      <td>2,671248(mÂ²)  /Appraisal District</td>\n",
       "    </tr>\n",
       "    <tr>\n",
       "      <th>43</th>\n",
       "      <td>0.0</td>\n",
       "      <td>['2nd', '2nd']</td>\n",
       "      <td>3805 Wilmer Street</td>\n",
       "      <td>3,640338(mÂ²)  /Appraisal District</td>\n",
       "    </tr>\n",
       "    <tr>\n",
       "      <th>63</th>\n",
       "      <td>0.0</td>\n",
       "      <td>['2nd', '2nd']</td>\n",
       "      <td>15 N Ennis Street</td>\n",
       "      <td>1,812168(mÂ²)  /Appraisal District</td>\n",
       "    </tr>\n",
       "    <tr>\n",
       "      <th>148</th>\n",
       "      <td>0.0</td>\n",
       "      <td>['2nd', '2nd']</td>\n",
       "      <td>1914 Blodgett Street C</td>\n",
       "      <td>2,540236(mÂ²)  /Appraisal District</td>\n",
       "    </tr>\n",
       "    <tr>\n",
       "      <th>165</th>\n",
       "      <td>0.0</td>\n",
       "      <td>['2nd', '2nd']</td>\n",
       "      <td>1716 Rosewood Street C</td>\n",
       "      <td>2,763257(mÂ²)  /Builder</td>\n",
       "    </tr>\n",
       "    <tr>\n",
       "      <th>...</th>\n",
       "      <td>...</td>\n",
       "      <td>...</td>\n",
       "      <td>...</td>\n",
       "      <td>...</td>\n",
       "    </tr>\n",
       "    <tr>\n",
       "      <th>10674</th>\n",
       "      <td>0.0</td>\n",
       "      <td>['1st', '1st']</td>\n",
       "      <td>2306 Sledge Street</td>\n",
       "      <td>84078(mÂ²)  /Seller</td>\n",
       "    </tr>\n",
       "    <tr>\n",
       "      <th>10694</th>\n",
       "      <td>0.0</td>\n",
       "      <td>['1st', '1st']</td>\n",
       "      <td>15918 Chimney Rock Road</td>\n",
       "      <td>2,205205(mÂ²)  /Appraisal District</td>\n",
       "    </tr>\n",
       "    <tr>\n",
       "      <th>10759</th>\n",
       "      <td>0.0</td>\n",
       "      <td>['1st', '1st']</td>\n",
       "      <td>6517 Manorwood Drive</td>\n",
       "      <td>3,630337(mÂ²)  /Appraisal District</td>\n",
       "    </tr>\n",
       "    <tr>\n",
       "      <th>10834</th>\n",
       "      <td>0.0</td>\n",
       "      <td>['1st', '1st']</td>\n",
       "      <td>4622 Shadow Grass Drive</td>\n",
       "      <td>3,356312(mÂ²)  /Appraisal District</td>\n",
       "    </tr>\n",
       "    <tr>\n",
       "      <th>10872</th>\n",
       "      <td>0.0</td>\n",
       "      <td>['1st', '1st']</td>\n",
       "      <td>23602 Greenwood Springs Place</td>\n",
       "      <td>3,884361(mÂ²)  /Appraisal</td>\n",
       "    </tr>\n",
       "  </tbody>\n",
       "</table>\n",
       "<p>224 rows × 4 columns</p>\n",
       "</div>"
      ],
      "text/plain": [
       "       LivingSqft         Living:                       Address:  \\\n",
       "20            0.0  ['2nd', '2nd']            619 Live Oak Street   \n",
       "43            0.0  ['2nd', '2nd']             3805 Wilmer Street   \n",
       "63            0.0  ['2nd', '2nd']              15 N Ennis Street   \n",
       "148           0.0  ['2nd', '2nd']         1914 Blodgett Street C   \n",
       "165           0.0  ['2nd', '2nd']         1716 Rosewood Street C   \n",
       "...           ...             ...                            ...   \n",
       "10674         0.0  ['1st', '1st']             2306 Sledge Street   \n",
       "10694         0.0  ['1st', '1st']        15918 Chimney Rock Road   \n",
       "10759         0.0  ['1st', '1st']           6517 Manorwood Drive   \n",
       "10834         0.0  ['1st', '1st']        4622 Shadow Grass Drive   \n",
       "10872         0.0  ['1st', '1st']  23602 Greenwood Springs Place   \n",
       "\n",
       "                          Building Sqft.:  \n",
       "20     2,671248(mÂ²)  /Appraisal District  \n",
       "43     3,640338(mÂ²)  /Appraisal District  \n",
       "63     1,812168(mÂ²)  /Appraisal District  \n",
       "148    2,540236(mÂ²)  /Appraisal District  \n",
       "165               2,763257(mÂ²)  /Builder  \n",
       "...                                   ...  \n",
       "10674                 84078(mÂ²)  /Seller  \n",
       "10694  2,205205(mÂ²)  /Appraisal District  \n",
       "10759  3,630337(mÂ²)  /Appraisal District  \n",
       "10834  3,356312(mÂ²)  /Appraisal District  \n",
       "10872           3,884361(mÂ²)  /Appraisal  \n",
       "\n",
       "[224 rows x 4 columns]"
      ]
     },
     "execution_count": 39,
     "metadata": {},
     "output_type": "execute_result"
    }
   ],
   "source": [
    "single_family_df[single_family_df.LivingSqft==0][['LivingSqft','Living:','Address:','Building Sqft.:']]"
   ]
  },
  {
   "cell_type": "code",
   "execution_count": 40,
   "metadata": {},
   "outputs": [],
   "source": [
    "single_family_df.loc[single_family_df['LivingSqft'] == 0, 'LivingSqft'] = np.NAN"
   ]
  },
  {
   "cell_type": "code",
   "execution_count": 41,
   "metadata": {},
   "outputs": [
    {
     "data": {
      "text/html": [
       "<div>\n",
       "<style scoped>\n",
       "    .dataframe tbody tr th:only-of-type {\n",
       "        vertical-align: middle;\n",
       "    }\n",
       "\n",
       "    .dataframe tbody tr th {\n",
       "        vertical-align: top;\n",
       "    }\n",
       "\n",
       "    .dataframe thead th {\n",
       "        text-align: right;\n",
       "    }\n",
       "</style>\n",
       "<table border=\"1\" class=\"dataframe\">\n",
       "  <thead>\n",
       "    <tr style=\"text-align: right;\">\n",
       "      <th></th>\n",
       "      <th>LivingSqft</th>\n",
       "      <th>Living:</th>\n",
       "      <th>Address:</th>\n",
       "      <th>Building Sqft.:</th>\n",
       "    </tr>\n",
       "  </thead>\n",
       "  <tbody>\n",
       "    <tr>\n",
       "      <th>227</th>\n",
       "      <td>750.000000</td>\n",
       "      <td>['25x30, 1st', '7.62 x 9.14(m)']</td>\n",
       "      <td>3914 Purdue Street</td>\n",
       "      <td>5,370499(mÂ²)  /Builder</td>\n",
       "    </tr>\n",
       "    <tr>\n",
       "      <th>270</th>\n",
       "      <td>750.000000</td>\n",
       "      <td>['30x25, 1st', '9.14 x 7.62(m)']</td>\n",
       "      <td>2007 Dunstan Road</td>\n",
       "      <td>3,675341(mÂ²)  /Appraisal District</td>\n",
       "    </tr>\n",
       "    <tr>\n",
       "      <th>301</th>\n",
       "      <td>918.000000</td>\n",
       "      <td>['34x27, 1st', '10.36 x 8.23(m)']</td>\n",
       "      <td>2 Longfellow Lane</td>\n",
       "      <td>12,8081,190(mÂ²)  /Appraisal District</td>\n",
       "    </tr>\n",
       "    <tr>\n",
       "      <th>617</th>\n",
       "      <td>840.000000</td>\n",
       "      <td>['30 x 28, 2nd', '30 , 28, 2nd']</td>\n",
       "      <td>5341 Larkin Street</td>\n",
       "      <td>2,379221(mÂ²)  /Builder</td>\n",
       "    </tr>\n",
       "    <tr>\n",
       "      <th>865</th>\n",
       "      <td>1696.333333</td>\n",
       "      <td>['12 1/2 x 14, 1st', '12 1/2 , 14, 1st']</td>\n",
       "      <td>515 W 14th Street</td>\n",
       "      <td>1,135105(mÂ²)  /Appraisal District</td>\n",
       "    </tr>\n",
       "    <tr>\n",
       "      <th>1350</th>\n",
       "      <td>872.000000</td>\n",
       "      <td>['21x24, 1st', '16x23, 2nd', '6.40 x 7.32(m)',...</td>\n",
       "      <td>931 W 42nd Street</td>\n",
       "      <td>4,842450(mÂ²)  /Appraisal District</td>\n",
       "    </tr>\n",
       "    <tr>\n",
       "      <th>1550</th>\n",
       "      <td>726.000000</td>\n",
       "      <td>['22 x 33, 2nd', '22 , 33, 2nd']</td>\n",
       "      <td>2025 McDuffie Street</td>\n",
       "      <td>7,405688(mÂ²)  /Appraisal</td>\n",
       "    </tr>\n",
       "    <tr>\n",
       "      <th>1648</th>\n",
       "      <td>900.000000</td>\n",
       "      <td>['30x30, 1st', '9.14 x 9.14(m)']</td>\n",
       "      <td>9 West Lane</td>\n",
       "      <td>7,551701(mÂ²)  /Appraisal District</td>\n",
       "    </tr>\n",
       "    <tr>\n",
       "      <th>2460</th>\n",
       "      <td>750.000000</td>\n",
       "      <td>['25x30, 1st', '7.62 x 9.14(m)']</td>\n",
       "      <td>9519 W Airport Boulevard</td>\n",
       "      <td>1,845171(mÂ²)  /Appraisal District</td>\n",
       "    </tr>\n",
       "    <tr>\n",
       "      <th>2483</th>\n",
       "      <td>1533.333333</td>\n",
       "      <td>['15 3/4 x 10, 1st', '15 3/4 , 10, 1st']</td>\n",
       "      <td>5926 Southville Street</td>\n",
       "      <td>1,478137(mÂ²)  /Seller</td>\n",
       "    </tr>\n",
       "    <tr>\n",
       "      <th>2626</th>\n",
       "      <td>900.000000</td>\n",
       "      <td>['30X30, 1st', '9.14 x 9.14(m)']</td>\n",
       "      <td>4719 Nenana Drive</td>\n",
       "      <td>2,484231(mÂ²)  /Appraisal</td>\n",
       "    </tr>\n",
       "    <tr>\n",
       "      <th>2717</th>\n",
       "      <td>900.000000</td>\n",
       "      <td>['36x25, 1st', '10.97 x 7.62(m)']</td>\n",
       "      <td>8528 Beechnut St Street</td>\n",
       "      <td>4,800446(mÂ²)  /Appraisal District</td>\n",
       "    </tr>\n",
       "    <tr>\n",
       "      <th>2844</th>\n",
       "      <td>3619.895000</td>\n",
       "      <td>['22.2 x 163.7, 1st', '22.2 , 163.7, 1st']</td>\n",
       "      <td>7810 Hamilton Circle</td>\n",
       "      <td>2,489231(mÂ²)  /Appraisal District</td>\n",
       "    </tr>\n",
       "    <tr>\n",
       "      <th>2896</th>\n",
       "      <td>768.000000</td>\n",
       "      <td>['32x24, 1st', '9.75 x 7.32(m)']</td>\n",
       "      <td>13243 Oregold Drive</td>\n",
       "      <td>6,009558(mÂ²)  /Appraisal District</td>\n",
       "    </tr>\n",
       "    <tr>\n",
       "      <th>3022</th>\n",
       "      <td>1088.000000</td>\n",
       "      <td>['34x32, 1st', '10.36 x 9.75(m)']</td>\n",
       "      <td>6 W Rivercrest Drive</td>\n",
       "      <td>21,0321,954(mÂ²)  /Appraisal District</td>\n",
       "    </tr>\n",
       "    <tr>\n",
       "      <th>3024</th>\n",
       "      <td>726.000000</td>\n",
       "      <td>['16x22, 1st', '17x22, 1st', '4.88 x 6.71(m)',...</td>\n",
       "      <td>34 E Rivercrest Drive</td>\n",
       "      <td>8,797817(mÂ²)  /Appraisal District</td>\n",
       "    </tr>\n",
       "    <tr>\n",
       "      <th>3383</th>\n",
       "      <td>1194.945000</td>\n",
       "      <td>['118.9 X 10.6, 1st', '118.9 , 10.6, 1st']</td>\n",
       "      <td>13021 Donegal Way</td>\n",
       "      <td>92085(mÂ²)  /Appraisal District</td>\n",
       "    </tr>\n",
       "    <tr>\n",
       "      <th>3727</th>\n",
       "      <td>722.000000</td>\n",
       "      <td>['19 X 38, 1st', '19 , 38, 1st']</td>\n",
       "      <td>5668 Lynbrook Drive</td>\n",
       "      <td>5,131477(mÂ²)  /Builder</td>\n",
       "    </tr>\n",
       "    <tr>\n",
       "      <th>3767</th>\n",
       "      <td>1044.000000</td>\n",
       "      <td>['29x36, 1st', '8.84 x 10.97(m)']</td>\n",
       "      <td>5658 Terwilliger Way</td>\n",
       "      <td>8,318773(mÂ²)  /Appraisal District</td>\n",
       "    </tr>\n",
       "    <tr>\n",
       "      <th>3785</th>\n",
       "      <td>792.000000</td>\n",
       "      <td>['36x22, 1st', '10.97 x 6.71(m)']</td>\n",
       "      <td>5308 Pine Forest Road</td>\n",
       "      <td>5,134477(mÂ²)  /Appraisal District</td>\n",
       "    </tr>\n",
       "    <tr>\n",
       "      <th>3920</th>\n",
       "      <td>960.000000</td>\n",
       "      <td>['24x20, 1st', '24x20, 1st', '7.32 x 6.10(m)',...</td>\n",
       "      <td>6151 Sugar Hill Drive</td>\n",
       "      <td>6,423597(mÂ²)  /Builder</td>\n",
       "    </tr>\n",
       "    <tr>\n",
       "      <th>4072</th>\n",
       "      <td>900.000000</td>\n",
       "      <td>['30x30, 1st', '9.14 x 9.14(m)']</td>\n",
       "      <td>7848 Pecan Villas drive</td>\n",
       "      <td>2,449228(mÂ²)  /Seller</td>\n",
       "    </tr>\n",
       "    <tr>\n",
       "      <th>4227</th>\n",
       "      <td>864.000000</td>\n",
       "      <td>['36x24, 1st', '10.97 x 7.32(m)']</td>\n",
       "      <td>7827 Fairdale Lane</td>\n",
       "      <td>3,431319(mÂ²)  /Appraisal District</td>\n",
       "    </tr>\n",
       "    <tr>\n",
       "      <th>4286</th>\n",
       "      <td>2873.000000</td>\n",
       "      <td>['221x13, 1st', '67.36 x 3.96(m)']</td>\n",
       "      <td>10515 Autumn Harvest Drive</td>\n",
       "      <td>1,612150(mÂ²)  /Appraisal District</td>\n",
       "    </tr>\n",
       "    <tr>\n",
       "      <th>4295</th>\n",
       "      <td>715.000000</td>\n",
       "      <td>['13 x 55, 1st', '13 , 55, 1st']</td>\n",
       "      <td>11023 Mistic Moon Court</td>\n",
       "      <td>2,248209(mÂ²)  /Appraisal District</td>\n",
       "    </tr>\n",
       "    <tr>\n",
       "      <th>4603</th>\n",
       "      <td>6651.000000</td>\n",
       "      <td>['87 x 33, 2nd', '90 x 42, 1st', '87 , 33, 2nd...</td>\n",
       "      <td>14525 Champions Drive</td>\n",
       "      <td>37,1323,450(mÂ²)  /Appraisal</td>\n",
       "    </tr>\n",
       "    <tr>\n",
       "      <th>4977</th>\n",
       "      <td>759.000000</td>\n",
       "      <td>['33x23, 1st', '10.06 x 7.01(m)']</td>\n",
       "      <td>8814 Brae Acres Road</td>\n",
       "      <td>10,213949(mÂ²)  /Appraisal District</td>\n",
       "    </tr>\n",
       "    <tr>\n",
       "      <th>4979</th>\n",
       "      <td>2336.000000</td>\n",
       "      <td>['73x32, 1st', '22.25 x 9.75(m)']</td>\n",
       "      <td>8919 Wateka Drive</td>\n",
       "      <td>3,632337(mÂ²)  /Seller</td>\n",
       "    </tr>\n",
       "    <tr>\n",
       "      <th>5376</th>\n",
       "      <td>840.000000</td>\n",
       "      <td>['28x30, 1st', '8.53 x 9.14(m)']</td>\n",
       "      <td>506 Clear Spring Drive</td>\n",
       "      <td>4,007372(mÂ²)  /Appraisal District</td>\n",
       "    </tr>\n",
       "    <tr>\n",
       "      <th>5407</th>\n",
       "      <td>736.000000</td>\n",
       "      <td>['23x32, 1st', '7.01 x 9.75(m)']</td>\n",
       "      <td>310 Hickory Post Lane</td>\n",
       "      <td>3,549330(mÂ²)  /Appraisal District</td>\n",
       "    </tr>\n",
       "    <tr>\n",
       "      <th>5796</th>\n",
       "      <td>720.000000</td>\n",
       "      <td>['20*18, 1st', '20*18, 1st']</td>\n",
       "      <td>3235 Knoll West Drive</td>\n",
       "      <td>1,753163(mÂ²)  /Appraisal District</td>\n",
       "    </tr>\n",
       "    <tr>\n",
       "      <th>6259</th>\n",
       "      <td>720.000000</td>\n",
       "      <td>['30x24, 1st', '9.14 x 7.32(m)']</td>\n",
       "      <td>18050 Bambriar Drive</td>\n",
       "      <td>2,482231(mÂ²)  /Appraisal District</td>\n",
       "    </tr>\n",
       "    <tr>\n",
       "      <th>6274</th>\n",
       "      <td>924.000000</td>\n",
       "      <td>[\"22'x15', 1st\", \"27'x22', 2nd\", \"22',15', 1st...</td>\n",
       "      <td>2003 Castlerock Road</td>\n",
       "      <td>4,262396(mÂ²)  /Appraisal District</td>\n",
       "    </tr>\n",
       "    <tr>\n",
       "      <th>6585</th>\n",
       "      <td>847.000000</td>\n",
       "      <td>['16x14, 1st', '21x19, 1st', '16x14, 1st', '4....</td>\n",
       "      <td>18615 Windsor Lakes Drive</td>\n",
       "      <td>4,390408(mÂ²)  /Appraisal District</td>\n",
       "    </tr>\n",
       "    <tr>\n",
       "      <th>6860</th>\n",
       "      <td>754.000000</td>\n",
       "      <td>['26x29, 1st', '7.92 x 8.84(m)']</td>\n",
       "      <td>9203 Cliffwood Drive</td>\n",
       "      <td>9,697901(mÂ²)  /Appraisal District</td>\n",
       "    </tr>\n",
       "    <tr>\n",
       "      <th>6874</th>\n",
       "      <td>714.000000</td>\n",
       "      <td>['34x21, 1st', '10.36 x 6.40(m)']</td>\n",
       "      <td>5542 Rutherglenn Drive</td>\n",
       "      <td>5,124476(mÂ²)  /Appraisal</td>\n",
       "    </tr>\n",
       "    <tr>\n",
       "      <th>6917</th>\n",
       "      <td>850.000000</td>\n",
       "      <td>['34x25, 1st', '10.36 x 7.62(m)']</td>\n",
       "      <td>5303 S Braeswood Boulevard</td>\n",
       "      <td>4,888454(mÂ²)  /Appraisal District</td>\n",
       "    </tr>\n",
       "    <tr>\n",
       "      <th>7087</th>\n",
       "      <td>760.000000</td>\n",
       "      <td>['40X19, 1st', '12.19 x 5.79(m)']</td>\n",
       "      <td>11915 Firebird Drive</td>\n",
       "      <td>1,737161(mÂ²)  /Appraisal District</td>\n",
       "    </tr>\n",
       "    <tr>\n",
       "      <th>7226</th>\n",
       "      <td>720.000000</td>\n",
       "      <td>['20*18, 1st', '20*18, 1st']</td>\n",
       "      <td>1210 Cornwall Way</td>\n",
       "      <td>4,351404(mÂ²)  /Appraisal District</td>\n",
       "    </tr>\n",
       "    <tr>\n",
       "      <th>7439</th>\n",
       "      <td>960.000000</td>\n",
       "      <td>['40 X 24, 1st', '40 , 24, 1st']</td>\n",
       "      <td>5527 Beaver Lodge Drive</td>\n",
       "      <td>4,805446(mÂ²)  /Appraisal District</td>\n",
       "    </tr>\n",
       "    <tr>\n",
       "      <th>7457</th>\n",
       "      <td>748.000000</td>\n",
       "      <td>['22x17, 1st', '22x17, 1st', '6.71 x 5.18(m)',...</td>\n",
       "      <td>4803 Big Falls Drive</td>\n",
       "      <td>4,759442(mÂ²)  /Appraisal District</td>\n",
       "    </tr>\n",
       "    <tr>\n",
       "      <th>8958</th>\n",
       "      <td>910.000000</td>\n",
       "      <td>['26x35, 1st', '7.92 x 10.67(m)']</td>\n",
       "      <td>6219 E Balsam Fir Circle</td>\n",
       "      <td>4,548423(mÂ²)  /Builder</td>\n",
       "    </tr>\n",
       "    <tr>\n",
       "      <th>9453</th>\n",
       "      <td>806.000000</td>\n",
       "      <td>['31X26, 1st', '9.45 x 7.92(m)']</td>\n",
       "      <td>16805 Fritsche Cemetery Road</td>\n",
       "      <td>9,769908(mÂ²)  /Appraisal</td>\n",
       "    </tr>\n",
       "    <tr>\n",
       "      <th>9913</th>\n",
       "      <td>871.000000</td>\n",
       "      <td>['22X18, 1st', '19 X 25, 1st', '6.71 x 5.49(m)...</td>\n",
       "      <td>24108 Botkins Road</td>\n",
       "      <td>3,708344(mÂ²)  /Appraisal District</td>\n",
       "    </tr>\n",
       "    <tr>\n",
       "      <th>10162</th>\n",
       "      <td>1250.000000</td>\n",
       "      <td>['50x25, 1st', '15.24 x 7.62(m)']</td>\n",
       "      <td>22607 Unicorns Horn Lane</td>\n",
       "      <td>3,109289(mÂ²)  /Appraisal District</td>\n",
       "    </tr>\n",
       "    <tr>\n",
       "      <th>10335</th>\n",
       "      <td>912.000000</td>\n",
       "      <td>['38X24, 1st', '11.58 x 7.32(m)']</td>\n",
       "      <td>11 Paradise Point Drive</td>\n",
       "      <td>13,0721,214(mÂ²)  /Appraisal</td>\n",
       "    </tr>\n",
       "    <tr>\n",
       "      <th>10532</th>\n",
       "      <td>728.000000</td>\n",
       "      <td>['28 x 26, 1st', '28 , 26, 1st']</td>\n",
       "      <td>5324 Palm Royale Boulevard</td>\n",
       "      <td>19,1801,782(mÂ²)  /Appraisal District</td>\n",
       "    </tr>\n",
       "  </tbody>\n",
       "</table>\n",
       "</div>"
      ],
      "text/plain": [
       "        LivingSqft                                            Living:  \\\n",
       "227     750.000000                   ['25x30, 1st', '7.62 x 9.14(m)']   \n",
       "270     750.000000                   ['30x25, 1st', '9.14 x 7.62(m)']   \n",
       "301     918.000000                  ['34x27, 1st', '10.36 x 8.23(m)']   \n",
       "617     840.000000                   ['30 x 28, 2nd', '30 , 28, 2nd']   \n",
       "865    1696.333333           ['12 1/2 x 14, 1st', '12 1/2 , 14, 1st']   \n",
       "1350    872.000000  ['21x24, 1st', '16x23, 2nd', '6.40 x 7.32(m)',...   \n",
       "1550    726.000000                   ['22 x 33, 2nd', '22 , 33, 2nd']   \n",
       "1648    900.000000                   ['30x30, 1st', '9.14 x 9.14(m)']   \n",
       "2460    750.000000                   ['25x30, 1st', '7.62 x 9.14(m)']   \n",
       "2483   1533.333333           ['15 3/4 x 10, 1st', '15 3/4 , 10, 1st']   \n",
       "2626    900.000000                   ['30X30, 1st', '9.14 x 9.14(m)']   \n",
       "2717    900.000000                  ['36x25, 1st', '10.97 x 7.62(m)']   \n",
       "2844   3619.895000         ['22.2 x 163.7, 1st', '22.2 , 163.7, 1st']   \n",
       "2896    768.000000                   ['32x24, 1st', '9.75 x 7.32(m)']   \n",
       "3022   1088.000000                  ['34x32, 1st', '10.36 x 9.75(m)']   \n",
       "3024    726.000000  ['16x22, 1st', '17x22, 1st', '4.88 x 6.71(m)',...   \n",
       "3383   1194.945000         ['118.9 X 10.6, 1st', '118.9 , 10.6, 1st']   \n",
       "3727    722.000000                   ['19 X 38, 1st', '19 , 38, 1st']   \n",
       "3767   1044.000000                  ['29x36, 1st', '8.84 x 10.97(m)']   \n",
       "3785    792.000000                  ['36x22, 1st', '10.97 x 6.71(m)']   \n",
       "3920    960.000000  ['24x20, 1st', '24x20, 1st', '7.32 x 6.10(m)',...   \n",
       "4072    900.000000                   ['30x30, 1st', '9.14 x 9.14(m)']   \n",
       "4227    864.000000                  ['36x24, 1st', '10.97 x 7.32(m)']   \n",
       "4286   2873.000000                 ['221x13, 1st', '67.36 x 3.96(m)']   \n",
       "4295    715.000000                   ['13 x 55, 1st', '13 , 55, 1st']   \n",
       "4603   6651.000000  ['87 x 33, 2nd', '90 x 42, 1st', '87 , 33, 2nd...   \n",
       "4977    759.000000                  ['33x23, 1st', '10.06 x 7.01(m)']   \n",
       "4979   2336.000000                  ['73x32, 1st', '22.25 x 9.75(m)']   \n",
       "5376    840.000000                   ['28x30, 1st', '8.53 x 9.14(m)']   \n",
       "5407    736.000000                   ['23x32, 1st', '7.01 x 9.75(m)']   \n",
       "5796    720.000000                       ['20*18, 1st', '20*18, 1st']   \n",
       "6259    720.000000                   ['30x24, 1st', '9.14 x 7.32(m)']   \n",
       "6274    924.000000  [\"22'x15', 1st\", \"27'x22', 2nd\", \"22',15', 1st...   \n",
       "6585    847.000000  ['16x14, 1st', '21x19, 1st', '16x14, 1st', '4....   \n",
       "6860    754.000000                   ['26x29, 1st', '7.92 x 8.84(m)']   \n",
       "6874    714.000000                  ['34x21, 1st', '10.36 x 6.40(m)']   \n",
       "6917    850.000000                  ['34x25, 1st', '10.36 x 7.62(m)']   \n",
       "7087    760.000000                  ['40X19, 1st', '12.19 x 5.79(m)']   \n",
       "7226    720.000000                       ['20*18, 1st', '20*18, 1st']   \n",
       "7439    960.000000                   ['40 X 24, 1st', '40 , 24, 1st']   \n",
       "7457    748.000000  ['22x17, 1st', '22x17, 1st', '6.71 x 5.18(m)',...   \n",
       "8958    910.000000                  ['26x35, 1st', '7.92 x 10.67(m)']   \n",
       "9453    806.000000                   ['31X26, 1st', '9.45 x 7.92(m)']   \n",
       "9913    871.000000  ['22X18, 1st', '19 X 25, 1st', '6.71 x 5.49(m)...   \n",
       "10162  1250.000000                  ['50x25, 1st', '15.24 x 7.62(m)']   \n",
       "10335   912.000000                  ['38X24, 1st', '11.58 x 7.32(m)']   \n",
       "10532   728.000000                   ['28 x 26, 1st', '28 , 26, 1st']   \n",
       "\n",
       "                           Address:                        Building Sqft.:  \n",
       "227              3914 Purdue Street                5,370499(mÂ²)  /Builder  \n",
       "270               2007 Dunstan Road     3,675341(mÂ²)  /Appraisal District  \n",
       "301               2 Longfellow Lane  12,8081,190(mÂ²)  /Appraisal District  \n",
       "617              5341 Larkin Street                2,379221(mÂ²)  /Builder  \n",
       "865               515 W 14th Street     1,135105(mÂ²)  /Appraisal District  \n",
       "1350              931 W 42nd Street     4,842450(mÂ²)  /Appraisal District  \n",
       "1550           2025 McDuffie Street              7,405688(mÂ²)  /Appraisal  \n",
       "1648                    9 West Lane     7,551701(mÂ²)  /Appraisal District  \n",
       "2460       9519 W Airport Boulevard     1,845171(mÂ²)  /Appraisal District  \n",
       "2483         5926 Southville Street                 1,478137(mÂ²)  /Seller  \n",
       "2626              4719 Nenana Drive              2,484231(mÂ²)  /Appraisal  \n",
       "2717        8528 Beechnut St Street     4,800446(mÂ²)  /Appraisal District  \n",
       "2844           7810 Hamilton Circle     2,489231(mÂ²)  /Appraisal District  \n",
       "2896            13243 Oregold Drive     6,009558(mÂ²)  /Appraisal District  \n",
       "3022           6 W Rivercrest Drive  21,0321,954(mÂ²)  /Appraisal District  \n",
       "3024          34 E Rivercrest Drive     8,797817(mÂ²)  /Appraisal District  \n",
       "3383              13021 Donegal Way        92085(mÂ²)  /Appraisal District  \n",
       "3727            5668 Lynbrook Drive                5,131477(mÂ²)  /Builder  \n",
       "3767           5658 Terwilliger Way     8,318773(mÂ²)  /Appraisal District  \n",
       "3785          5308 Pine Forest Road     5,134477(mÂ²)  /Appraisal District  \n",
       "3920          6151 Sugar Hill Drive                6,423597(mÂ²)  /Builder  \n",
       "4072        7848 Pecan Villas drive                 2,449228(mÂ²)  /Seller  \n",
       "4227             7827 Fairdale Lane     3,431319(mÂ²)  /Appraisal District  \n",
       "4286     10515 Autumn Harvest Drive     1,612150(mÂ²)  /Appraisal District  \n",
       "4295        11023 Mistic Moon Court     2,248209(mÂ²)  /Appraisal District  \n",
       "4603          14525 Champions Drive           37,1323,450(mÂ²)  /Appraisal  \n",
       "4977           8814 Brae Acres Road    10,213949(mÂ²)  /Appraisal District  \n",
       "4979              8919 Wateka Drive                 3,632337(mÂ²)  /Seller  \n",
       "5376         506 Clear Spring Drive     4,007372(mÂ²)  /Appraisal District  \n",
       "5407          310 Hickory Post Lane     3,549330(mÂ²)  /Appraisal District  \n",
       "5796          3235 Knoll West Drive     1,753163(mÂ²)  /Appraisal District  \n",
       "6259           18050 Bambriar Drive     2,482231(mÂ²)  /Appraisal District  \n",
       "6274           2003 Castlerock Road     4,262396(mÂ²)  /Appraisal District  \n",
       "6585      18615 Windsor Lakes Drive     4,390408(mÂ²)  /Appraisal District  \n",
       "6860           9203 Cliffwood Drive     9,697901(mÂ²)  /Appraisal District  \n",
       "6874         5542 Rutherglenn Drive              5,124476(mÂ²)  /Appraisal  \n",
       "6917     5303 S Braeswood Boulevard     4,888454(mÂ²)  /Appraisal District  \n",
       "7087           11915 Firebird Drive     1,737161(mÂ²)  /Appraisal District  \n",
       "7226              1210 Cornwall Way     4,351404(mÂ²)  /Appraisal District  \n",
       "7439        5527 Beaver Lodge Drive     4,805446(mÂ²)  /Appraisal District  \n",
       "7457           4803 Big Falls Drive     4,759442(mÂ²)  /Appraisal District  \n",
       "8958       6219 E Balsam Fir Circle                4,548423(mÂ²)  /Builder  \n",
       "9453   16805 Fritsche Cemetery Road              9,769908(mÂ²)  /Appraisal  \n",
       "9913             24108 Botkins Road     3,708344(mÂ²)  /Appraisal District  \n",
       "10162      22607 Unicorns Horn Lane     3,109289(mÂ²)  /Appraisal District  \n",
       "10335       11 Paradise Point Drive           13,0721,214(mÂ²)  /Appraisal  \n",
       "10532    5324 Palm Royale Boulevard  19,1801,782(mÂ²)  /Appraisal District  "
      ]
     },
     "execution_count": 41,
     "metadata": {},
     "output_type": "execute_result"
    }
   ],
   "source": [
    "single_family_df[single_family_df.LivingSqft>700][['LivingSqft','Living:','Address:','Building Sqft.:']]"
   ]
  },
  {
   "cell_type": "markdown",
   "metadata": {},
   "source": [
    "It seems there are some typo mistakes here because living area can not be more than total building Sqft. I am checking HAR.com to see which one has a wrong dimension for living area."
   ]
  },
  {
   "cell_type": "code",
   "execution_count": 42,
   "metadata": {},
   "outputs": [],
   "source": [
    "#replacing right area measured\n",
    "single_family_df.loc[865,'LivingSqft'] = 175\n",
    "single_family_df.loc[2483,'LivingSqft'] = 157.5\n",
    "single_family_df.loc[2844,'LivingSqft'] = 363.4\n",
    "single_family_df.loc[3383,'LivingSqft'] = 126.034\n",
    "single_family_df.loc[4286,'LivingSqft'] = 286\n",
    "single_family_df.loc[5796,'LivingSqft'] = 360\n",
    "single_family_df.loc[7226,'LivingSqft'] = 360"
   ]
  },
  {
   "cell_type": "markdown",
   "metadata": {},
   "source": [
    "## 1.6.5.3 Dining<a id='1.6.5.3_Dining'></a>"
   ]
  },
  {
   "cell_type": "code",
   "execution_count": 43,
   "metadata": {},
   "outputs": [
    {
     "data": {
      "text/plain": [
       "['12x11, 1st', '3.66 x 3.35(m)']            219\n",
       "['13x11, 1st', '3.96 x 3.35(m)']            205\n",
       "['1st', '1st']                              188\n",
       "['14x12, 1st', '4.27 x 3.66(m)']            182\n",
       "['13x12, 1st', '3.96 x 3.66(m)']            162\n",
       "                                           ... \n",
       "['15.8 x 11.6, 1st', '15.8 , 11.6, 1st']      1\n",
       "['11.5x21, 1st', '3.51 x 6.40(m)']            1\n",
       "['8 x 10, 1st', '8 , 10, 1st']                1\n",
       "['10x14, 2nd', '3.05 x 4.27(m)']              1\n",
       "['12.8 x 11.6, 2nd', '12.8 , 11.6, 2nd']      1\n",
       "Name: Dining:, Length: 1245, dtype: int64"
      ]
     },
     "execution_count": 43,
     "metadata": {},
     "output_type": "execute_result"
    }
   ],
   "source": [
    "single_family_df['Dining:'].value_counts()"
   ]
  },
  {
   "cell_type": "code",
   "execution_count": 44,
   "metadata": {},
   "outputs": [],
   "source": [
    "single_family_df['DiningSqft'] = single_family_df['Dining:'].str.split(',')\n",
    "single_family_df['DiningSqft'] = single_family_df['DiningSqft'].apply(area_calc) "
   ]
  },
  {
   "cell_type": "code",
   "execution_count": 45,
   "metadata": {},
   "outputs": [
    {
     "data": {
      "text/html": [
       "<div>\n",
       "<style scoped>\n",
       "    .dataframe tbody tr th:only-of-type {\n",
       "        vertical-align: middle;\n",
       "    }\n",
       "\n",
       "    .dataframe tbody tr th {\n",
       "        vertical-align: top;\n",
       "    }\n",
       "\n",
       "    .dataframe thead th {\n",
       "        text-align: right;\n",
       "    }\n",
       "</style>\n",
       "<table border=\"1\" class=\"dataframe\">\n",
       "  <thead>\n",
       "    <tr style=\"text-align: right;\">\n",
       "      <th></th>\n",
       "      <th>Dining:</th>\n",
       "      <th>DiningSqft</th>\n",
       "    </tr>\n",
       "  </thead>\n",
       "  <tbody>\n",
       "    <tr>\n",
       "      <th>4697</th>\n",
       "      <td>['13x10, 1st', '3.96 x 3.05(m)']</td>\n",
       "      <td>130.0</td>\n",
       "    </tr>\n",
       "    <tr>\n",
       "      <th>385</th>\n",
       "      <td>['11x15, 1st', '3.35 x 4.57(m)']</td>\n",
       "      <td>165.0</td>\n",
       "    </tr>\n",
       "    <tr>\n",
       "      <th>1250</th>\n",
       "      <td>NaN</td>\n",
       "      <td>NaN</td>\n",
       "    </tr>\n",
       "    <tr>\n",
       "      <th>9045</th>\n",
       "      <td>['14 x 12, 1st', '14 , 12, 1st']</td>\n",
       "      <td>168.0</td>\n",
       "    </tr>\n",
       "    <tr>\n",
       "      <th>2246</th>\n",
       "      <td>NaN</td>\n",
       "      <td>NaN</td>\n",
       "    </tr>\n",
       "    <tr>\n",
       "      <th>3439</th>\n",
       "      <td>NaN</td>\n",
       "      <td>NaN</td>\n",
       "    </tr>\n",
       "    <tr>\n",
       "      <th>6780</th>\n",
       "      <td>['17x11, 1st', '5.18 x 3.35(m)']</td>\n",
       "      <td>187.0</td>\n",
       "    </tr>\n",
       "    <tr>\n",
       "      <th>6537</th>\n",
       "      <td>NaN</td>\n",
       "      <td>NaN</td>\n",
       "    </tr>\n",
       "    <tr>\n",
       "      <th>10689</th>\n",
       "      <td>NaN</td>\n",
       "      <td>NaN</td>\n",
       "    </tr>\n",
       "    <tr>\n",
       "      <th>6509</th>\n",
       "      <td>NaN</td>\n",
       "      <td>NaN</td>\n",
       "    </tr>\n",
       "    <tr>\n",
       "      <th>2514</th>\n",
       "      <td>NaN</td>\n",
       "      <td>NaN</td>\n",
       "    </tr>\n",
       "    <tr>\n",
       "      <th>707</th>\n",
       "      <td>NaN</td>\n",
       "      <td>NaN</td>\n",
       "    </tr>\n",
       "    <tr>\n",
       "      <th>5651</th>\n",
       "      <td>NaN</td>\n",
       "      <td>NaN</td>\n",
       "    </tr>\n",
       "    <tr>\n",
       "      <th>2939</th>\n",
       "      <td>NaN</td>\n",
       "      <td>NaN</td>\n",
       "    </tr>\n",
       "    <tr>\n",
       "      <th>8440</th>\n",
       "      <td>['15x11, 1st', '4.57 x 3.35(m)']</td>\n",
       "      <td>165.0</td>\n",
       "    </tr>\n",
       "    <tr>\n",
       "      <th>6580</th>\n",
       "      <td>NaN</td>\n",
       "      <td>NaN</td>\n",
       "    </tr>\n",
       "    <tr>\n",
       "      <th>7981</th>\n",
       "      <td>['14X12, 1st', '4.27 x 3.66(m)']</td>\n",
       "      <td>168.0</td>\n",
       "    </tr>\n",
       "    <tr>\n",
       "      <th>2314</th>\n",
       "      <td>['14X14, 1st', '4.27 x 4.27(m)']</td>\n",
       "      <td>196.0</td>\n",
       "    </tr>\n",
       "    <tr>\n",
       "      <th>8777</th>\n",
       "      <td>['14X12, 1st', '4.27 x 3.66(m)']</td>\n",
       "      <td>168.0</td>\n",
       "    </tr>\n",
       "    <tr>\n",
       "      <th>1704</th>\n",
       "      <td>NaN</td>\n",
       "      <td>NaN</td>\n",
       "    </tr>\n",
       "  </tbody>\n",
       "</table>\n",
       "</div>"
      ],
      "text/plain": [
       "                                Dining:  DiningSqft\n",
       "4697   ['13x10, 1st', '3.96 x 3.05(m)']       130.0\n",
       "385    ['11x15, 1st', '3.35 x 4.57(m)']       165.0\n",
       "1250                                NaN         NaN\n",
       "9045   ['14 x 12, 1st', '14 , 12, 1st']       168.0\n",
       "2246                                NaN         NaN\n",
       "3439                                NaN         NaN\n",
       "6780   ['17x11, 1st', '5.18 x 3.35(m)']       187.0\n",
       "6537                                NaN         NaN\n",
       "10689                               NaN         NaN\n",
       "6509                                NaN         NaN\n",
       "2514                                NaN         NaN\n",
       "707                                 NaN         NaN\n",
       "5651                                NaN         NaN\n",
       "2939                                NaN         NaN\n",
       "8440   ['15x11, 1st', '4.57 x 3.35(m)']       165.0\n",
       "6580                                NaN         NaN\n",
       "7981   ['14X12, 1st', '4.27 x 3.66(m)']       168.0\n",
       "2314   ['14X14, 1st', '4.27 x 4.27(m)']       196.0\n",
       "8777   ['14X12, 1st', '4.27 x 3.66(m)']       168.0\n",
       "1704                                NaN         NaN"
      ]
     },
     "execution_count": 45,
     "metadata": {},
     "output_type": "execute_result"
    }
   ],
   "source": [
    "single_family_df[['Dining:','DiningSqft']].sample(20,random_state=101)"
   ]
  },
  {
   "cell_type": "code",
   "execution_count": 46,
   "metadata": {},
   "outputs": [
    {
     "data": {
      "text/html": [
       "<div>\n",
       "<style scoped>\n",
       "    .dataframe tbody tr th:only-of-type {\n",
       "        vertical-align: middle;\n",
       "    }\n",
       "\n",
       "    .dataframe tbody tr th {\n",
       "        vertical-align: top;\n",
       "    }\n",
       "\n",
       "    .dataframe thead th {\n",
       "        text-align: right;\n",
       "    }\n",
       "</style>\n",
       "<table border=\"1\" class=\"dataframe\">\n",
       "  <thead>\n",
       "    <tr style=\"text-align: right;\">\n",
       "      <th></th>\n",
       "      <th>DiningSqft</th>\n",
       "      <th>Dining:</th>\n",
       "      <th>Address:</th>\n",
       "      <th>Building Sqft.:</th>\n",
       "    </tr>\n",
       "  </thead>\n",
       "  <tbody>\n",
       "    <tr>\n",
       "      <th>43</th>\n",
       "      <td>0.0</td>\n",
       "      <td>['2nd', '2nd']</td>\n",
       "      <td>3805 Wilmer Street</td>\n",
       "      <td>3,640338(mÂ²)  /Appraisal District</td>\n",
       "    </tr>\n",
       "    <tr>\n",
       "      <th>53</th>\n",
       "      <td>0.0</td>\n",
       "      <td>['2nd', '2nd']</td>\n",
       "      <td>448 N Live Oak Street</td>\n",
       "      <td>1,910177(mÂ²)  /Appraisal</td>\n",
       "    </tr>\n",
       "    <tr>\n",
       "      <th>299</th>\n",
       "      <td>0.0</td>\n",
       "      <td>['1st', '1st']</td>\n",
       "      <td>2225 Bolsover Street</td>\n",
       "      <td>4,546422(mÂ²)  /Appraisal District</td>\n",
       "    </tr>\n",
       "    <tr>\n",
       "      <th>495</th>\n",
       "      <td>0.0</td>\n",
       "      <td>['2nd', '2nd']</td>\n",
       "      <td>1626 A Dunlavy st Street</td>\n",
       "      <td>2,723253(mÂ²)  /Appraisal District</td>\n",
       "    </tr>\n",
       "    <tr>\n",
       "      <th>532</th>\n",
       "      <td>0.0</td>\n",
       "      <td>['1st', '1st']</td>\n",
       "      <td>530 Oxford Street</td>\n",
       "      <td>3,067285(mÂ²)  /Appraisal District</td>\n",
       "    </tr>\n",
       "    <tr>\n",
       "      <th>...</th>\n",
       "      <td>...</td>\n",
       "      <td>...</td>\n",
       "      <td>...</td>\n",
       "      <td>...</td>\n",
       "    </tr>\n",
       "    <tr>\n",
       "      <th>10704</th>\n",
       "      <td>0.0</td>\n",
       "      <td>['1st', '1st']</td>\n",
       "      <td>2022 GLEN PARK Drive</td>\n",
       "      <td>2,356219(mÂ²)  /Appraisal District</td>\n",
       "    </tr>\n",
       "    <tr>\n",
       "      <th>10744</th>\n",
       "      <td>0.0</td>\n",
       "      <td>['1st', '1st']</td>\n",
       "      <td>7411 Palmetto Springs Trail</td>\n",
       "      <td>5,646525(mÂ²)  /Builder</td>\n",
       "    </tr>\n",
       "    <tr>\n",
       "      <th>10759</th>\n",
       "      <td>0.0</td>\n",
       "      <td>['1st', '1st']</td>\n",
       "      <td>6517 Manorwood Drive</td>\n",
       "      <td>3,630337(mÂ²)  /Appraisal District</td>\n",
       "    </tr>\n",
       "    <tr>\n",
       "      <th>10840</th>\n",
       "      <td>0.0</td>\n",
       "      <td>['1st', '1st']</td>\n",
       "      <td>2814 Crawford</td>\n",
       "      <td>4,687435(mÂ²)  /Appraisal District</td>\n",
       "    </tr>\n",
       "    <tr>\n",
       "      <th>11027</th>\n",
       "      <td>0.0</td>\n",
       "      <td>['1st', '1st']</td>\n",
       "      <td>712 Minnesota Street</td>\n",
       "      <td>1,160108(mÂ²)  /Appraisal District</td>\n",
       "    </tr>\n",
       "  </tbody>\n",
       "</table>\n",
       "<p>226 rows × 4 columns</p>\n",
       "</div>"
      ],
      "text/plain": [
       "       DiningSqft         Dining:                     Address:  \\\n",
       "43            0.0  ['2nd', '2nd']           3805 Wilmer Street   \n",
       "53            0.0  ['2nd', '2nd']        448 N Live Oak Street   \n",
       "299           0.0  ['1st', '1st']         2225 Bolsover Street   \n",
       "495           0.0  ['2nd', '2nd']     1626 A Dunlavy st Street   \n",
       "532           0.0  ['1st', '1st']            530 Oxford Street   \n",
       "...           ...             ...                          ...   \n",
       "10704         0.0  ['1st', '1st']         2022 GLEN PARK Drive   \n",
       "10744         0.0  ['1st', '1st']  7411 Palmetto Springs Trail   \n",
       "10759         0.0  ['1st', '1st']         6517 Manorwood Drive   \n",
       "10840         0.0  ['1st', '1st']                2814 Crawford   \n",
       "11027         0.0  ['1st', '1st']         712 Minnesota Street   \n",
       "\n",
       "                          Building Sqft.:  \n",
       "43     3,640338(mÂ²)  /Appraisal District  \n",
       "53              1,910177(mÂ²)  /Appraisal  \n",
       "299    4,546422(mÂ²)  /Appraisal District  \n",
       "495    2,723253(mÂ²)  /Appraisal District  \n",
       "532    3,067285(mÂ²)  /Appraisal District  \n",
       "...                                   ...  \n",
       "10704  2,356219(mÂ²)  /Appraisal District  \n",
       "10744             5,646525(mÂ²)  /Builder  \n",
       "10759  3,630337(mÂ²)  /Appraisal District  \n",
       "10840  4,687435(mÂ²)  /Appraisal District  \n",
       "11027  1,160108(mÂ²)  /Appraisal District  \n",
       "\n",
       "[226 rows x 4 columns]"
      ]
     },
     "execution_count": 46,
     "metadata": {},
     "output_type": "execute_result"
    }
   ],
   "source": [
    "single_family_df[single_family_df.DiningSqft==0][['DiningSqft','Dining:','Address:','Building Sqft.:']]"
   ]
  },
  {
   "cell_type": "code",
   "execution_count": 47,
   "metadata": {},
   "outputs": [],
   "source": [
    "single_family_df.loc[single_family_df['DiningSqft'] == 0, 'DiningSqft'] = np.NAN"
   ]
  },
  {
   "cell_type": "code",
   "execution_count": 48,
   "metadata": {},
   "outputs": [
    {
     "data": {
      "text/html": [
       "<div>\n",
       "<style scoped>\n",
       "    .dataframe tbody tr th:only-of-type {\n",
       "        vertical-align: middle;\n",
       "    }\n",
       "\n",
       "    .dataframe tbody tr th {\n",
       "        vertical-align: top;\n",
       "    }\n",
       "\n",
       "    .dataframe thead th {\n",
       "        text-align: right;\n",
       "    }\n",
       "</style>\n",
       "<table border=\"1\" class=\"dataframe\">\n",
       "  <thead>\n",
       "    <tr style=\"text-align: right;\">\n",
       "      <th></th>\n",
       "      <th>DiningSqft</th>\n",
       "      <th>Dining:</th>\n",
       "      <th>Address:</th>\n",
       "      <th>Building Sqft.:</th>\n",
       "    </tr>\n",
       "  </thead>\n",
       "  <tbody>\n",
       "    <tr>\n",
       "      <th>865</th>\n",
       "      <td>12520.555556</td>\n",
       "      <td>['12 1/2 x 10 3/4, 1st', '12 1/2 , 10 3/4, 1st']</td>\n",
       "      <td>515 W 14th Street</td>\n",
       "      <td>1,135105(mÂ²)  /Appraisal District</td>\n",
       "    </tr>\n",
       "    <tr>\n",
       "      <th>2324</th>\n",
       "      <td>1200.000000</td>\n",
       "      <td>['30x20, 1st', '30x20, 1st', '9.14 x 6.10(m)',...</td>\n",
       "      <td>3429 Ella Lee Lane</td>\n",
       "      <td>4,741440(mÂ²)  /Appraisal District</td>\n",
       "    </tr>\n",
       "    <tr>\n",
       "      <th>3471</th>\n",
       "      <td>655.590000</td>\n",
       "      <td>['23.4 x 14.10, 1st', '23.4 x 14.10, 1st', '23...</td>\n",
       "      <td>5113 Itiel Street</td>\n",
       "      <td>1,498139(mÂ²)  /Builder</td>\n",
       "    </tr>\n",
       "    <tr>\n",
       "      <th>3693</th>\n",
       "      <td>504.000000</td>\n",
       "      <td>['18x14, Formal, 1st,', '18x14, Formal, 1st,']</td>\n",
       "      <td>5360 Spring Park Street</td>\n",
       "      <td>5,140478(mÂ²)  /Appraisal District</td>\n",
       "    </tr>\n",
       "    <tr>\n",
       "      <th>4957</th>\n",
       "      <td>528.000000</td>\n",
       "      <td>['24X22, 1st', '7.32 x 6.71(m)']</td>\n",
       "      <td>9303 Bintliff Drive</td>\n",
       "      <td>1,837171(mÂ²)  /Appraisal District</td>\n",
       "    </tr>\n",
       "    <tr>\n",
       "      <th>5103</th>\n",
       "      <td>1456.000000</td>\n",
       "      <td>['13X112, 1st', '3.96 x 34.14(m)']</td>\n",
       "      <td>1319 Mission Chase Drive</td>\n",
       "      <td>2,388222(mÂ²)  /Appraisal District</td>\n",
       "    </tr>\n",
       "    <tr>\n",
       "      <th>6825</th>\n",
       "      <td>1200.000000</td>\n",
       "      <td>['12x100, 1st', '3.66 x 30.48(m)']</td>\n",
       "      <td>10723 Braewick Drive</td>\n",
       "      <td>2,068192(mÂ²)  /Appraisal District</td>\n",
       "    </tr>\n",
       "    <tr>\n",
       "      <th>7326</th>\n",
       "      <td>504.000000</td>\n",
       "      <td>['28x18, 1st', '8.53 x 5.49(m)']</td>\n",
       "      <td>10 Magnolia Woods Drive</td>\n",
       "      <td>12,7081,181(mÂ²)  /Appraisal District</td>\n",
       "    </tr>\n",
       "    <tr>\n",
       "      <th>9566</th>\n",
       "      <td>576.000000</td>\n",
       "      <td>['18x16, 1st', '18x16, 1st', '5.49 x 4.88(m)',...</td>\n",
       "      <td>13606 Leon Springs Lane</td>\n",
       "      <td>4,833449(mÂ²)  /Builder</td>\n",
       "    </tr>\n",
       "    <tr>\n",
       "      <th>10681</th>\n",
       "      <td>1817.500000</td>\n",
       "      <td>['12 1/2 X 15, 1st', '12 1/2 , 15, 1st']</td>\n",
       "      <td>29200 Clydesdale Drive</td>\n",
       "      <td>2,700251(mÂ²)  /Builder</td>\n",
       "    </tr>\n",
       "    <tr>\n",
       "      <th>10691</th>\n",
       "      <td>1665.000000</td>\n",
       "      <td>['111x15, 1st', '33.83 x 4.57(m)']</td>\n",
       "      <td>6823 Trigate Drive</td>\n",
       "      <td>1,796167(mÂ²)  /Appraisal District</td>\n",
       "    </tr>\n",
       "    <tr>\n",
       "      <th>10911</th>\n",
       "      <td>1508.000000</td>\n",
       "      <td>['116x13, 1st', '35.36 x 3.96(m)']</td>\n",
       "      <td>23207 Ruspino Shores Place</td>\n",
       "      <td>3,297306(mÂ²)  /Appraisal District</td>\n",
       "    </tr>\n",
       "  </tbody>\n",
       "</table>\n",
       "</div>"
      ],
      "text/plain": [
       "         DiningSqft                                            Dining:  \\\n",
       "865    12520.555556   ['12 1/2 x 10 3/4, 1st', '12 1/2 , 10 3/4, 1st']   \n",
       "2324    1200.000000  ['30x20, 1st', '30x20, 1st', '9.14 x 6.10(m)',...   \n",
       "3471     655.590000  ['23.4 x 14.10, 1st', '23.4 x 14.10, 1st', '23...   \n",
       "3693     504.000000     ['18x14, Formal, 1st,', '18x14, Formal, 1st,']   \n",
       "4957     528.000000                   ['24X22, 1st', '7.32 x 6.71(m)']   \n",
       "5103    1456.000000                 ['13X112, 1st', '3.96 x 34.14(m)']   \n",
       "6825    1200.000000                 ['12x100, 1st', '3.66 x 30.48(m)']   \n",
       "7326     504.000000                   ['28x18, 1st', '8.53 x 5.49(m)']   \n",
       "9566     576.000000  ['18x16, 1st', '18x16, 1st', '5.49 x 4.88(m)',...   \n",
       "10681   1817.500000           ['12 1/2 X 15, 1st', '12 1/2 , 15, 1st']   \n",
       "10691   1665.000000                 ['111x15, 1st', '33.83 x 4.57(m)']   \n",
       "10911   1508.000000                 ['116x13, 1st', '35.36 x 3.96(m)']   \n",
       "\n",
       "                         Address:                        Building Sqft.:  \n",
       "865             515 W 14th Street     1,135105(mÂ²)  /Appraisal District  \n",
       "2324           3429 Ella Lee Lane     4,741440(mÂ²)  /Appraisal District  \n",
       "3471            5113 Itiel Street                1,498139(mÂ²)  /Builder  \n",
       "3693      5360 Spring Park Street     5,140478(mÂ²)  /Appraisal District  \n",
       "4957          9303 Bintliff Drive     1,837171(mÂ²)  /Appraisal District  \n",
       "5103     1319 Mission Chase Drive     2,388222(mÂ²)  /Appraisal District  \n",
       "6825         10723 Braewick Drive     2,068192(mÂ²)  /Appraisal District  \n",
       "7326      10 Magnolia Woods Drive  12,7081,181(mÂ²)  /Appraisal District  \n",
       "9566      13606 Leon Springs Lane                4,833449(mÂ²)  /Builder  \n",
       "10681      29200 Clydesdale Drive                2,700251(mÂ²)  /Builder  \n",
       "10691          6823 Trigate Drive     1,796167(mÂ²)  /Appraisal District  \n",
       "10911  23207 Ruspino Shores Place     3,297306(mÂ²)  /Appraisal District  "
      ]
     },
     "execution_count": 48,
     "metadata": {},
     "output_type": "execute_result"
    }
   ],
   "source": [
    "single_family_df[single_family_df.DiningSqft>500][['DiningSqft','Dining:','Address:','Building Sqft.:']]"
   ]
  },
  {
   "cell_type": "markdown",
   "metadata": {},
   "source": [
    "Same as living area there are some mistake for dimension which need to be fixed."
   ]
  },
  {
   "cell_type": "code",
   "execution_count": 49,
   "metadata": {},
   "outputs": [],
   "source": [
    "single_family_df.loc[865,'DiningSqft'] = 134.375\n",
    "single_family_df.loc[3471,'DiningSqft'] = 329.94\n",
    "single_family_df.loc[5103,'DiningSqft'] = 143\n",
    "single_family_df.loc[6825,'DiningSqft'] = 120\n",
    "single_family_df.loc[10681,'DiningSqft'] = 187.5\n",
    "single_family_df.loc[10691,'DiningSqft'] = 165\n",
    "single_family_df.loc[10911,'DiningSqft'] = 208"
   ]
  },
  {
   "cell_type": "markdown",
   "metadata": {},
   "source": [
    "## 1.6.5.4 Kitchen<a id='1.6.5.4_Kitchen'></a>"
   ]
  },
  {
   "cell_type": "markdown",
   "metadata": {},
   "source": [
    "I am using same function to calculate kitchen are in sqft."
   ]
  },
  {
   "cell_type": "code",
   "execution_count": 50,
   "metadata": {},
   "outputs": [],
   "source": [
    "single_family_df['KitchenSqft'] = single_family_df['Kitchen:'].str.split(',')\n",
    "single_family_df['KitchenSqft'] = single_family_df['KitchenSqft'].apply(area_calc) "
   ]
  },
  {
   "cell_type": "code",
   "execution_count": 51,
   "metadata": {},
   "outputs": [
    {
     "data": {
      "text/html": [
       "<div>\n",
       "<style scoped>\n",
       "    .dataframe tbody tr th:only-of-type {\n",
       "        vertical-align: middle;\n",
       "    }\n",
       "\n",
       "    .dataframe tbody tr th {\n",
       "        vertical-align: top;\n",
       "    }\n",
       "\n",
       "    .dataframe thead th {\n",
       "        text-align: right;\n",
       "    }\n",
       "</style>\n",
       "<table border=\"1\" class=\"dataframe\">\n",
       "  <thead>\n",
       "    <tr style=\"text-align: right;\">\n",
       "      <th></th>\n",
       "      <th>Kitchen:</th>\n",
       "      <th>KitchenSqft</th>\n",
       "    </tr>\n",
       "  </thead>\n",
       "  <tbody>\n",
       "    <tr>\n",
       "      <th>4697</th>\n",
       "      <td>['10x10, 1st', '3.05 x 3.05(m)']</td>\n",
       "      <td>100.0</td>\n",
       "    </tr>\n",
       "    <tr>\n",
       "      <th>385</th>\n",
       "      <td>['10x15, 1st', '3.05 x 4.57(m)']</td>\n",
       "      <td>150.0</td>\n",
       "    </tr>\n",
       "    <tr>\n",
       "      <th>1250</th>\n",
       "      <td>['14x8, 1st', '4.27 x 2.44(m)']</td>\n",
       "      <td>112.0</td>\n",
       "    </tr>\n",
       "    <tr>\n",
       "      <th>9045</th>\n",
       "      <td>['18 x 10, 1st', '18 , 10, 1st']</td>\n",
       "      <td>180.0</td>\n",
       "    </tr>\n",
       "    <tr>\n",
       "      <th>2246</th>\n",
       "      <td>NaN</td>\n",
       "      <td>NaN</td>\n",
       "    </tr>\n",
       "    <tr>\n",
       "      <th>3439</th>\n",
       "      <td>NaN</td>\n",
       "      <td>NaN</td>\n",
       "    </tr>\n",
       "    <tr>\n",
       "      <th>6780</th>\n",
       "      <td>['12x11, 1st', '3.66 x 3.35(m)']</td>\n",
       "      <td>132.0</td>\n",
       "    </tr>\n",
       "    <tr>\n",
       "      <th>6537</th>\n",
       "      <td>['15x13, 1st', '4.57 x 3.96(m)']</td>\n",
       "      <td>195.0</td>\n",
       "    </tr>\n",
       "    <tr>\n",
       "      <th>10689</th>\n",
       "      <td>NaN</td>\n",
       "      <td>NaN</td>\n",
       "    </tr>\n",
       "    <tr>\n",
       "      <th>6509</th>\n",
       "      <td>['12x6, 1st', '3.66 x 1.83(m)']</td>\n",
       "      <td>72.0</td>\n",
       "    </tr>\n",
       "    <tr>\n",
       "      <th>2514</th>\n",
       "      <td>['9x12, 1st', '2.74 x 3.66(m)']</td>\n",
       "      <td>108.0</td>\n",
       "    </tr>\n",
       "    <tr>\n",
       "      <th>707</th>\n",
       "      <td>NaN</td>\n",
       "      <td>NaN</td>\n",
       "    </tr>\n",
       "    <tr>\n",
       "      <th>5651</th>\n",
       "      <td>NaN</td>\n",
       "      <td>NaN</td>\n",
       "    </tr>\n",
       "    <tr>\n",
       "      <th>2939</th>\n",
       "      <td>NaN</td>\n",
       "      <td>NaN</td>\n",
       "    </tr>\n",
       "    <tr>\n",
       "      <th>8440</th>\n",
       "      <td>NaN</td>\n",
       "      <td>NaN</td>\n",
       "    </tr>\n",
       "    <tr>\n",
       "      <th>6580</th>\n",
       "      <td>['13x10, 1st', '3.96 x 3.05(m)']</td>\n",
       "      <td>130.0</td>\n",
       "    </tr>\n",
       "    <tr>\n",
       "      <th>7981</th>\n",
       "      <td>['14x14, 1st', '4.27 x 4.27(m)']</td>\n",
       "      <td>196.0</td>\n",
       "    </tr>\n",
       "    <tr>\n",
       "      <th>2314</th>\n",
       "      <td>['20x15, 1st', '6.10 x 4.57(m)']</td>\n",
       "      <td>300.0</td>\n",
       "    </tr>\n",
       "    <tr>\n",
       "      <th>8777</th>\n",
       "      <td>['24X12, 1st', '7.32 x 3.66(m)']</td>\n",
       "      <td>288.0</td>\n",
       "    </tr>\n",
       "    <tr>\n",
       "      <th>1704</th>\n",
       "      <td>NaN</td>\n",
       "      <td>NaN</td>\n",
       "    </tr>\n",
       "  </tbody>\n",
       "</table>\n",
       "</div>"
      ],
      "text/plain": [
       "                               Kitchen:  KitchenSqft\n",
       "4697   ['10x10, 1st', '3.05 x 3.05(m)']        100.0\n",
       "385    ['10x15, 1st', '3.05 x 4.57(m)']        150.0\n",
       "1250    ['14x8, 1st', '4.27 x 2.44(m)']        112.0\n",
       "9045   ['18 x 10, 1st', '18 , 10, 1st']        180.0\n",
       "2246                                NaN          NaN\n",
       "3439                                NaN          NaN\n",
       "6780   ['12x11, 1st', '3.66 x 3.35(m)']        132.0\n",
       "6537   ['15x13, 1st', '4.57 x 3.96(m)']        195.0\n",
       "10689                               NaN          NaN\n",
       "6509    ['12x6, 1st', '3.66 x 1.83(m)']         72.0\n",
       "2514    ['9x12, 1st', '2.74 x 3.66(m)']        108.0\n",
       "707                                 NaN          NaN\n",
       "5651                                NaN          NaN\n",
       "2939                                NaN          NaN\n",
       "8440                                NaN          NaN\n",
       "6580   ['13x10, 1st', '3.96 x 3.05(m)']        130.0\n",
       "7981   ['14x14, 1st', '4.27 x 4.27(m)']        196.0\n",
       "2314   ['20x15, 1st', '6.10 x 4.57(m)']        300.0\n",
       "8777   ['24X12, 1st', '7.32 x 3.66(m)']        288.0\n",
       "1704                                NaN          NaN"
      ]
     },
     "execution_count": 51,
     "metadata": {},
     "output_type": "execute_result"
    }
   ],
   "source": [
    "single_family_df[['Kitchen:','KitchenSqft']].sample(20,random_state=101)"
   ]
  },
  {
   "cell_type": "code",
   "execution_count": 52,
   "metadata": {},
   "outputs": [
    {
     "data": {
      "text/html": [
       "<div>\n",
       "<style scoped>\n",
       "    .dataframe tbody tr th:only-of-type {\n",
       "        vertical-align: middle;\n",
       "    }\n",
       "\n",
       "    .dataframe tbody tr th {\n",
       "        vertical-align: top;\n",
       "    }\n",
       "\n",
       "    .dataframe thead th {\n",
       "        text-align: right;\n",
       "    }\n",
       "</style>\n",
       "<table border=\"1\" class=\"dataframe\">\n",
       "  <thead>\n",
       "    <tr style=\"text-align: right;\">\n",
       "      <th></th>\n",
       "      <th>KitchenSqft</th>\n",
       "      <th>Kitchen:</th>\n",
       "      <th>Address:</th>\n",
       "      <th>Building Sqft.:</th>\n",
       "    </tr>\n",
       "  </thead>\n",
       "  <tbody>\n",
       "    <tr>\n",
       "      <th>20</th>\n",
       "      <td>0.0</td>\n",
       "      <td>['2nd', '2nd']</td>\n",
       "      <td>619 Live Oak Street</td>\n",
       "      <td>2,671248(mÂ²)  /Appraisal District</td>\n",
       "    </tr>\n",
       "    <tr>\n",
       "      <th>43</th>\n",
       "      <td>0.0</td>\n",
       "      <td>['2nd', '2nd']</td>\n",
       "      <td>3805 Wilmer Street</td>\n",
       "      <td>3,640338(mÂ²)  /Appraisal District</td>\n",
       "    </tr>\n",
       "    <tr>\n",
       "      <th>63</th>\n",
       "      <td>0.0</td>\n",
       "      <td>['2nd', '2nd']</td>\n",
       "      <td>15 N Ennis Street</td>\n",
       "      <td>1,812168(mÂ²)  /Appraisal District</td>\n",
       "    </tr>\n",
       "    <tr>\n",
       "      <th>299</th>\n",
       "      <td>0.0</td>\n",
       "      <td>['1st', '1st']</td>\n",
       "      <td>2225 Bolsover Street</td>\n",
       "      <td>4,546422(mÂ²)  /Appraisal District</td>\n",
       "    </tr>\n",
       "    <tr>\n",
       "      <th>345</th>\n",
       "      <td>0.0</td>\n",
       "      <td>['1st', '1st']</td>\n",
       "      <td>6004 Buffalo Speedway</td>\n",
       "      <td>2,106196(mÂ²)  /Appraisal District</td>\n",
       "    </tr>\n",
       "    <tr>\n",
       "      <th>...</th>\n",
       "      <td>...</td>\n",
       "      <td>...</td>\n",
       "      <td>...</td>\n",
       "      <td>...</td>\n",
       "    </tr>\n",
       "    <tr>\n",
       "      <th>10875</th>\n",
       "      <td>0.0</td>\n",
       "      <td>['1st', '1st']</td>\n",
       "      <td>23606 Sitka Spruce Drive</td>\n",
       "      <td>3,577332(mÂ²)  /Builder</td>\n",
       "    </tr>\n",
       "    <tr>\n",
       "      <th>10877</th>\n",
       "      <td>0.0</td>\n",
       "      <td>['1st', '1st']</td>\n",
       "      <td>23826 Padauk Tree Trail</td>\n",
       "      <td>3,577332(mÂ²)  /Builder</td>\n",
       "    </tr>\n",
       "    <tr>\n",
       "      <th>10906</th>\n",
       "      <td>0.0</td>\n",
       "      <td>['1st', '1st']</td>\n",
       "      <td>1815 Rice Mill Drive</td>\n",
       "      <td>4,058377(mÂ²)  /Appraisal District</td>\n",
       "    </tr>\n",
       "    <tr>\n",
       "      <th>10930</th>\n",
       "      <td>0.0</td>\n",
       "      <td>['1st', '1st']</td>\n",
       "      <td>6343 Winthrop Terrace Trail</td>\n",
       "      <td>2,541236(mÂ²)  /Builder</td>\n",
       "    </tr>\n",
       "    <tr>\n",
       "      <th>11027</th>\n",
       "      <td>0.0</td>\n",
       "      <td>['1st', '1st']</td>\n",
       "      <td>712 Minnesota Street</td>\n",
       "      <td>1,160108(mÂ²)  /Appraisal District</td>\n",
       "    </tr>\n",
       "  </tbody>\n",
       "</table>\n",
       "<p>448 rows × 4 columns</p>\n",
       "</div>"
      ],
      "text/plain": [
       "       KitchenSqft        Kitchen:                     Address:  \\\n",
       "20             0.0  ['2nd', '2nd']          619 Live Oak Street   \n",
       "43             0.0  ['2nd', '2nd']           3805 Wilmer Street   \n",
       "63             0.0  ['2nd', '2nd']            15 N Ennis Street   \n",
       "299            0.0  ['1st', '1st']         2225 Bolsover Street   \n",
       "345            0.0  ['1st', '1st']        6004 Buffalo Speedway   \n",
       "...            ...             ...                          ...   \n",
       "10875          0.0  ['1st', '1st']     23606 Sitka Spruce Drive   \n",
       "10877          0.0  ['1st', '1st']      23826 Padauk Tree Trail   \n",
       "10906          0.0  ['1st', '1st']         1815 Rice Mill Drive   \n",
       "10930          0.0  ['1st', '1st']  6343 Winthrop Terrace Trail   \n",
       "11027          0.0  ['1st', '1st']         712 Minnesota Street   \n",
       "\n",
       "                          Building Sqft.:  \n",
       "20     2,671248(mÂ²)  /Appraisal District  \n",
       "43     3,640338(mÂ²)  /Appraisal District  \n",
       "63     1,812168(mÂ²)  /Appraisal District  \n",
       "299    4,546422(mÂ²)  /Appraisal District  \n",
       "345    2,106196(mÂ²)  /Appraisal District  \n",
       "...                                   ...  \n",
       "10875             3,577332(mÂ²)  /Builder  \n",
       "10877             3,577332(mÂ²)  /Builder  \n",
       "10906  4,058377(mÂ²)  /Appraisal District  \n",
       "10930             2,541236(mÂ²)  /Builder  \n",
       "11027  1,160108(mÂ²)  /Appraisal District  \n",
       "\n",
       "[448 rows x 4 columns]"
      ]
     },
     "execution_count": 52,
     "metadata": {},
     "output_type": "execute_result"
    }
   ],
   "source": [
    "single_family_df[single_family_df.KitchenSqft==0][['KitchenSqft','Kitchen:','Address:','Building Sqft.:']]"
   ]
  },
  {
   "cell_type": "code",
   "execution_count": 53,
   "metadata": {},
   "outputs": [],
   "source": [
    "single_family_df.loc[single_family_df['KitchenSqft'] == 0, 'KitchenSqft'] = np.NAN"
   ]
  },
  {
   "cell_type": "code",
   "execution_count": 54,
   "metadata": {},
   "outputs": [
    {
     "data": {
      "text/html": [
       "<div>\n",
       "<style scoped>\n",
       "    .dataframe tbody tr th:only-of-type {\n",
       "        vertical-align: middle;\n",
       "    }\n",
       "\n",
       "    .dataframe tbody tr th {\n",
       "        vertical-align: top;\n",
       "    }\n",
       "\n",
       "    .dataframe thead th {\n",
       "        text-align: right;\n",
       "    }\n",
       "</style>\n",
       "<table border=\"1\" class=\"dataframe\">\n",
       "  <thead>\n",
       "    <tr style=\"text-align: right;\">\n",
       "      <th></th>\n",
       "      <th>KitchenSqft</th>\n",
       "      <th>Kitchen:</th>\n",
       "      <th>Address:</th>\n",
       "      <th>Building Sqft.:</th>\n",
       "    </tr>\n",
       "  </thead>\n",
       "  <tbody>\n",
       "    <tr>\n",
       "      <th>109</th>\n",
       "      <td>638.000000</td>\n",
       "      <td>['22x29,  1st', '6.71 x 8.84(m)']</td>\n",
       "      <td>4811 Jackson Street</td>\n",
       "      <td>4,417410(mÂ²)  /Builder</td>\n",
       "    </tr>\n",
       "    <tr>\n",
       "      <th>301</th>\n",
       "      <td>1161.000000</td>\n",
       "      <td>['43x27, 1st', '13.11 x 8.23(m)']</td>\n",
       "      <td>2 Longfellow Lane</td>\n",
       "      <td>12,8081,190(mÂ²)  /Appraisal District</td>\n",
       "    </tr>\n",
       "    <tr>\n",
       "      <th>304</th>\n",
       "      <td>516.000000</td>\n",
       "      <td>['21.5 x 24, 1st', '21.5 , 24, 1st']</td>\n",
       "      <td>6335 Belmont Street</td>\n",
       "      <td>7,275676(mÂ²)  /Builder</td>\n",
       "    </tr>\n",
       "    <tr>\n",
       "      <th>311</th>\n",
       "      <td>720.000000</td>\n",
       "      <td>['36 x 20, 1st', '36 , 20, 1st']</td>\n",
       "      <td>2616 Quenby Avenue</td>\n",
       "      <td>5,775536(mÂ²)  /Appraisal District</td>\n",
       "    </tr>\n",
       "    <tr>\n",
       "      <th>730</th>\n",
       "      <td>3225.000000</td>\n",
       "      <td>['15x215, 2nd', '4.57 x 65.53(m)']</td>\n",
       "      <td>1115 Herkimer Street</td>\n",
       "      <td>2,293213(mÂ²)  /Appraisal District</td>\n",
       "    </tr>\n",
       "    <tr>\n",
       "      <th>865</th>\n",
       "      <td>1575.166667</td>\n",
       "      <td>['12 1/2 x 13, 1st', '12 1/2 , 13, 1st']</td>\n",
       "      <td>515 W 14th Street</td>\n",
       "      <td>1,135105(mÂ²)  /Appraisal District</td>\n",
       "    </tr>\n",
       "    <tr>\n",
       "      <th>1014</th>\n",
       "      <td>532.000000</td>\n",
       "      <td>['28x19, 2nd', '8.53 x 5.79(m)']</td>\n",
       "      <td>713 Booth Street</td>\n",
       "      <td>5,582519(mÂ²)  /Appraisal District</td>\n",
       "    </tr>\n",
       "    <tr>\n",
       "      <th>1350</th>\n",
       "      <td>509.000000</td>\n",
       "      <td>['19x22, 1st', '7x13, 2nd', '5.79 x 6.71(m)', ...</td>\n",
       "      <td>931 W 42nd Street</td>\n",
       "      <td>4,842450(mÂ²)  /Appraisal District</td>\n",
       "    </tr>\n",
       "    <tr>\n",
       "      <th>2123</th>\n",
       "      <td>600.000000</td>\n",
       "      <td>['24X25, 1st', '7.32 x 7.62(m)']</td>\n",
       "      <td>3726 N Braeswood Boulevard</td>\n",
       "      <td>3,800353(mÂ²)  /Appraisal District</td>\n",
       "    </tr>\n",
       "    <tr>\n",
       "      <th>2174</th>\n",
       "      <td>600.000000</td>\n",
       "      <td>['30 X 20, 1st', '30 , 20, 1st']</td>\n",
       "      <td>4059 Grennoch Lane</td>\n",
       "      <td>5,571518(mÂ²)  /Appraisal District</td>\n",
       "    </tr>\n",
       "    <tr>\n",
       "      <th>2483</th>\n",
       "      <td>711.666667</td>\n",
       "      <td>['10 x 7 1/2, 1st', '10 , 7 1/2, 1st']</td>\n",
       "      <td>5926 Southville Street</td>\n",
       "      <td>1,478137(mÂ²)  /Seller</td>\n",
       "    </tr>\n",
       "    <tr>\n",
       "      <th>2611</th>\n",
       "      <td>1056.000000</td>\n",
       "      <td>['33x32, 1st', '10.06 x 9.75(m)']</td>\n",
       "      <td>5922 Ludington Drive</td>\n",
       "      <td>2,032189(mÂ²)  /Appraisal District</td>\n",
       "    </tr>\n",
       "    <tr>\n",
       "      <th>2768</th>\n",
       "      <td>809.333333</td>\n",
       "      <td>[\"10 1/2' x 8', 1st\", \"10 1/2' , 8', 1st\"]</td>\n",
       "      <td>10558 Keeneland Lane</td>\n",
       "      <td>1,547144(mÂ²)  /Appraisal District</td>\n",
       "    </tr>\n",
       "    <tr>\n",
       "      <th>2896</th>\n",
       "      <td>540.000000</td>\n",
       "      <td>['30x18, 1st', '9.14 x 5.49(m)']</td>\n",
       "      <td>13243 Oregold Drive</td>\n",
       "      <td>6,009558(mÂ²)  /Appraisal District</td>\n",
       "    </tr>\n",
       "    <tr>\n",
       "      <th>3022</th>\n",
       "      <td>600.000000</td>\n",
       "      <td>['25x24, 1st', '7.62 x 7.32(m)']</td>\n",
       "      <td>6 W Rivercrest Drive</td>\n",
       "      <td>21,0321,954(mÂ²)  /Appraisal District</td>\n",
       "    </tr>\n",
       "    <tr>\n",
       "      <th>3024</th>\n",
       "      <td>527.000000</td>\n",
       "      <td>['11x17, 1st', '17x20, 1st', '3.35 x 5.18(m)',...</td>\n",
       "      <td>34 E Rivercrest Drive</td>\n",
       "      <td>8,797817(mÂ²)  /Appraisal District</td>\n",
       "    </tr>\n",
       "    <tr>\n",
       "      <th>3579</th>\n",
       "      <td>1080.000000</td>\n",
       "      <td>['120x9, 1st', '36.58 x 2.74(m)']</td>\n",
       "      <td>8124 Cannon Street</td>\n",
       "      <td>1,500139(mÂ²)  /Seller</td>\n",
       "    </tr>\n",
       "    <tr>\n",
       "      <th>3779</th>\n",
       "      <td>550.000000</td>\n",
       "      <td>['25x22, 1st', '7.62 x 6.71(m)']</td>\n",
       "      <td>5554 Longmont Drive</td>\n",
       "      <td>9,181853(mÂ²)  /Builder</td>\n",
       "    </tr>\n",
       "    <tr>\n",
       "      <th>3918</th>\n",
       "      <td>858.000000</td>\n",
       "      <td>['33 X 26, 1st', '33 , 26, 1st']</td>\n",
       "      <td>6063 Crab Orchard Road</td>\n",
       "      <td>7,843729(mÂ²)  /Appraisal District</td>\n",
       "    </tr>\n",
       "    <tr>\n",
       "      <th>4081</th>\n",
       "      <td>532.000000</td>\n",
       "      <td>['28 x 19, 1st', '28 , 19, 1st']</td>\n",
       "      <td>7143 Fauna Street</td>\n",
       "      <td>3,411317(mÂ²)  /Appraisal District</td>\n",
       "    </tr>\n",
       "    <tr>\n",
       "      <th>4546</th>\n",
       "      <td>809.333333</td>\n",
       "      <td>[\"10 1/2' x 8', 1st\", \"10 1/2' , 8', 1st\"]</td>\n",
       "      <td>5 Champions Colony W</td>\n",
       "      <td>1,122104(mÂ²)  /Appraisal District</td>\n",
       "    </tr>\n",
       "    <tr>\n",
       "      <th>4603</th>\n",
       "      <td>936.000000</td>\n",
       "      <td>['39 x 24, 1st', '39 , 24, 1st']</td>\n",
       "      <td>14525 Champions Drive</td>\n",
       "      <td>37,1323,450(mÂ²)  /Appraisal</td>\n",
       "    </tr>\n",
       "    <tr>\n",
       "      <th>4606</th>\n",
       "      <td>594.000000</td>\n",
       "      <td>['27x22, 1st', '8.23 x 6.71(m)']</td>\n",
       "      <td>13123 Mission Valley Drive</td>\n",
       "      <td>5,250488(mÂ²)  /Appraisal</td>\n",
       "    </tr>\n",
       "    <tr>\n",
       "      <th>4702</th>\n",
       "      <td>1414.000000</td>\n",
       "      <td>['14x101, 1st', '4.27 x 30.78(m)']</td>\n",
       "      <td>14606 Sunny Grove Drive</td>\n",
       "      <td>2,790259(mÂ²)  /Appraisal District</td>\n",
       "    </tr>\n",
       "    <tr>\n",
       "      <th>4808</th>\n",
       "      <td>600.000000</td>\n",
       "      <td>['30x20, 1st', '9.14 x 6.10(m)']</td>\n",
       "      <td>8019 Albin Lane</td>\n",
       "      <td>4,502418(mÂ²)  /Appraisal District</td>\n",
       "    </tr>\n",
       "    <tr>\n",
       "      <th>4977</th>\n",
       "      <td>648.000000</td>\n",
       "      <td>['24x27, 1st', '7.32 x 8.23(m)']</td>\n",
       "      <td>8814 Brae Acres Road</td>\n",
       "      <td>10,213949(mÂ²)  /Appraisal District</td>\n",
       "    </tr>\n",
       "    <tr>\n",
       "      <th>6423</th>\n",
       "      <td>1085.000000</td>\n",
       "      <td>['31 x 35, 1st', '31 , 35, 1st']</td>\n",
       "      <td>5430 Candlemist Drive</td>\n",
       "      <td>1,970183(mÂ²)  /Appraisal District</td>\n",
       "    </tr>\n",
       "    <tr>\n",
       "      <th>6824</th>\n",
       "      <td>644.000000</td>\n",
       "      <td>['28x23, 1st', '8.53 x 7.01(m)']</td>\n",
       "      <td>10622 Chimney Rock Road</td>\n",
       "      <td>1,886175(mÂ²)  /Appraisal District</td>\n",
       "    </tr>\n",
       "    <tr>\n",
       "      <th>7662</th>\n",
       "      <td>1568.000000</td>\n",
       "      <td>['14x112, 1st', '4.27 x 34.14(m)']</td>\n",
       "      <td>31879 Casey Road</td>\n",
       "      <td>2,722253(mÂ²)  /Appraisal District</td>\n",
       "    </tr>\n",
       "    <tr>\n",
       "      <th>7750</th>\n",
       "      <td>660.000000</td>\n",
       "      <td>['22x15, 1st', '22x15, 1st', '6.71 x 4.57(m)',...</td>\n",
       "      <td>19439 Desna Drive</td>\n",
       "      <td>4,250395(mÂ²)  /Seller</td>\n",
       "    </tr>\n",
       "    <tr>\n",
       "      <th>8224</th>\n",
       "      <td>504.000000</td>\n",
       "      <td>['18X14, 1st', '18X14, 1st', '5.49 x 4.27(m)',...</td>\n",
       "      <td>11103 Olde Mint House Lane</td>\n",
       "      <td>3,824355(mÂ²)  /Appraisal District</td>\n",
       "    </tr>\n",
       "    <tr>\n",
       "      <th>8278</th>\n",
       "      <td>608.000000</td>\n",
       "      <td>['16x19,  1st', '16x19,  1st', '4.88 x 5.79(m)...</td>\n",
       "      <td>513 E Hufsmith</td>\n",
       "      <td>4,325402(mÂ²)  /Builder</td>\n",
       "    </tr>\n",
       "    <tr>\n",
       "      <th>8507</th>\n",
       "      <td>892.000000</td>\n",
       "      <td>['20x16, 1st', '13x22, 1st', '13x22, 1st', '6....</td>\n",
       "      <td>12 Little Sorrell Court</td>\n",
       "      <td>5,356498(mÂ²)  /Builder</td>\n",
       "    </tr>\n",
       "    <tr>\n",
       "      <th>8511</th>\n",
       "      <td>546.000000</td>\n",
       "      <td>['21x26, 1st', '6.40 x 7.92(m)']</td>\n",
       "      <td>24 Indigo Illusion Circle</td>\n",
       "      <td>7,664712(mÂ²)  /Builder</td>\n",
       "    </tr>\n",
       "    <tr>\n",
       "      <th>8786</th>\n",
       "      <td>552.000000</td>\n",
       "      <td>['23 x 24, 1st', '23 , 24, 1st']</td>\n",
       "      <td>27521 Velvet Sky Way</td>\n",
       "      <td>6,024560(mÂ²)  /Builder</td>\n",
       "    </tr>\n",
       "    <tr>\n",
       "      <th>9099</th>\n",
       "      <td>1976.333333</td>\n",
       "      <td>['14 1/2 x 14, 1st', '14 1/2 , 14, 1st']</td>\n",
       "      <td>3806 Chapel Square Drive</td>\n",
       "      <td>1,454135(mÂ²)  /Appraisal District</td>\n",
       "    </tr>\n",
       "    <tr>\n",
       "      <th>9503</th>\n",
       "      <td>709.312500</td>\n",
       "      <td>['29\\'3\"x24\\'3\", 1st', '29\\'3\",24\\'3\", 1st']</td>\n",
       "      <td>12510 E Shadow Lake Lane</td>\n",
       "      <td>2,144199(mÂ²)  /Appraisal District</td>\n",
       "    </tr>\n",
       "    <tr>\n",
       "      <th>9556</th>\n",
       "      <td>506.000000</td>\n",
       "      <td>['23x22, 1st', '7.01 x 6.71(m)']</td>\n",
       "      <td>13015 Far Point Manor Court</td>\n",
       "      <td>4,111382(mÂ²)  /Appraisal District</td>\n",
       "    </tr>\n",
       "    <tr>\n",
       "      <th>9794</th>\n",
       "      <td>504.000000</td>\n",
       "      <td>['28x18, 1st', '8.53 x 5.49(m)']</td>\n",
       "      <td>19518 Hope Springs Lane</td>\n",
       "      <td>4,014373(mÂ²)  /Appraisal District</td>\n",
       "    </tr>\n",
       "    <tr>\n",
       "      <th>10407</th>\n",
       "      <td>549.665000</td>\n",
       "      <td>['26.8 X 17.9, 1st', '10.2 X 9.3, 1st', '26.8 ...</td>\n",
       "      <td>4915 Harvest Chase Lane</td>\n",
       "      <td>6,671620(mÂ²)  /Appraisal District</td>\n",
       "    </tr>\n",
       "    <tr>\n",
       "      <th>10483</th>\n",
       "      <td>510.000000</td>\n",
       "      <td>['17X15, 1st', '17X15, 1st', '5.18 x 4.57(m)',...</td>\n",
       "      <td>4110 Pensacola Oaks Lane</td>\n",
       "      <td>3,966368(mÂ²)  /Appraisal District</td>\n",
       "    </tr>\n",
       "    <tr>\n",
       "      <th>10532</th>\n",
       "      <td>580.000000</td>\n",
       "      <td>['29 x 20, 1st', '29 , 20, 1st']</td>\n",
       "      <td>5324 Palm Royale Boulevard</td>\n",
       "      <td>19,1801,782(mÂ²)  /Appraisal District</td>\n",
       "    </tr>\n",
       "    <tr>\n",
       "      <th>10658</th>\n",
       "      <td>560.000000</td>\n",
       "      <td>['14x20, Kitchen/Dining Combo, 1st,', '14x20, ...</td>\n",
       "      <td>31718 Waller Tomball Road</td>\n",
       "      <td>1,598148(mÂ²)  /Appraisal</td>\n",
       "    </tr>\n",
       "    <tr>\n",
       "      <th>10681</th>\n",
       "      <td>1696.333333</td>\n",
       "      <td>['12 1/2 X 14, 1st', '12 1/2 , 14, 1st']</td>\n",
       "      <td>29200 Clydesdale Drive</td>\n",
       "      <td>2,700251(mÂ²)  /Builder</td>\n",
       "    </tr>\n",
       "    <tr>\n",
       "      <th>10945</th>\n",
       "      <td>650.000000</td>\n",
       "      <td>['26x25, 1st', '7.92 x 7.62(m)']</td>\n",
       "      <td>24807 Millers Lane</td>\n",
       "      <td>5,229486(mÂ²)  /Appraisal District</td>\n",
       "    </tr>\n",
       "  </tbody>\n",
       "</table>\n",
       "</div>"
      ],
      "text/plain": [
       "       KitchenSqft                                           Kitchen:  \\\n",
       "109     638.000000                  ['22x29,  1st', '6.71 x 8.84(m)']   \n",
       "301    1161.000000                  ['43x27, 1st', '13.11 x 8.23(m)']   \n",
       "304     516.000000               ['21.5 x 24, 1st', '21.5 , 24, 1st']   \n",
       "311     720.000000                   ['36 x 20, 1st', '36 , 20, 1st']   \n",
       "730    3225.000000                 ['15x215, 2nd', '4.57 x 65.53(m)']   \n",
       "865    1575.166667           ['12 1/2 x 13, 1st', '12 1/2 , 13, 1st']   \n",
       "1014    532.000000                   ['28x19, 2nd', '8.53 x 5.79(m)']   \n",
       "1350    509.000000  ['19x22, 1st', '7x13, 2nd', '5.79 x 6.71(m)', ...   \n",
       "2123    600.000000                   ['24X25, 1st', '7.32 x 7.62(m)']   \n",
       "2174    600.000000                   ['30 X 20, 1st', '30 , 20, 1st']   \n",
       "2483    711.666667             ['10 x 7 1/2, 1st', '10 , 7 1/2, 1st']   \n",
       "2611   1056.000000                  ['33x32, 1st', '10.06 x 9.75(m)']   \n",
       "2768    809.333333         [\"10 1/2' x 8', 1st\", \"10 1/2' , 8', 1st\"]   \n",
       "2896    540.000000                   ['30x18, 1st', '9.14 x 5.49(m)']   \n",
       "3022    600.000000                   ['25x24, 1st', '7.62 x 7.32(m)']   \n",
       "3024    527.000000  ['11x17, 1st', '17x20, 1st', '3.35 x 5.18(m)',...   \n",
       "3579   1080.000000                  ['120x9, 1st', '36.58 x 2.74(m)']   \n",
       "3779    550.000000                   ['25x22, 1st', '7.62 x 6.71(m)']   \n",
       "3918    858.000000                   ['33 X 26, 1st', '33 , 26, 1st']   \n",
       "4081    532.000000                   ['28 x 19, 1st', '28 , 19, 1st']   \n",
       "4546    809.333333         [\"10 1/2' x 8', 1st\", \"10 1/2' , 8', 1st\"]   \n",
       "4603    936.000000                   ['39 x 24, 1st', '39 , 24, 1st']   \n",
       "4606    594.000000                   ['27x22, 1st', '8.23 x 6.71(m)']   \n",
       "4702   1414.000000                 ['14x101, 1st', '4.27 x 30.78(m)']   \n",
       "4808    600.000000                   ['30x20, 1st', '9.14 x 6.10(m)']   \n",
       "4977    648.000000                   ['24x27, 1st', '7.32 x 8.23(m)']   \n",
       "6423   1085.000000                   ['31 x 35, 1st', '31 , 35, 1st']   \n",
       "6824    644.000000                   ['28x23, 1st', '8.53 x 7.01(m)']   \n",
       "7662   1568.000000                 ['14x112, 1st', '4.27 x 34.14(m)']   \n",
       "7750    660.000000  ['22x15, 1st', '22x15, 1st', '6.71 x 4.57(m)',...   \n",
       "8224    504.000000  ['18X14, 1st', '18X14, 1st', '5.49 x 4.27(m)',...   \n",
       "8278    608.000000  ['16x19,  1st', '16x19,  1st', '4.88 x 5.79(m)...   \n",
       "8507    892.000000  ['20x16, 1st', '13x22, 1st', '13x22, 1st', '6....   \n",
       "8511    546.000000                   ['21x26, 1st', '6.40 x 7.92(m)']   \n",
       "8786    552.000000                   ['23 x 24, 1st', '23 , 24, 1st']   \n",
       "9099   1976.333333           ['14 1/2 x 14, 1st', '14 1/2 , 14, 1st']   \n",
       "9503    709.312500       ['29\\'3\"x24\\'3\", 1st', '29\\'3\",24\\'3\", 1st']   \n",
       "9556    506.000000                   ['23x22, 1st', '7.01 x 6.71(m)']   \n",
       "9794    504.000000                   ['28x18, 1st', '8.53 x 5.49(m)']   \n",
       "10407   549.665000  ['26.8 X 17.9, 1st', '10.2 X 9.3, 1st', '26.8 ...   \n",
       "10483   510.000000  ['17X15, 1st', '17X15, 1st', '5.18 x 4.57(m)',...   \n",
       "10532   580.000000                   ['29 x 20, 1st', '29 , 20, 1st']   \n",
       "10658   560.000000  ['14x20, Kitchen/Dining Combo, 1st,', '14x20, ...   \n",
       "10681  1696.333333           ['12 1/2 X 14, 1st', '12 1/2 , 14, 1st']   \n",
       "10945   650.000000                   ['26x25, 1st', '7.92 x 7.62(m)']   \n",
       "\n",
       "                          Address:                        Building Sqft.:  \n",
       "109            4811 Jackson Street                4,417410(mÂ²)  /Builder  \n",
       "301              2 Longfellow Lane  12,8081,190(mÂ²)  /Appraisal District  \n",
       "304            6335 Belmont Street                7,275676(mÂ²)  /Builder  \n",
       "311             2616 Quenby Avenue     5,775536(mÂ²)  /Appraisal District  \n",
       "730           1115 Herkimer Street     2,293213(mÂ²)  /Appraisal District  \n",
       "865              515 W 14th Street     1,135105(mÂ²)  /Appraisal District  \n",
       "1014              713 Booth Street     5,582519(mÂ²)  /Appraisal District  \n",
       "1350             931 W 42nd Street     4,842450(mÂ²)  /Appraisal District  \n",
       "2123    3726 N Braeswood Boulevard     3,800353(mÂ²)  /Appraisal District  \n",
       "2174            4059 Grennoch Lane     5,571518(mÂ²)  /Appraisal District  \n",
       "2483        5926 Southville Street                 1,478137(mÂ²)  /Seller  \n",
       "2611          5922 Ludington Drive     2,032189(mÂ²)  /Appraisal District  \n",
       "2768          10558 Keeneland Lane     1,547144(mÂ²)  /Appraisal District  \n",
       "2896           13243 Oregold Drive     6,009558(mÂ²)  /Appraisal District  \n",
       "3022          6 W Rivercrest Drive  21,0321,954(mÂ²)  /Appraisal District  \n",
       "3024         34 E Rivercrest Drive     8,797817(mÂ²)  /Appraisal District  \n",
       "3579            8124 Cannon Street                 1,500139(mÂ²)  /Seller  \n",
       "3779           5554 Longmont Drive                9,181853(mÂ²)  /Builder  \n",
       "3918        6063 Crab Orchard Road     7,843729(mÂ²)  /Appraisal District  \n",
       "4081             7143 Fauna Street     3,411317(mÂ²)  /Appraisal District  \n",
       "4546          5 Champions Colony W     1,122104(mÂ²)  /Appraisal District  \n",
       "4603         14525 Champions Drive           37,1323,450(mÂ²)  /Appraisal  \n",
       "4606    13123 Mission Valley Drive              5,250488(mÂ²)  /Appraisal  \n",
       "4702       14606 Sunny Grove Drive     2,790259(mÂ²)  /Appraisal District  \n",
       "4808               8019 Albin Lane     4,502418(mÂ²)  /Appraisal District  \n",
       "4977          8814 Brae Acres Road    10,213949(mÂ²)  /Appraisal District  \n",
       "6423         5430 Candlemist Drive     1,970183(mÂ²)  /Appraisal District  \n",
       "6824       10622 Chimney Rock Road     1,886175(mÂ²)  /Appraisal District  \n",
       "7662              31879 Casey Road     2,722253(mÂ²)  /Appraisal District  \n",
       "7750             19439 Desna Drive                 4,250395(mÂ²)  /Seller  \n",
       "8224    11103 Olde Mint House Lane     3,824355(mÂ²)  /Appraisal District  \n",
       "8278                513 E Hufsmith                4,325402(mÂ²)  /Builder  \n",
       "8507       12 Little Sorrell Court                5,356498(mÂ²)  /Builder  \n",
       "8511     24 Indigo Illusion Circle                7,664712(mÂ²)  /Builder  \n",
       "8786          27521 Velvet Sky Way                6,024560(mÂ²)  /Builder  \n",
       "9099      3806 Chapel Square Drive     1,454135(mÂ²)  /Appraisal District  \n",
       "9503      12510 E Shadow Lake Lane     2,144199(mÂ²)  /Appraisal District  \n",
       "9556   13015 Far Point Manor Court     4,111382(mÂ²)  /Appraisal District  \n",
       "9794       19518 Hope Springs Lane     4,014373(mÂ²)  /Appraisal District  \n",
       "10407      4915 Harvest Chase Lane     6,671620(mÂ²)  /Appraisal District  \n",
       "10483     4110 Pensacola Oaks Lane     3,966368(mÂ²)  /Appraisal District  \n",
       "10532   5324 Palm Royale Boulevard  19,1801,782(mÂ²)  /Appraisal District  \n",
       "10658    31718 Waller Tomball Road              1,598148(mÂ²)  /Appraisal  \n",
       "10681       29200 Clydesdale Drive                2,700251(mÂ²)  /Builder  \n",
       "10945           24807 Millers Lane     5,229486(mÂ²)  /Appraisal District  "
      ]
     },
     "execution_count": 54,
     "metadata": {},
     "output_type": "execute_result"
    }
   ],
   "source": [
    "single_family_df[single_family_df.KitchenSqft>500][['KitchenSqft','Kitchen:','Address:','Building Sqft.:']]"
   ]
  },
  {
   "cell_type": "code",
   "execution_count": 55,
   "metadata": {},
   "outputs": [],
   "source": [
    "single_family_df.loc[730,'KitchenSqft'] = 322.5\n",
    "single_family_df.loc[865,'KitchenSqft'] = 162.5\n",
    "single_family_df.loc[2483,'KitchenSqft'] = 75\n",
    "single_family_df.loc[2768,'KitchenSqft'] = 84\n",
    "single_family_df.loc[4702,'KitchenSqft'] = 140\n",
    "single_family_df.loc[7757,'KitchenSqft'] = 330\n",
    "single_family_df.loc[7662,'KitchenSqft'] = 156.8\n",
    "single_family_df.loc[8224,'KitchenSqft'] = 252\n",
    "single_family_df.loc[8278,'KitchenSqft'] = 304\n",
    "single_family_df.loc[9099,'KitchenSqft'] = 203\n",
    "single_family_df.loc[10483,'KitchenSqft'] = 255\n",
    "single_family_df.loc[10658,'KitchenSqft'] = 280\n",
    "single_family_df.loc[10681,'KitchenSqft'] = 175"
   ]
  },
  {
   "cell_type": "markdown",
   "metadata": {},
   "source": [
    "Now we can drop old living, dining and kitchen columns:"
   ]
  },
  {
   "cell_type": "code",
   "execution_count": 56,
   "metadata": {},
   "outputs": [],
   "source": [
    "single_family_df.drop(['Living:', 'Dining:', 'Kitchen:'], axis=1,inplace=True)"
   ]
  },
  {
   "cell_type": "markdown",
   "metadata": {},
   "source": [
    "## 1.7 Subdivisions And Their Facts<a id='1.7_Subdivisions_And_their_Facts'></a>"
   ]
  },
  {
   "cell_type": "markdown",
   "metadata": {},
   "source": [
    "To uniform subdivision I scraped all subdivision names from HAR.com and will replace names with correct one based on similarity:"
   ]
  },
  {
   "cell_type": "code",
   "execution_count": 57,
   "metadata": {},
   "outputs": [],
   "source": [
    "sub_df = pd.read_csv('../data/raw/Subdivision.csv')\n",
    "sub_df.drop(['Unnamed: 0'],axis=1,inplace=True)"
   ]
  },
  {
   "cell_type": "code",
   "execution_count": 58,
   "metadata": {},
   "outputs": [
    {
     "data": {
      "text/html": [
       "<div>\n",
       "<style scoped>\n",
       "    .dataframe tbody tr th:only-of-type {\n",
       "        vertical-align: middle;\n",
       "    }\n",
       "\n",
       "    .dataframe tbody tr th {\n",
       "        vertical-align: top;\n",
       "    }\n",
       "\n",
       "    .dataframe thead th {\n",
       "        text-align: right;\n",
       "    }\n",
       "</style>\n",
       "<table border=\"1\" class=\"dataframe\">\n",
       "  <thead>\n",
       "    <tr style=\"text-align: right;\">\n",
       "      <th></th>\n",
       "      <th>Subdivision</th>\n",
       "      <th>Zip</th>\n",
       "      <th>Med.Appraisal</th>\n",
       "      <th>Avg.Sqft.</th>\n",
       "      <th>Avg.Yr.Built</th>\n",
       "    </tr>\n",
       "  </thead>\n",
       "  <tbody>\n",
       "    <tr>\n",
       "      <th>0</th>\n",
       "      <td>MARLOWE CONDOS</td>\n",
       "      <td>77002</td>\n",
       "      <td>$522,701</td>\n",
       "      <td>1,100</td>\n",
       "      <td>2018.0</td>\n",
       "    </tr>\n",
       "    <tr>\n",
       "      <th>1</th>\n",
       "      <td>Modern Midtown</td>\n",
       "      <td>77002</td>\n",
       "      <td>$469,147</td>\n",
       "      <td>2,096</td>\n",
       "      <td>2014.0</td>\n",
       "    </tr>\n",
       "    <tr>\n",
       "      <th>2</th>\n",
       "      <td>Midtowne Plaza</td>\n",
       "      <td>77002</td>\n",
       "      <td>$439,282</td>\n",
       "      <td>2,507</td>\n",
       "      <td>1999.0</td>\n",
       "    </tr>\n",
       "    <tr>\n",
       "      <th>3</th>\n",
       "      <td>Macgregor Demerritt</td>\n",
       "      <td>77002</td>\n",
       "      <td>$438,234</td>\n",
       "      <td>2,034</td>\n",
       "      <td>1930.0</td>\n",
       "    </tr>\n",
       "    <tr>\n",
       "      <th>4</th>\n",
       "      <td>Hermann Lofts Condo</td>\n",
       "      <td>77002</td>\n",
       "      <td>$385,446</td>\n",
       "      <td>1,546</td>\n",
       "      <td>1998.0</td>\n",
       "    </tr>\n",
       "  </tbody>\n",
       "</table>\n",
       "</div>"
      ],
      "text/plain": [
       "           Subdivision    Zip Med.Appraisal Avg.Sqft.  Avg.Yr.Built\n",
       "0       MARLOWE CONDOS  77002      $522,701     1,100        2018.0\n",
       "1       Modern Midtown  77002      $469,147     2,096        2014.0\n",
       "2       Midtowne Plaza  77002      $439,282     2,507        1999.0\n",
       "3  Macgregor Demerritt  77002      $438,234     2,034        1930.0\n",
       "4  Hermann Lofts Condo  77002      $385,446     1,546        1998.0"
      ]
     },
     "execution_count": 58,
     "metadata": {},
     "output_type": "execute_result"
    }
   ],
   "source": [
    "sub_df.head()"
   ]
  },
  {
   "cell_type": "code",
   "execution_count": 59,
   "metadata": {},
   "outputs": [
    {
     "data": {
      "text/plain": [
       "array(['MARLOWE CONDOS', 'Modern Midtown', 'Midtowne Plaza', ...,\n",
       "       'Pecan Terrace', 'Merilyn Plaza', 'Allen Genoa Condo'],\n",
       "      dtype=object)"
      ]
     },
     "execution_count": 59,
     "metadata": {},
     "output_type": "execute_result"
    }
   ],
   "source": [
    "sub_df.Subdivision.unique()"
   ]
  },
  {
   "cell_type": "markdown",
   "metadata": {},
   "source": [
    "As above table shown Med.Appraisal, Avg.Sqft. and Avg.Yr.Built are same for each subdivision and we can fill none values with these numbers for each column."
   ]
  },
  {
   "cell_type": "code",
   "execution_count": 60,
   "metadata": {},
   "outputs": [
    {
     "data": {
      "text/html": [
       "<div>\n",
       "<style scoped>\n",
       "    .dataframe tbody tr th:only-of-type {\n",
       "        vertical-align: middle;\n",
       "    }\n",
       "\n",
       "    .dataframe tbody tr th {\n",
       "        vertical-align: top;\n",
       "    }\n",
       "\n",
       "    .dataframe thead th {\n",
       "        text-align: right;\n",
       "    }\n",
       "</style>\n",
       "<table border=\"1\" class=\"dataframe\">\n",
       "  <thead>\n",
       "    <tr style=\"text-align: right;\">\n",
       "      <th></th>\n",
       "      <th>Subdivision:</th>\n",
       "      <th>Subdivision Name:</th>\n",
       "      <th>Market Area Name:</th>\n",
       "      <th>Master Planned Community:</th>\n",
       "      <th>Zip Code:</th>\n",
       "    </tr>\n",
       "  </thead>\n",
       "  <tbody>\n",
       "    <tr>\n",
       "      <th>0</th>\n",
       "      <td>Modern Midtown (View subdivision price trend)</td>\n",
       "      <td>Modern Midtown</td>\n",
       "      <td>NaN</td>\n",
       "      <td>NaN</td>\n",
       "      <td>77002</td>\n",
       "    </tr>\n",
       "    <tr>\n",
       "      <th>1</th>\n",
       "      <td>Modern Midtown (View subdivision price trend)</td>\n",
       "      <td>Modern Midtown</td>\n",
       "      <td>NaN</td>\n",
       "      <td>NaN</td>\n",
       "      <td>77002</td>\n",
       "    </tr>\n",
       "    <tr>\n",
       "      <th>2</th>\n",
       "      <td>Austin Hadley Place</td>\n",
       "      <td>NaN</td>\n",
       "      <td>Midtown - Houston</td>\n",
       "      <td>NaN</td>\n",
       "      <td>77002</td>\n",
       "    </tr>\n",
       "    <tr>\n",
       "      <th>3</th>\n",
       "      <td>EAST END ON THE BAYOU (View subdivision price...</td>\n",
       "      <td>East End On The Bayou</td>\n",
       "      <td>NaN</td>\n",
       "      <td>NaN</td>\n",
       "      <td>77003</td>\n",
       "    </tr>\n",
       "    <tr>\n",
       "      <th>4</th>\n",
       "      <td>EAST END ON THE BAYOU (View subdivision price...</td>\n",
       "      <td>East End On The Bayou</td>\n",
       "      <td>NaN</td>\n",
       "      <td>NaN</td>\n",
       "      <td>77003</td>\n",
       "    </tr>\n",
       "  </tbody>\n",
       "</table>\n",
       "</div>"
      ],
      "text/plain": [
       "                                        Subdivision:      Subdivision Name:  \\\n",
       "0      Modern Midtown (View subdivision price trend)         Modern Midtown   \n",
       "1      Modern Midtown (View subdivision price trend)         Modern Midtown   \n",
       "2                                Austin Hadley Place                    NaN   \n",
       "3   EAST END ON THE BAYOU (View subdivision price...  East End On The Bayou   \n",
       "4   EAST END ON THE BAYOU (View subdivision price...  East End On The Bayou   \n",
       "\n",
       "   Market Area Name: Master Planned Community:  Zip Code:  \n",
       "0                NaN                       NaN      77002  \n",
       "1                NaN                       NaN      77002  \n",
       "2  Midtown - Houston                       NaN      77002  \n",
       "3                NaN                       NaN      77003  \n",
       "4                NaN                       NaN      77003  "
      ]
     },
     "execution_count": 60,
     "metadata": {},
     "output_type": "execute_result"
    }
   ],
   "source": [
    "single_family_df[['Subdivision:','Subdivision Name:','Market Area Name:','Master Planned Community:','Zip Code:']].head()"
   ]
  },
  {
   "cell_type": "code",
   "execution_count": 61,
   "metadata": {},
   "outputs": [
    {
     "data": {
      "text/plain": [
       "Subdivision:                    4\n",
       "Subdivision Name:            1769\n",
       "Market Area Name:            9282\n",
       "Master Planned Community:    9626\n",
       "dtype: int64"
      ]
     },
     "execution_count": 61,
     "metadata": {},
     "output_type": "execute_result"
    }
   ],
   "source": [
    "single_family_df[['Subdivision:','Subdivision Name:','Market Area Name:','Master Planned Community:']].isna().sum()"
   ]
  },
  {
   "cell_type": "markdown",
   "metadata": {},
   "source": [
    "It seems all these 4 columns are the same. As we can see `Subdivision Name` has more clean name so, I will keep only this column and fill null values with market area name and then use subdivision datafram to change all names to standard one and then drop the rest."
   ]
  },
  {
   "cell_type": "code",
   "execution_count": 62,
   "metadata": {},
   "outputs": [],
   "source": [
    "single_family_df['Subdivision Name:'] = single_family_df['Subdivision Name:'].fillna(single_family_df['Market Area Name:'])"
   ]
  },
  {
   "cell_type": "code",
   "execution_count": 63,
   "metadata": {},
   "outputs": [
    {
     "data": {
      "text/plain": [
       "17"
      ]
     },
     "execution_count": 63,
     "metadata": {},
     "output_type": "execute_result"
    }
   ],
   "source": [
    "single_family_df['Subdivision Name:'].isna().sum()"
   ]
  },
  {
   "cell_type": "code",
   "execution_count": 64,
   "metadata": {},
   "outputs": [
    {
     "data": {
      "text/html": [
       "<div>\n",
       "<style scoped>\n",
       "    .dataframe tbody tr th:only-of-type {\n",
       "        vertical-align: middle;\n",
       "    }\n",
       "\n",
       "    .dataframe tbody tr th {\n",
       "        vertical-align: top;\n",
       "    }\n",
       "\n",
       "    .dataframe thead th {\n",
       "        text-align: right;\n",
       "    }\n",
       "</style>\n",
       "<table border=\"1\" class=\"dataframe\">\n",
       "  <thead>\n",
       "    <tr style=\"text-align: right;\">\n",
       "      <th></th>\n",
       "      <th>Subdivision:</th>\n",
       "      <th>Year Built:</th>\n",
       "      <th>Subdivision Name:</th>\n",
       "      <th>Market Area Name:</th>\n",
       "      <th>Master Planned Community:</th>\n",
       "    </tr>\n",
       "  </thead>\n",
       "  <tbody>\n",
       "    <tr>\n",
       "      <th>73</th>\n",
       "      <td>Mckinney Lndg Sub (View subdivision price trend)</td>\n",
       "      <td>2013   / Appraisal District</td>\n",
       "      <td>NaN</td>\n",
       "      <td>NaN</td>\n",
       "      <td>NaN</td>\n",
       "    </tr>\n",
       "    <tr>\n",
       "      <th>491</th>\n",
       "      <td>VERMONT STREET GROVE</td>\n",
       "      <td>2020   / Builder</td>\n",
       "      <td>NaN</td>\n",
       "      <td>NaN</td>\n",
       "      <td>NaN</td>\n",
       "    </tr>\n",
       "    <tr>\n",
       "      <th>509</th>\n",
       "      <td>Magnolia Grove (View subdivision price trend)</td>\n",
       "      <td>1950   / Appraisal District</td>\n",
       "      <td>NaN</td>\n",
       "      <td>NaN</td>\n",
       "      <td>NaN</td>\n",
       "    </tr>\n",
       "    <tr>\n",
       "      <th>853</th>\n",
       "      <td>Heights Homes/Herkimer Sub (View subdivision ...</td>\n",
       "      <td>2013   / Appraisal District</td>\n",
       "      <td>NaN</td>\n",
       "      <td>NaN</td>\n",
       "      <td>NaN</td>\n",
       "    </tr>\n",
       "    <tr>\n",
       "      <th>1431</th>\n",
       "      <td>Shepherd Oaks (View subdivision price trend)</td>\n",
       "      <td>2018   / Appraisal District</td>\n",
       "      <td>NaN</td>\n",
       "      <td>NaN</td>\n",
       "      <td>NaN</td>\n",
       "    </tr>\n",
       "    <tr>\n",
       "      <th>2002</th>\n",
       "      <td>Oaks of Lawndale</td>\n",
       "      <td>2020   / Builder</td>\n",
       "      <td>NaN</td>\n",
       "      <td>NaN</td>\n",
       "      <td>NaN</td>\n",
       "    </tr>\n",
       "    <tr>\n",
       "      <th>3005</th>\n",
       "      <td>Riverview Place (View subdivision price trend)</td>\n",
       "      <td>2019   / Builder</td>\n",
       "      <td>NaN</td>\n",
       "      <td>NaN</td>\n",
       "      <td>NaN</td>\n",
       "    </tr>\n",
       "    <tr>\n",
       "      <th>3077</th>\n",
       "      <td>Lakeside T/H (View subdivision price trend)</td>\n",
       "      <td>1984   / Appraisal District</td>\n",
       "      <td>NaN</td>\n",
       "      <td>NaN</td>\n",
       "      <td>NaN</td>\n",
       "    </tr>\n",
       "    <tr>\n",
       "      <th>3080</th>\n",
       "      <td>Lakeside T/H (View subdivision price trend)</td>\n",
       "      <td>1977   / Appraisal District</td>\n",
       "      <td>NaN</td>\n",
       "      <td>NaN</td>\n",
       "      <td>NaN</td>\n",
       "    </tr>\n",
       "    <tr>\n",
       "      <th>3081</th>\n",
       "      <td>Lakeside T/H (View subdivision price trend)</td>\n",
       "      <td>1982   / Appraisal District</td>\n",
       "      <td>NaN</td>\n",
       "      <td>NaN</td>\n",
       "      <td>NaN</td>\n",
       "    </tr>\n",
       "    <tr>\n",
       "      <th>3171</th>\n",
       "      <td>Retreat At Upland</td>\n",
       "      <td>2020   / Builder</td>\n",
       "      <td>NaN</td>\n",
       "      <td>NaN</td>\n",
       "      <td>NaN</td>\n",
       "    </tr>\n",
       "    <tr>\n",
       "      <th>6065</th>\n",
       "      <td>Grand Oaks</td>\n",
       "      <td>2020   / Builder</td>\n",
       "      <td>NaN</td>\n",
       "      <td>NaN</td>\n",
       "      <td>NaN</td>\n",
       "    </tr>\n",
       "    <tr>\n",
       "      <th>6367</th>\n",
       "      <td>Independence Heights</td>\n",
       "      <td>2020   / Builder</td>\n",
       "      <td>NaN</td>\n",
       "      <td>NaN</td>\n",
       "      <td>NaN</td>\n",
       "    </tr>\n",
       "    <tr>\n",
       "      <th>7565</th>\n",
       "      <td>Harrington Trails</td>\n",
       "      <td>2021   / Builder</td>\n",
       "      <td>NaN</td>\n",
       "      <td>NaN</td>\n",
       "      <td>NaN</td>\n",
       "    </tr>\n",
       "    <tr>\n",
       "      <th>9567</th>\n",
       "      <td>Enclave at Longwood</td>\n",
       "      <td>2020   / Builder</td>\n",
       "      <td>NaN</td>\n",
       "      <td>NaN</td>\n",
       "      <td>NaN</td>\n",
       "    </tr>\n",
       "    <tr>\n",
       "      <th>10078</th>\n",
       "      <td>Lantana</td>\n",
       "      <td>2019   / Appraisal District</td>\n",
       "      <td>NaN</td>\n",
       "      <td>NaN</td>\n",
       "      <td>NaN</td>\n",
       "    </tr>\n",
       "    <tr>\n",
       "      <th>10787</th>\n",
       "      <td>Elyson 70s</td>\n",
       "      <td>2020   / Builder</td>\n",
       "      <td>NaN</td>\n",
       "      <td>NaN</td>\n",
       "      <td>Elyson</td>\n",
       "    </tr>\n",
       "  </tbody>\n",
       "</table>\n",
       "</div>"
      ],
      "text/plain": [
       "                                            Subdivision:  \\\n",
       "73      Mckinney Lndg Sub (View subdivision price trend)   \n",
       "491                                 VERMONT STREET GROVE   \n",
       "509        Magnolia Grove (View subdivision price trend)   \n",
       "853     Heights Homes/Herkimer Sub (View subdivision ...   \n",
       "1431        Shepherd Oaks (View subdivision price trend)   \n",
       "2002                                    Oaks of Lawndale   \n",
       "3005      Riverview Place (View subdivision price trend)   \n",
       "3077         Lakeside T/H (View subdivision price trend)   \n",
       "3080         Lakeside T/H (View subdivision price trend)   \n",
       "3081         Lakeside T/H (View subdivision price trend)   \n",
       "3171                                   Retreat At Upland   \n",
       "6065                                          Grand Oaks   \n",
       "6367                                Independence Heights   \n",
       "7565                                   Harrington Trails   \n",
       "9567                                 Enclave at Longwood   \n",
       "10078                                            Lantana   \n",
       "10787                                         Elyson 70s   \n",
       "\n",
       "                       Year Built: Subdivision Name: Market Area Name:  \\\n",
       "73     2013   / Appraisal District               NaN               NaN   \n",
       "491               2020   / Builder               NaN               NaN   \n",
       "509    1950   / Appraisal District               NaN               NaN   \n",
       "853    2013   / Appraisal District               NaN               NaN   \n",
       "1431   2018   / Appraisal District               NaN               NaN   \n",
       "2002              2020   / Builder               NaN               NaN   \n",
       "3005              2019   / Builder               NaN               NaN   \n",
       "3077   1984   / Appraisal District               NaN               NaN   \n",
       "3080   1977   / Appraisal District               NaN               NaN   \n",
       "3081   1982   / Appraisal District               NaN               NaN   \n",
       "3171              2020   / Builder               NaN               NaN   \n",
       "6065              2020   / Builder               NaN               NaN   \n",
       "6367              2020   / Builder               NaN               NaN   \n",
       "7565              2021   / Builder               NaN               NaN   \n",
       "9567              2020   / Builder               NaN               NaN   \n",
       "10078  2019   / Appraisal District               NaN               NaN   \n",
       "10787             2020   / Builder               NaN               NaN   \n",
       "\n",
       "      Master Planned Community:  \n",
       "73                          NaN  \n",
       "491                         NaN  \n",
       "509                         NaN  \n",
       "853                         NaN  \n",
       "1431                        NaN  \n",
       "2002                        NaN  \n",
       "3005                        NaN  \n",
       "3077                        NaN  \n",
       "3080                        NaN  \n",
       "3081                        NaN  \n",
       "3171                        NaN  \n",
       "6065                        NaN  \n",
       "6367                        NaN  \n",
       "7565                        NaN  \n",
       "9567                        NaN  \n",
       "10078                       NaN  \n",
       "10787                    Elyson  "
      ]
     },
     "execution_count": 64,
     "metadata": {},
     "output_type": "execute_result"
    }
   ],
   "source": [
    "single_family_df[single_family_df['Subdivision Name:'].isna()][['Subdivision:','Year Built:','Subdivision Name:','Market Area Name:','Master Planned Community:']]"
   ]
  },
  {
   "cell_type": "markdown",
   "metadata": {},
   "source": [
    "most of these null values for subdivision are new but still we can fill them by values from Subdivision:"
   ]
  },
  {
   "cell_type": "code",
   "execution_count": 65,
   "metadata": {},
   "outputs": [],
   "source": [
    "single_family_df['Subdivision Name:'] = single_family_df['Subdivision Name:'].fillna(single_family_df['Subdivision:'])"
   ]
  },
  {
   "cell_type": "code",
   "execution_count": 66,
   "metadata": {},
   "outputs": [],
   "source": [
    "single_family_df['SubName'] = single_family_df['Subdivision Name:']"
   ]
  },
  {
   "cell_type": "code",
   "execution_count": 67,
   "metadata": {},
   "outputs": [
    {
     "data": {
      "text/plain": [
       "0"
      ]
     },
     "execution_count": 67,
     "metadata": {},
     "output_type": "execute_result"
    }
   ],
   "source": [
    "single_family_df['SubName'].isna().sum()"
   ]
  },
  {
   "cell_type": "code",
   "execution_count": 68,
   "metadata": {},
   "outputs": [],
   "source": [
    "single_family_df.drop(['Subdivision Name:','Subdivision:','Market Area Name:','Master Planned Community:'],\n",
    "                      axis=1,inplace=True)"
   ]
  },
  {
   "cell_type": "code",
   "execution_count": null,
   "metadata": {},
   "outputs": [
    {
     "name": "stderr",
     "output_type": "stream",
     "text": [
      " 23%|█████████████████▎                                                           | 900/3995 [21:15<1:01:35,  1.19s/it]"
     ]
    }
   ],
   "source": [
    "standard_subdivision=list(sub_df.Subdivision.unique())\n",
    "for sub in tqdm(standard_subdivision):\n",
    "    matches = process.extract(sub, single_family_df.SubName,limit = 1000)\n",
    "        \n",
    "# For each possible_match with similarity score >= 90\n",
    "    for possible_match in matches:\n",
    "        if possible_match[1] >= 90:\n",
    "            matching = single_family_df.SubName == possible_match[0]\n",
    "        else:\n",
    "            continue\n",
    "        single_family_df.loc[matching , 'SubName'] = sub\n",
    "print(single_family_df.SubName.unique())"
   ]
  },
  {
   "cell_type": "markdown",
   "metadata": {},
   "source": [
    "Now we can take a look at those features related to each subdivision like: `Median Appraised Value:`, `Median Year Built:`, \n",
    "`Median Lot Square Ft.:`, `Median Square Ft.:`, `Neighborhood Value Range:`.\t"
   ]
  },
  {
   "cell_type": "code",
   "execution_count": null,
   "metadata": {},
   "outputs": [],
   "source": [
    "single_family_df[['Median Appraised Value:', 'Median Year Built:', 'Median Lot Square Ft.:', 'Median Square Ft.:', 'Neighborhood Value Range:']].isna().sum()"
   ]
  },
  {
   "cell_type": "markdown",
   "metadata": {},
   "source": [
    "Those features have same number of missing values and it seems it may because of value missing for some the subdivisions. lets take a look:"
   ]
  },
  {
   "cell_type": "code",
   "execution_count": null,
   "metadata": {},
   "outputs": [],
   "source": [
    "single_family_df.SubName.loc[single_family_df['Median Appraised Value:'].isna()].value_counts()"
   ]
  },
  {
   "cell_type": "code",
   "execution_count": null,
   "metadata": {},
   "outputs": [],
   "source": [
    "sub_df.loc[sub_df.Subdivision=='cane island']"
   ]
  },
  {
   "cell_type": "code",
   "execution_count": null,
   "metadata": {},
   "outputs": [],
   "source": [
    "single_family_df['Year Built:'].loc[single_family_df['Median Lot Square Ft.:'].isna()].value_counts()"
   ]
  },
  {
   "cell_type": "markdown",
   "metadata": {},
   "source": [
    "It seems there is no information for those subdivisions in HAR.com since more than 90% of them are for new subdivisions. so I will drop those rows."
   ]
  },
  {
   "cell_type": "code",
   "execution_count": null,
   "metadata": {},
   "outputs": [],
   "source": [
    "single_family_df=single_family_df[~single_family_df['Median Appraised Value:'].isnull()]"
   ]
  },
  {
   "cell_type": "code",
   "execution_count": null,
   "metadata": {},
   "outputs": [],
   "source": [
    "single_family_df[['Median Appraised Value:', 'Median Year Built:', 'Median Lot Square Ft.:', 'Median Square Ft.:', 'Neighborhood Value Range:']]"
   ]
  },
  {
   "cell_type": "markdown",
   "metadata": {},
   "source": [
    "Now we need to clean those features and change their type to the right one."
   ]
  },
  {
   "cell_type": "code",
   "execution_count": null,
   "metadata": {},
   "outputs": [],
   "source": [
    "single_family_df['MedianApp'] = single_family_df['Median Appraised Value:'].str.replace('$','').str.replace(',','').str.strip()\n",
    "single_family_df['MedianApp'] = pd.to_numeric(single_family_df['MedianApp'],errors='coerce')"
   ]
  },
  {
   "cell_type": "code",
   "execution_count": null,
   "metadata": {},
   "outputs": [],
   "source": [
    "single_family_df['MedianApp']"
   ]
  },
  {
   "cell_type": "code",
   "execution_count": null,
   "metadata": {},
   "outputs": [],
   "source": [
    "single_family_df['MedianYearBlt'] = pd.to_datetime(single_family_df['Median Year Built:'],format='%Y').dt.year"
   ]
  },
  {
   "cell_type": "code",
   "execution_count": null,
   "metadata": {},
   "outputs": [],
   "source": [
    "single_family_df['MedianYearBlt']"
   ]
  },
  {
   "cell_type": "code",
   "execution_count": null,
   "metadata": {},
   "outputs": [],
   "source": [
    "single_family_df['MedianSqft'] = single_family_df['Median Lot Square Ft.:'].str.replace(',','').str.strip()\n",
    "single_family_df['MedianSqft'] = pd.to_numeric(single_family_df['MedianSqft'],errors='coerce')"
   ]
  },
  {
   "cell_type": "code",
   "execution_count": null,
   "metadata": {},
   "outputs": [],
   "source": [
    "single_family_df['MedianSqft'] "
   ]
  },
  {
   "cell_type": "code",
   "execution_count": null,
   "metadata": {},
   "outputs": [],
   "source": [
    "single_family_df['NeighborValRangeMin'] = single_family_df['Neighborhood Value Range:'].apply(lambda x:x.split('-')[0].strip().replace('$',''))\n",
    "single_family_df['NeighborValRangeMin'] = pd.to_numeric(single_family_df['NeighborValRangeMin'],errors='coerce')"
   ]
  },
  {
   "cell_type": "code",
   "execution_count": null,
   "metadata": {},
   "outputs": [],
   "source": [
    "single_family_df['NeighborValRangeMin'] "
   ]
  },
  {
   "cell_type": "code",
   "execution_count": null,
   "metadata": {},
   "outputs": [],
   "source": [
    "single_family_df['NeighborValRangeMax'] = single_family_df['Neighborhood Value Range:'].apply(lambda x:x.split('-')[1].replace('$','').replace('K','').strip())\n",
    "single_family_df['NeighborValRangeMax'] = pd.to_numeric(single_family_df['NeighborValRangeMax'],errors='coerce')"
   ]
  },
  {
   "cell_type": "code",
   "execution_count": null,
   "metadata": {},
   "outputs": [],
   "source": [
    "single_family_df['NeighborValRangeMax'] "
   ]
  },
  {
   "cell_type": "markdown",
   "metadata": {},
   "source": [
    "Instead of having 2 min and max columns for neighborhood value I think using average of these two range would be better."
   ]
  },
  {
   "cell_type": "code",
   "execution_count": null,
   "metadata": {},
   "outputs": [],
   "source": [
    "single_family_df['AvgNeighborValRange'] = ((single_family_df.NeighborValRangeMax + single_family_df.NeighborValRangeMin)/2)*1000"
   ]
  },
  {
   "cell_type": "code",
   "execution_count": null,
   "metadata": {},
   "outputs": [],
   "source": [
    "single_family_df.drop(['Median Appraised Value:','NeighborValRangeMax', 'NeighborValRangeMin','Median Year Built:', 'Median Lot Square Ft.:', 'Median Square Ft.:', 'Neighborhood Value Range:'],\n",
    "                      axis=1,inplace=True)"
   ]
  },
  {
   "cell_type": "code",
   "execution_count": null,
   "metadata": {},
   "outputs": [],
   "source": [
    "single_family_df.info()"
   ]
  },
  {
   "cell_type": "markdown",
   "metadata": {},
   "source": [
    "We have some features with 100% null values. lets drop them:"
   ]
  },
  {
   "cell_type": "code",
   "execution_count": null,
   "metadata": {},
   "outputs": [],
   "source": [
    "single_family_df.drop(['Home For Sales:', 'Average List Price:', 'Average Square Ft.:', 'Average Price/Square Ft.:',\n",
    "                       'Home For Lease:','Average Lease:','Average Lease/Square Ft.:'],axis=1,inplace=True)"
   ]
  },
  {
   "cell_type": "markdown",
   "metadata": {},
   "source": [
    "Now we are checking missing values again:"
   ]
  },
  {
   "cell_type": "code",
   "execution_count": null,
   "metadata": {},
   "outputs": [],
   "source": [
    "missing = missing_cal(single_family_df)\n",
    "missing.loc[missing['%'] > 0].sort_values(by=\"%\",ascending=False)"
   ]
  },
  {
   "cell_type": "code",
   "execution_count": null,
   "metadata": {},
   "outputs": [],
   "source": [
    "single_family_df.groupby('SubName').count()['Taxes w/o Exemp:']"
   ]
  },
  {
   "cell_type": "code",
   "execution_count": null,
   "metadata": {},
   "outputs": [],
   "source": [
    "single_family_df[['Taxes w/o Exemp:','Listing Price:','Median Price / Square ft.:','Tax Rate:','SubName']]"
   ]
  },
  {
   "cell_type": "markdown",
   "metadata": {},
   "source": [
    "Tax rate and Median Price / Square ft. would be the same for all house in same subdivision and Taxes paid is different for each house based on tax rate, total house sqft and other factor. I think filling null value for tax paid with the average of taxes per subdivision would be appropriate but first we need to clean these two columns."
   ]
  },
  {
   "cell_type": "code",
   "execution_count": null,
   "metadata": {},
   "outputs": [],
   "source": [
    "single_family_df['MedianPrice/Sqft'] = pd.to_numeric(single_family_df['Median Price / Square ft.:'].str\n",
    "                                                     .replace('$','').str.strip(),errors='coerce')\n",
    "\n",
    "single_family_df['PaidTax'] = pd.to_numeric(single_family_df['Taxes w/o Exemp:'].apply(lambda x:x.split('/')[0].replace(',','')\n",
    "                                                                         .replace(' ','').strip().replace('$','') if \n",
    "                                                                         not pd.isna(x) else None),errors='coerce')\n",
    "single_family_df['TaxRate'] = pd.to_numeric(single_family_df['Tax Rate:'],errors='coerce')"
   ]
  },
  {
   "cell_type": "code",
   "execution_count": null,
   "metadata": {},
   "outputs": [],
   "source": [
    "single_family_df['PaidTax'] = single_family_df.groupby('SubName')['PaidTax'].transform(lambda x: x.fillna(x.mean()))\n",
    "single_family_df['TaxRate'] = single_family_df.groupby('SubName')['TaxRate'].transform(lambda x: x.fillna(x.mean()))\n",
    "single_family_df['MedianPrice/Sqft'] = single_family_df.groupby('SubName')['MedianPrice/Sqft'].transform(lambda x: x.fillna(x.mean()))"
   ]
  },
  {
   "cell_type": "code",
   "execution_count": null,
   "metadata": {},
   "outputs": [],
   "source": [
    "single_family_df['MedianPrice/Sqft'].isna().sum()"
   ]
  },
  {
   "cell_type": "markdown",
   "metadata": {},
   "source": [
    "We still have some null values and it seems there is no information for those subdivisions. lets drop them."
   ]
  },
  {
   "cell_type": "code",
   "execution_count": null,
   "metadata": {},
   "outputs": [],
   "source": [
    "single_family_df=single_family_df[~single_family_df['MedianPrice/Sqft'].isnull()]"
   ]
  },
  {
   "cell_type": "code",
   "execution_count": null,
   "metadata": {},
   "outputs": [],
   "source": [
    "single_family_df['TaxRate'].isna().sum()"
   ]
  },
  {
   "cell_type": "code",
   "execution_count": null,
   "metadata": {},
   "outputs": [],
   "source": [
    "single_family_df=single_family_df[~single_family_df['TaxRate'].isnull()]"
   ]
  },
  {
   "cell_type": "code",
   "execution_count": null,
   "metadata": {},
   "outputs": [],
   "source": [
    "single_family_df['PaidTax'].isna().sum()"
   ]
  },
  {
   "cell_type": "code",
   "execution_count": null,
   "metadata": {},
   "outputs": [],
   "source": [
    "single_family_df=single_family_df[~single_family_df['PaidTax'].isnull()]"
   ]
  },
  {
   "cell_type": "code",
   "execution_count": null,
   "metadata": {},
   "outputs": [],
   "source": [
    "single_family_df.drop(['Taxes w/o Exemp:','Tax Rate:','Median Price / Square ft.:'],axis=1,inplace=True)"
   ]
  },
  {
   "cell_type": "code",
   "execution_count": null,
   "metadata": {},
   "outputs": [],
   "source": [
    "single_family_df[single_family_df.TaxRate>10]"
   ]
  },
  {
   "cell_type": "code",
   "execution_count": null,
   "metadata": {},
   "outputs": [],
   "source": [
    "single_family_df.SubName[single_family_df.TaxRate>10]"
   ]
  },
  {
   "cell_type": "code",
   "execution_count": null,
   "metadata": {},
   "outputs": [],
   "source": [
    "single_family_df.TaxRate[single_family_df.SubName=='Avalon Place']"
   ]
  },
  {
   "cell_type": "code",
   "execution_count": null,
   "metadata": {},
   "outputs": [],
   "source": [
    "single_family_df.TaxRate[single_family_df.SubName=='Ayrshire']"
   ]
  },
  {
   "cell_type": "code",
   "execution_count": null,
   "metadata": {},
   "outputs": [],
   "source": [
    "single_family_df.TaxRate[single_family_df.SubName=='Windermere Lakes']"
   ]
  },
  {
   "cell_type": "code",
   "execution_count": null,
   "metadata": {},
   "outputs": [],
   "source": [
    "single_family_df.TaxRate[single_family_df.SubName=='Estates At Cullen Park']"
   ]
  },
  {
   "cell_type": "code",
   "execution_count": null,
   "metadata": {},
   "outputs": [],
   "source": [
    "single_family_df['TaxRate'] = np.where(single_family_df.SubName=='Avalon Place',2.4216,single_family_df['TaxRate'])\n",
    "single_family_df['TaxRate'] = np.where(single_family_df.SubName=='Ayrshire',2.4216,single_family_df['TaxRate'])\n",
    "single_family_df['TaxRate'] = np.where(single_family_df.SubName=='Windermere Lakes',2.3243,single_family_df['TaxRate'])\n",
    "single_family_df['TaxRate'] = np.where(single_family_df.SubName=='Estates At Cullen Park',2.7748,single_family_df['TaxRate'])"
   ]
  },
  {
   "cell_type": "markdown",
   "metadata": {},
   "source": [
    "These 4 houses have tax rate which is out of range, I will replace it with the correct tax rate for its subdivision(avalon place and ayrshire)"
   ]
  },
  {
   "cell_type": "code",
   "execution_count": null,
   "metadata": {},
   "outputs": [],
   "source": [
    "single_family_df.TaxRate[single_family_df.SubName=='Ayrshire']"
   ]
  },
  {
   "cell_type": "code",
   "execution_count": null,
   "metadata": {},
   "outputs": [],
   "source": [
    "single_family_df.PaidTax.describe()"
   ]
  },
  {
   "cell_type": "markdown",
   "metadata": {},
   "source": [
    "Lets take a look at maximum tax paid to see why it is too high."
   ]
  },
  {
   "cell_type": "code",
   "execution_count": null,
   "metadata": {},
   "outputs": [],
   "source": [
    "single_family_df[single_family_df.PaidTax > 100000][['Listing Price:','Address:','PaidTax','SubName','TaxRate']]"
   ]
  },
  {
   "cell_type": "markdown",
   "metadata": {},
   "source": [
    "18 houses paid more than \\\\$100,000 for tax and most of them have price more that 3 million dollars but there is 2 houses in `Memorial Plaza` and `pinelakes pinaster pointe` subdivisions which paid more than normal for tax which should not be right. The house price is \\\\$739,000 and \\\\$329,000 tax rate for that area is 2.5 and 2.8 so the tax should not be that high."
   ]
  },
  {
   "cell_type": "code",
   "execution_count": null,
   "metadata": {},
   "outputs": [],
   "source": [
    "single_family_df.loc[5449,'PaidTax'] = 15400\n",
    "single_family_df.loc[8725,'PaidTax'] = 8553"
   ]
  },
  {
   "cell_type": "code",
   "execution_count": null,
   "metadata": {},
   "outputs": [],
   "source": [
    "single_family_df = single_family_df[single_family_df.PaidTax < 200000]"
   ]
  },
  {
   "cell_type": "markdown",
   "metadata": {},
   "source": [
    "## 1.8 Fill Null Kitchen, Dining and Living <a id='1.8_Fill_Null_For_Kitchen_Dining_Living'></a>"
   ]
  },
  {
   "cell_type": "markdown",
   "metadata": {},
   "source": [
    "I think we can fill null values for living, dining and kitchen area with them median sqft for each subdivision since most of the house in one subdivision are almost the same. To be more accurate I use median instead of mean in case if there is any outliers."
   ]
  },
  {
   "cell_type": "code",
   "execution_count": null,
   "metadata": {},
   "outputs": [],
   "source": [
    "SubGrouped = single_family_df.groupby('SubName')"
   ]
  },
  {
   "cell_type": "code",
   "execution_count": null,
   "metadata": {},
   "outputs": [],
   "source": [
    "print('Average Living area for Tanglewood Trail is :',SubGrouped.LivingSqft.get_group('Tanglewood Trail').mean())\n",
    "print('Median Living area for Tanglewood Trail is :',SubGrouped.LivingSqft.get_group('Tanglewood Trail').median())\n",
    "SubGrouped.LivingSqft.get_group('Tanglewood Trail').hist()"
   ]
  },
  {
   "cell_type": "code",
   "execution_count": null,
   "metadata": {},
   "outputs": [],
   "source": [
    "SubGrouped.DiningSqft.get_group('Tanglewood Trail').hist(bins=10)"
   ]
  },
  {
   "cell_type": "code",
   "execution_count": null,
   "metadata": {},
   "outputs": [],
   "source": [
    "SubGrouped.KitchenSqft.get_group('Tanglewood Trail').hist(bins=10)\n"
   ]
  },
  {
   "cell_type": "code",
   "execution_count": null,
   "metadata": {},
   "outputs": [],
   "source": [
    "single_family_df['LivingSqft'] = single_family_df.groupby('SubName')['LivingSqft'].apply(lambda x: x.fillna(x.median()))\n",
    "single_family_df['DiningSqft'] = single_family_df.groupby('SubName')['DiningSqft'].apply(lambda x: x.fillna(x.median()))\n",
    "single_family_df['KitchenSqft'] = single_family_df.groupby('SubName')['KitchenSqft'].apply(lambda x: x.fillna(x.median()))"
   ]
  },
  {
   "cell_type": "code",
   "execution_count": null,
   "metadata": {},
   "outputs": [],
   "source": [
    "single_family_df['LivingSqft'].isna().sum()"
   ]
  },
  {
   "cell_type": "code",
   "execution_count": null,
   "metadata": {},
   "outputs": [],
   "source": [
    "single_family_df['DiningSqft'].isna().sum()"
   ]
  },
  {
   "cell_type": "code",
   "execution_count": null,
   "metadata": {},
   "outputs": [],
   "source": [
    "single_family_df['KitchenSqft'].isna().sum()"
   ]
  },
  {
   "cell_type": "markdown",
   "metadata": {},
   "source": [
    "We still have some null values and it seems there is no information for those subdivisions. lets drop them."
   ]
  },
  {
   "cell_type": "code",
   "execution_count": null,
   "metadata": {},
   "outputs": [],
   "source": [
    "single_family_df=single_family_df[~single_family_df['DiningSqft'].isnull()]"
   ]
  },
  {
   "cell_type": "code",
   "execution_count": null,
   "metadata": {},
   "outputs": [],
   "source": [
    "single_family_df['LivingSqft'].isna().sum()"
   ]
  },
  {
   "cell_type": "code",
   "execution_count": null,
   "metadata": {},
   "outputs": [],
   "source": [
    "single_family_df['KitchenSqft'].isna().sum()"
   ]
  },
  {
   "cell_type": "code",
   "execution_count": null,
   "metadata": {},
   "outputs": [],
   "source": [
    "single_family_df=single_family_df[~single_family_df['LivingSqft'].isnull()]"
   ]
  },
  {
   "cell_type": "code",
   "execution_count": null,
   "metadata": {},
   "outputs": [],
   "source": [
    "single_family_df['KitchenSqft'].isna().sum()"
   ]
  },
  {
   "cell_type": "code",
   "execution_count": null,
   "metadata": {},
   "outputs": [],
   "source": [
    "single_family_df=single_family_df[~single_family_df['KitchenSqft'].isnull()]"
   ]
  },
  {
   "cell_type": "markdown",
   "metadata": {},
   "source": [
    "## 1.9 Listing Price<a id='1.9_Listing_Price'></a>"
   ]
  },
  {
   "cell_type": "code",
   "execution_count": null,
   "metadata": {},
   "outputs": [],
   "source": [
    "single_family_df['Listing Price:'].isna().sum()"
   ]
  },
  {
   "cell_type": "code",
   "execution_count": null,
   "metadata": {},
   "outputs": [],
   "source": [
    "single_family_df=single_family_df[~single_family_df['Listing Price:'].isnull()]"
   ]
  },
  {
   "cell_type": "code",
   "execution_count": null,
   "metadata": {},
   "outputs": [],
   "source": [
    "single_family_df['Listing Price:']=single_family_df['Listing Price:'].str.split(' ').str[1]\n",
    "single_family_df['Listing Price:']=single_family_df['Listing Price:'].str.replace(',','')\n",
    "single_family_df['Listing Price:']=pd.to_numeric(single_family_df['Listing Price:'])\n",
    "single_family_df.rename(columns = {'Listing Price:':'ListingPrice','Address:':'Address', 'Zip Code:':'ZipCode', 'County:':'County',\n",
    "                                 'Subdivision:':'sub', 'Legal Description:':'Legal'},inplace=True)"
   ]
  },
  {
   "cell_type": "code",
   "execution_count": null,
   "metadata": {},
   "outputs": [],
   "source": [
    "single_family_df['ListingPrice'].describe()"
   ]
  },
  {
   "cell_type": "code",
   "execution_count": null,
   "metadata": {},
   "outputs": [],
   "source": [
    "single_family_df.loc[single_family_df.ListingPrice <10000]"
   ]
  },
  {
   "cell_type": "code",
   "execution_count": null,
   "metadata": {},
   "outputs": [],
   "source": [
    "single_family_df = single_family_df[single_family_df.ListingPrice > 1000]"
   ]
  },
  {
   "cell_type": "markdown",
   "metadata": {},
   "source": [
    "## 1.10 Bedrooms<a id='1.10_Bedrooms'></a>"
   ]
  },
  {
   "cell_type": "code",
   "execution_count": null,
   "metadata": {},
   "outputs": [],
   "source": [
    "single_family_df[['Bedrooms:','Bedroom:','Primary Bedroom:']]"
   ]
  },
  {
   "cell_type": "code",
   "execution_count": null,
   "metadata": {},
   "outputs": [],
   "source": [
    "single_family_df[['Bedrooms:','Bedroom:','Primary Bedroom:','Average Bedrooms:']].isna().sum()"
   ]
  },
  {
   "cell_type": "markdown",
   "metadata": {},
   "source": [
    "First I calculate area for Bedroom and Primary Bedroom separately then fill null values for with the median of area per subdivision and 0 for bedroom and primary bedroom respectively. then add them as total bedrooms in Sqft. "
   ]
  },
  {
   "cell_type": "code",
   "execution_count": null,
   "metadata": {},
   "outputs": [],
   "source": [
    "single_family_df['Primary_Bedroom_clean'] = single_family_df['Primary Bedroom:'].str.split(',')\n",
    "single_family_df['Primary_Bedroom_clean'] = single_family_df['Primary_Bedroom_clean'].apply(area_calc)\n",
    "single_family_df.update(single_family_df[['Primary_Bedroom_clean']].fillna(0))\n",
    "\n",
    "single_family_df['Bedroom_clean'] = single_family_df['Bedroom:'].str.split(',')\n",
    "single_family_df['Bedroom_clean'] = single_family_df['Bedroom_clean'].apply(area_calc)\n",
    "single_family_df['Bedroom_clean'] = single_family_df.groupby('SubName')['Bedroom_clean'].transform(lambda x: x.fillna(x.median()))"
   ]
  },
  {
   "cell_type": "code",
   "execution_count": null,
   "metadata": {},
   "outputs": [],
   "source": [
    "single_family_df['TotalBedSqft'] = single_family_df['Bedroom_clean'] + single_family_df['Primary_Bedroom_clean']"
   ]
  },
  {
   "cell_type": "code",
   "execution_count": null,
   "metadata": {},
   "outputs": [],
   "source": [
    "pd.options.display.max_colwidth = 100\n",
    "single_family_df[['Bedrooms:','Bedroom:','Primary Bedroom:','Primary_Bedroom_clean','Bedroom_clean','TotalBedSqft']].sample(20,random_state=100)"
   ]
  },
  {
   "cell_type": "code",
   "execution_count": null,
   "metadata": {},
   "outputs": [],
   "source": [
    "single_family_df[single_family_df.TotalBedSqft==0][['Year Built:','Bedroom:','Primary Bedroom:','TotalBedSqft']]"
   ]
  },
  {
   "cell_type": "code",
   "execution_count": null,
   "metadata": {},
   "outputs": [],
   "source": [
    "single_family_df['TotalBedSqft'] = single_family_df.groupby('SubName')['TotalBedSqft'].transform(lambda x: x.fillna(x.mean()))"
   ]
  },
  {
   "cell_type": "code",
   "execution_count": null,
   "metadata": {},
   "outputs": [],
   "source": [
    "single_family_df[single_family_df.TotalBedSqft==0][['Year Built:','Bedroom:','Primary Bedroom:','TotalBedSqft']]"
   ]
  },
  {
   "cell_type": "code",
   "execution_count": null,
   "metadata": {},
   "outputs": [],
   "source": [
    "single_family_df = single_family_df[single_family_df.TotalBedSqft!=0]"
   ]
  },
  {
   "cell_type": "code",
   "execution_count": null,
   "metadata": {},
   "outputs": [],
   "source": [
    "single_family_df[single_family_df.TotalBedSqft>1500][['Bedrooms:','Bedroom:','Primary Bedroom:','TotalBedSqft','Address','Building Sqft.:']]"
   ]
  },
  {
   "cell_type": "code",
   "execution_count": null,
   "metadata": {},
   "outputs": [],
   "source": [
    "# single_family_df.loc[153,'TotalBedSqft'] = 484.8\n",
    "# single_family_df.loc[196,'TotalBedSqft'] = 506\n",
    "# single_family_df.loc[781,'TotalBedSqft'] = 365.25\n",
    "# single_family_df.loc[3687,'TotalBedSqft'] = 395.6\n",
    "# single_family_df.loc[4384,'TotalBedSqft'] = 550\n",
    "# single_family_df.loc[4390,'TotalBedSqft'] = 676\n",
    "# single_family_df.loc[4446,'TotalBedSqft'] = 1747\n",
    "# single_family_df.loc[5083,'TotalBedSqft'] = 696\n",
    "# single_family_df.loc[6437,'TotalBedSqft'] = 432\n",
    "# single_family_df.loc[6566,'TotalBedSqft'] = 1915\n",
    "# single_family_df.loc[6891,'TotalBedSqft'] = 653\n",
    "# single_family_df.loc[7505,'TotalBedSqft'] = 675.521\n",
    "# single_family_df.loc[7733,'TotalBedSqft'] = 820\n",
    "# single_family_df.loc[10176,'TotalBedSqft'] = 674\n",
    "# single_family_df.loc[10218,'TotalBedSqft'] = 655\n",
    "# single_family_df.loc[10849,'TotalBedSqft'] = 496"
   ]
  },
  {
   "cell_type": "code",
   "execution_count": null,
   "metadata": {},
   "outputs": [],
   "source": [
    "single_family_df['Bedrooms:'].isnull().sum()"
   ]
  },
  {
   "cell_type": "markdown",
   "metadata": {},
   "source": [
    "There are 20 houses with no information about bedrooms and I will drop those rows."
   ]
  },
  {
   "cell_type": "code",
   "execution_count": null,
   "metadata": {},
   "outputs": [],
   "source": [
    "single_family_df=single_family_df[~single_family_df['Bedrooms:'].isnull()]"
   ]
  },
  {
   "cell_type": "code",
   "execution_count": null,
   "metadata": {},
   "outputs": [],
   "source": [
    "single_family_df['Bedrooms:']=single_family_df['Bedrooms:'].str.split(' ').str[0]\n",
    "single_family_df['Bedrooms:']=single_family_df['Bedrooms:'].astype(int)\n",
    "single_family_df.rename(columns = {'Bedrooms:':'NoBed'},inplace=True)\n",
    "single_family_df['NoBed'].describe()"
   ]
  },
  {
   "cell_type": "code",
   "execution_count": null,
   "metadata": {},
   "outputs": [],
   "source": [
    "single_family_df['Average Bedrooms:'].isna().sum()"
   ]
  },
  {
   "cell_type": "code",
   "execution_count": null,
   "metadata": {},
   "outputs": [],
   "source": [
    "single_family_df.groupby('SubName')['Average Bedrooms:'].value_counts()"
   ]
  },
  {
   "cell_type": "code",
   "execution_count": null,
   "metadata": {},
   "outputs": [],
   "source": [
    "single_family_df['Average Bedrooms:'].loc[single_family_df.SubName=='Wortham Park']"
   ]
  },
  {
   "cell_type": "markdown",
   "metadata": {},
   "source": [
    "It seems average bedroom is same for each subdivision. We can fill null values with the mean. "
   ]
  },
  {
   "cell_type": "code",
   "execution_count": null,
   "metadata": {},
   "outputs": [],
   "source": [
    "single_family_df['Average Bedrooms:'] = single_family_df.groupby('SubName')['Average Bedrooms:'].transform(lambda x: x.fillna(x.mean()))"
   ]
  },
  {
   "cell_type": "code",
   "execution_count": null,
   "metadata": {},
   "outputs": [],
   "source": [
    "single_family_df['Average Bedrooms:'].isna().sum()"
   ]
  },
  {
   "cell_type": "markdown",
   "metadata": {},
   "source": [
    "So there is no information for those subdivisions. lets drop these rows"
   ]
  },
  {
   "cell_type": "code",
   "execution_count": null,
   "metadata": {},
   "outputs": [],
   "source": [
    "single_family_df=single_family_df[~single_family_df['Average Bedrooms:'].isnull()]\n",
    "single_family_df.rename(columns ={'Average Bedrooms:':'AvgBed'},inplace=True)"
   ]
  },
  {
   "cell_type": "code",
   "execution_count": null,
   "metadata": {},
   "outputs": [],
   "source": [
    "single_family_df.drop(['Bedroom:','Primary Bedroom:','Primary_Bedroom_clean','Bedroom_clean'],axis=1,inplace=True)"
   ]
  },
  {
   "cell_type": "markdown",
   "metadata": {},
   "source": [
    "## 1.11 Bathrooms<a id='1.11_Bathrooms'></a>"
   ]
  },
  {
   "cell_type": "code",
   "execution_count": null,
   "metadata": {},
   "outputs": [],
   "source": [
    "single_family_df['Baths:'].isnull().sum()"
   ]
  },
  {
   "cell_type": "code",
   "execution_count": null,
   "metadata": {},
   "outputs": [],
   "source": [
    "single_family_df=single_family_df[~single_family_df['Baths:'].isnull()]"
   ]
  },
  {
   "cell_type": "code",
   "execution_count": null,
   "metadata": {},
   "outputs": [],
   "source": [
    "single_family_df[['Baths:']]"
   ]
  },
  {
   "cell_type": "code",
   "execution_count": null,
   "metadata": {},
   "outputs": [],
   "source": [
    "single_family_df['FullBath']=single_family_df['Baths:'].str.split(' ').str[0].astype(int)"
   ]
  },
  {
   "cell_type": "code",
   "execution_count": null,
   "metadata": {},
   "outputs": [],
   "source": [
    "single_family_df['FullBath']"
   ]
  },
  {
   "cell_type": "code",
   "execution_count": null,
   "metadata": {},
   "outputs": [],
   "source": [
    "No_Bath = single_family_df['Baths:'].str.split('&').str[1].str.strip()\n",
    "No_Bath.fillna('0',inplace=True) \n",
    "single_family_df['HalfBath']=[int(item[0]) for item in No_Bath.str.split(' ')]\n",
    "single_family_df['HalfBath'].replace(',','',inplace=True)\n",
    "single_family_df[['FullBath','HalfBath']].info()"
   ]
  },
  {
   "cell_type": "code",
   "execution_count": null,
   "metadata": {},
   "outputs": [],
   "source": [
    "single_family_df.drop('Baths:',axis=1,inplace=True)"
   ]
  },
  {
   "cell_type": "markdown",
   "metadata": {},
   "source": [
    "## 1.12 Stories<a id='1.12_Stories'></a>"
   ]
  },
  {
   "cell_type": "code",
   "execution_count": 365,
   "metadata": {},
   "outputs": [
    {
     "data": {
      "text/plain": [
       "2.0       3820\n",
       "1.0       3141\n",
       "3.0        400\n",
       "1.5        190\n",
       "4.0         54\n",
       "2.5         11\n",
       "2576.0       1\n",
       "5.0          1\n",
       "Name: Stories:, dtype: int64"
      ]
     },
     "execution_count": 365,
     "metadata": {},
     "output_type": "execute_result"
    }
   ],
   "source": [
    "single_family_df['Stories:'].value_counts()"
   ]
  },
  {
   "cell_type": "markdown",
   "metadata": {},
   "source": [
    "There is one house with 2576 stories which I believe it is a typo. Lets take look at this home."
   ]
  },
  {
   "cell_type": "code",
   "execution_count": 366,
   "metadata": {},
   "outputs": [
    {
     "data": {
      "text/plain": [
       "1"
      ]
     },
     "execution_count": 366,
     "metadata": {},
     "output_type": "execute_result"
    }
   ],
   "source": [
    "single_family_df['Stories:'].isnull().sum()"
   ]
  },
  {
   "cell_type": "code",
   "execution_count": 367,
   "metadata": {},
   "outputs": [],
   "source": [
    "single_family_df=single_family_df[~single_family_df['Stories:'].isnull()]"
   ]
  },
  {
   "cell_type": "code",
   "execution_count": 368,
   "metadata": {},
   "outputs": [],
   "source": [
    "single_family_df.rename(columns ={'Stories:':'Stories'},inplace=True)\n",
    "single_family_df['Stories']=pd.to_numeric(single_family_df['Stories'])"
   ]
  },
  {
   "cell_type": "code",
   "execution_count": 369,
   "metadata": {},
   "outputs": [
    {
     "data": {
      "text/plain": [
       "539        5334 Calle Cadiz Place\n",
       "10097    22614 Auburn Valley Lane\n",
       "Name: Address, dtype: object"
      ]
     },
     "execution_count": 369,
     "metadata": {},
     "output_type": "execute_result"
    }
   ],
   "source": [
    "single_family_df['Address'].loc[single_family_df['Stories']>4]"
   ]
  },
  {
   "cell_type": "markdown",
   "metadata": {},
   "source": [
    "The second one is an apartment and second one is 2 stories house. know we replace 2576 with 2."
   ]
  },
  {
   "cell_type": "code",
   "execution_count": 370,
   "metadata": {},
   "outputs": [],
   "source": [
    "single_family_df['Stories'].loc[single_family_df['Stories']==2576]=2"
   ]
  },
  {
   "cell_type": "code",
   "execution_count": 371,
   "metadata": {},
   "outputs": [
    {
     "data": {
      "text/plain": [
       "2.0    3821\n",
       "1.0    3141\n",
       "3.0     400\n",
       "1.5     190\n",
       "4.0      54\n",
       "2.5      11\n",
       "5.0       1\n",
       "Name: Stories, dtype: int64"
      ]
     },
     "execution_count": 371,
     "metadata": {},
     "output_type": "execute_result"
    }
   ],
   "source": [
    "single_family_df['Stories'].value_counts()"
   ]
  },
  {
   "cell_type": "markdown",
   "metadata": {},
   "source": [
    "Since we are looking for single family homes, those apartment are different from what we are looking for. so, images for those houses would be different. I will keep the houses with have equal or less than 3 stories."
   ]
  },
  {
   "cell_type": "code",
   "execution_count": 372,
   "metadata": {},
   "outputs": [
    {
     "data": {
      "text/plain": [
       "2.0    3821\n",
       "1.0    3141\n",
       "3.0     400\n",
       "1.5     190\n",
       "2.5      11\n",
       "Name: Stories, dtype: int64"
      ]
     },
     "execution_count": 372,
     "metadata": {},
     "output_type": "execute_result"
    }
   ],
   "source": [
    "single_family_df = single_family_df[single_family_df.Stories < 4]\n",
    "single_family_df['Stories'].value_counts()"
   ]
  },
  {
   "cell_type": "markdown",
   "metadata": {},
   "source": [
    "## 1.13 Style<a id='1.13_Style'></a>"
   ]
  },
  {
   "cell_type": "code",
   "execution_count": 373,
   "metadata": {},
   "outputs": [
    {
     "data": {
      "text/plain": [
       "Traditional                                           5328\n",
       "Contemporary/Modern                                    645\n",
       "Ranch                                                  320\n",
       "Contemporary/Modern,Traditional                        227\n",
       "Other Style                                            163\n",
       "                                                      ... \n",
       "Georgian,Victorian                                       1\n",
       "Contemporary/Modern,Mediterranean,Spanish,Traditio       1\n",
       "Contemporary/Modern,English                              1\n",
       "Contemporary/Modern,French,Mediterranean,Tradition       1\n",
       "Colonial,Contemporary/Modern,Victorian                   1\n",
       "Name: Style:, Length: 76, dtype: int64"
      ]
     },
     "execution_count": 373,
     "metadata": {},
     "output_type": "execute_result"
    }
   ],
   "source": [
    "single_family_df['Style:'].value_counts()"
   ]
  },
  {
   "cell_type": "code",
   "execution_count": 374,
   "metadata": {},
   "outputs": [
    {
     "data": {
      "text/plain": [
       "0"
      ]
     },
     "execution_count": 374,
     "metadata": {},
     "output_type": "execute_result"
    }
   ],
   "source": [
    "single_family_df['Style:'].isnull().sum()"
   ]
  },
  {
   "cell_type": "code",
   "execution_count": 375,
   "metadata": {},
   "outputs": [],
   "source": [
    "single_family_df.rename(columns ={'Style:':'Style'},inplace=True)"
   ]
  },
  {
   "cell_type": "code",
   "execution_count": 376,
   "metadata": {},
   "outputs": [
    {
     "data": {
      "text/plain": [
       "array(['Contemporary/Modern', 'Traditional', 'Other Style',\n",
       "       'Contemporary/Modern,Traditional', 'Split Level', 'Colonial',\n",
       "       'Mediterranean,Spanish', 'French', 'Mediterranean,Traditional',\n",
       "       'Ranch', 'Mediterranean', 'Other Style,Traditional',\n",
       "       'Contemporary/Modern,French', 'Contemporary/Modern,English,French',\n",
       "       'Contemporary/Modern,Ranch,Traditional', 'Georgian,Traditional',\n",
       "       'French,Traditional', 'Spanish', 'Spanish,Traditional',\n",
       "       'Colonial,Georgian', 'English,Traditional', 'Colonial,Traditional',\n",
       "       'Georgian', 'Other Style,Ranch',\n",
       "       'Contemporary/Modern,French,Traditional', 'Victorian',\n",
       "       'Traditional,Victorian', 'Contemporary/Modern,English,Traditional',\n",
       "       'Colonial,Contemporary/Modern',\n",
       "       'Contemporary/Modern,Mediterranean,Traditional',\n",
       "       'Contemporary/Modern,Mediterranean', 'English',\n",
       "       'Ranch,Traditional', 'Colonial,Ranch,Traditional',\n",
       "       'Other Style,Traditional,Victorian',\n",
       "       'Contemporary/Modern,Split Level,Traditional', 'Colonial,French',\n",
       "       'Georgian,Victorian', 'Colonial,French,Traditional',\n",
       "       'Other Style,Spanish', 'Contemporary/Modern,Ranch,Spanish',\n",
       "       'Other Style,Victorian', 'Other Style,Ranch,Traditional',\n",
       "       'Mediterranean,Ranch,Spanish,Traditional',\n",
       "       'Colonial,Contemporary/Modern,Georgian',\n",
       "       'Contemporary/Modern,Split Level', 'Contemporary/Modern,Spanish',\n",
       "       'Mediterranean,Spanish,Traditional',\n",
       "       'Colonial,English,Traditional', 'Colonial,English,French',\n",
       "       'French,Mediterranean', 'English,French,Traditional',\n",
       "       'Mediterranean,Ranch', 'Split Level,Traditional', 'Colonial,Ranch',\n",
       "       'Mediterranean,Ranch,Traditional', 'Contemporary/Modern,Ranch',\n",
       "       'Ranch,Spanish', 'English,French', 'Contemporary/Modern,English',\n",
       "       'Other Style,Spanish,Traditional', 'Colonial,Split Level',\n",
       "       'Colonial,English', 'French,Mediterranean,Traditional',\n",
       "       'Spanish,Split Level', 'French,Spanish', 'French,Victorian',\n",
       "       'Contemporary/Modern,English,Ranch,Traditional',\n",
       "       'French,Mediterranean,Spanish,Traditional',\n",
       "       'Colonial,Contemporary/Modern,Victorian',\n",
       "       'Contemporary/Modern,Georgian',\n",
       "       'Colonial,Contemporary/Modern,English,French,Ranch',\n",
       "       'Other Style,Ranch,Victorian',\n",
       "       'Contemporary/Modern,French,Mediterranean,Tradition',\n",
       "       'Contemporary/Modern,Georgian,Traditional',\n",
       "       'Contemporary/Modern,Mediterranean,Spanish,Traditio'], dtype=object)"
      ]
     },
     "execution_count": 376,
     "metadata": {},
     "output_type": "execute_result"
    }
   ],
   "source": [
    "single_family_df['Style'].unique()"
   ]
  },
  {
   "cell_type": "code",
   "execution_count": 377,
   "metadata": {},
   "outputs": [],
   "source": [
    "standard_style=['Contemporary/Modern','Traditional','Mediterranean','Colonial','Ranch','Split Level','Other']\n",
    "#For each correct roof  type . in standard roof list\n",
    "for style in standard_style:\n",
    "    \n",
    "    # Find matches in gender\n",
    "    matches = process.extract(style, single_family_df.Style,\n",
    "                 limit = single_family_df.shape[0])\n",
    "    \n",
    "    \n",
    "# For each possible_match with similarity score >= 90\n",
    "    for possible_match in matches:\n",
    "        if possible_match[1] >= 90:\n",
    "      \n",
    "            \n",
    "            matching = single_family_df.Style == possible_match[0]\n",
    "           # I decided to use 'W' for female since there is high similarity between 'female' and 'male' \n",
    "        single_family_df.loc[matching , 'Style'] = style"
   ]
  },
  {
   "cell_type": "markdown",
   "metadata": {},
   "source": [
    "## 1.14 Year Built<a id='1.14_Year_Built'></a>"
   ]
  },
  {
   "cell_type": "code",
   "execution_count": 378,
   "metadata": {},
   "outputs": [
    {
     "data": {
      "text/plain": [
       "31"
      ]
     },
     "execution_count": 378,
     "metadata": {},
     "output_type": "execute_result"
    }
   ],
   "source": [
    "single_family_df['Year Built:'].isnull().sum()"
   ]
  },
  {
   "cell_type": "code",
   "execution_count": 379,
   "metadata": {},
   "outputs": [
    {
     "data": {
      "text/plain": [
       "2020   / Builder               955\n",
       "2006   / Appraisal District    180\n",
       "2005   / Appraisal District    144\n",
       "2014   / Appraisal District    135\n",
       "1955   / Appraisal District    131\n",
       "                              ... \n",
       "2004   / Seller                  1\n",
       "1942   / Appraisal               1\n",
       "1985   / Appraisal               1\n",
       "1912   / Builder                 1\n",
       "1991   / Seller                  1\n",
       "Name: Year Built:, Length: 278, dtype: int64"
      ]
     },
     "execution_count": 379,
     "metadata": {},
     "output_type": "execute_result"
    }
   ],
   "source": [
    "single_family_df['Year Built:'].value_counts()"
   ]
  },
  {
   "cell_type": "code",
   "execution_count": 380,
   "metadata": {},
   "outputs": [
    {
     "data": {
      "text/plain": [
       "2020    1004\n",
       "2006     204\n",
       "2015     172\n",
       "2014     166\n",
       "2005     161\n",
       "        ... \n",
       "1922       1\n",
       "1934       1\n",
       "1875       1\n",
       "1907       1\n",
       "1896       1\n",
       "Name: Year Built:, Length: 113, dtype: int64"
      ]
     },
     "execution_count": 380,
     "metadata": {},
     "output_type": "execute_result"
    }
   ],
   "source": [
    "single_family_df=single_family_df[~single_family_df['Year Built:'].isnull()]\n",
    "single_family_df['Year Built:']=single_family_df['Year Built:'].apply(lambda x:str(x).split(' ')[0])\n",
    "single_family_df['Year Built:']=pd.to_datetime(single_family_df['Year Built:'],format='%Y').dt.year\n",
    "single_family_df['Year Built:'].value_counts()"
   ]
  },
  {
   "cell_type": "markdown",
   "metadata": {},
   "source": [
    "Those houses with year build of 2020 mostly under construction and there is no images from inside or even outside. I will drop those houses too."
   ]
  },
  {
   "cell_type": "code",
   "execution_count": 381,
   "metadata": {},
   "outputs": [],
   "source": [
    "single_family_df.rename(columns ={'Year Built:':'YearBuilt'},inplace=True)"
   ]
  },
  {
   "cell_type": "code",
   "execution_count": 382,
   "metadata": {},
   "outputs": [
    {
     "data": {
      "text/plain": [
       "2006    204\n",
       "2015    172\n",
       "2014    166\n",
       "2005    161\n",
       "1960    144\n",
       "       ... \n",
       "1916      1\n",
       "1908      1\n",
       "1904      1\n",
       "1900      1\n",
       "1896      1\n",
       "Name: YearBuilt, Length: 111, dtype: int64"
      ]
     },
     "execution_count": 382,
     "metadata": {},
     "output_type": "execute_result"
    }
   ],
   "source": [
    "single_family_df = single_family_df[single_family_df.YearBuilt < 2020]\n",
    "single_family_df['YearBuilt'].value_counts()"
   ]
  },
  {
   "cell_type": "markdown",
   "metadata": {},
   "source": [
    "## 1.15 Building Sqft<a id='1.15_Building_Sqft'></a>"
   ]
  },
  {
   "cell_type": "code",
   "execution_count": 383,
   "metadata": {},
   "outputs": [
    {
     "data": {
      "text/plain": [
       "13                  1,736161(mÂ²)  /Builder\n",
       "20       2,671248(mÂ²)  /Appraisal District\n",
       "28       1,972183(mÂ²)  /Appraisal District\n",
       "29       1,688157(mÂ²)  /Appraisal District\n",
       "30       1,410131(mÂ²)  /Appraisal District\n",
       "                        ...                \n",
       "11029       83978(mÂ²)  /Appraisal District\n",
       "11030       92386(mÂ²)  /Appraisal District\n",
       "11031    1,563145(mÂ²)  /Appraisal District\n",
       "11032    1,461136(mÂ²)  /Appraisal District\n",
       "11033    1,348125(mÂ²)  /Appraisal District\n",
       "Name: Building Sqft.:, Length: 6458, dtype: object"
      ]
     },
     "execution_count": 383,
     "metadata": {},
     "output_type": "execute_result"
    }
   ],
   "source": [
    "single_family_df['Building Sqft.:']"
   ]
  },
  {
   "cell_type": "code",
   "execution_count": 384,
   "metadata": {},
   "outputs": [
    {
     "data": {
      "text/plain": [
       "11"
      ]
     },
     "execution_count": 384,
     "metadata": {},
     "output_type": "execute_result"
    }
   ],
   "source": [
    "single_family_df['Building Sqft.:'].isnull().sum()"
   ]
  },
  {
   "cell_type": "code",
   "execution_count": 385,
   "metadata": {},
   "outputs": [],
   "source": [
    "single_family_df=single_family_df[~single_family_df['Building Sqft.:'].isnull()]\n",
    "single_family_df['Building Sqft.:']=single_family_df['Building Sqft.:'].apply(lambda x:x.split(',')[0] + x.split(',')[1][0:3] if ',' in x else x[0:3])\n",
    "single_family_df['Building Sqft.:']=single_family_df['Building Sqft.:'].str.replace(',','')\n",
    "single_family_df['Building Sqft.:']=pd.to_numeric(single_family_df['Building Sqft.:'])\n",
    "single_family_df.rename(columns ={'Building Sqft.:':'BuildSqft'},inplace=True)"
   ]
  },
  {
   "cell_type": "code",
   "execution_count": 386,
   "metadata": {},
   "outputs": [
    {
     "data": {
      "text/plain": [
       "count     6447.000000\n",
       "mean      2824.024973\n",
       "std       1332.015240\n",
       "min        400.000000\n",
       "25%       1936.000000\n",
       "50%       2550.000000\n",
       "75%       3406.000000\n",
       "max      21032.000000\n",
       "Name: BuildSqft, dtype: float64"
      ]
     },
     "execution_count": 386,
     "metadata": {},
     "output_type": "execute_result"
    }
   ],
   "source": [
    "single_family_df.BuildSqft.describe()"
   ]
  },
  {
   "cell_type": "markdown",
   "metadata": {},
   "source": [
    "## 1.16 Lot Size<a id='1.16_Lot_Size'></a>"
   ]
  },
  {
   "cell_type": "code",
   "execution_count": 387,
   "metadata": {},
   "outputs": [
    {
     "data": {
      "text/plain": [
       "48"
      ]
     },
     "execution_count": 387,
     "metadata": {},
     "output_type": "execute_result"
    }
   ],
   "source": [
    "single_family_df['Lot Size:'].isnull().sum()"
   ]
  },
  {
   "cell_type": "code",
   "execution_count": 388,
   "metadata": {},
   "outputs": [],
   "source": [
    "single_family_df=single_family_df[~single_family_df['Lot Size:'].isnull()]"
   ]
  },
  {
   "cell_type": "code",
   "execution_count": 389,
   "metadata": {},
   "outputs": [
    {
     "data": {
      "text/plain": [
       "13       1,428 Sqft.133(mÂ²)  /Appraisal District\n",
       "20       2,006 Sqft.186(mÂ²)  /Appraisal District\n",
       "28       5,000 Sqft.465(mÂ²)  /Appraisal District\n",
       "29       1,918 Sqft.178(mÂ²)  /Appraisal District\n",
       "30       1,845 Sqft.171(mÂ²)  /Appraisal District\n",
       "                           ...                   \n",
       "11029    7,100 Sqft.660(mÂ²)  /Appraisal District\n",
       "11030    7,100 Sqft.660(mÂ²)  /Appraisal District\n",
       "11031    7,100 Sqft.660(mÂ²)  /Appraisal District\n",
       "11032    7,200 Sqft.669(mÂ²)  /Appraisal District\n",
       "11033    7,100 Sqft.660(mÂ²)  /Appraisal District\n",
       "Name: Lot Size:, Length: 6399, dtype: object"
      ]
     },
     "execution_count": 389,
     "metadata": {},
     "output_type": "execute_result"
    }
   ],
   "source": [
    "single_family_df['Lot Size:']"
   ]
  },
  {
   "cell_type": "code",
   "execution_count": 390,
   "metadata": {},
   "outputs": [],
   "source": [
    "single_family_df['Lot Size:']=single_family_df['Lot Size:'].str.replace(',','')\n",
    "single_family_df['Lot Size:']=single_family_df['Lot Size:'].apply(lambda x:float(x.split(' ')[0])*43560 if 'Acres' in \n",
    "                                                                  x else float(x.split(' ')[0]))\n",
    "\n",
    "# single_family_df['Lot Size:']=pd.to_numeric(single_family_df['Lot Size:'])\n",
    "single_family_df.rename(columns ={'Lot Size:':'LotSize'},inplace=True)"
   ]
  },
  {
   "cell_type": "code",
   "execution_count": 391,
   "metadata": {},
   "outputs": [
    {
     "data": {
      "text/plain": [
       "count    6.399000e+03\n",
       "mean     1.133162e+04\n",
       "std      2.817675e+04\n",
       "min      0.000000e+00\n",
       "25%      6.446000e+03\n",
       "50%      8.160000e+03\n",
       "75%      1.020050e+04\n",
       "max      1.306800e+06\n",
       "Name: LotSize, dtype: float64"
      ]
     },
     "execution_count": 391,
     "metadata": {},
     "output_type": "execute_result"
    }
   ],
   "source": [
    "single_family_df.LotSize.describe()"
   ]
  },
  {
   "cell_type": "markdown",
   "metadata": {},
   "source": [
    "the minimum lot size is 0 which need to investigate."
   ]
  },
  {
   "cell_type": "code",
   "execution_count": 392,
   "metadata": {},
   "outputs": [
    {
     "data": {
      "text/html": [
       "<div>\n",
       "<style scoped>\n",
       "    .dataframe tbody tr th:only-of-type {\n",
       "        vertical-align: middle;\n",
       "    }\n",
       "\n",
       "    .dataframe tbody tr th {\n",
       "        vertical-align: top;\n",
       "    }\n",
       "\n",
       "    .dataframe thead th {\n",
       "        text-align: right;\n",
       "    }\n",
       "</style>\n",
       "<table border=\"1\" class=\"dataframe\">\n",
       "  <thead>\n",
       "    <tr style=\"text-align: right;\">\n",
       "      <th></th>\n",
       "      <th>image_link</th>\n",
       "      <th>ListingPrice</th>\n",
       "      <th>Address</th>\n",
       "      <th>City:</th>\n",
       "      <th>ZipCode</th>\n",
       "      <th>County</th>\n",
       "      <th>Legal</th>\n",
       "      <th>NoBed</th>\n",
       "      <th>Stories</th>\n",
       "      <th>Style</th>\n",
       "      <th>...</th>\n",
       "      <th>MedianApp</th>\n",
       "      <th>MedianYearBlt</th>\n",
       "      <th>MedianSqft</th>\n",
       "      <th>AvgNeighborValRange</th>\n",
       "      <th>MedianPrice/Sqft</th>\n",
       "      <th>PaidTax</th>\n",
       "      <th>TaxRate</th>\n",
       "      <th>TotalBedSqft</th>\n",
       "      <th>FullBath</th>\n",
       "      <th>HalfBath</th>\n",
       "    </tr>\n",
       "  </thead>\n",
       "  <tbody>\n",
       "    <tr>\n",
       "      <th>3267</th>\n",
       "      <td>['https://photos.harstatic.com/191172097/hr/img-1.jpeg?ts=2020-11-10T18:10:20.193', 'https://pho...</td>\n",
       "      <td>339000</td>\n",
       "      <td>9609 Fannin Station E</td>\n",
       "      <td>Houston</td>\n",
       "      <td>77045</td>\n",
       "      <td>Harris County</td>\n",
       "      <td>LT 52 BLK 1 FANNIN STATION SEC 1</td>\n",
       "      <td>3</td>\n",
       "      <td>3.0</td>\n",
       "      <td>Contemporary/Modern</td>\n",
       "      <td>...</td>\n",
       "      <td>349985</td>\n",
       "      <td>2013</td>\n",
       "      <td>1383</td>\n",
       "      <td>371500.0</td>\n",
       "      <td>166.43</td>\n",
       "      <td>8636.0</td>\n",
       "      <td>2.4216</td>\n",
       "      <td>485.479167</td>\n",
       "      <td>3</td>\n",
       "      <td>1</td>\n",
       "    </tr>\n",
       "    <tr>\n",
       "      <th>4765</th>\n",
       "      <td>['https://photos.harstatic.com/190806088/hr/img-1.jpeg?ts=2020-10-25T08:51:53.280', 'https://pho...</td>\n",
       "      <td>173550</td>\n",
       "      <td>7807 Vickijohn</td>\n",
       "      <td>Houston</td>\n",
       "      <td>77071</td>\n",
       "      <td>Harris County</td>\n",
       "      <td>TR 2 BLK 2 FONDREN SW NORTHFIELD SEC 1</td>\n",
       "      <td>3</td>\n",
       "      <td>1.0</td>\n",
       "      <td>Contemporary/Modern</td>\n",
       "      <td>...</td>\n",
       "      <td>214780</td>\n",
       "      <td>1977</td>\n",
       "      <td>8740</td>\n",
       "      <td>229000.0</td>\n",
       "      <td>84.39</td>\n",
       "      <td>2743.0</td>\n",
       "      <td>2.6237</td>\n",
       "      <td>528.000000</td>\n",
       "      <td>2</td>\n",
       "      <td>0</td>\n",
       "    </tr>\n",
       "  </tbody>\n",
       "</table>\n",
       "<p>2 rows × 58 columns</p>\n",
       "</div>"
      ],
      "text/plain": [
       "                                                                                               image_link  \\\n",
       "3267  ['https://photos.harstatic.com/191172097/hr/img-1.jpeg?ts=2020-11-10T18:10:20.193', 'https://pho...   \n",
       "4765  ['https://photos.harstatic.com/190806088/hr/img-1.jpeg?ts=2020-10-25T08:51:53.280', 'https://pho...   \n",
       "\n",
       "      ListingPrice                Address    City:  ZipCode         County  \\\n",
       "3267        339000  9609 Fannin Station E  Houston    77045  Harris County   \n",
       "4765        173550         7807 Vickijohn  Houston    77071  Harris County   \n",
       "\n",
       "                                       Legal  NoBed  Stories  \\\n",
       "3267        LT 52 BLK 1 FANNIN STATION SEC 1      3      3.0   \n",
       "4765  TR 2 BLK 2 FONDREN SW NORTHFIELD SEC 1      3      1.0   \n",
       "\n",
       "                    Style  ...  MedianApp  MedianYearBlt  MedianSqft  \\\n",
       "3267  Contemporary/Modern  ...     349985           2013        1383   \n",
       "4765  Contemporary/Modern  ...     214780           1977        8740   \n",
       "\n",
       "     AvgNeighborValRange MedianPrice/Sqft PaidTax TaxRate TotalBedSqft  \\\n",
       "3267            371500.0           166.43  8636.0  2.4216   485.479167   \n",
       "4765            229000.0            84.39  2743.0  2.6237   528.000000   \n",
       "\n",
       "     FullBath HalfBath  \n",
       "3267        3        1  \n",
       "4765        2        0  \n",
       "\n",
       "[2 rows x 58 columns]"
      ]
     },
     "execution_count": 392,
     "metadata": {},
     "output_type": "execute_result"
    }
   ],
   "source": [
    "single_family_df[single_family_df.LotSize <1000]"
   ]
  },
  {
   "cell_type": "markdown",
   "metadata": {},
   "source": [
    "There is one house with lot size less than 1000. lest drop it."
   ]
  },
  {
   "cell_type": "code",
   "execution_count": 393,
   "metadata": {},
   "outputs": [
    {
     "data": {
      "text/plain": [
       "count    6.397000e+03\n",
       "mean     1.133501e+04\n",
       "std      2.818050e+04\n",
       "min      1.104000e+03\n",
       "25%      6.448000e+03\n",
       "50%      8.160000e+03\n",
       "75%      1.020100e+04\n",
       "max      1.306800e+06\n",
       "Name: LotSize, dtype: float64"
      ]
     },
     "execution_count": 393,
     "metadata": {},
     "output_type": "execute_result"
    }
   ],
   "source": [
    "single_family_df = single_family_df[single_family_df.LotSize >= 1000]\n",
    "single_family_df.LotSize.describe()"
   ]
  },
  {
   "cell_type": "markdown",
   "metadata": {},
   "source": [
    "## 1.17 Maintenance Fee<a id='1.17_Maintenance_Fee'></a>"
   ]
  },
  {
   "cell_type": "code",
   "execution_count": 394,
   "metadata": {},
   "outputs": [
    {
     "data": {
      "text/plain": [
       "13       ['$ 1195 / Annually', 'Mandatory / $1195 / Annually']\n",
       "20       ['$ 2244 / Annually', 'Mandatory / $2244 / Annually']\n",
       "28                                                          No\n",
       "29       ['$ 1500 / Annually', 'Mandatory / $1500 / Annually']\n",
       "30       ['$ 1400 / Annually', 'Mandatory / $1400 / Annually']\n",
       "                                 ...                          \n",
       "11029                                                       No\n",
       "11030                                                       No\n",
       "11031                                                       No\n",
       "11032                                                       No\n",
       "11033                                                       No\n",
       "Name: Maintenance Fee:, Length: 6397, dtype: object"
      ]
     },
     "execution_count": 394,
     "metadata": {},
     "output_type": "execute_result"
    }
   ],
   "source": [
    "single_family_df['Maintenance Fee:']"
   ]
  },
  {
   "cell_type": "code",
   "execution_count": 395,
   "metadata": {},
   "outputs": [
    {
     "data": {
      "text/plain": [
       "16"
      ]
     },
     "execution_count": 395,
     "metadata": {},
     "output_type": "execute_result"
    }
   ],
   "source": [
    "single_family_df['Maintenance Fee:'].isnull().sum()"
   ]
  },
  {
   "cell_type": "code",
   "execution_count": 396,
   "metadata": {},
   "outputs": [
    {
     "data": {
      "text/plain": [
       "No                                                       1510\n",
       "['$ 650 / Annually', 'Mandatory / $650 / Annually']       125\n",
       "['$ 450 / Annually', 'Mandatory / $450 / Annually']       124\n",
       "['$ 350 / Annually', 'Mandatory / $350 / Annually']       118\n",
       "['$ 400 / Annually', 'Mandatory / $400 / Annually']       100\n",
       "                                                         ... \n",
       "['$ 105 / Annually', 'Mandatory / $105 / Annually']         1\n",
       "['$ 405 / Annually', 'Mandatory / $405 / Annually']         1\n",
       "['$ 969 / Annually', 'Mandatory / $969 / Annually']         1\n",
       "['$ 698 / Annually', 'Mandatory / $698 / Annually']         1\n",
       "['$ 2760 / Annually', 'Mandatory / $2760 / Annually']       1\n",
       "Name: Maintenance Fee:, Length: 814, dtype: int64"
      ]
     },
     "execution_count": 396,
     "metadata": {},
     "output_type": "execute_result"
    }
   ],
   "source": [
    "single_family_df['Maintenance Fee:'].value_counts()"
   ]
  },
  {
   "cell_type": "code",
   "execution_count": 397,
   "metadata": {},
   "outputs": [
    {
     "data": {
      "text/plain": [
       "1557"
      ]
     },
     "execution_count": 397,
     "metadata": {},
     "output_type": "execute_result"
    }
   ],
   "source": [
    "single_family_df['Maintenance Fee:'].isin(['No','No / $0','Voluntary / Annually','Voluntary /0/ Annually']).sum()"
   ]
  },
  {
   "cell_type": "code",
   "execution_count": 398,
   "metadata": {},
   "outputs": [],
   "source": [
    "def MaintenanceFee(fee):\n",
    "    \"\"\"This function calculates the Maintenance fee for this column\"\"\"\n",
    "    if type(fee) != float:\n",
    "        fee = fee.split(',')[0].split('/')\n",
    "        if fee[0].strip() in ['No','No / $0','Voluntary / Annually','Voluntary /0/ Annually','Voluntary','Mandatory']:\n",
    "            fee = 0\n",
    "        elif len(fee) > 1 and fee[1].replace('\\'','').strip() in ['Annually']:\n",
    "            fee = float(fee[0].replace('$','').replace('\\'','').replace(' ','').replace('[',''))\n",
    "        elif len(fee) > 1 and fee[1].replace('\\'','').strip() in ['Quarterly']:   \n",
    "            fee = float(fee[0].replace('$','').replace('\\'','').replace(' ','').replace('[',''))*4\n",
    "        elif len(fee) > 1 and fee[1].replace('\\'','').strip() in ['Monthly']:   \n",
    "            fee = float(fee[0].replace('$','').replace('\\'','').replace(' ','').replace('[',''))*12 \n",
    "        else:\n",
    "            fee = float(fee[0].replace('$','').replace('\\'','').replace(' ','').replace('[',''))\n",
    "    else:\n",
    "        fee = 0\n",
    "    return fee"
   ]
  },
  {
   "cell_type": "code",
   "execution_count": 399,
   "metadata": {},
   "outputs": [],
   "source": [
    "single_family_df['MaintenanceFee'] = single_family_df['Maintenance Fee:'].apply(MaintenanceFee)"
   ]
  },
  {
   "cell_type": "code",
   "execution_count": 400,
   "metadata": {},
   "outputs": [],
   "source": [
    "single_family_df.drop('Maintenance Fee:',axis=1,inplace=True)"
   ]
  },
  {
   "cell_type": "markdown",
   "metadata": {},
   "source": [
    "## 1.18 Fireplace<a id='1.18_Fireplace'></a>"
   ]
  },
  {
   "cell_type": "code",
   "execution_count": 401,
   "metadata": {},
   "outputs": [
    {
     "data": {
      "text/plain": [
       "1/Gaslog Fireplace                                                          1154\n",
       "1                                                                            741\n",
       "1/Gas Connections                                                            653\n",
       "1/Wood Burning Fireplace                                                     463\n",
       "1/Gas Connections, Gaslog Fireplace                                          340\n",
       "                                                                            ... \n",
       "2/Stove                                                                        1\n",
       "1/Freestanding, Stove                                                          1\n",
       "/Stove                                                                         1\n",
       "1/Freestanding, Mock Fireplace                                                 1\n",
       "3/Freestanding, Gaslog Fireplace, Mock Fireplace, Wood Burning Fireplace       1\n",
       "Name: Fireplace:, Length: 83, dtype: int64"
      ]
     },
     "execution_count": 401,
     "metadata": {},
     "output_type": "execute_result"
    }
   ],
   "source": [
    "single_family_df['Fireplace:'].value_counts()"
   ]
  },
  {
   "cell_type": "code",
   "execution_count": 402,
   "metadata": {},
   "outputs": [
    {
     "data": {
      "text/plain": [
       "1    4046\n",
       "n    1736\n",
       "2     443\n",
       "3      99\n",
       "/      39\n",
       "4      23\n",
       "5      10\n",
       "6       1\n",
       "dtype: int64"
      ]
     },
     "execution_count": 402,
     "metadata": {},
     "output_type": "execute_result"
    }
   ],
   "source": [
    "pd.Series([str(x)[0]  for x in single_family_df['Fireplace:'] if x is not None]).value_counts()"
   ]
  },
  {
   "cell_type": "code",
   "execution_count": 403,
   "metadata": {},
   "outputs": [],
   "source": [
    "single_family_df['Fireplace:']=single_family_df['Fireplace:'].apply(lambda x:int(str(x)[0]) if str(x)[0]\n",
    "                                                                    in ['1','2','3','4','5','6','7'] else 0)"
   ]
  },
  {
   "cell_type": "code",
   "execution_count": 404,
   "metadata": {},
   "outputs": [
    {
     "data": {
      "text/plain": [
       "1    4046\n",
       "0    1775\n",
       "2     443\n",
       "3      99\n",
       "4      23\n",
       "5      10\n",
       "6       1\n",
       "Name: Fireplace:, dtype: int64"
      ]
     },
     "execution_count": 404,
     "metadata": {},
     "output_type": "execute_result"
    }
   ],
   "source": [
    "single_family_df['Fireplace:'].value_counts()"
   ]
  },
  {
   "cell_type": "markdown",
   "metadata": {},
   "source": [
    "## 1.19 HOA Mandatory<a id='1.19_HOA_Mandatory'></a>"
   ]
  },
  {
   "cell_type": "code",
   "execution_count": 405,
   "metadata": {},
   "outputs": [
    {
     "data": {
      "text/plain": [
       "13       Yes\n",
       "20       Yes\n",
       "28        No\n",
       "29       Yes\n",
       "30       Yes\n",
       "        ... \n",
       "11029     No\n",
       "11030     No\n",
       "11031     No\n",
       "11032     No\n",
       "11033     No\n",
       "Name: HOA Mandatory:, Length: 6397, dtype: object"
      ]
     },
     "execution_count": 405,
     "metadata": {},
     "output_type": "execute_result"
    }
   ],
   "source": [
    "single_family_df['HOA Mandatory:']"
   ]
  },
  {
   "cell_type": "markdown",
   "metadata": {},
   "source": [
    "We can fill null values for HOA by 'NO'."
   ]
  },
  {
   "cell_type": "code",
   "execution_count": 406,
   "metadata": {},
   "outputs": [],
   "source": [
    "single_family_df['HOA Mandatory:'][single_family_df['HOA Mandatory:'].isnull()]='No'\n",
    "single_family_df.rename(columns ={'HOA Mandatory:':'HOA'},inplace=True)"
   ]
  },
  {
   "cell_type": "code",
   "execution_count": 407,
   "metadata": {},
   "outputs": [
    {
     "data": {
      "text/html": [
       "<div>\n",
       "<style scoped>\n",
       "    .dataframe tbody tr th:only-of-type {\n",
       "        vertical-align: middle;\n",
       "    }\n",
       "\n",
       "    .dataframe tbody tr th {\n",
       "        vertical-align: top;\n",
       "    }\n",
       "\n",
       "    .dataframe thead th {\n",
       "        text-align: right;\n",
       "    }\n",
       "</style>\n",
       "<table border=\"1\" class=\"dataframe\">\n",
       "  <thead>\n",
       "    <tr style=\"text-align: right;\">\n",
       "      <th></th>\n",
       "      <th>count</th>\n",
       "      <th>%</th>\n",
       "    </tr>\n",
       "  </thead>\n",
       "  <tbody>\n",
       "    <tr>\n",
       "      <th>Median Appraised Value / Square ft.:</th>\n",
       "      <td>6265</td>\n",
       "      <td>97.936533</td>\n",
       "    </tr>\n",
       "    <tr>\n",
       "      <th>Legal</th>\n",
       "      <td>1</td>\n",
       "      <td>0.015632</td>\n",
       "    </tr>\n",
       "  </tbody>\n",
       "</table>\n",
       "</div>"
      ],
      "text/plain": [
       "                                      count          %\n",
       "Median Appraised Value / Square ft.:   6265  97.936533\n",
       "Legal                                     1   0.015632"
      ]
     },
     "execution_count": 407,
     "metadata": {},
     "output_type": "execute_result"
    }
   ],
   "source": [
    "missing = missing_cal(single_family_df)\n",
    "missing.loc[missing['%'] > 0].sort_values(by=\"%\",ascending=False)"
   ]
  },
  {
   "cell_type": "markdown",
   "metadata": {},
   "source": [
    "Median Appraised Value / Square ft.: has 100% missing value we can drop it and also drop rows with null value for legal."
   ]
  },
  {
   "cell_type": "code",
   "execution_count": 408,
   "metadata": {},
   "outputs": [],
   "source": [
    "single_family_df.drop('Median Appraised Value / Square ft.:',axis = 1, inplace=True)\n",
    "single_family_df=single_family_df[~single_family_df['Legal'].isnull()]\n",
    "single_family_df=single_family_df[~single_family_df['TotalBedSqft'].isnull()]"
   ]
  },
  {
   "cell_type": "markdown",
   "metadata": {},
   "source": [
    "lets take a look at dataset to see if we need to rename some columns:"
   ]
  },
  {
   "cell_type": "code",
   "execution_count": 409,
   "metadata": {},
   "outputs": [
    {
     "data": {
      "text/plain": [
       "Index(['image_link', 'ListingPrice', 'Address', 'City:', 'ZipCode', 'County',\n",
       "       'Legal', 'NoBed', 'Stories', 'Style', 'YearBuilt', 'BuildSqft',\n",
       "       'LotSize', 'Fireplace:', 'Heating:', 'Cooling:', 'Ice Maker:',\n",
       "       'Microwave:', 'Compactor:', 'Dishwasher:', 'Disposal:', 'Roof:',\n",
       "       'Foundation:', 'Private Pool:', 'Exterior Type:', 'Lot Description:',\n",
       "       'Controlled Access:', 'Water Sewer:', 'Unit Location:', 'Area Pool:',\n",
       "       'Dwelling Type:', 'HOA', 'List Type:', 'Other Fees:', 'AvgBed',\n",
       "       'Average Baths:', 'Carport Description:', 'UtilitySqft', 'StudySqft',\n",
       "       'GameSqft', 'BreakfastSqft', 'Garage', 'LivingSqft', 'DiningSqft',\n",
       "       'KitchenSqft', 'SubName', 'MedianApp', 'MedianYearBlt', 'MedianSqft',\n",
       "       'AvgNeighborValRange', 'MedianPrice/Sqft', 'PaidTax', 'TaxRate',\n",
       "       'TotalBedSqft', 'FullBath', 'HalfBath', 'MaintenanceFee'],\n",
       "      dtype='object')"
      ]
     },
     "execution_count": 409,
     "metadata": {},
     "output_type": "execute_result"
    }
   ],
   "source": [
    "single_family_df.columns"
   ]
  },
  {
   "cell_type": "code",
   "execution_count": 410,
   "metadata": {},
   "outputs": [],
   "source": [
    "single_family_df.reset_index(inplace=True,drop=True)"
   ]
  },
  {
   "cell_type": "code",
   "execution_count": 411,
   "metadata": {},
   "outputs": [],
   "source": [
    "single_family_df.rename(columns = {'City:':'City','Fireplace:':'Fireplace', 'Heating:':'Heating', 'Cooling:':'Cooling',\n",
    "                                   'Ice Maker:':'IceMaker', 'Microwave:':'Microwave','Compactor:':'Compactor',\n",
    "                                   'Dishwasher:':'Dishwasher','Disposal:':'Disposal','Roof:':'Roof',\n",
    "                                   'Foundation:':'Foundation','Private Pool:':'PrivatePool',\n",
    "                                   'Exterior Type:':'ExteriorType','Lot Description:':'LotDes',\n",
    "                                   'Controlled Access:':'ControlAccess','Water Sewer:':'WaterSewer',\n",
    "                                   'Unit Location:':'UnitLoc','Area Pool:':'AreaPool','Dwelling Type:':'DwellingType',\n",
    "                                   'List Type:':'ListType','Other Fees:':'OtherFees','Average Baths:':'AvgBaths',\n",
    "                                   'Carport Description:':'CarportDescription'},inplace=True)"
   ]
  },
  {
   "cell_type": "code",
   "execution_count": 412,
   "metadata": {},
   "outputs": [
    {
     "name": "stdout",
     "output_type": "stream",
     "text": [
      "<class 'pandas.core.frame.DataFrame'>\n",
      "RangeIndex: 6396 entries, 0 to 6395\n",
      "Data columns (total 57 columns):\n",
      " #   Column               Non-Null Count  Dtype  \n",
      "---  ------               --------------  -----  \n",
      " 0   image_link           6396 non-null   object \n",
      " 1   ListingPrice         6396 non-null   int64  \n",
      " 2   Address              6396 non-null   object \n",
      " 3   City                 6396 non-null   object \n",
      " 4   ZipCode              6396 non-null   int64  \n",
      " 5   County               6396 non-null   object \n",
      " 6   Legal                6396 non-null   object \n",
      " 7   NoBed                6396 non-null   int32  \n",
      " 8   Stories              6396 non-null   float64\n",
      " 9   Style                6396 non-null   object \n",
      " 10  YearBuilt            6396 non-null   int64  \n",
      " 11  BuildSqft            6396 non-null   int64  \n",
      " 12  LotSize              6396 non-null   float64\n",
      " 13  Fireplace            6396 non-null   int64  \n",
      " 14  Heating              6396 non-null   object \n",
      " 15  Cooling              6396 non-null   object \n",
      " 16  IceMaker             6396 non-null   object \n",
      " 17  Microwave            6396 non-null   object \n",
      " 18  Compactor            6396 non-null   object \n",
      " 19  Dishwasher           6396 non-null   object \n",
      " 20  Disposal             6396 non-null   object \n",
      " 21  Roof                 6396 non-null   object \n",
      " 22  Foundation           6396 non-null   object \n",
      " 23  PrivatePool          6396 non-null   object \n",
      " 24  ExteriorType         6396 non-null   object \n",
      " 25  LotDes               6396 non-null   object \n",
      " 26  ControlAccess        6396 non-null   object \n",
      " 27  WaterSewer           6396 non-null   object \n",
      " 28  UnitLoc              6396 non-null   object \n",
      " 29  AreaPool             6396 non-null   object \n",
      " 30  DwellingType         6396 non-null   object \n",
      " 31  HOA                  6396 non-null   object \n",
      " 32  ListType             6396 non-null   object \n",
      " 33  OtherFees            6396 non-null   object \n",
      " 34  AvgBed               6396 non-null   float64\n",
      " 35  AvgBaths             6396 non-null   float64\n",
      " 36  CarportDescription   6396 non-null   object \n",
      " 37  UtilitySqft          6396 non-null   float64\n",
      " 38  StudySqft            6396 non-null   float64\n",
      " 39  GameSqft             6396 non-null   float64\n",
      " 40  BreakfastSqft        6396 non-null   float64\n",
      " 41  Garage               6396 non-null   int32  \n",
      " 42  LivingSqft           6396 non-null   float64\n",
      " 43  DiningSqft           6396 non-null   float64\n",
      " 44  KitchenSqft          6396 non-null   float64\n",
      " 45  SubName              6396 non-null   object \n",
      " 46  MedianApp            6396 non-null   int64  \n",
      " 47  MedianYearBlt        6396 non-null   int64  \n",
      " 48  MedianSqft           6396 non-null   int64  \n",
      " 49  AvgNeighborValRange  6396 non-null   float64\n",
      " 50  MedianPrice/Sqft     6396 non-null   float64\n",
      " 51  PaidTax              6396 non-null   float64\n",
      " 52  TaxRate              6396 non-null   float64\n",
      " 53  TotalBedSqft         6396 non-null   float64\n",
      " 54  FullBath             6396 non-null   int32  \n",
      " 55  HalfBath             6396 non-null   int64  \n",
      " 56  MaintenanceFee       6396 non-null   float64\n",
      "dtypes: float64(17), int32(3), int64(9), object(28)\n",
      "memory usage: 2.7+ MB\n"
     ]
    }
   ],
   "source": [
    "single_family_df.info()"
   ]
  },
  {
   "cell_type": "markdown",
   "metadata": {},
   "source": [
    "## 1.20 Other Fees<a id='1.20_Other_Fees'></a>"
   ]
  },
  {
   "cell_type": "code",
   "execution_count": 413,
   "metadata": {},
   "outputs": [
    {
     "data": {
      "text/plain": [
       "No                                                                    2873\n",
       "Yes / 250 / Transfer Fee                                               401\n",
       "Yes / 250 / Transfer                                                   155\n",
       "Yes / 250                                                              143\n",
       "Yes / 200 / Transfer Fee                                               121\n",
       "                                                                      ... \n",
       "Yes / 105                                                                1\n",
       "Yes / 325 / transfer                                                     1\n",
       "Yes / 95+500 / transfer fee + trails                                     1\n",
       "Yes / 300 / Walls, gates, monuments, lights, common area landscapi       1\n",
       "Yes / $150 / HOA Transfer Fee                                            1\n",
       "Name: OtherFees, Length: 1101, dtype: int64"
      ]
     },
     "execution_count": 413,
     "metadata": {},
     "output_type": "execute_result"
    }
   ],
   "source": [
    "single_family_df.OtherFees.value_counts()"
   ]
  },
  {
   "cell_type": "markdown",
   "metadata": {},
   "source": [
    "We need to clean this column and to do so I will change No value with 0 and calculate total fees for the rest."
   ]
  },
  {
   "cell_type": "code",
   "execution_count": 414,
   "metadata": {},
   "outputs": [],
   "source": [
    "single_family_df.drop('OtherFees',axis = 1, inplace=True)"
   ]
  },
  {
   "cell_type": "code",
   "execution_count": 415,
   "metadata": {},
   "outputs": [
    {
     "data": {
      "text/html": [
       "<div>\n",
       "<style scoped>\n",
       "    .dataframe tbody tr th:only-of-type {\n",
       "        vertical-align: middle;\n",
       "    }\n",
       "\n",
       "    .dataframe tbody tr th {\n",
       "        vertical-align: top;\n",
       "    }\n",
       "\n",
       "    .dataframe thead th {\n",
       "        text-align: right;\n",
       "    }\n",
       "</style>\n",
       "<table border=\"1\" class=\"dataframe\">\n",
       "  <thead>\n",
       "    <tr style=\"text-align: right;\">\n",
       "      <th></th>\n",
       "      <th>image_link</th>\n",
       "      <th>ListingPrice</th>\n",
       "      <th>Address</th>\n",
       "      <th>City</th>\n",
       "      <th>ZipCode</th>\n",
       "      <th>County</th>\n",
       "      <th>Legal</th>\n",
       "      <th>NoBed</th>\n",
       "      <th>Stories</th>\n",
       "      <th>Style</th>\n",
       "      <th>...</th>\n",
       "      <th>MedianYearBlt</th>\n",
       "      <th>MedianSqft</th>\n",
       "      <th>AvgNeighborValRange</th>\n",
       "      <th>MedianPrice/Sqft</th>\n",
       "      <th>PaidTax</th>\n",
       "      <th>TaxRate</th>\n",
       "      <th>TotalBedSqft</th>\n",
       "      <th>FullBath</th>\n",
       "      <th>HalfBath</th>\n",
       "      <th>MaintenanceFee</th>\n",
       "    </tr>\n",
       "  </thead>\n",
       "  <tbody>\n",
       "    <tr>\n",
       "      <th>0</th>\n",
       "      <td>['https://photos.harstatic.com/189115929/hr/img-1.jpeg?ts=2020-08-31T18:04:52.670', 'https://pho...</td>\n",
       "      <td>364990</td>\n",
       "      <td>1735 Eado Point Lane</td>\n",
       "      <td>Houston</td>\n",
       "      <td>77003</td>\n",
       "      <td>Harris County</td>\n",
       "      <td>LT 17 BLK 2 EADO POINT</td>\n",
       "      <td>3</td>\n",
       "      <td>3.0</td>\n",
       "      <td>Contemporary/Modern</td>\n",
       "      <td>...</td>\n",
       "      <td>2018</td>\n",
       "      <td>1485</td>\n",
       "      <td>217000.0</td>\n",
       "      <td>192.51</td>\n",
       "      <td>2169.0</td>\n",
       "      <td>2.6554</td>\n",
       "      <td>430.0</td>\n",
       "      <td>3</td>\n",
       "      <td>1</td>\n",
       "      <td>1195.0</td>\n",
       "    </tr>\n",
       "    <tr>\n",
       "      <th>1</th>\n",
       "      <td>['https://photos.harstatic.com/188179029/hr/img-1.jpeg?ts=2020-08-03T08:56:34.177', 'https://pho...</td>\n",
       "      <td>419000</td>\n",
       "      <td>619 Live Oak Street</td>\n",
       "      <td>Houston</td>\n",
       "      <td>77003</td>\n",
       "      <td>Harris County</td>\n",
       "      <td>LT 7 BLK 1 CAPITOL OAKS SEC 3 RP NO 1</td>\n",
       "      <td>3</td>\n",
       "      <td>3.0</td>\n",
       "      <td>Traditional</td>\n",
       "      <td>...</td>\n",
       "      <td>2012</td>\n",
       "      <td>1563</td>\n",
       "      <td>443500.0</td>\n",
       "      <td>200.05</td>\n",
       "      <td>10366.0</td>\n",
       "      <td>2.5466</td>\n",
       "      <td>320.0</td>\n",
       "      <td>3</td>\n",
       "      <td>1</td>\n",
       "      <td>2244.0</td>\n",
       "    </tr>\n",
       "    <tr>\n",
       "      <th>2</th>\n",
       "      <td>['https://photos.harstatic.com/189527871/hr/img-1.jpeg?ts=2020-09-14T06:08:01.320', 'https://pho...</td>\n",
       "      <td>298800</td>\n",
       "      <td>1417 Hussion Street</td>\n",
       "      <td>Houston</td>\n",
       "      <td>77003</td>\n",
       "      <td>Harris County</td>\n",
       "      <td>LT 7 BLK 1 W L EDMUNDSON SEC 3</td>\n",
       "      <td>3</td>\n",
       "      <td>1.0</td>\n",
       "      <td>Traditional</td>\n",
       "      <td>...</td>\n",
       "      <td>1929</td>\n",
       "      <td>5000</td>\n",
       "      <td>126500.0</td>\n",
       "      <td>147.06</td>\n",
       "      <td>5854.0</td>\n",
       "      <td>2.5716</td>\n",
       "      <td>616.0</td>\n",
       "      <td>1</td>\n",
       "      <td>1</td>\n",
       "      <td>0.0</td>\n",
       "    </tr>\n",
       "    <tr>\n",
       "      <th>3</th>\n",
       "      <td>['https://photos.harstatic.com/189915458/hr/img-1.jpeg?ts=2020-09-26T08:22:44.337', 'https://pho...</td>\n",
       "      <td>289900</td>\n",
       "      <td>1737 Aden Drive</td>\n",
       "      <td>Houston</td>\n",
       "      <td>77003</td>\n",
       "      <td>Harris County</td>\n",
       "      <td>Lot 59, Block 1</td>\n",
       "      <td>2</td>\n",
       "      <td>2.0</td>\n",
       "      <td>Other</td>\n",
       "      <td>...</td>\n",
       "      <td>2005</td>\n",
       "      <td>1904</td>\n",
       "      <td>259000.0</td>\n",
       "      <td>181.62</td>\n",
       "      <td>6685.4</td>\n",
       "      <td>2.5465</td>\n",
       "      <td>330.0</td>\n",
       "      <td>2</td>\n",
       "      <td>0</td>\n",
       "      <td>1500.0</td>\n",
       "    </tr>\n",
       "    <tr>\n",
       "      <th>4</th>\n",
       "      <td>['https://photos.harstatic.com/190529396/hr/img-1.jpeg?ts=2020-10-26T13:11:52.120', 'https://pho...</td>\n",
       "      <td>284900</td>\n",
       "      <td>1773 Aden Drive</td>\n",
       "      <td>Houston</td>\n",
       "      <td>77003</td>\n",
       "      <td>Harris County</td>\n",
       "      <td>LT 90 BLK 1 MIDTOWN VILLAGE</td>\n",
       "      <td>2</td>\n",
       "      <td>2.0</td>\n",
       "      <td>Traditional</td>\n",
       "      <td>...</td>\n",
       "      <td>2005</td>\n",
       "      <td>1904</td>\n",
       "      <td>259000.0</td>\n",
       "      <td>181.62</td>\n",
       "      <td>6299.0</td>\n",
       "      <td>2.5466</td>\n",
       "      <td>282.0</td>\n",
       "      <td>2</td>\n",
       "      <td>1</td>\n",
       "      <td>1400.0</td>\n",
       "    </tr>\n",
       "  </tbody>\n",
       "</table>\n",
       "<p>5 rows × 56 columns</p>\n",
       "</div>"
      ],
      "text/plain": [
       "                                                                                            image_link  \\\n",
       "0  ['https://photos.harstatic.com/189115929/hr/img-1.jpeg?ts=2020-08-31T18:04:52.670', 'https://pho...   \n",
       "1  ['https://photos.harstatic.com/188179029/hr/img-1.jpeg?ts=2020-08-03T08:56:34.177', 'https://pho...   \n",
       "2  ['https://photos.harstatic.com/189527871/hr/img-1.jpeg?ts=2020-09-14T06:08:01.320', 'https://pho...   \n",
       "3  ['https://photos.harstatic.com/189915458/hr/img-1.jpeg?ts=2020-09-26T08:22:44.337', 'https://pho...   \n",
       "4  ['https://photos.harstatic.com/190529396/hr/img-1.jpeg?ts=2020-10-26T13:11:52.120', 'https://pho...   \n",
       "\n",
       "   ListingPrice               Address     City  ZipCode         County  \\\n",
       "0        364990  1735 Eado Point Lane  Houston    77003  Harris County   \n",
       "1        419000   619 Live Oak Street  Houston    77003  Harris County   \n",
       "2        298800   1417 Hussion Street  Houston    77003  Harris County   \n",
       "3        289900       1737 Aden Drive  Houston    77003  Harris County   \n",
       "4        284900       1773 Aden Drive  Houston    77003  Harris County   \n",
       "\n",
       "                                   Legal  NoBed  Stories                Style  \\\n",
       "0                 LT 17 BLK 2 EADO POINT      3      3.0  Contemporary/Modern   \n",
       "1  LT 7 BLK 1 CAPITOL OAKS SEC 3 RP NO 1      3      3.0          Traditional   \n",
       "2         LT 7 BLK 1 W L EDMUNDSON SEC 3      3      1.0          Traditional   \n",
       "3                        Lot 59, Block 1      2      2.0                Other   \n",
       "4            LT 90 BLK 1 MIDTOWN VILLAGE      2      2.0          Traditional   \n",
       "\n",
       "   ...  MedianYearBlt  MedianSqft  AvgNeighborValRange  MedianPrice/Sqft  \\\n",
       "0  ...           2018        1485             217000.0            192.51   \n",
       "1  ...           2012        1563             443500.0            200.05   \n",
       "2  ...           1929        5000             126500.0            147.06   \n",
       "3  ...           2005        1904             259000.0            181.62   \n",
       "4  ...           2005        1904             259000.0            181.62   \n",
       "\n",
       "   PaidTax TaxRate TotalBedSqft FullBath HalfBath MaintenanceFee  \n",
       "0   2169.0  2.6554        430.0        3        1         1195.0  \n",
       "1  10366.0  2.5466        320.0        3        1         2244.0  \n",
       "2   5854.0  2.5716        616.0        1        1            0.0  \n",
       "3   6685.4  2.5465        330.0        2        0         1500.0  \n",
       "4   6299.0  2.5466        282.0        2        1         1400.0  \n",
       "\n",
       "[5 rows x 56 columns]"
      ]
     },
     "execution_count": 415,
     "metadata": {},
     "output_type": "execute_result"
    }
   ],
   "source": [
    "single_family_df.head()"
   ]
  },
  {
   "cell_type": "markdown",
   "metadata": {},
   "source": [
    "## 1.21 Roof<a id='1.21_Roof'></a>"
   ]
  },
  {
   "cell_type": "code",
   "execution_count": 416,
   "metadata": {},
   "outputs": [
    {
     "data": {
      "text/plain": [
       "array(['Composition', 'Aluminum', 'Aluminum, Other', 'Other',\n",
       "       'Composition, Other', 'Tile', 'Built Up', 'Aluminum, Composition',\n",
       "       'Composition, Slate', 'Slate', 'Wood Shingle', 'Composition, Tile',\n",
       "       'Built Up, Composition', 'Aluminum, Composition, Other',\n",
       "       'Other, Tile', \"['Composition', 'Composition']\",\n",
       "       'Other, Wood Shingle', 'Aluminum, Slate',\n",
       "       'Aluminum, Other, Wood Shingle', 'Composition, Wood Shingle'],\n",
       "      dtype=object)"
      ]
     },
     "execution_count": 416,
     "metadata": {},
     "output_type": "execute_result"
    }
   ],
   "source": [
    "single_family_df.Roof.unique()"
   ]
  },
  {
   "cell_type": "markdown",
   "metadata": {},
   "source": [
    "To reduce number of category in roof type column I create a list of standard roof type and will match each category to standard list, then replace it with higher score."
   ]
  },
  {
   "cell_type": "code",
   "execution_count": 417,
   "metadata": {},
   "outputs": [],
   "source": [
    "standard_roof=['Composition','Aluminum','Tile','Slate','Wood Shingle','Built Up','Other']\n",
    "#For each correct roof  type . in standard roof list\n",
    "for roof in standard_roof:\n",
    "    \n",
    "    # Find matches in gender\n",
    "    matches = process.extract(roof, single_family_df.Roof,\n",
    "                 limit = single_family_df.shape[0])\n",
    "    \n",
    "    \n",
    "# For each possible_match with similarity score >= 90\n",
    "    for possible_match in matches:\n",
    "        if possible_match[1] >= 90:\n",
    "      \n",
    "            \n",
    "            matching = single_family_df.Roof == possible_match[0]\n",
    "           # I decided to use 'W' for female since there is high similarity between 'female' and 'male' \n",
    "        single_family_df.loc[matching , 'Roof'] = roof"
   ]
  },
  {
   "cell_type": "code",
   "execution_count": 418,
   "metadata": {},
   "outputs": [
    {
     "data": {
      "text/plain": [
       "array(['Composition', 'Aluminum', 'Other', 'Tile', 'Built Up', 'Slate',\n",
       "       'Wood Shingle'], dtype=object)"
      ]
     },
     "execution_count": 418,
     "metadata": {},
     "output_type": "execute_result"
    }
   ],
   "source": [
    "single_family_df.Roof.unique()"
   ]
  },
  {
   "cell_type": "markdown",
   "metadata": {},
   "source": [
    "## 1.21 Foundation<a id='1.21_Foundation'></a>"
   ]
  },
  {
   "cell_type": "code",
   "execution_count": 419,
   "metadata": {},
   "outputs": [
    {
     "data": {
      "text/plain": [
       "array(['Slab', 'Pier & Beam', 'Block & Beam',\n",
       "       'Slab, Slab on Builders Pier', 'Slab on Builders Pier',\n",
       "       'Pier & Beam, Slab', 'Other, Slab',\n",
       "       'Pier & Beam, Slab on Builders Pier', 'Other, Pier & Beam',\n",
       "       'Other', 'Block & Beam, Pier & Beam', 'Block & Beam, Slab',\n",
       "       'Block & Beam, Slab on Builders Pier', 'On Stilts',\n",
       "       'Other, Slab on Builders Pier'], dtype=object)"
      ]
     },
     "execution_count": 419,
     "metadata": {},
     "output_type": "execute_result"
    }
   ],
   "source": [
    "single_family_df.Foundation.unique()"
   ]
  },
  {
   "cell_type": "code",
   "execution_count": 420,
   "metadata": {},
   "outputs": [
    {
     "name": "stdout",
     "output_type": "stream",
     "text": [
      "['Slab' 'Pier & Beam' 'Block & Beam' 'Other' 'On Stilts']\n"
     ]
    }
   ],
   "source": [
    "standard_foundation=['Slab','Block & Beam','Pier & Beam','On Stilts','Other']\n",
    "for found in standard_foundation:\n",
    "    \n",
    "    # Find matches in gender\n",
    "    matches = process.extract(found, single_family_df.Foundation,\n",
    "                 limit = single_family_df.shape[0])\n",
    "    \n",
    "    \n",
    "# For each possible_match with similarity score >= 90\n",
    "    for possible_match in matches:\n",
    "        if possible_match[1] >= 90:\n",
    "      \n",
    "            \n",
    "            matching = single_family_df.Foundation == possible_match[0]\n",
    "           # I decided to use 'W' for female since there is high similarity between 'female' and 'male' \n",
    "        single_family_df.loc[matching , 'Foundation'] = found\n",
    "print(single_family_df.Foundation.unique())"
   ]
  },
  {
   "cell_type": "code",
   "execution_count": 421,
   "metadata": {},
   "outputs": [
    {
     "data": {
      "text/plain": [
       "array(['Cement Board', 'Cement Board, Stucco', 'Brick, Cement Board',\n",
       "       'Brick, Vinyl, Wood', 'Other, Stucco', 'Stucco', 'Brick, Wood',\n",
       "       'Wood', 'Brick, Cement Board, Wood', 'Aluminum, Brick, Vinyl',\n",
       "       'Brick, Other', 'Brick & Wood', 'Brick, Stucco', 'Brick',\n",
       "       'Brick, Stone, Wood', 'Brick & Wood, Cement Board, Wood',\n",
       "       'Cement Board, Stone, Stucco', 'Other', 'Stone, Stucco',\n",
       "       'Aluminum, Stone, Stucco, Wood', 'Stone & Wood, Stucco',\n",
       "       'Brick Veneer, Stone', 'Brick, Other, Wood',\n",
       "       'Cement Board, Stone, Wood', 'Brick Veneer',\n",
       "       'Brick & Wood, Brick, Cement Board', 'Brick, Stone, Stucco',\n",
       "       'Brick & Wood, Brick', 'Asbestos', 'Unknown', 'Brick, Vinyl',\n",
       "       'Asbestos, Wood', 'Brick, Stone, Stucco, Vinyl, Wood',\n",
       "       'Aluminum, Vinyl', 'Stone', 'Cement Board, Wood', 'Aluminum',\n",
       "       'Stucco, Wood', 'Brick & Wood, Cement Board', 'Aluminum, Stone',\n",
       "       'Aluminum, Brick, Vinyl, Wood', 'Aluminum, Other',\n",
       "       'Brick & Wood, Stone & Wood', 'Other, Wood',\n",
       "       'Brick & Wood, Cement Board, Stucco', 'Cement Board, Stucco, Wood',\n",
       "       'Cement Board, Unknown', 'Brick, Cement Board, Stucco',\n",
       "       'Cement Board, Stone', 'Brick Veneer, Cement Board',\n",
       "       'Brick & Wood, Stone, Stucco', 'Brick, Cement Board, Stone',\n",
       "       'Stucco, Vinyl', 'Aluminum, Cement Board, Wood',\n",
       "       'Aluminum, Cement Board, Other, Wood', 'Aluminum, Wood',\n",
       "       'Cement Board, Other, Wood', 'Stone, Stucco, Wood', 'Vinyl',\n",
       "       'Cement Board, Stone & Wood', 'Brick & Wood, Wood',\n",
       "       'Aluminum, Vinyl, Wood', 'Stone, Vinyl',\n",
       "       'Asbestos, Cement Board, Wood', 'Stone, Wood',\n",
       "       'Brick, Cement Board, Stucco, Wood',\n",
       "       'Brick & Wood, Brick Veneer, Stucco',\n",
       "       'Brick, Cement Board, Stone, Stucco', 'Cement Board, Other, Stone',\n",
       "       'Vinyl, Wood', 'Brick & Wood, Other', 'Brick, Stucco, Vinyl',\n",
       "       'Brick & Wood, Brick, Stucco', 'Brick, Stone',\n",
       "       'Brick & Wood, Stone', 'Brick, Other, Stucco',\n",
       "       'Brick & Wood, Stucco', 'Brick Veneer, Vinyl',\n",
       "       'Stone, Vinyl, Wood', 'Brick & Wood, Vinyl',\n",
       "       'Other, Unknown, Wood', 'Other, Stone, Unknown, Wood',\n",
       "       'Cement Board, Unknown, Wood', 'Cement Board, Other',\n",
       "       'Stone & Wood', 'Brick & Wood, Brick Veneer, Cement Board',\n",
       "       'Brick & Wood, Brick Veneer', 'Brick, Unknown',\n",
       "       'Brick, Cement Board, Vinyl', 'Brick & Wood, Cement Board, Other',\n",
       "       'Brick, Stucco, Wood', 'Brick, Other, Stucco, Wood',\n",
       "       'Brick, Cement Board, Stone, Wood', 'Brick, Other, Unknown',\n",
       "       'Brick, Unknown, Vinyl', 'Brick, Cement Board, Vinyl, Wood',\n",
       "       'Brick Veneer, Wood', 'Other, Stone', 'Stone, Stone & Wood',\n",
       "       'Brick & Wood, Cement Board, Stone', 'Brick, Other, Stone',\n",
       "       'Brick, Cement Board, Other', 'Stucco, Synthetic Stucco',\n",
       "       'Brick & Wood, Cement Board, Stone & Wood',\n",
       "       'Brick, Cement Board, Unknown, Wood', 'Asbestos, Stucco, Wood',\n",
       "       'Brick Veneer, Stucco', 'Aluminum, Brick & Wood',\n",
       "       'Aluminum, Brick, Stone', 'Synthetic Stucco',\n",
       "       'Aluminum, Brick, Wood', 'Aluminum, Cement Board, Vinyl',\n",
       "       'Brick, Other, Vinyl', 'Aluminum, Cement Board',\n",
       "       'Asbestos, Cement Board', 'Cement Board, Vinyl',\n",
       "       'Brick, Cement Board, Other, Wood', 'Aluminum, Brick',\n",
       "       'Brick & Wood, Cement Board, Vinyl',\n",
       "       'Cement Board, Synthetic Stucco',\n",
       "       'Brick & Wood, Stone, Stone & Wood', 'Other, Stone, Stucco',\n",
       "       'Brick, Stone, Synthetic Stucco', 'Other, Unknown',\n",
       "       'Brick Veneer, Cement Board, Stone & Wood',\n",
       "       'Brick, Stone, Stucco, Wood',\n",
       "       'Cement Board, Stone, Stone & Wood, Stucco',\n",
       "       'Cement Board, Stone, Stone & Wood',\n",
       "       'Brick & Wood, Cement Board, Stone, Stucco',\n",
       "       'Stone, Synthetic Stucco',\n",
       "       'Brick, Cement Board, Stone, Synthetic Stucco, Wood',\n",
       "       'Brick Veneer, Cement Board, Stone',\n",
       "       'Aluminum, Brick, Cement Board',\n",
       "       'Brick, Log Home, Other, Stone, Vinyl',\n",
       "       'Brick & Wood, Brick, Stone',\n",
       "       'Brick & Wood, Brick, Cement Board, Stucco',\n",
       "       'Brick, Cement Board, Stone, Vinyl, Wood', 'Brick & Wood, Unknown',\n",
       "       'Stucco, Unknown, Wood', 'Unknown, Wood'], dtype=object)"
      ]
     },
     "execution_count": 421,
     "metadata": {},
     "output_type": "execute_result"
    }
   ],
   "source": [
    "single_family_df.ExteriorType.unique()"
   ]
  },
  {
   "cell_type": "code",
   "execution_count": 422,
   "metadata": {},
   "outputs": [
    {
     "name": "stdout",
     "output_type": "stream",
     "text": [
      "<class 'pandas.core.frame.DataFrame'>\n",
      "RangeIndex: 6396 entries, 0 to 6395\n",
      "Data columns (total 56 columns):\n",
      " #   Column               Non-Null Count  Dtype  \n",
      "---  ------               --------------  -----  \n",
      " 0   image_link           6396 non-null   object \n",
      " 1   ListingPrice         6396 non-null   int64  \n",
      " 2   Address              6396 non-null   object \n",
      " 3   City                 6396 non-null   object \n",
      " 4   ZipCode              6396 non-null   int64  \n",
      " 5   County               6396 non-null   object \n",
      " 6   Legal                6396 non-null   object \n",
      " 7   NoBed                6396 non-null   int32  \n",
      " 8   Stories              6396 non-null   float64\n",
      " 9   Style                6396 non-null   object \n",
      " 10  YearBuilt            6396 non-null   int64  \n",
      " 11  BuildSqft            6396 non-null   int64  \n",
      " 12  LotSize              6396 non-null   float64\n",
      " 13  Fireplace            6396 non-null   int64  \n",
      " 14  Heating              6396 non-null   object \n",
      " 15  Cooling              6396 non-null   object \n",
      " 16  IceMaker             6396 non-null   object \n",
      " 17  Microwave            6396 non-null   object \n",
      " 18  Compactor            6396 non-null   object \n",
      " 19  Dishwasher           6396 non-null   object \n",
      " 20  Disposal             6396 non-null   object \n",
      " 21  Roof                 6396 non-null   object \n",
      " 22  Foundation           6396 non-null   object \n",
      " 23  PrivatePool          6396 non-null   object \n",
      " 24  ExteriorType         6396 non-null   object \n",
      " 25  LotDes               6396 non-null   object \n",
      " 26  ControlAccess        6396 non-null   object \n",
      " 27  WaterSewer           6396 non-null   object \n",
      " 28  UnitLoc              6396 non-null   object \n",
      " 29  AreaPool             6396 non-null   object \n",
      " 30  DwellingType         6396 non-null   object \n",
      " 31  HOA                  6396 non-null   object \n",
      " 32  ListType             6396 non-null   object \n",
      " 33  AvgBed               6396 non-null   float64\n",
      " 34  AvgBaths             6396 non-null   float64\n",
      " 35  CarportDescription   6396 non-null   object \n",
      " 36  UtilitySqft          6396 non-null   float64\n",
      " 37  StudySqft            6396 non-null   float64\n",
      " 38  GameSqft             6396 non-null   float64\n",
      " 39  BreakfastSqft        6396 non-null   float64\n",
      " 40  Garage               6396 non-null   int32  \n",
      " 41  LivingSqft           6396 non-null   float64\n",
      " 42  DiningSqft           6396 non-null   float64\n",
      " 43  KitchenSqft          6396 non-null   float64\n",
      " 44  SubName              6396 non-null   object \n",
      " 45  MedianApp            6396 non-null   int64  \n",
      " 46  MedianYearBlt        6396 non-null   int64  \n",
      " 47  MedianSqft           6396 non-null   int64  \n",
      " 48  AvgNeighborValRange  6396 non-null   float64\n",
      " 49  MedianPrice/Sqft     6396 non-null   float64\n",
      " 50  PaidTax              6396 non-null   float64\n",
      " 51  TaxRate              6396 non-null   float64\n",
      " 52  TotalBedSqft         6396 non-null   float64\n",
      " 53  FullBath             6396 non-null   int32  \n",
      " 54  HalfBath             6396 non-null   int64  \n",
      " 55  MaintenanceFee       6396 non-null   float64\n",
      "dtypes: float64(17), int32(3), int64(9), object(27)\n",
      "memory usage: 2.7+ MB\n"
     ]
    }
   ],
   "source": [
    "single_family_df.info()"
   ]
  },
  {
   "cell_type": "markdown",
   "metadata": {},
   "source": [
    "## 1.22 Dwelling Type<a id='1.22_Dwelling_Type'></a>"
   ]
  },
  {
   "cell_type": "code",
   "execution_count": 423,
   "metadata": {},
   "outputs": [
    {
     "data": {
      "text/plain": [
       "array(['Free Standing', 'Free Standing, Patio Home', 'Duplex',\n",
       "       'Free Standing, Historic', 'Historic', 'Patio Home',\n",
       "       'Duplex, Historic', 'Duplex, Free Standing',\n",
       "       'Duplex, Free Standing, Patio Home', 'Manufactured',\n",
       "       'Duplex, Free Standing, Manufactured, Patio Home'], dtype=object)"
      ]
     },
     "execution_count": 423,
     "metadata": {},
     "output_type": "execute_result"
    }
   ],
   "source": [
    "single_family_df.DwellingType.unique()"
   ]
  },
  {
   "cell_type": "code",
   "execution_count": 424,
   "metadata": {},
   "outputs": [
    {
     "name": "stdout",
     "output_type": "stream",
     "text": [
      "['Free Standing' 'Duplex' 'Historic' 'Patio Home' 'Manufactured']\n"
     ]
    }
   ],
   "source": [
    "standard_dwelling=['Free Standing','Patio Home','Duplex','Historic']\n",
    "for types in standard_dwelling:\n",
    "    \n",
    "    \n",
    "    matches = process.extract(types, single_family_df.DwellingType,\n",
    "                 limit = single_family_df.shape[0])\n",
    "    \n",
    "    \n",
    "# For each possible_match with similarity score >= 90\n",
    "    for possible_match in matches:\n",
    "        if possible_match[1] >= 90:\n",
    "      \n",
    "            \n",
    "            matching = single_family_df.DwellingType == possible_match[0]\n",
    "            \n",
    "        single_family_df.loc[matching , 'DwellingType'] = types\n",
    "print(single_family_df.DwellingType.unique())"
   ]
  },
  {
   "cell_type": "code",
   "execution_count": 425,
   "metadata": {},
   "outputs": [],
   "source": [
    "single_family_df.to_csv('../data/processed/SingleFamily.csv',index=False)"
   ]
  },
  {
   "cell_type": "code",
   "execution_count": null,
   "metadata": {},
   "outputs": [],
   "source": []
  }
 ],
 "metadata": {
  "kernelspec": {
   "display_name": "Python 3",
   "language": "python",
   "name": "python3"
  },
  "language_info": {
   "codemirror_mode": {
    "name": "ipython",
    "version": 3
   },
   "file_extension": ".py",
   "mimetype": "text/x-python",
   "name": "python",
   "nbconvert_exporter": "python",
   "pygments_lexer": "ipython3",
   "version": "3.7.0"
  }
 },
 "nbformat": 4,
 "nbformat_minor": 4
}
