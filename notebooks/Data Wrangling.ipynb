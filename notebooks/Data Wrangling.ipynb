{
 "cells": [
  {
   "cell_type": "markdown",
   "metadata": {},
   "source": [
    "## 1. Data wrangling"
   ]
  },
  {
   "cell_type": "markdown",
   "metadata": {},
   "source": [
    "## 1.1 Contents<a id='2.1_Contents'></a>\n",
    "* [1 Data wrangling](#2_Data_wrangling)\n",
    "  * [1.1 Contents](#2.1_Contents)\n",
    "  * [1.2 Introduction](#2.2_Introduction)\n",
    "  * [1.3 Imports](#2.3_Imports)\n",
    "  * [1.4 Load The House Price Data](#2.4_Load_The_House_Price_Data)\n",
    "  * [1.5 Filtering Single Family Property Type](#2.5_Filtering_Single_Family_Property_Type) \n",
    "  * [1.6 Missing Values](#2.6_Missing_Values) \n",
    "    * [1.6.1 Features With > 90% Missing Values](#1.6.1_Features_With_>90%_Missing_Values)\n",
    "    * [1.6.2 Features With 80%-90% Missing Values](#1.6.2_Features_With_80%_-_90%_Missing_Values)\n",
    "    * [1.6.3 Features With 70%-80% Missing Values](#1.6.3_Features_With_70%_-_80%_Missing_Values)\n",
    "    * [1.6.4 Features With 50%-70% Missing Values](#1.6.4_Features_With_50%_-_70%_Missing_Values)\n",
    "    * [1.6.5 Features With 10%-50% Missing Values](#1.6.5_Features_With_10%_-_50%_Missing_Values)\n",
    "      * [1.6.5.1 Garage](#1.6.5.1_Garage)\n",
    "      * [1.6.5.2 Living](#1.6.5.2_Living) \n",
    "      * [1.6.5.3 Dining](#1.6.5.3_Dining) \n",
    "      * [1.6.5.4 Kitchen](#1.6.5.4_Kitchen)\n",
    "  * [1.7 Subdivisions And Their Facts](#1.7_Subdivisions_And_their_Facts)\n",
    "  * [1.8 Fill Null For Kitchen, Dining and Living](#1.8_Fill_Null_For_Kitchen_Dining_Living)\n",
    "  * [1.9 Listing Price](#1.9_Listing_Price)\n",
    "  * [1.10 Bedrooms](#1.10_Bedrooms)     \n",
    "  * [1.11 Bathrooms](#1.11_Bathrooms)\n",
    "  * [1.12 Stories](#1.12_Stories)\n",
    "  * [1.13 Style](#1.13_Style)\n",
    "  * [1.14 Year Built](#1.14_Year_Built)\n",
    "  * [1.15 Building Sqft](#1.15_Building_Sqft)\n",
    "  * [1.16 Lot Size](#1.16_Lot_Size)\n",
    "  * [1.17 Maintenance Fee](#1.17_Maintenance_Fee)\n",
    "  * [1.18 Fireplace](#1.18_Fireplace)\n",
    "  * [1.19 HOA Mandatory](#1.19_HOA_Mandatory)\n",
    "  * [1.20 Other Fees](#1.20_Other_Fees)\n",
    "  * [1.21 Roof](#1.21_Roof)"
   ]
  },
  {
   "cell_type": "markdown",
   "metadata": {},
   "source": [
    "## 2.2 Introduction<a id='2.2_Introduction'></a>"
   ]
  },
  {
   "cell_type": "markdown",
   "metadata": {},
   "source": [
    "In this section I will investigate data scrapped from www.HAR.com. Data cleaning will be done in this stage since all rows are categorical and need to be numerical. I will remove features with lost of none values and will create new features."
   ]
  },
  {
   "cell_type": "markdown",
   "metadata": {},
   "source": [
    "## 2.3 Imports<a id='2.3_Imports'></a>"
   ]
  },
  {
   "cell_type": "code",
   "execution_count": 1,
   "metadata": {},
   "outputs": [],
   "source": [
    "import numpy as np\n",
    "import pandas as pd\n",
    "import matplotlib.pyplot as plt\n",
    "import seaborn as sns\n",
    "import substring\n",
    "import os\n",
    "import re\n",
    "from fuzzywuzzy import process\n",
    "import warnings\n",
    "warnings.filterwarnings('ignore')"
   ]
  },
  {
   "cell_type": "markdown",
   "metadata": {},
   "source": [
    "## 2.4 Load The House Price Data<a id='2.4_Load_The_House_Price_Data'></a>"
   ]
  },
  {
   "cell_type": "code",
   "execution_count": 2,
   "metadata": {},
   "outputs": [
    {
     "name": "stdout",
     "output_type": "stream",
     "text": [
      "data shape is: (15102, 101)\n"
     ]
    }
   ],
   "source": [
    "data= pd.read_csv('../data/raw/Houston_Home_List.csv',encoding = \"ISO-8859-1\")\n",
    "print('data shape is:',data.shape)"
   ]
  },
  {
   "cell_type": "code",
   "execution_count": 3,
   "metadata": {},
   "outputs": [
    {
     "data": {
      "text/plain": [
       "Index(['Unnamed: 0', 'image_link', 'Listing Price:', 'Address:', 'City:',\n",
       "       'State:', 'Zip Code:', 'County:', 'Subdivision:', 'Legal Description:',\n",
       "       ...\n",
       "       'Extra Room:', 'Wine Room:', 'Carport Description:',\n",
       "       'Median Appraised Value / Square ft.:', 'Den:', 'Utility Room Desc:',\n",
       "       'Sunroom:', 'Guest Suite:', 'Bath:', 'Garage Apartment:'],\n",
       "      dtype='object', length=101)"
      ]
     },
     "execution_count": 3,
     "metadata": {},
     "output_type": "execute_result"
    }
   ],
   "source": [
    "data.columns"
   ]
  },
  {
   "cell_type": "markdown",
   "metadata": {},
   "source": [
    "## 2.5 Filtering Single Family Property Type<a id='2.5_Filtering_Single_Family_Property_Type'></a>"
   ]
  },
  {
   "cell_type": "markdown",
   "metadata": {},
   "source": [
    "Since we are going to analysis images and other house features it is important to have all records as same as possible. For example for lots there is no image for building or rooms and features for multi-family properties are different from single family homes. let see what kind of property type we have in our dataset:"
   ]
  },
  {
   "cell_type": "code",
   "execution_count": 4,
   "metadata": {},
   "outputs": [
    {
     "data": {
      "text/plain": [
       "Single-Family                          11141\n",
       "Lots                                    1551\n",
       "Townhouse/Condo - Townhouse              950\n",
       "Townhouse/Condo - Condominium            594\n",
       "Mid/Hi-Rise Condo                        436\n",
       "Country Homes/Acreage                    154\n",
       "Multi-Family - Duplex                    107\n",
       "Multi-Family - Fourplex                   46\n",
       "Country Homes/Acreage - Free Standi       46\n",
       "Multi-Family - 5 Plus                     38\n",
       "Multi-Family - Triplex                    15\n",
       "Multi-Family - Multiple Detached Dw        9\n",
       "Country Homes/Acreage - Manufacture        4\n",
       "Lot & Acreage - Residential                3\n",
       "Residential - Condo                        2\n",
       "Single Family                              1\n",
       "Residential - Townhouse                    1\n",
       "Name: Property Type:, dtype: int64"
      ]
     },
     "execution_count": 4,
     "metadata": {},
     "output_type": "execute_result"
    }
   ],
   "source": [
    "data['Property Type:'].value_counts()"
   ]
  },
  {
   "cell_type": "markdown",
   "metadata": {},
   "source": [
    "Majority of properties are single family so, I keep them and remove the rest of the types."
   ]
  },
  {
   "cell_type": "code",
   "execution_count": 5,
   "metadata": {},
   "outputs": [
    {
     "data": {
      "text/plain": [
       "11141"
      ]
     },
     "execution_count": 5,
     "metadata": {},
     "output_type": "execute_result"
    }
   ],
   "source": [
    "single_family_df = data[data['Property Type:']=='Single-Family']\n",
    "single_family_df.reset_index(drop=True,inplace=True)\n",
    "len(single_family_df)"
   ]
  },
  {
   "cell_type": "code",
   "execution_count": 6,
   "metadata": {},
   "outputs": [
    {
     "data": {
      "text/html": [
       "<div>\n",
       "<style scoped>\n",
       "    .dataframe tbody tr th:only-of-type {\n",
       "        vertical-align: middle;\n",
       "    }\n",
       "\n",
       "    .dataframe tbody tr th {\n",
       "        vertical-align: top;\n",
       "    }\n",
       "\n",
       "    .dataframe thead th {\n",
       "        text-align: right;\n",
       "    }\n",
       "</style>\n",
       "<table border=\"1\" class=\"dataframe\">\n",
       "  <thead>\n",
       "    <tr style=\"text-align: right;\">\n",
       "      <th></th>\n",
       "      <th>Unnamed: 0</th>\n",
       "      <th>image_link</th>\n",
       "      <th>Listing Price:</th>\n",
       "      <th>Address:</th>\n",
       "      <th>City:</th>\n",
       "      <th>State:</th>\n",
       "      <th>Zip Code:</th>\n",
       "      <th>County:</th>\n",
       "      <th>Subdivision:</th>\n",
       "      <th>Legal Description:</th>\n",
       "      <th>...</th>\n",
       "      <th>Extra Room:</th>\n",
       "      <th>Wine Room:</th>\n",
       "      <th>Carport Description:</th>\n",
       "      <th>Median Appraised Value / Square ft.:</th>\n",
       "      <th>Den:</th>\n",
       "      <th>Utility Room Desc:</th>\n",
       "      <th>Sunroom:</th>\n",
       "      <th>Guest Suite:</th>\n",
       "      <th>Bath:</th>\n",
       "      <th>Garage Apartment:</th>\n",
       "    </tr>\n",
       "  </thead>\n",
       "  <tbody>\n",
       "    <tr>\n",
       "      <th>0</th>\n",
       "      <td>85</td>\n",
       "      <td>['https://photos.harstatic.com/190618667/hr/im...</td>\n",
       "      <td>$ 575,000 ($232.98/sqft.) $Convert</td>\n",
       "      <td>1316 Hadley Street</td>\n",
       "      <td>Houston</td>\n",
       "      <td>TX</td>\n",
       "      <td>77002</td>\n",
       "      <td>Harris County</td>\n",
       "      <td>Austin Hadley Place</td>\n",
       "      <td>LT 4 BLK 1 AUSTIN HADLEY PLACE</td>\n",
       "      <td>...</td>\n",
       "      <td>NaN</td>\n",
       "      <td>NaN</td>\n",
       "      <td>NaN</td>\n",
       "      <td>NaN</td>\n",
       "      <td>NaN</td>\n",
       "      <td>NaN</td>\n",
       "      <td>NaN</td>\n",
       "      <td>NaN</td>\n",
       "      <td>NaN</td>\n",
       "      <td>NaN</td>\n",
       "    </tr>\n",
       "    <tr>\n",
       "      <th>1</th>\n",
       "      <td>88</td>\n",
       "      <td>['https://photos.harstatic.com/190420550/hr/im...</td>\n",
       "      <td>$ 465,000 ($221.85/sqft.) $Convert</td>\n",
       "      <td>110 Pierce Street</td>\n",
       "      <td>Houston</td>\n",
       "      <td>TX</td>\n",
       "      <td>77002</td>\n",
       "      <td>Harris County</td>\n",
       "      <td>Modern Midtown (View subdivision price trend)</td>\n",
       "      <td>LT 12 BLK 1 MODERN MIDTOWN</td>\n",
       "      <td>...</td>\n",
       "      <td>NaN</td>\n",
       "      <td>NaN</td>\n",
       "      <td>NaN</td>\n",
       "      <td>$223.83</td>\n",
       "      <td>NaN</td>\n",
       "      <td>NaN</td>\n",
       "      <td>NaN</td>\n",
       "      <td>NaN</td>\n",
       "      <td>NaN</td>\n",
       "      <td>NaN</td>\n",
       "    </tr>\n",
       "    <tr>\n",
       "      <th>2</th>\n",
       "      <td>89</td>\n",
       "      <td>['https://photos.harstatic.com/190088153/hr/im...</td>\n",
       "      <td>$ 450,000 ($223.33/sqft.) $Convert</td>\n",
       "      <td>118 Pierce Street</td>\n",
       "      <td>Houston</td>\n",
       "      <td>TX</td>\n",
       "      <td>77002</td>\n",
       "      <td>Harris County</td>\n",
       "      <td>Modern Midtown (View subdivision price trend)</td>\n",
       "      <td>LT 8 BLK 1 MODERN MIDTOWN</td>\n",
       "      <td>...</td>\n",
       "      <td>NaN</td>\n",
       "      <td>NaN</td>\n",
       "      <td>NaN</td>\n",
       "      <td>$223.83</td>\n",
       "      <td>NaN</td>\n",
       "      <td>NaN</td>\n",
       "      <td>NaN</td>\n",
       "      <td>NaN</td>\n",
       "      <td>NaN</td>\n",
       "      <td>NaN</td>\n",
       "    </tr>\n",
       "    <tr>\n",
       "      <th>3</th>\n",
       "      <td>99</td>\n",
       "      <td>['https://photos.harstatic.com/189387790/hr/im...</td>\n",
       "      <td>$ 259,000 ($203.30/sqft.) $Convert</td>\n",
       "      <td>311 N Milby Street</td>\n",
       "      <td>Houston</td>\n",
       "      <td>TX</td>\n",
       "      <td>77003</td>\n",
       "      <td>Harris County</td>\n",
       "      <td>Merkels Sec 01 (View subdivision price trend)</td>\n",
       "      <td>LT 3 BLK 15 MERKELS SEC 1</td>\n",
       "      <td>...</td>\n",
       "      <td>NaN</td>\n",
       "      <td>NaN</td>\n",
       "      <td>NaN</td>\n",
       "      <td>NaN</td>\n",
       "      <td>['12 x 17, 1st', '12 , 17, 1st']</td>\n",
       "      <td>['12 x 7, 1st', '12 , 7, 1st']</td>\n",
       "      <td>NaN</td>\n",
       "      <td>NaN</td>\n",
       "      <td>NaN</td>\n",
       "      <td>NaN</td>\n",
       "    </tr>\n",
       "    <tr>\n",
       "      <th>4</th>\n",
       "      <td>108</td>\n",
       "      <td>['https://photos.harstatic.com/177650081/hr/im...</td>\n",
       "      <td>$ 236,999 ($196.19/sqft.) $Convert  \\r\\n\\r\\n\\r...</td>\n",
       "      <td>216 Hutcheson</td>\n",
       "      <td>Houston</td>\n",
       "      <td>TX</td>\n",
       "      <td>77003</td>\n",
       "      <td>Harris County</td>\n",
       "      <td>MERKELS (View subdivision price trend)</td>\n",
       "      <td>LT 9 BLK 5 MERKELS SEC 1</td>\n",
       "      <td>...</td>\n",
       "      <td>NaN</td>\n",
       "      <td>NaN</td>\n",
       "      <td>NaN</td>\n",
       "      <td>NaN</td>\n",
       "      <td>NaN</td>\n",
       "      <td>NaN</td>\n",
       "      <td>NaN</td>\n",
       "      <td>NaN</td>\n",
       "      <td>NaN</td>\n",
       "      <td>NaN</td>\n",
       "    </tr>\n",
       "  </tbody>\n",
       "</table>\n",
       "<p>5 rows × 101 columns</p>\n",
       "</div>"
      ],
      "text/plain": [
       "   Unnamed: 0                                         image_link  \\\n",
       "0          85  ['https://photos.harstatic.com/190618667/hr/im...   \n",
       "1          88  ['https://photos.harstatic.com/190420550/hr/im...   \n",
       "2          89  ['https://photos.harstatic.com/190088153/hr/im...   \n",
       "3          99  ['https://photos.harstatic.com/189387790/hr/im...   \n",
       "4         108  ['https://photos.harstatic.com/177650081/hr/im...   \n",
       "\n",
       "                                      Listing Price:            Address:  \\\n",
       "0                $ 575,000 ($232.98/sqft.) $Convert   1316 Hadley Street   \n",
       "1                $ 465,000 ($221.85/sqft.) $Convert    110 Pierce Street   \n",
       "2                $ 450,000 ($223.33/sqft.) $Convert    118 Pierce Street   \n",
       "3                $ 259,000 ($203.30/sqft.) $Convert   311 N Milby Street   \n",
       "4  $ 236,999 ($196.19/sqft.) $Convert  \\r\\n\\r\\n\\r...       216 Hutcheson   \n",
       "\n",
       "     City: State:  Zip Code:        County:  \\\n",
       "0  Houston     TX      77002  Harris County   \n",
       "1  Houston     TX      77002  Harris County   \n",
       "2  Houston     TX      77002  Harris County   \n",
       "3  Houston     TX      77003  Harris County   \n",
       "4  Houston     TX      77003  Harris County   \n",
       "\n",
       "                                     Subdivision:  \\\n",
       "0                             Austin Hadley Place   \n",
       "1   Modern Midtown (View subdivision price trend)   \n",
       "2   Modern Midtown (View subdivision price trend)   \n",
       "3   Merkels Sec 01 (View subdivision price trend)   \n",
       "4          MERKELS (View subdivision price trend)   \n",
       "\n",
       "               Legal Description:  ... Extra Room: Wine Room:  \\\n",
       "0  LT 4 BLK 1 AUSTIN HADLEY PLACE  ...         NaN        NaN   \n",
       "1      LT 12 BLK 1 MODERN MIDTOWN  ...         NaN        NaN   \n",
       "2       LT 8 BLK 1 MODERN MIDTOWN  ...         NaN        NaN   \n",
       "3       LT 3 BLK 15 MERKELS SEC 1  ...         NaN        NaN   \n",
       "4        LT 9 BLK 5 MERKELS SEC 1  ...         NaN        NaN   \n",
       "\n",
       "  Carport Description: Median Appraised Value / Square ft.:  \\\n",
       "0                  NaN                                  NaN   \n",
       "1                  NaN                             $223.83    \n",
       "2                  NaN                             $223.83    \n",
       "3                  NaN                                  NaN   \n",
       "4                  NaN                                  NaN   \n",
       "\n",
       "                               Den:              Utility Room Desc: Sunroom:  \\\n",
       "0                               NaN                             NaN      NaN   \n",
       "1                               NaN                             NaN      NaN   \n",
       "2                               NaN                             NaN      NaN   \n",
       "3  ['12 x 17, 1st', '12 , 17, 1st']  ['12 x 7, 1st', '12 , 7, 1st']      NaN   \n",
       "4                               NaN                             NaN      NaN   \n",
       "\n",
       "  Guest Suite: Bath: Garage Apartment:  \n",
       "0          NaN   NaN               NaN  \n",
       "1          NaN   NaN               NaN  \n",
       "2          NaN   NaN               NaN  \n",
       "3          NaN   NaN               NaN  \n",
       "4          NaN   NaN               NaN  \n",
       "\n",
       "[5 rows x 101 columns]"
      ]
     },
     "execution_count": 6,
     "metadata": {},
     "output_type": "execute_result"
    }
   ],
   "source": [
    "single_family_df.head()"
   ]
  },
  {
   "cell_type": "markdown",
   "metadata": {},
   "source": [
    "In our dataset `State` and `Property Type` are the same for all houses so, we can remove them:"
   ]
  },
  {
   "cell_type": "code",
   "execution_count": 7,
   "metadata": {},
   "outputs": [],
   "source": [
    "single_family_df.drop(['Unnamed: 0','State:','Property Type:'],axis=1,inplace=True)"
   ]
  },
  {
   "cell_type": "markdown",
   "metadata": {},
   "source": [
    "## 2.6 Missing Values<a id='2.6_Missing_Values'></a>"
   ]
  },
  {
   "cell_type": "code",
   "execution_count": 8,
   "metadata": {},
   "outputs": [],
   "source": [
    "# function to find missing value and returning count abd %\n",
    "def missing_cal(df):\n",
    "    \"\"\"This function calculates missing value \n",
    "    for datafaram passed in as parameter\"\"\"\n",
    "    missing = pd.concat([single_family_df.isnull().sum(), 100 * single_family_df.isnull().mean()], axis=1)\n",
    "    missing.columns=['count', '%']\n",
    "    missing.sort_values(by='count',ascending=False)\n",
    "    return missing"
   ]
  },
  {
   "cell_type": "code",
   "execution_count": 9,
   "metadata": {},
   "outputs": [
    {
     "data": {
      "text/html": [
       "<div>\n",
       "<style scoped>\n",
       "    .dataframe tbody tr th:only-of-type {\n",
       "        vertical-align: middle;\n",
       "    }\n",
       "\n",
       "    .dataframe tbody tr th {\n",
       "        vertical-align: top;\n",
       "    }\n",
       "\n",
       "    .dataframe thead th {\n",
       "        text-align: right;\n",
       "    }\n",
       "</style>\n",
       "<table border=\"1\" class=\"dataframe\">\n",
       "  <thead>\n",
       "    <tr style=\"text-align: right;\">\n",
       "      <th></th>\n",
       "      <th>count</th>\n",
       "      <th>%</th>\n",
       "    </tr>\n",
       "  </thead>\n",
       "  <tbody>\n",
       "    <tr>\n",
       "      <th>image_link</th>\n",
       "      <td>0</td>\n",
       "      <td>0.000000</td>\n",
       "    </tr>\n",
       "    <tr>\n",
       "      <th>Listing Price:</th>\n",
       "      <td>3</td>\n",
       "      <td>0.026928</td>\n",
       "    </tr>\n",
       "    <tr>\n",
       "      <th>Address:</th>\n",
       "      <td>0</td>\n",
       "      <td>0.000000</td>\n",
       "    </tr>\n",
       "    <tr>\n",
       "      <th>City:</th>\n",
       "      <td>0</td>\n",
       "      <td>0.000000</td>\n",
       "    </tr>\n",
       "    <tr>\n",
       "      <th>Zip Code:</th>\n",
       "      <td>0</td>\n",
       "      <td>0.000000</td>\n",
       "    </tr>\n",
       "    <tr>\n",
       "      <th>...</th>\n",
       "      <td>...</td>\n",
       "      <td>...</td>\n",
       "    </tr>\n",
       "    <tr>\n",
       "      <th>Utility Room Desc:</th>\n",
       "      <td>7178</td>\n",
       "      <td>64.428687</td>\n",
       "    </tr>\n",
       "    <tr>\n",
       "      <th>Sunroom:</th>\n",
       "      <td>10909</td>\n",
       "      <td>97.917602</td>\n",
       "    </tr>\n",
       "    <tr>\n",
       "      <th>Guest Suite:</th>\n",
       "      <td>11008</td>\n",
       "      <td>98.806211</td>\n",
       "    </tr>\n",
       "    <tr>\n",
       "      <th>Bath:</th>\n",
       "      <td>9449</td>\n",
       "      <td>84.812853</td>\n",
       "    </tr>\n",
       "    <tr>\n",
       "      <th>Garage Apartment:</th>\n",
       "      <td>10822</td>\n",
       "      <td>97.136702</td>\n",
       "    </tr>\n",
       "  </tbody>\n",
       "</table>\n",
       "<p>98 rows × 2 columns</p>\n",
       "</div>"
      ],
      "text/plain": [
       "                    count          %\n",
       "image_link              0   0.000000\n",
       "Listing Price:          3   0.026928\n",
       "Address:                0   0.000000\n",
       "City:                   0   0.000000\n",
       "Zip Code:               0   0.000000\n",
       "...                   ...        ...\n",
       "Utility Room Desc:   7178  64.428687\n",
       "Sunroom:            10909  97.917602\n",
       "Guest Suite:        11008  98.806211\n",
       "Bath:                9449  84.812853\n",
       "Garage Apartment:   10822  97.136702\n",
       "\n",
       "[98 rows x 2 columns]"
      ]
     },
     "execution_count": 9,
     "metadata": {},
     "output_type": "execute_result"
    }
   ],
   "source": [
    "missing = missing_cal(single_family_df)\n",
    "missing"
   ]
  },
  {
   "cell_type": "markdown",
   "metadata": {},
   "source": [
    "## 1.6.1 Features With >90% Missing Values<a id='1.6.1_Features_With_>90%_Missing_Values'></a>"
   ]
  },
  {
   "cell_type": "markdown",
   "metadata": {},
   "source": [
    "Let's take a look at features with more than 90% missing values: "
   ]
  },
  {
   "cell_type": "code",
   "execution_count": 10,
   "metadata": {},
   "outputs": [
    {
     "name": "stdout",
     "output_type": "stream",
     "text": [
      "Number of Features with more than 90% None:  9\n"
     ]
    }
   ],
   "source": [
    "missing = missing_cal(single_family_df)\n",
    "nan_90 = missing.loc[missing['%']>90].index\n",
    "print('Number of Features with more than 90% None: ',len(nan_90))"
   ]
  },
  {
   "cell_type": "code",
   "execution_count": 11,
   "metadata": {},
   "outputs": [
    {
     "data": {
      "text/html": [
       "<div>\n",
       "<style scoped>\n",
       "    .dataframe tbody tr th:only-of-type {\n",
       "        vertical-align: middle;\n",
       "    }\n",
       "\n",
       "    .dataframe tbody tr th {\n",
       "        vertical-align: top;\n",
       "    }\n",
       "\n",
       "    .dataframe thead th {\n",
       "        text-align: right;\n",
       "    }\n",
       "</style>\n",
       "<table border=\"1\" class=\"dataframe\">\n",
       "  <thead>\n",
       "    <tr style=\"text-align: right;\">\n",
       "      <th></th>\n",
       "      <th>count</th>\n",
       "      <th>%</th>\n",
       "    </tr>\n",
       "  </thead>\n",
       "  <tbody>\n",
       "    <tr>\n",
       "      <th>Extra Room:</th>\n",
       "      <td>10068</td>\n",
       "      <td>90.368908</td>\n",
       "    </tr>\n",
       "    <tr>\n",
       "      <th>Median Appraised Value / Square ft.:</th>\n",
       "      <td>10217</td>\n",
       "      <td>91.706310</td>\n",
       "    </tr>\n",
       "    <tr>\n",
       "      <th>Media Room:</th>\n",
       "      <td>10254</td>\n",
       "      <td>92.038417</td>\n",
       "    </tr>\n",
       "    <tr>\n",
       "      <th>Carport Description:</th>\n",
       "      <td>10523</td>\n",
       "      <td>94.452922</td>\n",
       "    </tr>\n",
       "    <tr>\n",
       "      <th>Water Amenity:</th>\n",
       "      <td>10747</td>\n",
       "      <td>96.463513</td>\n",
       "    </tr>\n",
       "    <tr>\n",
       "      <th>Garage Apartment:</th>\n",
       "      <td>10822</td>\n",
       "      <td>97.136702</td>\n",
       "    </tr>\n",
       "    <tr>\n",
       "      <th>Sunroom:</th>\n",
       "      <td>10909</td>\n",
       "      <td>97.917602</td>\n",
       "    </tr>\n",
       "    <tr>\n",
       "      <th>Wine Room:</th>\n",
       "      <td>11002</td>\n",
       "      <td>98.752356</td>\n",
       "    </tr>\n",
       "    <tr>\n",
       "      <th>Guest Suite:</th>\n",
       "      <td>11008</td>\n",
       "      <td>98.806211</td>\n",
       "    </tr>\n",
       "  </tbody>\n",
       "</table>\n",
       "</div>"
      ],
      "text/plain": [
       "                                      count          %\n",
       "Extra Room:                           10068  90.368908\n",
       "Median Appraised Value / Square ft.:  10217  91.706310\n",
       "Media Room:                           10254  92.038417\n",
       "Carport Description:                  10523  94.452922\n",
       "Water Amenity:                        10747  96.463513\n",
       "Garage Apartment:                     10822  97.136702\n",
       "Sunroom:                              10909  97.917602\n",
       "Wine Room:                            11002  98.752356\n",
       "Guest Suite:                          11008  98.806211"
      ]
     },
     "execution_count": 11,
     "metadata": {},
     "output_type": "execute_result"
    }
   ],
   "source": [
    "missing.loc[nan_90].sort_values(by=\"%\")"
   ]
  },
  {
   "cell_type": "markdown",
   "metadata": {},
   "source": [
    "We need to see what kind of information are in each of these features:"
   ]
  },
  {
   "cell_type": "code",
   "execution_count": 12,
   "metadata": {},
   "outputs": [
    {
     "name": "stdout",
     "output_type": "stream",
     "text": [
      "Value Count for Media Room:\n",
      "['2nd', '2nd']                              27\n",
      "['16x12, 2nd', '4.88 x 3.66(m)']            17\n",
      "['15x13, 2nd', '4.57 x 3.96(m)']            15\n",
      "['14x13, 2nd', '4.27 x 3.96(m)']            15\n",
      "['13x15, 2nd', '3.96 x 4.57(m)']            13\n",
      "                                            ..\n",
      "['12 x 8, 1st', '12 , 8, 1st']               1\n",
      "['18 x 30, 2nd', '18 , 30, 2nd']             1\n",
      "['15 x 13, 2nd', '15 , 13, 2nd']             1\n",
      "['17.6x14.6, 2nd', '5.36 x 4.45(m)']         1\n",
      "[\"16'1 x 13'9, 2nd\", \"16'1 , 13'9, 2nd\"]     1\n",
      "Name: Media Room:, Length: 454, dtype: int64\n",
      "----------------------------------------------------------------------------------------------------\n",
      "Value Count for Water Amenity:\n",
      "Lake View                                                     119\n",
      "Lake View, Lakefront                                           83\n",
      "Pond                                                           55\n",
      "Lakefront                                                      48\n",
      "Bayou Frontage, Bayou View                                      9\n",
      "Bayou View                                                      8\n",
      "Lake View, Lakefront, Pond                                      6\n",
      "Bayou Frontage                                                  4\n",
      "Canal View                                                      3\n",
      "Lakefront, Pier                                                 3\n",
      "Lake View, Pond                                                 3\n",
      "Riverfront                                                      3\n",
      "Lakefront, Wood Bulkhead                                        3\n",
      "Bulkhead, Lake View, Lakefront                                  2\n",
      "Canal Front, Canal View                                         2\n",
      "Canal Front                                                     2\n",
      "Lake View, Lakefront, Wood Bulkhead                             2\n",
      "Pier, Pond                                                      2\n",
      "River View                                                      2\n",
      "Bulkhead, Lakefront                                             2\n",
      "Bay View                                                        2\n",
      "Lakefront, Riverfront                                           1\n",
      "Bulkhead, Lakefront, Wood Bulkhead                              1\n",
      "Canal Front, Canal View, Pier, Wood Bulkhead                    1\n",
      "Lake View, Metal Bulkhead, River View                           1\n",
      "Bulkhead, Canal Front, Lake View, Lakefront, Wood Bulkhead      1\n",
      "Boat Slip, Bulkhead, Lakefront                                  1\n",
      "Lakefront, Pier, Pond, River View, Riverfront                   1\n",
      "Bulkhead, Concrete Bulkhead, Lake View, Lakefront               1\n",
      "Lakefront, Pier, Wood Bulkhead                                  1\n",
      "Canal Front, Wood Bulkhead                                      1\n",
      "Bulkhead                                                        1\n",
      "Boat Slip, Lake View                                            1\n",
      "Canal Front, Canal View, Lakefront, Pier, Wood Bulkhead         1\n",
      "Bulkhead, Canal Front, Lake View, Lakefront, Pier               1\n",
      "Bay View, Gulf View, Lake View                                  1\n",
      "Pier, Riverfront                                                1\n",
      "Boat House, Boat Lift, Boat Slip, Canal Front, Lakefront        1\n",
      "Lake View, Lakefront, Pier                                      1\n",
      "Bayou View, Lake View, Pond                                     1\n",
      "River View, Riverfront                                          1\n",
      "Canal View, Lake View                                           1\n",
      "Concrete Bulkhead, Pier                                         1\n",
      "Concrete Bulkhead                                               1\n",
      "Concrete Bulkhead, Lake View, Lakefront, Wood Bulkhead          1\n",
      "Bulkhead, Canal Front, Concrete Bulkhead, Lakefront             1\n",
      "Lake View, Canal View                                           1\n",
      "Pier, River View, Riverfront                                    1\n",
      "Boat Ramp, Bulkhead, Riverfront                                 1\n",
      "Boat Ramp, Lake View                                            1\n",
      "Boat Slip, Canal Front, Canal View, Lake View, Lakefront        1\n",
      "Lake View, Lakefront, River View                                1\n",
      "Name: Water Amenity:, dtype: int64\n",
      "----------------------------------------------------------------------------------------------------\n",
      "Value Count for Extra Room:\n",
      "['1st', '1st']                      21\n",
      "['11x11, 1st', '3.35 x 3.35(m)']    11\n",
      "['11x10, 1st', '3.35 x 3.05(m)']    11\n",
      "['10x10, 1st', '3.05 x 3.05(m)']    11\n",
      "['2nd', '2nd']                      11\n",
      "                                    ..\n",
      "['19x13, 3rd', '5.79 x 3.96(m)']     1\n",
      "['9 x 13, 1st', '9 , 13, 1st']       1\n",
      "['29x22, 1st', '8.84 x 6.71(m)']     1\n",
      "['8X8, 1st', '2.44 x 2.44(m)']       1\n",
      "['13x13, 2nd', '3.96 x 3.96(m)']     1\n",
      "Name: Extra Room:, Length: 710, dtype: int64\n",
      "----------------------------------------------------------------------------------------------------\n",
      "Value Count for Wine Room:\n",
      "['1st', '1st']                      22\n",
      "['7 x 4, 1st', '7 , 4, 1st']         4\n",
      "['5x5, 1st', '1.52 x 1.52(m)']       3\n",
      "['8x5, 1st', '2.44 x 1.52(m)']       3\n",
      "['12x6, 1st', '3.66 x 1.83(m)']      3\n",
      "                                    ..\n",
      "['11 x 7, 1st', '11 , 7, 1st']       1\n",
      "['4x6, 1st', '1.22 x 1.83(m)']       1\n",
      "['6X4, 1st', '1.83 x 1.22(m)']       1\n",
      "['12 x 12, 1st', '12 , 12, 1st']     1\n",
      "['18 X 9, 1st', '18 , 9, 1st']       1\n",
      "Name: Wine Room:, Length: 98, dtype: int64\n",
      "----------------------------------------------------------------------------------------------------\n",
      "Value Count for Carport Description:\n",
      "Attached Carport       399\n",
      "Detached Carport       122\n",
      "Attached & Detached     97\n",
      "Name: Carport Description:, dtype: int64\n",
      "----------------------------------------------------------------------------------------------------\n",
      "Value Count for Median Appraised Value / Square ft.:\n",
      "$196.51     9\n",
      "$253.57     8\n",
      "$76.60      8\n",
      "$41.05      6\n",
      "$120.49     6\n",
      "           ..\n",
      "$259.57     1\n",
      "$108.95     1\n",
      "$82.08      1\n",
      "$140.08     1\n",
      "$95.17      1\n",
      "Name: Median Appraised Value / Square ft.:, Length: 615, dtype: int64\n",
      "----------------------------------------------------------------------------------------------------\n",
      "Value Count for Sunroom:\n",
      "['1st', '1st']                      10\n",
      "['15x12, 1st', '4.57 x 3.66(m)']     6\n",
      "['10 x 6, 1st', '10 , 6, 1st']       5\n",
      "['15x13, 1st', '4.57 x 3.96(m)']     4\n",
      "['12x12, 1st', '3.66 x 3.66(m)']     3\n",
      "                                    ..\n",
      "['9x31, 1st', '2.74 x 9.45(m)']      1\n",
      "['20x12, 1st', '6.10 x 3.66(m)']     1\n",
      "['27x19, 1st', '8.23 x 5.79(m)']     1\n",
      "['9x14, 1st', '2.74 x 4.27(m)']      1\n",
      "['9 X 16, 1st', '9 , 16, 1st']       1\n",
      "Name: Sunroom:, Length: 181, dtype: int64\n",
      "----------------------------------------------------------------------------------------------------\n",
      "Value Count for Guest Suite:\n",
      "['1st', '1st']                          5\n",
      "['2nd', '2nd']                          4\n",
      "['13x12, 1st', '3.96 x 3.66(m)']        4\n",
      "['14x13, 1st', '4.27 x 3.96(m)']        3\n",
      "['12x13, 1st', '3.66 x 3.96(m)']        2\n",
      "                                       ..\n",
      "['16x14, 2nd', '4.88 x 4.27(m)']        1\n",
      "[\"13' x 16', 1st\", \"13' , 16', 1st\"]    1\n",
      "['15X14, 1st', '4.57 x 4.27(m)']        1\n",
      "['14X14, 1st', '4.27 x 4.27(m)']        1\n",
      "['12x11, 1st', '3.66 x 3.35(m)']        1\n",
      "Name: Guest Suite:, Length: 107, dtype: int64\n",
      "----------------------------------------------------------------------------------------------------\n",
      "Value Count for Garage Apartment:\n",
      "Yes                                                             208\n",
      "['In Garage', 'In Garage']                                        8\n",
      "['In Garage', 'In Garage', 'Yes']                                 7\n",
      "['21x20, In Garage', '6.40 x 6.10(m)', 'Yes']                     2\n",
      "[\"22' x 21', In Garage\", \"22' , 21', In Garage\", 'Yes']           2\n",
      "                                                               ... \n",
      "['20x30, In Garage', '6.10 x 9.14(m)', 'Yes']                     1\n",
      "['20x16, In Garage', '6.10 x 4.88(m)', 'Yes']                     1\n",
      "['26x22, In Garage', '7.92 x 6.71(m)', 'Yes']                     1\n",
      "['23\\'2\" x 19\\'2\", In Garage', '23\\'2\" , 19\\'2\", In Garage']      1\n",
      "['16x22, In Garage', '4.88 x 6.71(m)', 'Yes']                     1\n",
      "Name: Garage Apartment:, Length: 95, dtype: int64\n",
      "----------------------------------------------------------------------------------------------------\n"
     ]
    }
   ],
   "source": [
    "for item in nan_90:\n",
    "    print('Value Count for '+item)\n",
    "    print(single_family_df[item].value_counts())\n",
    "    print('-'*100)"
   ]
  },
  {
   "cell_type": "markdown",
   "metadata": {},
   "source": [
    "* Values for `Media Room`, `Extra Room`, `Wine Room`, `Sunroom`, `Guest Suite`and `Garage Apartment` are kind of dimension of each of those rooms along with some nonsense values like (`Yes` for `Garage Apartment`). \n",
    "* For `Water Amenity` there are to much unique categories and there is no way to be able to fill rest of none values with correct category\n",
    "* `Carport Description` has 3 different categories for total 611 house and the rest do not have any carport so I will fill  all none values with new category as 'Not Applicable'.\n",
    "* `Median Appraised Value / Square ft.:` is the fact (based on active listing) for each subdivision and can be fill by the value for same subdivision."
   ]
  },
  {
   "cell_type": "code",
   "execution_count": 13,
   "metadata": {},
   "outputs": [],
   "source": [
    "# Replacing None value for 'Carport Description:' with 'not applicable'\n",
    "single_family_df['Carport Description:'][single_family_df['Carport Description:'].isnull()]='not applicable'\n",
    "\n",
    "# Dropping 'Media Room:', 'Water Amenity:', 'Extra Room:', 'Wine Room:', \n",
    "#'Sunroom:', 'Guest Suite:', 'Garage Apartment:', 'Vacation Rental:'\n",
    "single_family_df.drop(['Media Room:', 'Water Amenity:', 'Extra Room:', 'Wine Room:', 'Sunroom:', 'Guest Suite:', \n",
    "                       'Garage Apartment:'],axis=1,inplace=True)"
   ]
  },
  {
   "cell_type": "markdown",
   "metadata": {},
   "source": [
    "## 1.6.2 Features With 80%-90% Missing Values<a id='1.6.2_Features_With_80%_-_90%_Missing_Values'></a>"
   ]
  },
  {
   "cell_type": "markdown",
   "metadata": {},
   "source": [
    "Next step is looking at the features with more than 80% none values:"
   ]
  },
  {
   "cell_type": "code",
   "execution_count": 14,
   "metadata": {},
   "outputs": [
    {
     "name": "stdout",
     "output_type": "stream",
     "text": [
      "Number of Features with more than 80% None:  14\n"
     ]
    }
   ],
   "source": [
    "missing = missing_cal(single_family_df)\n",
    "nan_80 = missing.loc[missing['%']>80].index\n",
    "print('Number of Features with more than 80% None: ',len(nan_80))"
   ]
  },
  {
   "cell_type": "code",
   "execution_count": 15,
   "metadata": {},
   "outputs": [
    {
     "data": {
      "text/html": [
       "<div>\n",
       "<style scoped>\n",
       "    .dataframe tbody tr th:only-of-type {\n",
       "        vertical-align: middle;\n",
       "    }\n",
       "\n",
       "    .dataframe tbody tr th {\n",
       "        vertical-align: top;\n",
       "    }\n",
       "\n",
       "    .dataframe thead th {\n",
       "        text-align: right;\n",
       "    }\n",
       "</style>\n",
       "<table border=\"1\" class=\"dataframe\">\n",
       "  <thead>\n",
       "    <tr style=\"text-align: right;\">\n",
       "      <th></th>\n",
       "      <th>count</th>\n",
       "      <th>%</th>\n",
       "    </tr>\n",
       "  </thead>\n",
       "  <tbody>\n",
       "    <tr>\n",
       "      <th>Average Square Ft.:</th>\n",
       "      <td>9412</td>\n",
       "      <td>84.480747</td>\n",
       "    </tr>\n",
       "    <tr>\n",
       "      <th>Average Price/Square Ft.:</th>\n",
       "      <td>9412</td>\n",
       "      <td>84.480747</td>\n",
       "    </tr>\n",
       "    <tr>\n",
       "      <th>Market Area Name:</th>\n",
       "      <td>9413</td>\n",
       "      <td>84.489723</td>\n",
       "    </tr>\n",
       "    <tr>\n",
       "      <th>Home For Sales:</th>\n",
       "      <td>9413</td>\n",
       "      <td>84.489723</td>\n",
       "    </tr>\n",
       "    <tr>\n",
       "      <th>Average List Price:</th>\n",
       "      <td>9413</td>\n",
       "      <td>84.489723</td>\n",
       "    </tr>\n",
       "    <tr>\n",
       "      <th>Home For Lease:</th>\n",
       "      <td>9413</td>\n",
       "      <td>84.489723</td>\n",
       "    </tr>\n",
       "    <tr>\n",
       "      <th>Average Lease:</th>\n",
       "      <td>9413</td>\n",
       "      <td>84.489723</td>\n",
       "    </tr>\n",
       "    <tr>\n",
       "      <th>Average Lease/Square Ft.:</th>\n",
       "      <td>9413</td>\n",
       "      <td>84.489723</td>\n",
       "    </tr>\n",
       "    <tr>\n",
       "      <th>Bath:</th>\n",
       "      <td>9449</td>\n",
       "      <td>84.812853</td>\n",
       "    </tr>\n",
       "    <tr>\n",
       "      <th>Den:</th>\n",
       "      <td>9486</td>\n",
       "      <td>85.144960</td>\n",
       "    </tr>\n",
       "    <tr>\n",
       "      <th>Private Pool Desc:</th>\n",
       "      <td>9654</td>\n",
       "      <td>86.652904</td>\n",
       "    </tr>\n",
       "    <tr>\n",
       "      <th>Controlled Access:</th>\n",
       "      <td>9770</td>\n",
       "      <td>87.694103</td>\n",
       "    </tr>\n",
       "    <tr>\n",
       "      <th>Master Planned Community:</th>\n",
       "      <td>9843</td>\n",
       "      <td>88.349340</td>\n",
       "    </tr>\n",
       "    <tr>\n",
       "      <th>Median Appraised Value / Square ft.:</th>\n",
       "      <td>10217</td>\n",
       "      <td>91.706310</td>\n",
       "    </tr>\n",
       "  </tbody>\n",
       "</table>\n",
       "</div>"
      ],
      "text/plain": [
       "                                      count          %\n",
       "Average Square Ft.:                    9412  84.480747\n",
       "Average Price/Square Ft.:              9412  84.480747\n",
       "Market Area Name:                      9413  84.489723\n",
       "Home For Sales:                        9413  84.489723\n",
       "Average List Price:                    9413  84.489723\n",
       "Home For Lease:                        9413  84.489723\n",
       "Average Lease:                         9413  84.489723\n",
       "Average Lease/Square Ft.:              9413  84.489723\n",
       "Bath:                                  9449  84.812853\n",
       "Den:                                   9486  85.144960\n",
       "Private Pool Desc:                     9654  86.652904\n",
       "Controlled Access:                     9770  87.694103\n",
       "Master Planned Community:              9843  88.349340\n",
       "Median Appraised Value / Square ft.:  10217  91.706310"
      ]
     },
     "execution_count": 15,
     "metadata": {},
     "output_type": "execute_result"
    }
   ],
   "source": [
    "missing.loc[nan_80].sort_values(by=\"%\")"
   ]
  },
  {
   "cell_type": "code",
   "execution_count": 16,
   "metadata": {},
   "outputs": [
    {
     "name": "stdout",
     "output_type": "stream",
     "text": [
      "Value Count for Private Pool Desc:\n",
      "In Ground                                355\n",
      "Gunite, In Ground                        344\n",
      "Gunite, Heated, In Ground                234\n",
      "Gunite                                   217\n",
      "Heated, In Ground                         92\n",
      "Gunite, Heated, In Ground, Salt Water     46\n",
      "Gunite, Heated                            40\n",
      "Above Ground                              28\n",
      "Heated, In Ground, Salt Water             21\n",
      "Gunite, In Ground, Salt Water             20\n",
      "In Ground, Salt Water                     16\n",
      "Gunite, Salt Water                        13\n",
      "Gunite, Heated, Salt Water                10\n",
      "Enclosed, Heated, In Ground                8\n",
      "In Ground, Vinyl Lined                     5\n",
      "Heated                                     5\n",
      "Fiberglass, In Ground                      5\n",
      "Enclosed, In Ground                        4\n",
      "Fiberglass                                 4\n",
      "Salt Water                                 4\n",
      "Enclosed, Gunite, In Ground                2\n",
      "Heated, Salt Water                         2\n",
      "Above Ground, In Ground                    2\n",
      "Above Ground, Heated                       2\n",
      "Above Ground, Gunite, Heated               1\n",
      "Fiberglass, Salt Water                     1\n",
      "Enclosed, Salt Water                       1\n",
      "Fiberglass, In Ground, Vinyl Lined         1\n",
      "Above Ground, Vinyl Lined                  1\n",
      "Enclosed, Heated                           1\n",
      "Above Ground, Fiberglass, Heated           1\n",
      "Vinyl Lined                                1\n",
      "Name: Private Pool Desc:, dtype: int64\n",
      "----------------------------------------------------------------------------------------------------\n",
      "Value Count for Controlled Access:\n",
      "Automatic Gate                                521\n",
      "Driveway Gate                                 422\n",
      "Automatic Gate, Driveway Gate                 234\n",
      "Manned Gate                                   118\n",
      "Automatic Gate, Intercom                       29\n",
      "Automatic Gate, Manned Gate                    14\n",
      "Intercom                                       10\n",
      "Automatic Gate, Driveway Gate, Intercom         7\n",
      "Driveway Gate, Intercom                         4\n",
      "Automatic Gate, Driveway Gate, Manned Gate      4\n",
      "Driveway Gate, Manned Gate                      4\n",
      "Automatic Gate, Intercom, Manned Gate           3\n",
      "Intercom, Manned Gate                           1\n",
      "Name: Controlled Access:, dtype: int64\n",
      "----------------------------------------------------------------------------------------------------\n",
      "Value Count for Master Planned Community:\n",
      "Kingwood                      235\n",
      "Aliana                        118\n",
      "Bridgeland                    100\n",
      "Tavola                         76\n",
      "Cane Island                    69\n",
      "Clear Lake City                66\n",
      "The Woodlands                  62\n",
      "Towne Lake                     61\n",
      "Woodson's Reserve              52\n",
      "Elyson                         49\n",
      "Gleannloch Farms               38\n",
      "Oakhurst at Kingwood           34\n",
      "Long Meadow Farms              33\n",
      "Harmony                        31\n",
      "Copperfield                    29\n",
      "Grand Mission                  26\n",
      "The Falls at Imperial Oaks     20\n",
      "Lakes at Creekside             18\n",
      "Windrose                       16\n",
      "Sugar Creek                    15\n",
      "Wildwood at Northpointe        14\n",
      "Valley Ranch                   13\n",
      "First Colony                   13\n",
      "Cypress Creek Lakes            12\n",
      "Coles Crossing                 12\n",
      "Stone Gate                     12\n",
      "Canyon Lakes at Stone Gate     11\n",
      "Spring Trails                  10\n",
      "City Park                      10\n",
      "Lakemont                        9\n",
      "Imperial Oaks                   7\n",
      "Fairfield                       5\n",
      "Fieldstone                      5\n",
      "Canyon Gate at Northpointe      4\n",
      "Spring Lakes                    2\n",
      "Quail Valley                    2\n",
      "Woodtrace                       1\n",
      "New Territory                   1\n",
      "West Ranch                      1\n",
      "River Park West                 1\n",
      "Canyon Lakes West               1\n",
      "Traditions                      1\n",
      "WoodCreek Reserve               1\n",
      "Steeplechase                    1\n",
      "Twin Oaks                       1\n",
      "Name: Master Planned Community:, dtype: int64\n",
      "----------------------------------------------------------------------------------------------------\n",
      "Value Count for Market Area Name:\n",
      "Katy - Old Towne        134\n",
      "Spring Branch           128\n",
      "Cypress South           105\n",
      "Medical Center South     98\n",
      "Hockley                  74\n",
      "                       ... \n",
      "Lake Conroe Area          1\n",
      "Pasadena                  1\n",
      "Willow Meadows Area       1\n",
      "Westchase Area            1\n",
      "Memorial West             1\n",
      "Name: Market Area Name:, Length: 73, dtype: int64\n",
      "----------------------------------------------------------------------------------------------------\n",
      "Value Count for Home For Sales:\n",
      "559      134\n",
      "555      105\n",
      "425.0     98\n",
      "287       73\n",
      "820.0     71\n",
      "        ... \n",
      "115.0      1\n",
      "495.0      1\n",
      "327.0      1\n",
      "287.0      1\n",
      "268        1\n",
      "Name: Home For Sales:, Length: 83, dtype: int64\n",
      "----------------------------------------------------------------------------------------------------\n",
      "Value Count for Average List Price:\n",
      "$358,099     134\n",
      "$462,259     128\n",
      "$401,192     105\n",
      "$197,820      98\n",
      "$315,400      74\n",
      "            ... \n",
      "$223,137       1\n",
      "$400,610       1\n",
      "$369,656       1\n",
      "$497,916       1\n",
      "$704,744       1\n",
      "Name: Average List Price:, Length: 73, dtype: int64\n",
      "----------------------------------------------------------------------------------------------------\n",
      "Value Count for Average Square Ft.:\n",
      "2,629    134\n",
      "2,329    128\n",
      "2,912    105\n",
      "1,662     98\n",
      "2,161     74\n",
      "        ... \n",
      "2,488      1\n",
      "2,822      1\n",
      "1,968      1\n",
      "2,550      1\n",
      "2,651      1\n",
      "Name: Average Square Ft.:, Length: 74, dtype: int64\n",
      "----------------------------------------------------------------------------------------------------\n",
      "Value Count for Average Price/Square Ft.:\n",
      "$135.88     134\n",
      "$195.15     128\n",
      "$137.48     105\n",
      "$120.99      98\n",
      "$141.22      74\n",
      "           ... \n",
      "$141.30       1\n",
      "$130.43       1\n",
      "$224.37       1\n",
      "$258          1\n",
      "$115.38       1\n",
      "Name: Average Price/Square Ft.:, Length: 73, dtype: int64\n",
      "----------------------------------------------------------------------------------------------------\n",
      "Value Count for Home For Lease:\n",
      "30.0     134\n",
      "223.0    128\n",
      "61.0     105\n",
      "71.0      98\n",
      "104.0     77\n",
      "        ... \n",
      "45.0       2\n",
      "274.0      1\n",
      "79.0       1\n",
      "95.0       1\n",
      "72.0       1\n",
      "Name: Home For Lease:, Length: 66, dtype: int64\n",
      "----------------------------------------------------------------------------------------------------\n",
      "Value Count for Average Lease:\n",
      "$1,914     134\n",
      "$1,896     128\n",
      "$1,939     105\n",
      "$1,462      98\n",
      "$1,937      88\n",
      "          ... \n",
      "$2,116       1\n",
      "$1,843       1\n",
      "$2,572       1\n",
      "$2,134       1\n",
      "$6,181       1\n",
      "Name: Average Lease:, Length: 72, dtype: int64\n",
      "----------------------------------------------------------------------------------------------------\n",
      "Value Count for Average Lease/Square Ft.:\n",
      "$0.98     235\n",
      "$1.26     128\n",
      "$1.01     125\n",
      "$1.02      98\n",
      "$0.93      85\n",
      "$1.09      72\n",
      "$0.90      72\n",
      "$1.57      70\n",
      "$0.96      68\n",
      "$0.92      63\n",
      "$1.23      61\n",
      "$1.55      61\n",
      "$1.27      50\n",
      "$0.99      47\n",
      "$1.29      47\n",
      "$1.03      47\n",
      "$1.06      43\n",
      "$1.47      37\n",
      "$1.41      36\n",
      "$0.95      34\n",
      "$1.53      28\n",
      "$0.94      28\n",
      "$1.10      20\n",
      "$1.30      20\n",
      "$1.68      20\n",
      "$1.15      17\n",
      "$1.11      15\n",
      "$1.13      14\n",
      "$1.58      13\n",
      "$1.28      13\n",
      "$1.12       9\n",
      "$1.49       7\n",
      "$1.48       6\n",
      "$1.54       5\n",
      "$0.87       5\n",
      "$1.85       4\n",
      "$0.88       4\n",
      "$1.14       4\n",
      "$1.07       3\n",
      "$1.50       3\n",
      "$1.19       3\n",
      "$2.10       3\n",
      "$0.97       2\n",
      "$1.71       1\n",
      "$1.08       1\n",
      "$3.94       1\n",
      "Name: Average Lease/Square Ft.:, dtype: int64\n",
      "----------------------------------------------------------------------------------------------------\n",
      "Value Count for Median Appraised Value / Square ft.:\n",
      "$196.51     9\n",
      "$253.57     8\n",
      "$76.60      8\n",
      "$41.05      6\n",
      "$120.49     6\n",
      "           ..\n",
      "$259.57     1\n",
      "$108.95     1\n",
      "$82.08      1\n",
      "$140.08     1\n",
      "$95.17      1\n",
      "Name: Median Appraised Value / Square ft.:, Length: 615, dtype: int64\n",
      "----------------------------------------------------------------------------------------------------\n",
      "Value Count for Den:\n",
      "['1st', '1st']                      33\n",
      "['17x15, 1st', '5.18 x 4.57(m)']    27\n",
      "['17x16, 1st', '5.18 x 4.88(m)']    21\n",
      "['20x15, 1st', '6.10 x 4.57(m)']    21\n",
      "['20x16, 1st', '6.10 x 4.88(m)']    21\n",
      "                                    ..\n",
      "['17 x 17, 1st', '17 , 17, 1st']     1\n",
      "['22X13, 1st', '6.71 x 3.96(m)']     1\n",
      "['26X17, 1st', '7.92 x 5.18(m)']     1\n",
      "['20 X 14, 1st', '20 , 14, 1st']     1\n",
      "['22X20, 1st', '6.71 x 6.10(m)']     1\n",
      "Name: Den:, Length: 652, dtype: int64\n",
      "----------------------------------------------------------------------------------------------------\n",
      "Value Count for Bath:\n",
      "['1st', '1st']                                                                                                                                                          178\n",
      "['1st', '2nd', '1st', '2nd']                                                                                                                                             86\n",
      "['2nd', '1st', '2nd', '1st']                                                                                                                                             83\n",
      "['1st', '1st', '1st', '1st']                                                                                                                                             62\n",
      "['1st', '2nd', '2nd', '1st', '2nd', '2nd']                                                                                                                               60\n",
      "                                                                                                                                                                       ... \n",
      "['10x8, 3rd', '5x4, 2nd', '10x8, 1st', '3.05 x 2.44(m)', '1.52 x 1.22(m)', '3.05 x 2.44(m)']                                                                              1\n",
      "[\"4''Ã9.1'', 1st\", \"5.6''Ã9.2'', 2nd\", \"6.8''Ã9.5'', 2nd\", \"5.6''Ã9.5'', 2nd\", \"4''Ã9.1'', 1st\", \"5.6''Ã9.2'', 2nd\", \"6.8''Ã9.5'', 2nd\", \"5.6''Ã9.5'', 2nd\"]      1\n",
      "['5x5, 1st', '11x5, 1st', '1.52 x 1.52(m)', '3.35 x 1.52(m)']                                                                                                             1\n",
      "['12 x 6, 1st', '12 , 6, 1st']                                                                                                                                            1\n",
      "['6X11, 1st', '1.83 x 3.35(m)']                                                                                                                                           1\n",
      "Name: Bath:, Length: 751, dtype: int64\n",
      "----------------------------------------------------------------------------------------------------\n"
     ]
    }
   ],
   "source": [
    "#printing value count for each feature with more than 80 none value\n",
    "for item in nan_80:\n",
    "    print('Value Count for '+item)\n",
    "    print(single_family_df[item].value_counts())\n",
    "    print('-'*100)"
   ]
  },
  {
   "cell_type": "markdown",
   "metadata": {},
   "source": [
    "* `Controlled Access`categories are mixed  of 'Automatic', 'Driveway', 'Manned' and 'Intercom' that makes me believe the rest of the house do not have any type of controlled access. I think filling none values with 'No controlled access' would be reasonable.\n",
    "* Same as `Water Amenity` there are so many categories for 'Private Pool Desc'. After counting each category for `Private Pool:` groups figured out that there are description for house without private pool and I think it may happened by mistake and I decided to drop this column.\n",
    "* `Master Planned Community` and `Market Area Name` categories seems to be same as subdivision name and we will deal with them later on subdivision section\n",
    "* `Home For Sales`, `Average List Price`,`Average Square Ft.`,`Average Price/Square Ft.`, `Home For Lease`, `Average Lease`and `Average Lease/Square Ft.`, are the facts (based on active listing) for each subdivision and can be fill by the value for same subdivision.\n",
    "* `Den` and `Bath` are dimension along with other values like '1th' which I think is typo mistake and I decided to drop them."
   ]
  },
  {
   "cell_type": "code",
   "execution_count": 17,
   "metadata": {},
   "outputs": [
    {
     "data": {
      "text/plain": [
       "Private Pool:  Private Pool Desc:                   \n",
       "No             In Ground                                 14\n",
       "               Enclosed, Heated, In Ground                6\n",
       "               Above Ground                               4\n",
       "               Heated, In Ground                          4\n",
       "               Gunite                                     3\n",
       "               Gunite, In Ground                          3\n",
       "               Fiberglass                                 2\n",
       "               Gunite, Heated, In Ground                  1\n",
       "Yes            Gunite, In Ground                        341\n",
       "               In Ground                                341\n",
       "               Gunite, Heated, In Ground                233\n",
       "               Gunite                                   214\n",
       "               Heated, In Ground                         88\n",
       "               Gunite, Heated, In Ground, Salt Water     46\n",
       "               Gunite, Heated                            40\n",
       "               Above Ground                              24\n",
       "               Heated, In Ground, Salt Water             21\n",
       "               Gunite, In Ground, Salt Water             20\n",
       "               In Ground, Salt Water                     16\n",
       "               Gunite, Salt Water                        13\n",
       "               Gunite, Heated, Salt Water                10\n",
       "               Fiberglass, In Ground                      5\n",
       "               Heated                                     5\n",
       "               In Ground, Vinyl Lined                     5\n",
       "               Enclosed, In Ground                        4\n",
       "               Salt Water                                 4\n",
       "               Above Ground, Heated                       2\n",
       "               Above Ground, In Ground                    2\n",
       "               Enclosed, Gunite, In Ground                2\n",
       "               Enclosed, Heated, In Ground                2\n",
       "               Fiberglass                                 2\n",
       "               Heated, Salt Water                         2\n",
       "               Above Ground, Fiberglass, Heated           1\n",
       "               Above Ground, Gunite, Heated               1\n",
       "               Above Ground, Vinyl Lined                  1\n",
       "               Enclosed, Heated                           1\n",
       "               Enclosed, Salt Water                       1\n",
       "               Fiberglass, In Ground, Vinyl Lined         1\n",
       "               Fiberglass, Salt Water                     1\n",
       "               Vinyl Lined                                1\n",
       "Name: Private Pool Desc:, dtype: int64"
      ]
     },
     "execution_count": 17,
     "metadata": {},
     "output_type": "execute_result"
    }
   ],
   "source": [
    "#counting 'Private Pool Desc:' category for `Private Pool:` groups\n",
    "single_family_df.groupby('Private Pool:')['Private Pool Desc:'].value_counts()"
   ]
  },
  {
   "cell_type": "code",
   "execution_count": 18,
   "metadata": {},
   "outputs": [],
   "source": [
    "single_family_df.drop(['Private Pool Desc:','Bath:','Den:'],axis=1,inplace=True)\n",
    "# Replacing None value for 'Carport Description:' with 'not applicable'\n",
    "single_family_df['Controlled Access:'][single_family_df['Controlled Access:'].isnull()]='no controlled access'"
   ]
  },
  {
   "cell_type": "markdown",
   "metadata": {},
   "source": [
    "## 1.6.3 Features With 70%-80% Missing Values<a id='1.6.3_Features_With_70%_-_80%_Missing_Values'></a>"
   ]
  },
  {
   "cell_type": "markdown",
   "metadata": {},
   "source": [
    "Now I investigating features with more than 70% none values:"
   ]
  },
  {
   "cell_type": "code",
   "execution_count": 19,
   "metadata": {},
   "outputs": [
    {
     "name": "stdout",
     "output_type": "stream",
     "text": [
      "Number of Features with more than 70% None:  2\n"
     ]
    }
   ],
   "source": [
    "missing = missing_cal(single_family_df)\n",
    "nan_70 = missing.loc[((missing['%']>70 )& (missing['%']<80))].index\n",
    "print('Number of Features with more than 70% None: ',len(nan_70))"
   ]
  },
  {
   "cell_type": "code",
   "execution_count": 20,
   "metadata": {},
   "outputs": [
    {
     "data": {
      "text/html": [
       "<div>\n",
       "<style scoped>\n",
       "    .dataframe tbody tr th:only-of-type {\n",
       "        vertical-align: middle;\n",
       "    }\n",
       "\n",
       "    .dataframe tbody tr th {\n",
       "        vertical-align: top;\n",
       "    }\n",
       "\n",
       "    .dataframe thead th {\n",
       "        text-align: right;\n",
       "    }\n",
       "</style>\n",
       "<table border=\"1\" class=\"dataframe\">\n",
       "  <thead>\n",
       "    <tr style=\"text-align: right;\">\n",
       "      <th></th>\n",
       "      <th>count</th>\n",
       "      <th>%</th>\n",
       "    </tr>\n",
       "  </thead>\n",
       "  <tbody>\n",
       "    <tr>\n",
       "      <th>Family Room:</th>\n",
       "      <td>7858</td>\n",
       "      <td>70.532268</td>\n",
       "    </tr>\n",
       "    <tr>\n",
       "      <th>Primary Bath:</th>\n",
       "      <td>8315</td>\n",
       "      <td>74.634234</td>\n",
       "    </tr>\n",
       "  </tbody>\n",
       "</table>\n",
       "</div>"
      ],
      "text/plain": [
       "               count          %\n",
       "Family Room:    7858  70.532268\n",
       "Primary Bath:   8315  74.634234"
      ]
     },
     "execution_count": 20,
     "metadata": {},
     "output_type": "execute_result"
    }
   ],
   "source": [
    "missing.loc[nan_70].sort_values(by=\"%\")"
   ]
  },
  {
   "cell_type": "code",
   "execution_count": 21,
   "metadata": {},
   "outputs": [
    {
     "name": "stdout",
     "output_type": "stream",
     "text": [
      "Value Count for Family Room:\n",
      "['1st', '1st']                                    75\n",
      "['18x16, 1st', '5.49 x 4.88(m)']                  52\n",
      "['20x16, 1st', '6.10 x 4.88(m)']                  51\n",
      "['21x17, 1st', '6.40 x 5.18(m)']                  39\n",
      "['17x16, 1st', '5.18 x 4.88(m)']                  37\n",
      "                                                  ..\n",
      "['20X13, 1st', '6.10 x 3.96(m)']                   1\n",
      "['26.4x20.9, 1st', '8.05 x 6.37(m)']               1\n",
      "['31x18, 1st', '9.45 x 5.49(m)']                   1\n",
      "['19.5x18.5, 1st', '5.94 x 5.64(m)']               1\n",
      "['16\\'11\"x12\\'2\", 1st', '16\\'11\",12\\'2\", 1st']     1\n",
      "Name: Family Room:, Length: 939, dtype: int64\n",
      "----------------------------------------------------------------------------------------------------\n",
      "Value Count for Primary Bath:\n",
      "['1st', '1st']                                                      765\n",
      "['2nd', '2nd']                                                      308\n",
      "['3rd', '3rd']                                                      128\n",
      "['12x10, 1st', '3.66 x 3.05(m)']                                     31\n",
      "['12x7, 1st', '3.66 x 2.13(m)']                                      20\n",
      "                                                                   ... \n",
      "['8*8, 1st', '8*8, 1st']                                              1\n",
      "['15x16, 1st', '13x16, 1st', '4.57 x 4.88(m)', '3.96 x 4.88(m)']      1\n",
      "['10X13, 1st', '3.05 x 3.96(m)']                                      1\n",
      "['14 x 20, 2nd', '14 , 20, 2nd']                                      1\n",
      "['13x13, 2nd', '3.96 x 3.96(m)']                                      1\n",
      "Name: Primary Bath:, Length: 891, dtype: int64\n",
      "----------------------------------------------------------------------------------------------------\n"
     ]
    }
   ],
   "source": [
    "#printing value count for each feature with more than 70 none value\n",
    "for item in nan_70:\n",
    "    print('Value Count for '+item)\n",
    "    print(single_family_df[item].value_counts())\n",
    "    print('-'*100)"
   ]
  },
  {
   "cell_type": "markdown",
   "metadata": {},
   "source": [
    "`Family Room` and `Primary Bath` are dimension for family room and master bath room and all houses should have these values and can not be 0. I think dropping these features would be appropriate since I can not fill values for more than 70% of houses."
   ]
  },
  {
   "cell_type": "code",
   "execution_count": 22,
   "metadata": {},
   "outputs": [],
   "source": [
    "single_family_df.drop(['Family Room:','Primary Bath:'],axis=1,inplace=True)"
   ]
  },
  {
   "cell_type": "markdown",
   "metadata": {},
   "source": [
    "## 1.6.4 Features With 50%-70% Missing Values<a id='1.6.4_Features_With_50%_-_70%_Missing_Values'></a>"
   ]
  },
  {
   "cell_type": "markdown",
   "metadata": {},
   "source": [
    "Next step is to look at features with none values between 50% and 70%:"
   ]
  },
  {
   "cell_type": "code",
   "execution_count": 23,
   "metadata": {},
   "outputs": [
    {
     "name": "stdout",
     "output_type": "stream",
     "text": [
      "Number of Features with more than 50% and less than 70% None:  6\n"
     ]
    }
   ],
   "source": [
    "missing = missing_cal(single_family_df)\n",
    "nan_50_70 = missing.loc[((missing['%']>50 )& (missing['%']<70))].index\n",
    "print('Number of Features with more than 50% and less than 70% None: ',len(nan_50_70))"
   ]
  },
  {
   "cell_type": "code",
   "execution_count": 24,
   "metadata": {},
   "outputs": [
    {
     "data": {
      "text/html": [
       "<div>\n",
       "<style scoped>\n",
       "    .dataframe tbody tr th:only-of-type {\n",
       "        vertical-align: middle;\n",
       "    }\n",
       "\n",
       "    .dataframe tbody tr th {\n",
       "        vertical-align: top;\n",
       "    }\n",
       "\n",
       "    .dataframe thead th {\n",
       "        text-align: right;\n",
       "    }\n",
       "</style>\n",
       "<table border=\"1\" class=\"dataframe\">\n",
       "  <thead>\n",
       "    <tr style=\"text-align: right;\">\n",
       "      <th></th>\n",
       "      <th>count</th>\n",
       "      <th>%</th>\n",
       "    </tr>\n",
       "  </thead>\n",
       "  <tbody>\n",
       "    <tr>\n",
       "      <th>Front Door:</th>\n",
       "      <td>6471</td>\n",
       "      <td>58.082757</td>\n",
       "    </tr>\n",
       "    <tr>\n",
       "      <th>Breakfast:</th>\n",
       "      <td>6724</td>\n",
       "      <td>60.353649</td>\n",
       "    </tr>\n",
       "    <tr>\n",
       "      <th>Garage Carport:</th>\n",
       "      <td>6734</td>\n",
       "      <td>60.443407</td>\n",
       "    </tr>\n",
       "    <tr>\n",
       "      <th>Utility Room Desc:</th>\n",
       "      <td>7178</td>\n",
       "      <td>64.428687</td>\n",
       "    </tr>\n",
       "    <tr>\n",
       "      <th>Game Room:</th>\n",
       "      <td>7367</td>\n",
       "      <td>66.125123</td>\n",
       "    </tr>\n",
       "    <tr>\n",
       "      <th>Study/Library:</th>\n",
       "      <td>7658</td>\n",
       "      <td>68.737097</td>\n",
       "    </tr>\n",
       "  </tbody>\n",
       "</table>\n",
       "</div>"
      ],
      "text/plain": [
       "                    count          %\n",
       "Front Door:          6471  58.082757\n",
       "Breakfast:           6724  60.353649\n",
       "Garage Carport:      6734  60.443407\n",
       "Utility Room Desc:   7178  64.428687\n",
       "Game Room:           7367  66.125123\n",
       "Study/Library:       7658  68.737097"
      ]
     },
     "execution_count": 24,
     "metadata": {},
     "output_type": "execute_result"
    }
   ],
   "source": [
    "missing.loc[nan_50_70].sort_values(by=\"%\")"
   ]
  },
  {
   "cell_type": "code",
   "execution_count": 25,
   "metadata": {},
   "outputs": [
    {
     "name": "stdout",
     "output_type": "stream",
     "text": [
      "Value Count for Breakfast:\n",
      "['1st', '1st']                              192\n",
      "['10x10, 1st', '3.05 x 3.05(m)']            155\n",
      "['11x10, 1st', '3.35 x 3.05(m)']            149\n",
      "['12x10, 1st', '3.66 x 3.05(m)']            147\n",
      "['10x9, 1st', '3.05 x 2.74(m)']             108\n",
      "                                           ... \n",
      "['10x9.8, 1st', '3.05 x 2.99(m)']             1\n",
      "['10 x 5, 3rd', '10 , 5, 3rd']                1\n",
      "['11.4 x 11.1, 1st', '11.4 , 11.1, 1st']      1\n",
      "[\"10'10X11'5, 1st\", \"10'10,11'5, 1st\"]        1\n",
      "['9 X 16, 1st', '9 , 16, 1st']                1\n",
      "Name: Breakfast:, Length: 769, dtype: int64\n",
      "----------------------------------------------------------------------------------------------------\n",
      "Value Count for Game Room:\n",
      "['2nd', '2nd']                                                        72\n",
      "['18x14, 2nd', '5.49 x 4.27(m)']                                      52\n",
      "['19x16, 2nd', '5.79 x 4.88(m)']                                      44\n",
      "['18x16, 2nd', '5.49 x 4.88(m)']                                      37\n",
      "['16x14, 2nd', '4.88 x 4.27(m)']                                      37\n",
      "                                                                      ..\n",
      "['27x19, 2nd', '8.23 x 5.79(m)']                                       1\n",
      "['16x13, 2nd', '15.5x12, 2nd', '4.88 x 3.96(m)', '4.72 x 3.66(m)']     1\n",
      "[\"13'x10', 2nd\", \"13',10', 2nd\"]                                       1\n",
      "['15 x 21, 2nd', '15 , 21, 2nd']                                       1\n",
      "['14 x 22, 3rd', '14 , 22, 3rd']                                       1\n",
      "Name: Game Room:, Length: 1313, dtype: int64\n",
      "----------------------------------------------------------------------------------------------------\n",
      "Value Count for Study/Library:\n",
      "['12x11, 1st', '3.66 x 3.35(m)']                  163\n",
      "['12x12, 1st', '3.66 x 3.66(m)']                  133\n",
      "['13x11, 1st', '3.96 x 3.35(m)']                  127\n",
      "['13x12, 1st', '3.96 x 3.66(m)']                  127\n",
      "['14x12, 1st', '4.27 x 3.66(m)']                   94\n",
      "                                                 ... \n",
      "['14\\'10\" x 12\\', 2nd', '14\\'10\" , 12\\', 2nd']      1\n",
      "['16x12,  1st', '4.88 x 3.66(m)']                   1\n",
      "[\"14'x10.5', 1st\", \"14',10.5', 1st\"]                1\n",
      "['26x15, 1st', '7.92 x 4.57(m)']                    1\n",
      "['13x13, 2nd', '3.96 x 3.96(m)']                    1\n",
      "Name: Study/Library:, Length: 836, dtype: int64\n",
      "----------------------------------------------------------------------------------------------------\n",
      "Value Count for Garage Carport:\n",
      "Auto Garage Door Opener                                                                   1185\n",
      "Auto Garage Door Opener, Double-Wide Driveway                                              602\n",
      "Double-Wide Driveway                                                                       600\n",
      "Additional Parking                                                                         192\n",
      "Additional Parking, Auto Garage Door Opener, Double-Wide Driveway                          162\n",
      "                                                                                          ... \n",
      "Auto Garage Door Opener, Porte-Cochere, Workshop                                             1\n",
      "Additional Parking, Double-Wide Driveway, Golf Cart Garage                                   1\n",
      "Boat Parking, Double-Wide Driveway, Driveway Gate, RV Parking, Workshop                      1\n",
      "Additional Parking, Auto Garage Door Opener, Double-Wide Driveway, EV Charging Station       1\n",
      "Auto Driveway Gate, Workshop                                                                 1\n",
      "Name: Garage Carport:, Length: 312, dtype: int64\n",
      "----------------------------------------------------------------------------------------------------\n",
      "Value Count for Front Door:\n",
      "South                1362\n",
      "North                1267\n",
      "West                  870\n",
      "East                  849\n",
      "East, North            89\n",
      "South, West            78\n",
      "North, West            77\n",
      "East, South            71\n",
      "East, West              4\n",
      "North, South            2\n",
      "East, North, West       1\n",
      "Name: Front Door:, dtype: int64\n",
      "----------------------------------------------------------------------------------------------------\n",
      "Value Count for Utility Room Desc:\n",
      "['1st', '1st']                                    726\n",
      "['2nd', '2nd']                                    289\n",
      "['3rd', '3rd']                                    125\n",
      "['In House', 'In House']                           94\n",
      "['6x6, 1st', '1.83 x 1.83(m)']                     92\n",
      "                                                 ... \n",
      "['8x5, In Garage', '2.44 x 1.52(m)']                1\n",
      "['3x8, 1st', '0.91 x 2.44(m)']                      1\n",
      "['7\\'11\" x 6\\'0\", 1st', '7\\'11\" , 6\\'0\", 1st']      1\n",
      "['07X17, 1st', '2.13 x 5.18(m)']                    1\n",
      "['8*8, 1st', '8*8, 1st']                            1\n",
      "Name: Utility Room Desc:, Length: 854, dtype: int64\n",
      "----------------------------------------------------------------------------------------------------\n"
     ]
    }
   ],
   "source": [
    "#printing value count for each feature with more than 50 none value\n",
    "for item in nan_50_70:\n",
    "    print('Value Count for '+item)\n",
    "    print(single_family_df[item].value_counts())\n",
    "    print('-'*100)"
   ]
  },
  {
   "cell_type": "markdown",
   "metadata": {},
   "source": [
    "We can calculate area for `Utility Room`, `Study/Library`. `Game Room`and `Breakfast` based on  dimension we have and assume the NA values are zero for those houses that do not have these rooms. I drop `Garage Carport` and `Front Door` since there is no information for rest of the house."
   ]
  },
  {
   "cell_type": "code",
   "execution_count": 26,
   "metadata": {},
   "outputs": [],
   "source": [
    "def area_calc(item,pattern = \"([\\d.]+)(?:.*?([\\d.]+))?.*?[x\\*].*?([\\d.]+)(?:.*?([\\d.]+))?\"):\n",
    "    \"\"\"This function calculates are based on dimension passed in as parameter. Regular experession\n",
    "    pattern will find dimension and group them as feet and inch\"\"\"\n",
    "    pattern = re.compile(pattern,re.IGNORECASE)\n",
    "    area=0\n",
    "    dim=[]\n",
    "    if type(item)==list:\n",
    "        for i in item:\n",
    "            if (('x' in i or 'X' in i or '*' in i )and '(m)' not in i ):\n",
    "                dim.append(i.replace('[','').strip())\n",
    "        for d in dim:\n",
    "            d=d.replace(' ','').strip()\n",
    "            match=pattern.findall(d)\n",
    "            try:\n",
    "                dimension_list = [float(item) if len(item)>0 else 0 for item in match[0]]\n",
    "                area += (dimension_list[0]+(dimension_list[1]/12))*(dimension_list[2]+(dimension_list[3]/12))\n",
    "            except:\n",
    "                area=None\n",
    "        return(area)"
   ]
  },
  {
   "cell_type": "code",
   "execution_count": 27,
   "metadata": {},
   "outputs": [],
   "source": [
    "# Calculating area for Utility room\n",
    "single_family_df['UtilitySqft'] = single_family_df['Utility Room Desc:'].str.split(',')\n",
    "single_family_df['UtilitySqft'] = single_family_df['UtilitySqft'].apply(area_calc)\n",
    "\n",
    "# Calculating area for Study/Library room\n",
    "single_family_df['StudySqft'] = single_family_df['Study/Library:'].str.split(',')\n",
    "single_family_df['StudySqft'] = single_family_df['StudySqft'].apply(area_calc)\n",
    "\n",
    "# Calculating area for Game room\n",
    "single_family_df['GameSqft'] = single_family_df['Game Room:'].str.split(',')\n",
    "single_family_df['GameSqft'] = single_family_df['GameSqft'].apply(area_calc)\n",
    "\n",
    "# Calculating area for Breakfast\n",
    "single_family_df['BreakfastSqft'] = single_family_df['Breakfast:'].str.split(',')\n",
    "single_family_df['BreakfastSqft'] = single_family_df['BreakfastSqft'].apply(area_calc)\n",
    "\n",
    "single_family_df.update(single_family_df[['UtilitySqft','StudySqft','GameSqft','BreakfastSqft']].fillna(0))"
   ]
  },
  {
   "cell_type": "code",
   "execution_count": 28,
   "metadata": {},
   "outputs": [],
   "source": [
    "single_family_df.drop(list(nan_50_70),axis=1,inplace=True)"
   ]
  },
  {
   "cell_type": "markdown",
   "metadata": {},
   "source": [
    "So far I investigated features with the none value more than 50% and still need to dig more and also fill values for features that are the facts (based on active listing) for each subdivision like: `Home For Sales`, `Average List Price`,`Average Square Ft.`,`Average Price/Square Ft.`, `Home For Lease`, `Average Lease`and `Average Lease/Square Ft.`. But before that lets take a look at features with none values more than 10%:"
   ]
  },
  {
   "cell_type": "markdown",
   "metadata": {},
   "source": [
    "## 1.6.5 Features With 10%-50% Missing Values<a id='1.6.5_Features_With_10%_-_50%_Missing_Values'></a>"
   ]
  },
  {
   "cell_type": "code",
   "execution_count": 29,
   "metadata": {},
   "outputs": [
    {
     "name": "stdout",
     "output_type": "stream",
     "text": [
      "Number of Features with more than 10% and less than 50% None:  35\n"
     ]
    }
   ],
   "source": [
    "missing = missing_cal(single_family_df)\n",
    "nan_10_50 = missing.loc[((missing['%']>10 )& (missing['%']<50))].index\n",
    "print('Number of Features with more than 10% and less than 50% None: ',len(nan_10_50))"
   ]
  },
  {
   "cell_type": "code",
   "execution_count": 30,
   "metadata": {},
   "outputs": [
    {
     "data": {
      "text/html": [
       "<div>\n",
       "<style scoped>\n",
       "    .dataframe tbody tr th:only-of-type {\n",
       "        vertical-align: middle;\n",
       "    }\n",
       "\n",
       "    .dataframe tbody tr th {\n",
       "        vertical-align: top;\n",
       "    }\n",
       "\n",
       "    .dataframe thead th {\n",
       "        text-align: right;\n",
       "    }\n",
       "</style>\n",
       "<table border=\"1\" class=\"dataframe\">\n",
       "  <thead>\n",
       "    <tr style=\"text-align: right;\">\n",
       "      <th></th>\n",
       "      <th>count</th>\n",
       "      <th>%</th>\n",
       "    </tr>\n",
       "  </thead>\n",
       "  <tbody>\n",
       "    <tr>\n",
       "      <th>Garage(s):</th>\n",
       "      <td>1292</td>\n",
       "      <td>11.596805</td>\n",
       "    </tr>\n",
       "    <tr>\n",
       "      <th>Tax Rate:</th>\n",
       "      <td>1323</td>\n",
       "      <td>11.875056</td>\n",
       "    </tr>\n",
       "    <tr>\n",
       "      <th>Dishwasher:</th>\n",
       "      <td>1413</td>\n",
       "      <td>12.682883</td>\n",
       "    </tr>\n",
       "    <tr>\n",
       "      <th>Bedroom Desc:</th>\n",
       "      <td>1682</td>\n",
       "      <td>15.097388</td>\n",
       "    </tr>\n",
       "    <tr>\n",
       "      <th>Median Appraised Value:</th>\n",
       "      <td>1746</td>\n",
       "      <td>15.671843</td>\n",
       "    </tr>\n",
       "    <tr>\n",
       "      <th>Median Year Built:</th>\n",
       "      <td>1746</td>\n",
       "      <td>15.671843</td>\n",
       "    </tr>\n",
       "    <tr>\n",
       "      <th>Median Lot Square Ft.:</th>\n",
       "      <td>1746</td>\n",
       "      <td>15.671843</td>\n",
       "    </tr>\n",
       "    <tr>\n",
       "      <th>Median Square Ft.:</th>\n",
       "      <td>1746</td>\n",
       "      <td>15.671843</td>\n",
       "    </tr>\n",
       "    <tr>\n",
       "      <th>Single Family Properties:</th>\n",
       "      <td>1746</td>\n",
       "      <td>15.671843</td>\n",
       "    </tr>\n",
       "    <tr>\n",
       "      <th>County / Zip Code:</th>\n",
       "      <td>1746</td>\n",
       "      <td>15.671843</td>\n",
       "    </tr>\n",
       "    <tr>\n",
       "      <th>Subdivision Name:</th>\n",
       "      <td>1746</td>\n",
       "      <td>15.671843</td>\n",
       "    </tr>\n",
       "    <tr>\n",
       "      <th>Neighborhood Value Range:</th>\n",
       "      <td>1746</td>\n",
       "      <td>15.671843</td>\n",
       "    </tr>\n",
       "    <tr>\n",
       "      <th>Disposal:</th>\n",
       "      <td>1799</td>\n",
       "      <td>16.147563</td>\n",
       "    </tr>\n",
       "    <tr>\n",
       "      <th>Microwave:</th>\n",
       "      <td>1922</td>\n",
       "      <td>17.251593</td>\n",
       "    </tr>\n",
       "    <tr>\n",
       "      <th>Financing Considered:</th>\n",
       "      <td>1965</td>\n",
       "      <td>17.637555</td>\n",
       "    </tr>\n",
       "    <tr>\n",
       "      <th>Floors:</th>\n",
       "      <td>2045</td>\n",
       "      <td>18.355623</td>\n",
       "    </tr>\n",
       "    <tr>\n",
       "      <th>Range:</th>\n",
       "      <td>2077</td>\n",
       "      <td>18.642851</td>\n",
       "    </tr>\n",
       "    <tr>\n",
       "      <th>Room Description:</th>\n",
       "      <td>2134</td>\n",
       "      <td>19.154474</td>\n",
       "    </tr>\n",
       "    <tr>\n",
       "      <th>Oven:</th>\n",
       "      <td>2425</td>\n",
       "      <td>21.766448</td>\n",
       "    </tr>\n",
       "    <tr>\n",
       "      <th>Connections:</th>\n",
       "      <td>2507</td>\n",
       "      <td>22.502468</td>\n",
       "    </tr>\n",
       "    <tr>\n",
       "      <th>Exterior:</th>\n",
       "      <td>2573</td>\n",
       "      <td>23.094875</td>\n",
       "    </tr>\n",
       "    <tr>\n",
       "      <th>Median Price / Square ft.:</th>\n",
       "      <td>2670</td>\n",
       "      <td>23.965533</td>\n",
       "    </tr>\n",
       "    <tr>\n",
       "      <th>Taxes w/o Exemp:</th>\n",
       "      <td>2833</td>\n",
       "      <td>25.428597</td>\n",
       "    </tr>\n",
       "    <tr>\n",
       "      <th>Energy Feature:</th>\n",
       "      <td>3008</td>\n",
       "      <td>26.999372</td>\n",
       "    </tr>\n",
       "    <tr>\n",
       "      <th>Bathroom Description:</th>\n",
       "      <td>3025</td>\n",
       "      <td>27.151961</td>\n",
       "    </tr>\n",
       "    <tr>\n",
       "      <th>Countertop:</th>\n",
       "      <td>3098</td>\n",
       "      <td>27.807199</td>\n",
       "    </tr>\n",
       "    <tr>\n",
       "      <th>Interior:</th>\n",
       "      <td>3150</td>\n",
       "      <td>28.273943</td>\n",
       "    </tr>\n",
       "    <tr>\n",
       "      <th>Kitchen:</th>\n",
       "      <td>3304</td>\n",
       "      <td>29.656225</td>\n",
       "    </tr>\n",
       "    <tr>\n",
       "      <th>Dining:</th>\n",
       "      <td>3524</td>\n",
       "      <td>31.630913</td>\n",
       "    </tr>\n",
       "    <tr>\n",
       "      <th>Kitchen Desc:</th>\n",
       "      <td>3923</td>\n",
       "      <td>35.212279</td>\n",
       "    </tr>\n",
       "    <tr>\n",
       "      <th>Fireplace:</th>\n",
       "      <td>4531</td>\n",
       "      <td>40.669599</td>\n",
       "    </tr>\n",
       "    <tr>\n",
       "      <th>Living:</th>\n",
       "      <td>4847</td>\n",
       "      <td>43.505969</td>\n",
       "    </tr>\n",
       "    <tr>\n",
       "      <th>Compactor:</th>\n",
       "      <td>5171</td>\n",
       "      <td>46.414146</td>\n",
       "    </tr>\n",
       "    <tr>\n",
       "      <th>Area Pool:</th>\n",
       "      <td>5315</td>\n",
       "      <td>47.706669</td>\n",
       "    </tr>\n",
       "    <tr>\n",
       "      <th>Ice Maker:</th>\n",
       "      <td>5476</td>\n",
       "      <td>49.151782</td>\n",
       "    </tr>\n",
       "  </tbody>\n",
       "</table>\n",
       "</div>"
      ],
      "text/plain": [
       "                            count          %\n",
       "Garage(s):                   1292  11.596805\n",
       "Tax Rate:                    1323  11.875056\n",
       "Dishwasher:                  1413  12.682883\n",
       "Bedroom Desc:                1682  15.097388\n",
       "Median Appraised Value:      1746  15.671843\n",
       "Median Year Built:           1746  15.671843\n",
       "Median Lot Square Ft.:       1746  15.671843\n",
       "Median Square Ft.:           1746  15.671843\n",
       "Single Family Properties:    1746  15.671843\n",
       "County / Zip Code:           1746  15.671843\n",
       "Subdivision Name:            1746  15.671843\n",
       "Neighborhood Value Range:    1746  15.671843\n",
       "Disposal:                    1799  16.147563\n",
       "Microwave:                   1922  17.251593\n",
       "Financing Considered:        1965  17.637555\n",
       "Floors:                      2045  18.355623\n",
       "Range:                       2077  18.642851\n",
       "Room Description:            2134  19.154474\n",
       "Oven:                        2425  21.766448\n",
       "Connections:                 2507  22.502468\n",
       "Exterior:                    2573  23.094875\n",
       "Median Price / Square ft.:   2670  23.965533\n",
       "Taxes w/o Exemp:             2833  25.428597\n",
       "Energy Feature:              3008  26.999372\n",
       "Bathroom Description:        3025  27.151961\n",
       "Countertop:                  3098  27.807199\n",
       "Interior:                    3150  28.273943\n",
       "Kitchen:                     3304  29.656225\n",
       "Dining:                      3524  31.630913\n",
       "Kitchen Desc:                3923  35.212279\n",
       "Fireplace:                   4531  40.669599\n",
       "Living:                      4847  43.505969\n",
       "Compactor:                   5171  46.414146\n",
       "Area Pool:                   5315  47.706669\n",
       "Ice Maker:                   5476  49.151782"
      ]
     },
     "execution_count": 30,
     "metadata": {},
     "output_type": "execute_result"
    }
   ],
   "source": [
    "missing.loc[nan_10_50].sort_values(by=\"%\")"
   ]
  },
  {
   "cell_type": "code",
   "execution_count": 31,
   "metadata": {
    "tags": [
     "outputPrepend"
    ]
   },
   "outputs": [
    {
     "name": "stdout",
     "output_type": "stream",
     "text": [
      "Value Count for Garage(s):\n",
      "2 / Attached                                    5626\n",
      "2 / Detached                                    1063\n",
      "3 / Attached                                     686\n",
      "1 / Detached                                     341\n",
      "1 / Attached                                     320\n",
      "                                                ... \n",
      "2 / Attached,Attached/Detached,Detached            1\n",
      "8 / Attached/Detached                              1\n",
      "5 / Attached,Attached/Detached,Detached,Over       1\n",
      "6 / Detached,Oversized                             1\n",
      "6 / Detached,Oversized,Tandem                      1\n",
      "Name: Garage(s):, Length: 114, dtype: int64\n",
      "----------------------------------------------------------------------------------------------------\n",
      "Value Count for Living:\n",
      "['15x13, 1st', '4.57 x 3.96(m)']                                            58\n",
      "['20x15, 1st', '6.10 x 4.57(m)']                                            57\n",
      "['14x12, 1st', '4.27 x 3.66(m)']                                            57\n",
      "['18x15, 1st', '5.49 x 4.57(m)']                                            55\n",
      "['20x16, 1st', '6.10 x 4.88(m)']                                            55\n",
      "                                                                            ..\n",
      "['15.4x13.6,  2nd', '20.6x19,  1st', '4.69 x 4.15(m)', '6.28 x 5.79(m)']     1\n",
      "['73x32, 1st', '22.25 x 9.75(m)']                                            1\n",
      "['16 x 17, 1st', '16 , 17, 1st']                                             1\n",
      "['14.5 X 22.2, 2nd', '14\\' 6\" , 22\\'3\", 2nd']                                1\n",
      "['13x13, 2nd', '3.96 x 3.96(m)']                                             1\n",
      "Name: Living:, Length: 1619, dtype: int64\n",
      "----------------------------------------------------------------------------------------------------\n",
      "Value Count for Dining:\n",
      "['12x11, 1st', '3.66 x 3.35(m)']                    220\n",
      "['13x11, 1st', '3.96 x 3.35(m)']                    203\n",
      "['13x12, 1st', '3.96 x 3.66(m)']                    184\n",
      "['14x12, 1st', '4.27 x 3.66(m)']                    175\n",
      "['1st', '1st']                                      172\n",
      "                                                   ... \n",
      "['17.6 x 9.9, 1st', '17.6 , 9.9, 1st']                1\n",
      "[\"12'-8' x 10', 1st\", \"12'-8' , 10', 1st\"]            1\n",
      "['21x11, 1st', '6.40 x 3.35(m)']                      1\n",
      "['14\\'8\" X 10\\'4\", 1st', '14\\'8\" , 10\\'4\", 1st']      1\n",
      "['18x15.5, 1st', '5.49 x 4.72(m)']                    1\n",
      "Name: Dining:, Length: 1308, dtype: int64\n",
      "----------------------------------------------------------------------------------------------------\n",
      "Value Count for Kitchen:\n",
      "['1st', '1st']                                        376\n",
      "['14x12, 1st', '4.27 x 3.66(m)']                      129\n",
      "['12x10, 1st', '3.66 x 3.05(m)']                      116\n",
      "['12x11, 1st', '3.66 x 3.35(m)']                      100\n",
      "['13x11, 1st', '3.96 x 3.35(m)']                       97\n",
      "                                                     ... \n",
      "['15 x17, 1st', '15 ,17, 1st']                          1\n",
      "['11.5 x 7.3, 1st', '11.5 , 7.3, 1st']                  1\n",
      "['17 x 8, 1st', '17 , 8, 1st']                          1\n",
      "['11X21, 1st', '3.35 x 6.40(m)']                        1\n",
      "['9\\' 11\" x 10\\'9\", 1st', '9\\' 11\" , 10\\'9\", 1st']      1\n",
      "Name: Kitchen:, Length: 1597, dtype: int64\n",
      "----------------------------------------------------------------------------------------------------\n",
      "Value Count for Room Description:\n",
      "['1 Living Area', '1 Living Area']                                                                                                                                                                                                                                                                                                              135\n",
      "['Breakfast Room, Family Room, Formal Dining, Gameroom Up, Study/Library, Utility Room in House,', 'Breakfast Room, Family Room, Formal Dining, Gameroom Up, Study/Library, Utility Room in House,']                                                                                                                                             93\n",
      "['Utility Room in House', 'Utility Room in House']                                                                                                                                                                                                                                                                                               73\n",
      "['Breakfast Room, Family Room, Formal Dining, Utility Room in House,', 'Breakfast Room, Family Room, Formal Dining, Utility Room in House,']                                                                                                                                                                                                     65\n",
      "['Breakfast Room, Family Room, Formal Dining, Formal Living, Utility Room in House,', 'Breakfast Room, Family Room, Formal Dining, Formal Living, Utility Room in House,']                                                                                                                                                                       62\n",
      "                                                                                                                                                                                                                                                                                                                                               ... \n",
      "['1 Living Area, Breakfast Room, Family Room, Guest Suite, Living Area - 1st Floor, Study/Library, Utility Room in House,', '1 Living Area, Breakfast Room, Family Room, Guest Suite, Living Area - 1st Floor, Study/Library, Utility Room in House,']                                                                                            1\n",
      "['Family Room, Formal Dining, Formal Living, Gameroom Down, Kitchen/Dining Combo, Living Area - 1st Floor,', 'Family Room, Formal Dining, Formal Living, Gameroom Down, Kitchen/Dining Combo, Living Area - 1st Floor,']                                                                                                                          1\n",
      "['1 Living Area, Family Room, Garage Apartment, Living Area - 1st Floor, Quarters/Guest House, Utility Room in Garage,', '1 Living Area, Family Room, Garage Apartment, Living Area - 1st Floor, Quarters/Guest House, Utility Room in Garage,']                                                                                                  1\n",
      "['1 Living Area, Breakfast Room, Formal Dining, Garage Apartment, Guest Suite, Guest Suite w/Kitchen, Living Area - 1st Floor, Study/Library, Utility Room in House,', '1 Living Area, Breakfast Room, Formal Dining, Garage Apartment, Guest Suite, Guest Suite w/Kitchen, Living Area - 1st Floor, Study/Library, Utility Room in House,']      1\n",
      "['1 Living Area, Family Room, Formal Dining, Formal Living, Living Area - 1st Floor, Living/Dining Combo, Utility Room in House,', '1 Living Area, Family Room, Formal Dining, Formal Living, Living Area - 1st Floor, Living/Dining Combo, Utility Room in House,']                                                                              1\n",
      "Name: Room Description:, Length: 3104, dtype: int64\n",
      "----------------------------------------------------------------------------------------------------\n",
      "Value Count for Fireplace:\n",
      "1/Gaslog Fireplace                                             1882\n",
      "1                                                              1131\n",
      "1/Gas Connections                                               872\n",
      "1/Wood Burning Fireplace                                        545\n",
      "1/Gas Connections, Gaslog Fireplace                             460\n",
      "                                                               ... \n",
      "4/Mock Fireplace                                                  1\n",
      "7/Gas Connections, Gaslog Fireplace, Wood Burning Fireplace       1\n",
      "3/Freestanding, Gas Connections                                   1\n",
      "1/Freestanding, Mock Fireplace                                    1\n",
      "3/Freestanding, Gaslog Fireplace                                  1\n",
      "Name: Fireplace:, Length: 92, dtype: int64\n",
      "----------------------------------------------------------------------------------------------------\n",
      "Value Count for Countertop:\n",
      "Granite                    3984\n",
      "Quartz                      991\n",
      "granite                     510\n",
      "GRANITE                     364\n",
      "Stone                       137\n",
      "                           ... \n",
      "cultured marble               1\n",
      "Mrbl, Qrtz, Qrtzte, Gra       1\n",
      "Natural, tile, wood           1\n",
      "Solid surface Corian          1\n",
      "Corianders                    1\n",
      "Name: Countertop:, Length: 550, dtype: int64\n",
      "----------------------------------------------------------------------------------------------------\n",
      "Value Count for Floors:\n",
      "Carpet, Tile                                       1778\n",
      "Carpet, Tile, Wood                                 1577\n",
      "Tile, Wood                                          872\n",
      "Carpet, Engineered Wood, Tile                       498\n",
      "Tile                                                385\n",
      "                                                   ... \n",
      "Bamboo, Engineered Wood, Tile, Wood                   1\n",
      "Carpet, Concrete, Slate, Tile, Travertine, Wood       1\n",
      "Bamboo, Laminate, Tile, Wood                          1\n",
      "Carpet, Engineered Wood, Stone, Travertine            1\n",
      "Marble Floors, Slate, Tile, Vinyl Plank, Wood         1\n",
      "Name: Floors:, Length: 346, dtype: int64\n",
      "----------------------------------------------------------------------------------------------------\n",
      "Value Count for Bedroom Desc:\n",
      "All Bedrooms Down                                                                                             1282\n",
      "Primary Bed - 1st Floor                                                                                        814\n",
      "Primary Bed - 1st Floor, Walk-In Closet                                                                        634\n",
      "All Bedrooms Up                                                                                                472\n",
      "All Bedrooms Down, Primary Bed - 1st Floor                                                                     367\n",
      "                                                                                                              ... \n",
      "2 Bedrooms Down, 2 Primary Bedrooms, En-Suite Bath, Primary Bed - 3rd Floor, Sitting Area, Split Plan, Wal       1\n",
      "1 Bedroom Down - Not Primary BR, All Bedrooms Up, Primary Bed - 2nd Floor, Split Plan, Walk-In Closet            1\n",
      "2 Bedrooms Down, 2 Primary Bedrooms, Primary Bed - 1st Floor, Primary Bed - 2nd Floor, Sitting Area, Spli        1\n",
      "1 Bedroom Down - Not Primary BR, Primary Bed - 3rd Floor, Multilevel Bedroom                                     1\n",
      "1 Bedroom Down - Not Primary BR, 2 Bedrooms Down, En-Suite Bath, Primary Bed - 3rd Floor, Sitting Area, W        1\n",
      "Name: Bedroom Desc:, Length: 455, dtype: int64\n",
      "----------------------------------------------------------------------------------------------------\n",
      "Value Count for Kitchen Desc:\n",
      "Breakfast Bar, Kitchen open to Family Room, Pantry                                                                                                         387\n",
      "Pantry                                                                                                                                                     362\n",
      "Kitchen open to Family Room                                                                                                                                281\n",
      "Breakfast Bar                                                                                                                                              270\n",
      "Kitchen open to Family Room, Pantry                                                                                                                        238\n",
      "                                                                                                                                                          ... \n",
      "Kitchen open to Family Room, Pantry, Pot Filler, Pots/Pans Drawers, Soft Closing Cabinets, Soft Closing Drawers, Under Cabinet Lighting, Walk-in Pantry      1\n",
      "Breakfast Bar, Reverse Osmosis                                                                                                                               1\n",
      "Instant Hot Water, Pantry, Under Cabinet Lighting                                                                                                            1\n",
      "Breakfast Bar, Island w/ Cooktop, Kitchen open to Family Room, Second Sink, Under Cabinet Lighting, Walk-in Pantry                                           1\n",
      "Pots/Pans Drawers, Walk-in Pantry                                                                                                                            1\n",
      "Name: Kitchen Desc:, Length: 956, dtype: int64\n",
      "----------------------------------------------------------------------------------------------------\n",
      "Value Count for Bathroom Description:\n",
      "Double Sinks, Primary Bath + Separate Shower                                                                  1122\n",
      "Double Sinks, Primary Bath + Separate Shower, Whirlpool/Jetted Tub                                             387\n",
      "Primary Bath + Separate Shower                                                                                 360\n",
      "Double Sinks, Half Bath, Primary Bath + Separate Shower                                                        360\n",
      "Primary Bath Shower Only                                                                                       292\n",
      "                                                                                                              ... \n",
      "Disabled Access, Double Sinks, Primary Bath Shower Only, Shower Only                                             1\n",
      "Double Sinks, Half Bath, Hollywood Bath, Tub w/shower, Whirlpool/Jetted Tub                                      1\n",
      "Disabled Access, Half Bath, Primary Bath + Separate Shower, Tub w/shower                                         1\n",
      "Double Sinks, Half Bath, Hollywood Bath, Primary Bath + Separate Shower, Shower Only, Vanity Area, Whirlpo       1\n",
      "Bidet, Double Sinks, Half Bath, Primary Bath + Separate Shower, Tub w/shower, Whirlpool/Jetted Tub               1\n",
      "Name: Bathroom Description:, Length: 504, dtype: int64\n",
      "----------------------------------------------------------------------------------------------------\n",
      "Value Count for Connections:\n",
      "Electric Dryer Connections, Gas Dryer Connections, Washer Connections    4209\n",
      "Electric Dryer Connections, Washer Connections                           2682\n",
      "Gas Dryer Connections, Washer Connections                                 736\n",
      "Electric Dryer Connections                                                336\n",
      "Electric Dryer Connections, Gas Dryer Connections                         276\n",
      "Washer Connections                                                        268\n",
      "Gas Dryer Connections                                                     127\n",
      "Name: Connections:, dtype: int64\n",
      "----------------------------------------------------------------------------------------------------\n",
      "Value Count for Ice Maker:\n",
      "No     5129\n",
      "Yes     536\n",
      "Name: Ice Maker:, dtype: int64\n",
      "----------------------------------------------------------------------------------------------------\n",
      "Value Count for Microwave:\n",
      "Yes    8282\n",
      "No      937\n",
      "Name: Microwave:, dtype: int64\n",
      "----------------------------------------------------------------------------------------------------\n",
      "Value Count for Oven:\n",
      "Electric Oven                                                                  2251\n",
      "Gas Oven                                                                       2102\n",
      "Double Oven                                                                     612\n",
      "Double Oven, Electric Oven                                                      571\n",
      "Electric Oven, Single Oven                                                      420\n",
      "Single Oven                                                                     399\n",
      "Convection Oven                                                                 315\n",
      "Freestanding Oven, Gas Oven                                                     276\n",
      "Freestanding Oven                                                               235\n",
      "Convection Oven, Double Oven                                                    205\n",
      "Convection Oven, Double Oven, Electric Oven                                     188\n",
      "Convection Oven, Electric Oven                                                  178\n",
      "Double Oven, Gas Oven                                                           155\n",
      "Gas Oven, Single Oven                                                           126\n",
      "Freestanding Oven, Gas Oven, Single Oven                                        122\n",
      "Electric Oven, Freestanding Oven                                                 98\n",
      "Convection Oven, Gas Oven                                                        86\n",
      "Convection Oven, Electric Oven, Single Oven                                      57\n",
      "Convection Oven, Single Oven                                                     51\n",
      "Convection Oven, Double Oven, Gas Oven                                           46\n",
      "Electric Oven, Gas Oven                                                          31\n",
      "Electric Oven, Freestanding Oven, Single Oven                                    24\n",
      "Convection Oven, Gas Oven, Single Oven                                           23\n",
      "Freestanding Oven, Single Oven                                                   18\n",
      "Double Oven, Freestanding Oven                                                   17\n",
      "Double Oven, Electric Oven, Gas Oven                                             10\n",
      "Convection Oven, Freestanding Oven                                                9\n",
      "Convection Oven, Double Oven, Electric Oven, Freestanding Oven                    9\n",
      "Double Oven, Electric Oven, Freestanding Oven                                     9\n",
      "Double Oven, Freestanding Oven, Gas Oven                                          9\n",
      "Convection Oven, Double Oven, Freestanding Oven, Gas Oven                         8\n",
      "Convection Oven, Double Oven, Freestanding Oven                                   7\n",
      "Convection Oven, Freestanding Oven, Gas Oven                                      5\n",
      "Convection Oven, Electric Oven, Gas Oven                                          5\n",
      "Convection Oven, Double Oven, Electric Oven, Gas Oven                             5\n",
      "Convection Oven, Freestanding Oven, Gas Oven, Single Oven                         4\n",
      "Convection Oven, Double Oven, Electric Oven, Freestanding Oven, Gas Oven          4\n",
      "Double Oven, Single Oven                                                          4\n",
      "Convection Oven, Electric Oven, Freestanding Oven                                 4\n",
      "Electric Oven, Freestanding Oven, Gas Oven                                        4\n",
      "Convection Oven, Electric Oven, Freestanding Oven, Single Oven                    2\n",
      "Double Oven, Electric Oven, Freestanding Oven, Gas Oven                           2\n",
      "Convection Oven, Double Oven, Electric Oven, Single Oven                          2\n",
      "Convection Oven, Electric Oven, Freestanding Oven, Gas Oven                       1\n",
      "Double Oven, Electric Oven, Gas Oven, Single Oven                                 1\n",
      "Double Oven, Electric Oven, Single Oven                                           1\n",
      "Convection Oven, Double Oven, Single Oven                                         1\n",
      "Convection Oven, Double Oven, Electric Oven, Freestanding Oven, Single Oven       1\n",
      "Convection Oven, Freestanding Oven, Single Oven                                   1\n",
      "Convection Oven, Double Oven, Freestanding Oven, Single Oven                      1\n",
      "Electric Oven, Freestanding Oven, Gas Oven, Single Oven                           1\n",
      "Name: Oven:, dtype: int64\n",
      "----------------------------------------------------------------------------------------------------\n",
      "Value Count for Compactor:\n",
      "No     5745\n",
      "Yes     225\n",
      "Name: Compactor:, dtype: int64\n",
      "----------------------------------------------------------------------------------------------------\n",
      "Value Count for Dishwasher:\n",
      "Yes    9455\n",
      "No      273\n",
      "Name: Dishwasher:, dtype: int64\n",
      "----------------------------------------------------------------------------------------------------\n",
      "Value Count for Range:\n",
      "Gas Cooktop                                                            3148\n",
      "Gas Range                                                              2890\n",
      "Electric Cooktop                                                        936\n",
      "Electric Range                                                          700\n",
      "Freestanding Range, Gas Range                                           509\n",
      "Gas Cooktop, Gas Range                                                  216\n",
      "Freestanding Range                                                      191\n",
      "Electric Range, Freestanding Range                                       98\n",
      "Freestanding Range, Gas Cooktop                                          76\n",
      "Electric Cooktop, Electric Range                                         63\n",
      "Gas Cooktop, Grill                                                       44\n",
      "Gas Range, Grill                                                         34\n",
      "Freestanding Range, Gas Cooktop, Gas Range                               27\n",
      "Electric Cooktop, Freestanding Range                                     25\n",
      "Gas Cooktop, Gas Range, Grill                                            17\n",
      "Electric Range, Gas Cooktop                                              16\n",
      "Electric Range, Gas Range                                                11\n",
      "Electric Cooktop, Grill                                                  10\n",
      "Freestanding Range, Gas Range, Grill                                     10\n",
      "Electric Cooktop, Electric Range, Freestanding Range                     10\n",
      "Electric Cooktop, Gas Cooktop                                             8\n",
      "Electric Cooktop, Gas Cooktop, Gas Range                                  4\n",
      "Electric Range, Gas Cooktop, Gas Range                                    4\n",
      "Freestanding Range, Gas Cooktop, Gas Range, Grill                         4\n",
      "Electric Cooktop, Gas Range                                               3\n",
      "Electric Range, Freestanding Range, Gas Range                             2\n",
      "Freestanding Range, Gas Cooktop, Grill                                    2\n",
      "Electric Cooktop, Gas Cooktop, Grill                                      1\n",
      "Electric Cooktop, Freestanding Range, Gas Cooktop, Gas Range, Grill       1\n",
      "Electric Cooktop, Electric Range, Grill                                   1\n",
      "Electric Range, Grill                                                     1\n",
      "Grill                                                                     1\n",
      "Electric Cooktop, Electric Range, Gas Cooktop, Gas Range                  1\n",
      "Name: Range:, dtype: int64\n",
      "----------------------------------------------------------------------------------------------------\n",
      "Value Count for Disposal:\n",
      "Yes    9006\n",
      "No      336\n",
      "Name: Disposal:, dtype: int64\n",
      "----------------------------------------------------------------------------------------------------\n",
      "Value Count for Energy Feature:\n",
      "Ceiling Fans                                                                                                                                                                                                                                                                                                                                         1061\n",
      "Ceiling Fans, Digital Program Thermostat                                                                                                                                                                                                                                                                                                              433\n",
      "Attic Vents, Ceiling Fans, Digital Program Thermostat                                                                                                                                                                                                                                                                                                 141\n",
      "Attic Vents, Ceiling Fans                                                                                                                                                                                                                                                                                                                             124\n",
      "Ceiling Fans, Digital Program Thermostat, Insulated/Low-E windows                                                                                                                                                                                                                                                                                     106\n",
      "                                                                                                                                                                                                                                                                                                                                                     ... \n",
      "Ceiling Fans, Digital Program Thermostat, Energy Star Appliances, Energy Star/CFL/LED Lights, High-Efficiency HVAC, Insulated Doors, Insulated/Low-E windows, Insulation - Spray-Foam                                                                                                                                                                   1\n",
      "Attic Vents, Ceiling Fans, Digital Program Thermostat, Energy Star Appliances, Energy Star/CFL/LED Lights, Energy Star/Reflective Roof, High-Efficiency HVAC, HVAC>13 SEER, Insulated/Low-E windows, Insulation - Batt, Insulation - Blown Fiberglass, North/South Exposure, Radiant Attic Barrier, Tankless/On-Demand H2O Heater                       1\n",
      "Attic Vents, Ceiling Fans, Digital Program Thermostat, Energy Star Appliances, Energy Star/CFL/LED Lights, High-Efficiency HVAC, HVAC>13 SEER, Insulated Doors, Insulated/Low-E windows, Insulation - Batt, Insulation - Blown Cellulose, Insulation - Blown Fiberglass, Radiant Attic Barrier, Tankless/On-Demand H2O Heater                           1\n",
      "Attic Vents, Ceiling Fans, Digital Program Thermostat, Energy Star Appliances, Energy Star/CFL/LED Lights, Energy Star/Reflective Roof, High-Efficiency HVAC, HVAC>13 SEER, Insulated Doors, Insulated/Low-E windows, Insulation - Batt, Insulation - Blown Cellulose, North/South Exposure, Radiant Attic Barrier, Tankless/On-Demand H2O Heater       1\n",
      "Ceiling Fans, Digital Program Thermostat, Energy Star Appliances, High-Efficiency HVAC, Insulated/Low-E windows, Tankless/On-Demand H2O Heater                                                                                                                                                                                                          1\n",
      "Name: Energy Feature:, Length: 2752, dtype: int64\n",
      "----------------------------------------------------------------------------------------------------\n",
      "Value Count for Interior:\n",
      "Fire/Smoke Alarm, High Ceiling                                                                                                                               369\n",
      "Fire/Smoke Alarm                                                                                                                                             324\n",
      "Fire/Smoke Alarm, High Ceiling, Prewired for Alarm System                                                                                                    297\n",
      "High Ceiling                                                                                                                                                 208\n",
      "Drapes/Curtains/Window Cover, Fire/Smoke Alarm                                                                                                               197\n",
      "                                                                                                                                                            ... \n",
      "2 Staircases, Alarm System - Owned, Crown Molding, Drapes/Curtains/Window Cover, Fire/Smoke Alarm, Formal Entry/Foyer, Refrigerator Included, Steel Beams      1\n",
      "2 Staircases, Alarm System - Owned, Atrium, Balcony, Crown Molding, Fire/Smoke Alarm, Formal Entry/Foyer, High Ceiling, Wet Bar                                1\n",
      "Alarm System - Owned, Balcony, Dry Bar, Elevator Shaft, Fire/Smoke Alarm, High Ceiling                                                                         1\n",
      "Alarm System - Owned, Dry Bar, Elevator Shaft, Fire/Smoke Alarm, Formal Entry/Foyer, High Ceiling, Refrigerator Included, Wet Bar                              1\n",
      "Alarm System - Owned, Crown Molding, Drapes/Curtains/Window Cover, Wired for Sound                                                                             1\n",
      "Name: Interior:, Length: 2525, dtype: int64\n",
      "----------------------------------------------------------------------------------------------------\n",
      "Value Count for Area Pool:\n",
      "Yes    3451\n",
      "No     2375\n",
      "Name: Area Pool:, dtype: int64\n",
      "----------------------------------------------------------------------------------------------------\n",
      "Value Count for Exterior:\n",
      "Back Yard Fenced                                                                                                                    406\n",
      "Back Yard, Back Yard Fenced, Covered Patio/Deck                                                                                     358\n",
      "Back Yard Fenced, Covered Patio/Deck                                                                                                279\n",
      "Back Yard, Back Yard Fenced                                                                                                         231\n",
      "Back Yard Fenced, Patio/Deck                                                                                                        191\n",
      "                                                                                                                                   ... \n",
      "Back Yard, Back Yard Fenced, Balcony, Patio/Deck, Porch, Rooftop Deck, Sprinkler System                                               1\n",
      "Back Yard, Covered Patio/Deck, Not Fenced, Patio/Deck, Porch                                                                          1\n",
      "Back Green Space, Patio/Deck, Side Yard, Sprinkler System                                                                             1\n",
      "Back Yard, Back Yard Fenced, Balcony, Covered Patio/Deck, Patio/Deck, Satellite Dish, Sprinkler System, Subdivision Tennis Court      1\n",
      "Back Yard, Back Yard Fenced, Covered Patio/Deck, Partially Fenced, Patio/Deck, Sprinkler System, Subdivision Tennis Court             1\n",
      "Name: Exterior:, Length: 2764, dtype: int64\n",
      "----------------------------------------------------------------------------------------------------\n",
      "Value Count for Financing Considered:\n",
      "Cash Sale, Conventional, FHA, VA                                                                                                                                                          3832\n",
      "Cash Sale, Conventional                                                                                                                                                                   2162\n",
      "Cash Sale, Conventional, FHA                                                                                                                                                               752\n",
      "Cash Sale, Conventional, FHA, Investor, VA                                                                                                                                                 552\n",
      "Cash Sale, Conventional, VA                                                                                                                                                                399\n",
      "                                                                                                                                                                                          ... \n",
      "Cash Sale, Conventional, FHA, USDA Loan                                                                                                                                                      1\n",
      "Affordable Housing Program (subject to conditions), Cash Sale, Conventional, FHA, Investor, Other, Owner Financing, Seller to Contribute to Buyer's Closing Costs, USDA Loan, VA, Wrap       1\n",
      "Cash Sale, Conventional, FHA, Owner 2nd                                                                                                                                                      1\n",
      "Cash Sale, Conventional, Investor, USDA Loan                                                                                                                                                 1\n",
      "Cash Sale, Conventional, FHA, USDA Loan, VA, Wrap                                                                                                                                            1\n",
      "Name: Financing Considered:, Length: 148, dtype: int64\n",
      "----------------------------------------------------------------------------------------------------\n",
      "Value Count for Taxes w/o Exemp:\n",
      "$1, 016/2019     10\n",
      "$1, 332/2019     10\n",
      "$1, 232/2019      9\n",
      "$15, 740/2019     7\n",
      "$6, 296/2019      7\n",
      "                 ..\n",
      "$10, 648/2018     1\n",
      "$8, 429/2019      1\n",
      "$25, 952/2019     1\n",
      "$18, 315/2019     1\n",
      "$13, 095/2019     1\n",
      "Name: Taxes w/o Exemp:, Length: 6674, dtype: int64\n",
      "----------------------------------------------------------------------------------------------------\n",
      "Value Count for Tax Rate:\n",
      "2.42160    2259\n",
      "2.53040     320\n",
      "2.71080     260\n",
      "2.52160     250\n",
      "2.60560     179\n",
      "           ... \n",
      "2.75422       1\n",
      "2.66785       1\n",
      "3.06110       1\n",
      "3.62130       1\n",
      "2.49200       1\n",
      "Name: Tax Rate:, Length: 816, dtype: int64\n",
      "----------------------------------------------------------------------------------------------------\n",
      "Value Count for Subdivision Name:\n",
      "Aliana                     120\n",
      "Houston Heights            109\n",
      "Tavola                      98\n",
      "Oak Forest ( East )         94\n",
      "Westbury                    81\n",
      "                          ... \n",
      "Rossonian Court              1\n",
      "La Branch Palms              1\n",
      "Kingsgarden                  1\n",
      "Oakmont (Houston)            1\n",
      "Cinco Ranch Canyon Gate      1\n",
      "Name: Subdivision Name:, Length: 2111, dtype: int64\n",
      "----------------------------------------------------------------------------------------------------\n",
      "Value Count for County / Zip Code:\n",
      "77407.0    229\n",
      "77373.0    225\n",
      "77077.0    211\n",
      "77379.0    209\n",
      "77008.0    199\n",
      "          ... \n",
      "77355.0      1\n",
      "77362.0      1\n",
      "77401.0      1\n",
      "77450.0      1\n",
      "77503.0      1\n",
      "Name: County / Zip Code:, Length: 116, dtype: int64\n",
      "----------------------------------------------------------------------------------------------------\n",
      "Value Count for Single Family Properties:\n",
      "3,292    120\n",
      "3,936    109\n",
      "852      102\n",
      "3,845     94\n",
      "3,399     81\n",
      "        ... \n",
      "0          1\n",
      "161        1\n",
      "503        1\n",
      "254        1\n",
      "339        1\n",
      "Name: Single Family Properties:, Length: 762, dtype: int64\n",
      "----------------------------------------------------------------------------------------------------\n",
      "Value Count for Median Square Ft.:\n",
      "3,158    120\n",
      "2,083    110\n",
      "2,678     98\n",
      "1,823     98\n",
      "1,581     95\n",
      "        ... \n",
      "4,396      1\n",
      "2,638      1\n",
      "1,931      1\n",
      "2,640      1\n",
      "1,339      1\n",
      "Name: Median Square Ft.:, Length: 1457, dtype: int64\n",
      "----------------------------------------------------------------------------------------------------\n",
      "Value Count for Median Lot Square Ft.:\n",
      "5,000     347\n",
      "6,600     217\n",
      "7,200     134\n",
      "8,604     120\n",
      "6,900     104\n",
      "         ... \n",
      "12,283      1\n",
      "25,725      1\n",
      "62,726      1\n",
      "2,446       1\n",
      "7,754       1\n",
      "Name: Median Lot Square Ft.:, Length: 1421, dtype: int64\n",
      "----------------------------------------------------------------------------------------------------\n",
      "Value Count for Median Year Built:\n",
      "2015.0    318\n",
      "2018.0    310\n",
      "2017.0    301\n",
      "1940.0    301\n",
      "1982.0    278\n",
      "         ... \n",
      "1910.0      2\n",
      "2019.0      1\n",
      "1922.0      1\n",
      "1916.0      1\n",
      "1934.0      1\n",
      "Name: Median Year Built:, Length: 99, dtype: int64\n",
      "----------------------------------------------------------------------------------------------------\n",
      "Value Count for Median Appraised Value:\n",
      "$349,020       120\n",
      "$571,506       109\n",
      "$238,290        98\n",
      "$353,597        94\n",
      "$234,244        81\n",
      "              ... \n",
      "$1,922,155       1\n",
      "$400,554         1\n",
      "$62,260          1\n",
      "$164,629         1\n",
      "$456,336         1\n",
      "Name: Median Appraised Value:, Length: 2086, dtype: int64\n",
      "----------------------------------------------------------------------------------------------------\n",
      "Value Count for Neighborhood Value Range:\n",
      "$279 - $479 K     120\n",
      "$335 - $1040 K    109\n",
      "$40 - $345 K       98\n",
      "$288 - $823 K      94\n",
      "$152 - $333 K      81\n",
      "                 ... \n",
      "$56 - $353 K        1\n",
      "$37 - $67 K         1\n",
      "$78 - $183 K        1\n",
      "$199 - $750 K       1\n",
      "$58 - $170 K        1\n",
      "Name: Neighborhood Value Range:, Length: 2072, dtype: int64\n",
      "----------------------------------------------------------------------------------------------------\n",
      "Value Count for Median Price / Square ft.:\n",
      "$127.37     120\n",
      "$303.75     109\n",
      "$108.33      98\n",
      "$259.49      94\n",
      "$146.71      81\n",
      "           ... \n",
      "$123.62       1\n",
      "$95.10        1\n",
      "$99.79        1\n",
      "$58.48        1\n",
      "$95.78        1\n",
      "Name: Median Price / Square ft.:, Length: 1375, dtype: int64\n",
      "----------------------------------------------------------------------------------------------------\n"
     ]
    }
   ],
   "source": [
    "#printing value count for each feature with more than 50 none value\n",
    "for item in nan_10_50:\n",
    "    print('Value Count for '+item)\n",
    "    print(single_family_df[item].value_counts())\n",
    "    print('-'*100)"
   ]
  },
  {
   "cell_type": "markdown",
   "metadata": {},
   "source": [
    "`Room Description`, `Countertop`, `Floors`, `Bedroom Desc`, `Kitchen Desc`, `Bathroom Description`, `Connections`, `Oven`, `Range`, `Energy Feature`, `Interior`, `Exterior`, `Financing Considered` are just information and we can not fill them with unknown values since some may not be accurate and I don't think they are relevant to our analysis so, I will drop all of them.\n",
    "We also do not need `County / Zip Code:` since we do have another column for zip codes.\n",
    "I could not find any information regarding to `Single Family Properties:` so, this column will be dropped as well."
   ]
  },
  {
   "cell_type": "code",
   "execution_count": 32,
   "metadata": {},
   "outputs": [],
   "source": [
    "single_family_df.drop(['Room Description:', 'Countertop:', 'Floors:', 'Bedroom Desc:', 'Kitchen Desc:', \n",
    "                       'Bathroom Description:','Connections:', 'Oven:', 'Range:', 'Energy Feature:',\n",
    "                       'Interior:', 'Exterior:', 'Financing Considered:','Single Family Properties:','County / Zip Code:'], axis=1,inplace=True)"
   ]
  },
  {
   "cell_type": "markdown",
   "metadata": {},
   "source": [
    "`Ice Maker`, `Microwave`, `Compactor`, `Dishwasher`, `Disposal` and `Area Pool` are 'Yes/No' categories and I think it is relevant to fill none values with 'No'. For sure it is a little bit optimistic since some houses may have those features and owner/agent forgot to fill them but for now filling with 'No' value is the best way to dealing with them."
   ]
  },
  {
   "cell_type": "code",
   "execution_count": 33,
   "metadata": {},
   "outputs": [],
   "source": [
    "single_family_df['Disposal:'][single_family_df['Disposal:'].isnull()]='No'\n",
    "single_family_df['Ice Maker:'][single_family_df['Ice Maker:'].isnull()]='No'\n",
    "single_family_df['Compactor:'][single_family_df['Compactor:'].isnull()]='No'\n",
    "single_family_df['Area Pool:'][single_family_df['Area Pool:'].isnull()]='No'\n",
    "single_family_df['Microwave:'][single_family_df['Microwave:'].isnull()]='No'\n",
    "single_family_df['Dishwasher:'][single_family_df['Dishwasher:'].isnull()]='No'"
   ]
  },
  {
   "cell_type": "markdown",
   "metadata": {},
   "source": [
    "At this point I am investigating other features indevisually:"
   ]
  },
  {
   "cell_type": "markdown",
   "metadata": {},
   "source": [
    "## 1.6.5.1 Garage<a id='1.6.5.1_Garage'></a>"
   ]
  },
  {
   "cell_type": "code",
   "execution_count": 34,
   "metadata": {},
   "outputs": [
    {
     "data": {
      "text/plain": [
       "2 / Attached                                    5626\n",
       "2 / Detached                                    1063\n",
       "3 / Attached                                     686\n",
       "1 / Detached                                     341\n",
       "1 / Attached                                     320\n",
       "                                                ... \n",
       "2 / Attached,Attached/Detached,Detached            1\n",
       "8 / Attached/Detached                              1\n",
       "5 / Attached,Attached/Detached,Detached,Over       1\n",
       "6 / Detached,Oversized                             1\n",
       "6 / Detached,Oversized,Tandem                      1\n",
       "Name: Garage(s):, Length: 114, dtype: int64"
      ]
     },
     "execution_count": 34,
     "metadata": {},
     "output_type": "execute_result"
    }
   ],
   "source": [
    "single_family_df['Garage(s):'].value_counts()"
   ]
  },
  {
   "cell_type": "markdown",
   "metadata": {},
   "source": [
    "The important part of this feature is the number of garage each house has. Also we now almost every single family homes have at least 2 garages and it is relevant to fill none values with '2'."
   ]
  },
  {
   "cell_type": "code",
   "execution_count": 35,
   "metadata": {},
   "outputs": [
    {
     "data": {
      "text/plain": [
       "2     8703\n",
       "3     1445\n",
       "1      758\n",
       "4      175\n",
       "5       21\n",
       "6       11\n",
       "8        7\n",
       "7        4\n",
       "24       2\n",
       "10       1\n",
       "40       1\n",
       "56       1\n",
       "9        1\n",
       "57       1\n",
       "63       1\n",
       "26       1\n",
       "42       1\n",
       "27       1\n",
       "51       1\n",
       "20       1\n",
       "21       1\n",
       "45       1\n",
       "22       1\n",
       "58       1\n",
       "Name: Garage, dtype: int64"
      ]
     },
     "execution_count": 35,
     "metadata": {},
     "output_type": "execute_result"
    }
   ],
   "source": [
    "single_family_df['Garage(s):'].fillna('2',inplace=True)\n",
    "single_family_df['Garage'] = [item[0] if item !=None else 0 for item in single_family_df['Garage(s):'].str.split(' ') ]\n",
    "single_family_df['Garage']=single_family_df['Garage'].astype(int)\n",
    "single_family_df.drop('Garage(s):',axis=1,inplace=True)\n",
    "single_family_df['Garage'].value_counts()"
   ]
  },
  {
   "cell_type": "markdown",
   "metadata": {},
   "source": [
    "As you can see there are some houses with more than 10 garage which is odd. After checking images for some of these houses in www.HAR.com it seems those have only 2 garage and I fill those values with 2 which is the median of this feature."
   ]
  },
  {
   "cell_type": "code",
   "execution_count": 36,
   "metadata": {},
   "outputs": [
    {
     "data": {
      "text/plain": [
       "2    8720\n",
       "3    1445\n",
       "1     758\n",
       "4     175\n",
       "5      21\n",
       "6      11\n",
       "8       7\n",
       "7       4\n",
       "Name: Garage, dtype: int64"
      ]
     },
     "execution_count": 36,
     "metadata": {},
     "output_type": "execute_result"
    }
   ],
   "source": [
    "single_family_df.Garage[single_family_df['Garage']>8]=single_family_df['Garage'].median()\n",
    "single_family_df['Garage'].value_counts()"
   ]
  },
  {
   "cell_type": "markdown",
   "metadata": {},
   "source": [
    "## 1.6.5.2 Living<a id='1.6.5.2_Living'></a>"
   ]
  },
  {
   "cell_type": "markdown",
   "metadata": {},
   "source": [
    "To calculate the living area I use area calculation function, pass in the dimension of the living room and return the area and for the next step I will fill none values with the average of living room area per subdivision"
   ]
  },
  {
   "cell_type": "code",
   "execution_count": 37,
   "metadata": {},
   "outputs": [],
   "source": [
    "single_family_df['LivingSqft'] = single_family_df['Living:'].str.split(',')\n",
    "single_family_df['LivingSqft'] = single_family_df['LivingSqft'].apply(area_calc)        "
   ]
  },
  {
   "cell_type": "code",
   "execution_count": 38,
   "metadata": {},
   "outputs": [
    {
     "data": {
      "text/plain": [
       "count    6294.000000\n",
       "mean      288.996780\n",
       "std       152.801571\n",
       "min         0.000000\n",
       "25%       210.000000\n",
       "50%       272.125000\n",
       "75%       342.000000\n",
       "max      6651.000000\n",
       "Name: LivingSqft, dtype: float64"
      ]
     },
     "execution_count": 38,
     "metadata": {},
     "output_type": "execute_result"
    }
   ],
   "source": [
    "single_family_df['LivingSqft'].describe()"
   ]
  },
  {
   "cell_type": "markdown",
   "metadata": {},
   "source": [
    "## 1.6.5.3 Dining<a id='1.6.5.3_Dining'></a>"
   ]
  },
  {
   "cell_type": "code",
   "execution_count": 39,
   "metadata": {},
   "outputs": [
    {
     "data": {
      "text/plain": [
       "['12x11, 1st', '3.66 x 3.35(m)']                    220\n",
       "['13x11, 1st', '3.96 x 3.35(m)']                    203\n",
       "['13x12, 1st', '3.96 x 3.66(m)']                    184\n",
       "['14x12, 1st', '4.27 x 3.66(m)']                    175\n",
       "['1st', '1st']                                      172\n",
       "                                                   ... \n",
       "['17.6 x 9.9, 1st', '17.6 , 9.9, 1st']                1\n",
       "[\"12'-8' x 10', 1st\", \"12'-8' , 10', 1st\"]            1\n",
       "['21x11, 1st', '6.40 x 3.35(m)']                      1\n",
       "['14\\'8\" X 10\\'4\", 1st', '14\\'8\" , 10\\'4\", 1st']      1\n",
       "['18x15.5, 1st', '5.49 x 4.72(m)']                    1\n",
       "Name: Dining:, Length: 1308, dtype: int64"
      ]
     },
     "execution_count": 39,
     "metadata": {},
     "output_type": "execute_result"
    }
   ],
   "source": [
    "single_family_df['Dining:'].value_counts()"
   ]
  },
  {
   "cell_type": "code",
   "execution_count": 40,
   "metadata": {},
   "outputs": [],
   "source": [
    "single_family_df['DiningSqft'] = single_family_df['Dining:'].str.split(',')\n",
    "single_family_df['DiningSqft'] = single_family_df['DiningSqft'].apply(area_calc) "
   ]
  },
  {
   "cell_type": "code",
   "execution_count": 41,
   "metadata": {},
   "outputs": [
    {
     "data": {
      "text/html": [
       "<div>\n",
       "<style scoped>\n",
       "    .dataframe tbody tr th:only-of-type {\n",
       "        vertical-align: middle;\n",
       "    }\n",
       "\n",
       "    .dataframe tbody tr th {\n",
       "        vertical-align: top;\n",
       "    }\n",
       "\n",
       "    .dataframe thead th {\n",
       "        text-align: right;\n",
       "    }\n",
       "</style>\n",
       "<table border=\"1\" class=\"dataframe\">\n",
       "  <thead>\n",
       "    <tr style=\"text-align: right;\">\n",
       "      <th></th>\n",
       "      <th>Dining:</th>\n",
       "      <th>DiningSqft</th>\n",
       "    </tr>\n",
       "  </thead>\n",
       "  <tbody>\n",
       "    <tr>\n",
       "      <th>10595</th>\n",
       "      <td>['12x14, 1st', '3.66 x 4.27(m)']</td>\n",
       "      <td>168.0</td>\n",
       "    </tr>\n",
       "    <tr>\n",
       "      <th>9396</th>\n",
       "      <td>['13X10, 1st', '3.96 x 3.05(m)']</td>\n",
       "      <td>130.0</td>\n",
       "    </tr>\n",
       "    <tr>\n",
       "      <th>6552</th>\n",
       "      <td>['10x9, 1st', '3.05 x 2.74(m)']</td>\n",
       "      <td>90.0</td>\n",
       "    </tr>\n",
       "    <tr>\n",
       "      <th>2512</th>\n",
       "      <td>['12x12, 1st', '3.66 x 3.66(m)']</td>\n",
       "      <td>144.0</td>\n",
       "    </tr>\n",
       "    <tr>\n",
       "      <th>7776</th>\n",
       "      <td>NaN</td>\n",
       "      <td>NaN</td>\n",
       "    </tr>\n",
       "    <tr>\n",
       "      <th>2965</th>\n",
       "      <td>NaN</td>\n",
       "      <td>NaN</td>\n",
       "    </tr>\n",
       "    <tr>\n",
       "      <th>8038</th>\n",
       "      <td>['10x11, 1st', '3.05 x 3.35(m)']</td>\n",
       "      <td>110.0</td>\n",
       "    </tr>\n",
       "    <tr>\n",
       "      <th>7054</th>\n",
       "      <td>['12x16, 1st', '3.66 x 4.88(m)']</td>\n",
       "      <td>192.0</td>\n",
       "    </tr>\n",
       "    <tr>\n",
       "      <th>2269</th>\n",
       "      <td>['12x13, 2nd', '3.66 x 3.96(m)']</td>\n",
       "      <td>156.0</td>\n",
       "    </tr>\n",
       "    <tr>\n",
       "      <th>1475</th>\n",
       "      <td>NaN</td>\n",
       "      <td>NaN</td>\n",
       "    </tr>\n",
       "    <tr>\n",
       "      <th>7083</th>\n",
       "      <td>[\"15' x 13'2, 1st\", \"15' , 13'2, 1st\"]</td>\n",
       "      <td>197.5</td>\n",
       "    </tr>\n",
       "    <tr>\n",
       "      <th>2321</th>\n",
       "      <td>NaN</td>\n",
       "      <td>NaN</td>\n",
       "    </tr>\n",
       "    <tr>\n",
       "      <th>6079</th>\n",
       "      <td>['17x13, 1st', '5.18 x 3.96(m)']</td>\n",
       "      <td>221.0</td>\n",
       "    </tr>\n",
       "    <tr>\n",
       "      <th>6107</th>\n",
       "      <td>NaN</td>\n",
       "      <td>NaN</td>\n",
       "    </tr>\n",
       "    <tr>\n",
       "      <th>1548</th>\n",
       "      <td>['19x11, 1st', '5.79 x 3.35(m)']</td>\n",
       "      <td>209.0</td>\n",
       "    </tr>\n",
       "    <tr>\n",
       "      <th>391</th>\n",
       "      <td>['14x16, 1st', '4.27 x 4.88(m)']</td>\n",
       "      <td>224.0</td>\n",
       "    </tr>\n",
       "    <tr>\n",
       "      <th>659</th>\n",
       "      <td>['20x14, 1st', '6.10 x 4.27(m)']</td>\n",
       "      <td>280.0</td>\n",
       "    </tr>\n",
       "    <tr>\n",
       "      <th>1250</th>\n",
       "      <td>['9x9, 1st', '2.74 x 2.74(m)']</td>\n",
       "      <td>81.0</td>\n",
       "    </tr>\n",
       "    <tr>\n",
       "      <th>6170</th>\n",
       "      <td>['15x11, 1st', '4.57 x 3.35(m)']</td>\n",
       "      <td>165.0</td>\n",
       "    </tr>\n",
       "    <tr>\n",
       "      <th>3449</th>\n",
       "      <td>NaN</td>\n",
       "      <td>NaN</td>\n",
       "    </tr>\n",
       "  </tbody>\n",
       "</table>\n",
       "</div>"
      ],
      "text/plain": [
       "                                      Dining:  DiningSqft\n",
       "10595        ['12x14, 1st', '3.66 x 4.27(m)']       168.0\n",
       "9396         ['13X10, 1st', '3.96 x 3.05(m)']       130.0\n",
       "6552          ['10x9, 1st', '3.05 x 2.74(m)']        90.0\n",
       "2512         ['12x12, 1st', '3.66 x 3.66(m)']       144.0\n",
       "7776                                      NaN         NaN\n",
       "2965                                      NaN         NaN\n",
       "8038         ['10x11, 1st', '3.05 x 3.35(m)']       110.0\n",
       "7054         ['12x16, 1st', '3.66 x 4.88(m)']       192.0\n",
       "2269         ['12x13, 2nd', '3.66 x 3.96(m)']       156.0\n",
       "1475                                      NaN         NaN\n",
       "7083   [\"15' x 13'2, 1st\", \"15' , 13'2, 1st\"]       197.5\n",
       "2321                                      NaN         NaN\n",
       "6079         ['17x13, 1st', '5.18 x 3.96(m)']       221.0\n",
       "6107                                      NaN         NaN\n",
       "1548         ['19x11, 1st', '5.79 x 3.35(m)']       209.0\n",
       "391          ['14x16, 1st', '4.27 x 4.88(m)']       224.0\n",
       "659          ['20x14, 1st', '6.10 x 4.27(m)']       280.0\n",
       "1250           ['9x9, 1st', '2.74 x 2.74(m)']        81.0\n",
       "6170         ['15x11, 1st', '4.57 x 3.35(m)']       165.0\n",
       "3449                                      NaN         NaN"
      ]
     },
     "execution_count": 41,
     "metadata": {},
     "output_type": "execute_result"
    }
   ],
   "source": [
    "single_family_df[['Dining:','DiningSqft']].sample(20,random_state=101)"
   ]
  },
  {
   "cell_type": "markdown",
   "metadata": {},
   "source": [
    "## 1.6.5.4 Kitchen<a id='1.6.5.4_Kitchen'></a>"
   ]
  },
  {
   "cell_type": "markdown",
   "metadata": {},
   "source": [
    "I am using same function to calculate kitchen are in sqft."
   ]
  },
  {
   "cell_type": "code",
   "execution_count": 42,
   "metadata": {},
   "outputs": [],
   "source": [
    "single_family_df['KitchenSqft'] = single_family_df['Kitchen:'].str.split(',')\n",
    "single_family_df['KitchenSqft'] = single_family_df['KitchenSqft'].apply(area_calc) "
   ]
  },
  {
   "cell_type": "code",
   "execution_count": 43,
   "metadata": {},
   "outputs": [
    {
     "data": {
      "text/html": [
       "<div>\n",
       "<style scoped>\n",
       "    .dataframe tbody tr th:only-of-type {\n",
       "        vertical-align: middle;\n",
       "    }\n",
       "\n",
       "    .dataframe tbody tr th {\n",
       "        vertical-align: top;\n",
       "    }\n",
       "\n",
       "    .dataframe thead th {\n",
       "        text-align: right;\n",
       "    }\n",
       "</style>\n",
       "<table border=\"1\" class=\"dataframe\">\n",
       "  <thead>\n",
       "    <tr style=\"text-align: right;\">\n",
       "      <th></th>\n",
       "      <th>Kitchen:</th>\n",
       "      <th>KitchenSqft</th>\n",
       "    </tr>\n",
       "  </thead>\n",
       "  <tbody>\n",
       "    <tr>\n",
       "      <th>10595</th>\n",
       "      <td>['12x19, 1st', '3.66 x 5.79(m)']</td>\n",
       "      <td>228.000000</td>\n",
       "    </tr>\n",
       "    <tr>\n",
       "      <th>9396</th>\n",
       "      <td>['13X11, 1st', '3.96 x 3.35(m)']</td>\n",
       "      <td>143.000000</td>\n",
       "    </tr>\n",
       "    <tr>\n",
       "      <th>6552</th>\n",
       "      <td>['11x8, 1st', '3.35 x 2.44(m)']</td>\n",
       "      <td>88.000000</td>\n",
       "    </tr>\n",
       "    <tr>\n",
       "      <th>2512</th>\n",
       "      <td>['9x12, 1st', '2.74 x 3.66(m)']</td>\n",
       "      <td>108.000000</td>\n",
       "    </tr>\n",
       "    <tr>\n",
       "      <th>7776</th>\n",
       "      <td>['0X0, 1st', '0,0, 1st']</td>\n",
       "      <td>0.000000</td>\n",
       "    </tr>\n",
       "    <tr>\n",
       "      <th>2965</th>\n",
       "      <td>NaN</td>\n",
       "      <td>NaN</td>\n",
       "    </tr>\n",
       "    <tr>\n",
       "      <th>8038</th>\n",
       "      <td>NaN</td>\n",
       "      <td>NaN</td>\n",
       "    </tr>\n",
       "    <tr>\n",
       "      <th>7054</th>\n",
       "      <td>['13x17, 1st', '3.96 x 5.18(m)']</td>\n",
       "      <td>221.000000</td>\n",
       "    </tr>\n",
       "    <tr>\n",
       "      <th>2269</th>\n",
       "      <td>['15x12, 2nd', '4.57 x 3.66(m)']</td>\n",
       "      <td>180.000000</td>\n",
       "    </tr>\n",
       "    <tr>\n",
       "      <th>1475</th>\n",
       "      <td>NaN</td>\n",
       "      <td>NaN</td>\n",
       "    </tr>\n",
       "    <tr>\n",
       "      <th>7083</th>\n",
       "      <td>[\"22'8 x 11', 1st\", \"22'8 , 11', 1st\"]</td>\n",
       "      <td>249.333333</td>\n",
       "    </tr>\n",
       "    <tr>\n",
       "      <th>2321</th>\n",
       "      <td>NaN</td>\n",
       "      <td>NaN</td>\n",
       "    </tr>\n",
       "    <tr>\n",
       "      <th>6079</th>\n",
       "      <td>NaN</td>\n",
       "      <td>NaN</td>\n",
       "    </tr>\n",
       "    <tr>\n",
       "      <th>6107</th>\n",
       "      <td>NaN</td>\n",
       "      <td>NaN</td>\n",
       "    </tr>\n",
       "    <tr>\n",
       "      <th>1548</th>\n",
       "      <td>['15x14, 1st', '4.57 x 4.27(m)']</td>\n",
       "      <td>210.000000</td>\n",
       "    </tr>\n",
       "    <tr>\n",
       "      <th>391</th>\n",
       "      <td>['11x15, 1st', '3.35 x 4.57(m)']</td>\n",
       "      <td>165.000000</td>\n",
       "    </tr>\n",
       "    <tr>\n",
       "      <th>659</th>\n",
       "      <td>['13x10, 1st', '3.96 x 3.05(m)']</td>\n",
       "      <td>130.000000</td>\n",
       "    </tr>\n",
       "    <tr>\n",
       "      <th>1250</th>\n",
       "      <td>NaN</td>\n",
       "      <td>NaN</td>\n",
       "    </tr>\n",
       "    <tr>\n",
       "      <th>6170</th>\n",
       "      <td>['12x12, 1st', '3.66 x 3.66(m)']</td>\n",
       "      <td>144.000000</td>\n",
       "    </tr>\n",
       "    <tr>\n",
       "      <th>3449</th>\n",
       "      <td>['24x14, 1st', '7.32 x 4.27(m)']</td>\n",
       "      <td>336.000000</td>\n",
       "    </tr>\n",
       "  </tbody>\n",
       "</table>\n",
       "</div>"
      ],
      "text/plain": [
       "                                     Kitchen:  KitchenSqft\n",
       "10595        ['12x19, 1st', '3.66 x 5.79(m)']   228.000000\n",
       "9396         ['13X11, 1st', '3.96 x 3.35(m)']   143.000000\n",
       "6552          ['11x8, 1st', '3.35 x 2.44(m)']    88.000000\n",
       "2512          ['9x12, 1st', '2.74 x 3.66(m)']   108.000000\n",
       "7776                 ['0X0, 1st', '0,0, 1st']     0.000000\n",
       "2965                                      NaN          NaN\n",
       "8038                                      NaN          NaN\n",
       "7054         ['13x17, 1st', '3.96 x 5.18(m)']   221.000000\n",
       "2269         ['15x12, 2nd', '4.57 x 3.66(m)']   180.000000\n",
       "1475                                      NaN          NaN\n",
       "7083   [\"22'8 x 11', 1st\", \"22'8 , 11', 1st\"]   249.333333\n",
       "2321                                      NaN          NaN\n",
       "6079                                      NaN          NaN\n",
       "6107                                      NaN          NaN\n",
       "1548         ['15x14, 1st', '4.57 x 4.27(m)']   210.000000\n",
       "391          ['11x15, 1st', '3.35 x 4.57(m)']   165.000000\n",
       "659          ['13x10, 1st', '3.96 x 3.05(m)']   130.000000\n",
       "1250                                      NaN          NaN\n",
       "6170         ['12x12, 1st', '3.66 x 3.66(m)']   144.000000\n",
       "3449         ['24x14, 1st', '7.32 x 4.27(m)']   336.000000"
      ]
     },
     "execution_count": 43,
     "metadata": {},
     "output_type": "execute_result"
    }
   ],
   "source": [
    "single_family_df[['Kitchen:','KitchenSqft']].sample(20,random_state=101)"
   ]
  },
  {
   "cell_type": "markdown",
   "metadata": {},
   "source": [
    "Now we can drop old living, dining and kitchen columns:"
   ]
  },
  {
   "cell_type": "code",
   "execution_count": 44,
   "metadata": {},
   "outputs": [],
   "source": [
    "single_family_df.drop(['Living:', 'Dining:', 'Kitchen:'], axis=1,inplace=True)"
   ]
  },
  {
   "cell_type": "markdown",
   "metadata": {},
   "source": [
    "## 1.7 Subdivisions And Their Facts<a id='1.7_Subdivisions_And_their_Facts'></a>"
   ]
  },
  {
   "cell_type": "markdown",
   "metadata": {},
   "source": [
    "To uniform subdivision I scraped all subdivision names from HAR.com and will replace names with correct one based on similarity:"
   ]
  },
  {
   "cell_type": "code",
   "execution_count": 45,
   "metadata": {},
   "outputs": [],
   "source": [
    "sub_df = pd.read_csv('../data/raw/Subdivision.csv')\n",
    "sub_df.drop(['Unnamed: 0'],axis=1,inplace=True)"
   ]
  },
  {
   "cell_type": "code",
   "execution_count": 46,
   "metadata": {},
   "outputs": [
    {
     "data": {
      "text/html": [
       "<div>\n",
       "<style scoped>\n",
       "    .dataframe tbody tr th:only-of-type {\n",
       "        vertical-align: middle;\n",
       "    }\n",
       "\n",
       "    .dataframe tbody tr th {\n",
       "        vertical-align: top;\n",
       "    }\n",
       "\n",
       "    .dataframe thead th {\n",
       "        text-align: right;\n",
       "    }\n",
       "</style>\n",
       "<table border=\"1\" class=\"dataframe\">\n",
       "  <thead>\n",
       "    <tr style=\"text-align: right;\">\n",
       "      <th></th>\n",
       "      <th>Subdivision</th>\n",
       "      <th>Zip</th>\n",
       "      <th>Med.Appraisal</th>\n",
       "      <th>Avg.Sqft.</th>\n",
       "      <th>Avg.Yr.Built</th>\n",
       "    </tr>\n",
       "  </thead>\n",
       "  <tbody>\n",
       "    <tr>\n",
       "      <th>0</th>\n",
       "      <td>MARLOWE CONDOS</td>\n",
       "      <td>77002</td>\n",
       "      <td>$522,701</td>\n",
       "      <td>1,100</td>\n",
       "      <td>2018.0</td>\n",
       "    </tr>\n",
       "    <tr>\n",
       "      <th>1</th>\n",
       "      <td>Modern Midtown</td>\n",
       "      <td>77002</td>\n",
       "      <td>$469,147</td>\n",
       "      <td>2,096</td>\n",
       "      <td>2014.0</td>\n",
       "    </tr>\n",
       "    <tr>\n",
       "      <th>2</th>\n",
       "      <td>Midtowne Plaza</td>\n",
       "      <td>77002</td>\n",
       "      <td>$439,282</td>\n",
       "      <td>2,507</td>\n",
       "      <td>1999.0</td>\n",
       "    </tr>\n",
       "    <tr>\n",
       "      <th>3</th>\n",
       "      <td>Macgregor Demerritt</td>\n",
       "      <td>77002</td>\n",
       "      <td>$438,234</td>\n",
       "      <td>2,034</td>\n",
       "      <td>1930.0</td>\n",
       "    </tr>\n",
       "    <tr>\n",
       "      <th>4</th>\n",
       "      <td>Hermann Lofts Condo</td>\n",
       "      <td>77002</td>\n",
       "      <td>$385,446</td>\n",
       "      <td>1,546</td>\n",
       "      <td>1998.0</td>\n",
       "    </tr>\n",
       "  </tbody>\n",
       "</table>\n",
       "</div>"
      ],
      "text/plain": [
       "           Subdivision    Zip Med.Appraisal Avg.Sqft.  Avg.Yr.Built\n",
       "0       MARLOWE CONDOS  77002      $522,701     1,100        2018.0\n",
       "1       Modern Midtown  77002      $469,147     2,096        2014.0\n",
       "2       Midtowne Plaza  77002      $439,282     2,507        1999.0\n",
       "3  Macgregor Demerritt  77002      $438,234     2,034        1930.0\n",
       "4  Hermann Lofts Condo  77002      $385,446     1,546        1998.0"
      ]
     },
     "execution_count": 46,
     "metadata": {},
     "output_type": "execute_result"
    }
   ],
   "source": [
    "sub_df.head()"
   ]
  },
  {
   "cell_type": "markdown",
   "metadata": {},
   "source": [
    "As above table shown Med.Appraisal, Avg.Sqft. and Avg.Yr.Built are same for each subdivision and we can fill none values with these numbers for each column."
   ]
  },
  {
   "cell_type": "code",
   "execution_count": 47,
   "metadata": {},
   "outputs": [
    {
     "data": {
      "text/html": [
       "<div>\n",
       "<style scoped>\n",
       "    .dataframe tbody tr th:only-of-type {\n",
       "        vertical-align: middle;\n",
       "    }\n",
       "\n",
       "    .dataframe tbody tr th {\n",
       "        vertical-align: top;\n",
       "    }\n",
       "\n",
       "    .dataframe thead th {\n",
       "        text-align: right;\n",
       "    }\n",
       "</style>\n",
       "<table border=\"1\" class=\"dataframe\">\n",
       "  <thead>\n",
       "    <tr style=\"text-align: right;\">\n",
       "      <th></th>\n",
       "      <th>Subdivision:</th>\n",
       "      <th>Subdivision Name:</th>\n",
       "      <th>Market Area Name:</th>\n",
       "      <th>Master Planned Community:</th>\n",
       "      <th>Zip Code:</th>\n",
       "    </tr>\n",
       "  </thead>\n",
       "  <tbody>\n",
       "    <tr>\n",
       "      <th>0</th>\n",
       "      <td>Austin Hadley Place</td>\n",
       "      <td>NaN</td>\n",
       "      <td>Midtown - Houston</td>\n",
       "      <td>NaN</td>\n",
       "      <td>77002</td>\n",
       "    </tr>\n",
       "    <tr>\n",
       "      <th>1</th>\n",
       "      <td>Modern Midtown (View subdivision price trend)</td>\n",
       "      <td>Modern Midtown</td>\n",
       "      <td>NaN</td>\n",
       "      <td>NaN</td>\n",
       "      <td>77002</td>\n",
       "    </tr>\n",
       "    <tr>\n",
       "      <th>2</th>\n",
       "      <td>Modern Midtown (View subdivision price trend)</td>\n",
       "      <td>Modern Midtown</td>\n",
       "      <td>NaN</td>\n",
       "      <td>NaN</td>\n",
       "      <td>77002</td>\n",
       "    </tr>\n",
       "    <tr>\n",
       "      <th>3</th>\n",
       "      <td>Merkels Sec 01 (View subdivision price trend)</td>\n",
       "      <td>Merkels</td>\n",
       "      <td>NaN</td>\n",
       "      <td>NaN</td>\n",
       "      <td>77003</td>\n",
       "    </tr>\n",
       "    <tr>\n",
       "      <th>4</th>\n",
       "      <td>MERKELS (View subdivision price trend)</td>\n",
       "      <td>Merkels</td>\n",
       "      <td>NaN</td>\n",
       "      <td>NaN</td>\n",
       "      <td>77003</td>\n",
       "    </tr>\n",
       "  </tbody>\n",
       "</table>\n",
       "</div>"
      ],
      "text/plain": [
       "                                     Subdivision: Subdivision Name:  \\\n",
       "0                             Austin Hadley Place               NaN   \n",
       "1   Modern Midtown (View subdivision price trend)    Modern Midtown   \n",
       "2   Modern Midtown (View subdivision price trend)    Modern Midtown   \n",
       "3   Merkels Sec 01 (View subdivision price trend)           Merkels   \n",
       "4          MERKELS (View subdivision price trend)           Merkels   \n",
       "\n",
       "   Market Area Name: Master Planned Community:  Zip Code:  \n",
       "0  Midtown - Houston                       NaN      77002  \n",
       "1                NaN                       NaN      77002  \n",
       "2                NaN                       NaN      77002  \n",
       "3                NaN                       NaN      77003  \n",
       "4                NaN                       NaN      77003  "
      ]
     },
     "execution_count": 47,
     "metadata": {},
     "output_type": "execute_result"
    }
   ],
   "source": [
    "single_family_df[['Subdivision:','Subdivision Name:','Market Area Name:','Master Planned Community:','Zip Code:']].head()"
   ]
  },
  {
   "cell_type": "code",
   "execution_count": 48,
   "metadata": {},
   "outputs": [
    {
     "data": {
      "text/plain": [
       "Subdivision:                    5\n",
       "Subdivision Name:            1746\n",
       "Market Area Name:            9413\n",
       "Master Planned Community:    9843\n",
       "dtype: int64"
      ]
     },
     "execution_count": 48,
     "metadata": {},
     "output_type": "execute_result"
    }
   ],
   "source": [
    "single_family_df[['Subdivision:','Subdivision Name:','Market Area Name:','Master Planned Community:']].isna().sum()"
   ]
  },
  {
   "cell_type": "markdown",
   "metadata": {},
   "source": [
    "It seems all these 4 columns are the same. As we can see `Subdivision Name:` has more clean name and since `Market Area Name:` has more standard name for subdivisions so, I will replace none values for `Subdivision Name:` with `Market Area Name:` values to see how many none values will remain."
   ]
  },
  {
   "cell_type": "code",
   "execution_count": 49,
   "metadata": {},
   "outputs": [],
   "source": [
    "single_family_df['SubName'] = single_family_df['Subdivision Name:'].fillna(single_family_df['Market Area Name:'])"
   ]
  },
  {
   "cell_type": "code",
   "execution_count": 50,
   "metadata": {},
   "outputs": [
    {
     "data": {
      "text/plain": [
       "18"
      ]
     },
     "execution_count": 50,
     "metadata": {},
     "output_type": "execute_result"
    }
   ],
   "source": [
    "single_family_df['SubName'].isna().sum()"
   ]
  },
  {
   "cell_type": "code",
   "execution_count": 51,
   "metadata": {},
   "outputs": [
    {
     "data": {
      "text/html": [
       "<div>\n",
       "<style scoped>\n",
       "    .dataframe tbody tr th:only-of-type {\n",
       "        vertical-align: middle;\n",
       "    }\n",
       "\n",
       "    .dataframe tbody tr th {\n",
       "        vertical-align: top;\n",
       "    }\n",
       "\n",
       "    .dataframe thead th {\n",
       "        text-align: right;\n",
       "    }\n",
       "</style>\n",
       "<table border=\"1\" class=\"dataframe\">\n",
       "  <thead>\n",
       "    <tr style=\"text-align: right;\">\n",
       "      <th></th>\n",
       "      <th>Subdivision:</th>\n",
       "      <th>Subdivision Name:</th>\n",
       "      <th>Market Area Name:</th>\n",
       "      <th>Master Planned Community:</th>\n",
       "    </tr>\n",
       "  </thead>\n",
       "  <tbody>\n",
       "    <tr>\n",
       "      <th>67</th>\n",
       "      <td>Mckinney Lndg Sub (View subdivision price trend)</td>\n",
       "      <td>NaN</td>\n",
       "      <td>NaN</td>\n",
       "      <td>NaN</td>\n",
       "    </tr>\n",
       "    <tr>\n",
       "      <th>498</th>\n",
       "      <td>VERMONT STREET GROVE</td>\n",
       "      <td>NaN</td>\n",
       "      <td>NaN</td>\n",
       "      <td>NaN</td>\n",
       "    </tr>\n",
       "    <tr>\n",
       "      <th>629</th>\n",
       "      <td>Magnolia Grove (View subdivision price trend)</td>\n",
       "      <td>NaN</td>\n",
       "      <td>NaN</td>\n",
       "      <td>NaN</td>\n",
       "    </tr>\n",
       "    <tr>\n",
       "      <th>755</th>\n",
       "      <td>SUNSET HEIGHTS (View subdivision price trend)</td>\n",
       "      <td>NaN</td>\n",
       "      <td>NaN</td>\n",
       "      <td>NaN</td>\n",
       "    </tr>\n",
       "    <tr>\n",
       "      <th>847</th>\n",
       "      <td>24th Street Manor (View subdivision price trend)</td>\n",
       "      <td>NaN</td>\n",
       "      <td>NaN</td>\n",
       "      <td>NaN</td>\n",
       "    </tr>\n",
       "    <tr>\n",
       "      <th>922</th>\n",
       "      <td>Heights Homes/Herkimer Sub (View subdivision ...</td>\n",
       "      <td>NaN</td>\n",
       "      <td>NaN</td>\n",
       "      <td>NaN</td>\n",
       "    </tr>\n",
       "    <tr>\n",
       "      <th>1358</th>\n",
       "      <td>Shepherd Oaks (View subdivision price trend)</td>\n",
       "      <td>NaN</td>\n",
       "      <td>NaN</td>\n",
       "      <td>NaN</td>\n",
       "    </tr>\n",
       "    <tr>\n",
       "      <th>2097</th>\n",
       "      <td>Oaks of Lawndale</td>\n",
       "      <td>NaN</td>\n",
       "      <td>NaN</td>\n",
       "      <td>NaN</td>\n",
       "    </tr>\n",
       "    <tr>\n",
       "      <th>3161</th>\n",
       "      <td>Lakeside T/H (View subdivision price trend)</td>\n",
       "      <td>NaN</td>\n",
       "      <td>NaN</td>\n",
       "      <td>NaN</td>\n",
       "    </tr>\n",
       "    <tr>\n",
       "      <th>3163</th>\n",
       "      <td>Lakeside T/H (View subdivision price trend)</td>\n",
       "      <td>NaN</td>\n",
       "      <td>NaN</td>\n",
       "      <td>NaN</td>\n",
       "    </tr>\n",
       "    <tr>\n",
       "      <th>3165</th>\n",
       "      <td>Lakeside T/H (View subdivision price trend)</td>\n",
       "      <td>NaN</td>\n",
       "      <td>NaN</td>\n",
       "      <td>NaN</td>\n",
       "    </tr>\n",
       "    <tr>\n",
       "      <th>3186</th>\n",
       "      <td>Riverview Place (View subdivision price trend)</td>\n",
       "      <td>NaN</td>\n",
       "      <td>NaN</td>\n",
       "      <td>NaN</td>\n",
       "    </tr>\n",
       "    <tr>\n",
       "      <th>3336</th>\n",
       "      <td>Retreat At Upland</td>\n",
       "      <td>NaN</td>\n",
       "      <td>NaN</td>\n",
       "      <td>NaN</td>\n",
       "    </tr>\n",
       "    <tr>\n",
       "      <th>6122</th>\n",
       "      <td>Grand Oaks</td>\n",
       "      <td>NaN</td>\n",
       "      <td>NaN</td>\n",
       "      <td>NaN</td>\n",
       "    </tr>\n",
       "    <tr>\n",
       "      <th>9749</th>\n",
       "      <td>Villages of Cypress Lakes- Cypress Green</td>\n",
       "      <td>NaN</td>\n",
       "      <td>NaN</td>\n",
       "      <td>NaN</td>\n",
       "    </tr>\n",
       "    <tr>\n",
       "      <th>9864</th>\n",
       "      <td>Enclave at Longwood</td>\n",
       "      <td>NaN</td>\n",
       "      <td>NaN</td>\n",
       "      <td>NaN</td>\n",
       "    </tr>\n",
       "    <tr>\n",
       "      <th>10882</th>\n",
       "      <td>Elyson 70s</td>\n",
       "      <td>NaN</td>\n",
       "      <td>NaN</td>\n",
       "      <td>Elyson</td>\n",
       "    </tr>\n",
       "    <tr>\n",
       "      <th>10998</th>\n",
       "      <td>Lilac Bend</td>\n",
       "      <td>NaN</td>\n",
       "      <td>NaN</td>\n",
       "      <td>NaN</td>\n",
       "    </tr>\n",
       "  </tbody>\n",
       "</table>\n",
       "</div>"
      ],
      "text/plain": [
       "                                            Subdivision: Subdivision Name:  \\\n",
       "67      Mckinney Lndg Sub (View subdivision price trend)               NaN   \n",
       "498                                 VERMONT STREET GROVE               NaN   \n",
       "629        Magnolia Grove (View subdivision price trend)               NaN   \n",
       "755        SUNSET HEIGHTS (View subdivision price trend)               NaN   \n",
       "847     24th Street Manor (View subdivision price trend)               NaN   \n",
       "922     Heights Homes/Herkimer Sub (View subdivision ...               NaN   \n",
       "1358        Shepherd Oaks (View subdivision price trend)               NaN   \n",
       "2097                                    Oaks of Lawndale               NaN   \n",
       "3161         Lakeside T/H (View subdivision price trend)               NaN   \n",
       "3163         Lakeside T/H (View subdivision price trend)               NaN   \n",
       "3165         Lakeside T/H (View subdivision price trend)               NaN   \n",
       "3186      Riverview Place (View subdivision price trend)               NaN   \n",
       "3336                                   Retreat At Upland               NaN   \n",
       "6122                                          Grand Oaks               NaN   \n",
       "9749            Villages of Cypress Lakes- Cypress Green               NaN   \n",
       "9864                                 Enclave at Longwood               NaN   \n",
       "10882                                         Elyson 70s               NaN   \n",
       "10998                                         Lilac Bend               NaN   \n",
       "\n",
       "      Market Area Name: Master Planned Community:  \n",
       "67                  NaN                       NaN  \n",
       "498                 NaN                       NaN  \n",
       "629                 NaN                       NaN  \n",
       "755                 NaN                       NaN  \n",
       "847                 NaN                       NaN  \n",
       "922                 NaN                       NaN  \n",
       "1358                NaN                       NaN  \n",
       "2097                NaN                       NaN  \n",
       "3161                NaN                       NaN  \n",
       "3163                NaN                       NaN  \n",
       "3165                NaN                       NaN  \n",
       "3186                NaN                       NaN  \n",
       "3336                NaN                       NaN  \n",
       "6122                NaN                       NaN  \n",
       "9749                NaN                       NaN  \n",
       "9864                NaN                       NaN  \n",
       "10882               NaN                    Elyson  \n",
       "10998               NaN                       NaN  "
      ]
     },
     "execution_count": 51,
     "metadata": {},
     "output_type": "execute_result"
    }
   ],
   "source": [
    "single_family_df[['Subdivision:','Subdivision Name:','Market Area Name:','Master Planned Community:']].loc[single_family_df['SubName'].isna()]"
   ]
  },
  {
   "cell_type": "markdown",
   "metadata": {},
   "source": [
    "I am dropping these 18 rows since I can not find correct subdivision name for them."
   ]
  },
  {
   "cell_type": "code",
   "execution_count": 52,
   "metadata": {},
   "outputs": [],
   "source": [
    "single_family_df=single_family_df[~single_family_df['SubName'].isnull()]"
   ]
  },
  {
   "cell_type": "code",
   "execution_count": 53,
   "metadata": {},
   "outputs": [],
   "source": [
    "single_family_df.drop(['Subdivision Name:','Subdivision:','Market Area Name:','Master Planned Community:'],\n",
    "                      axis=1,inplace=True)"
   ]
  },
  {
   "cell_type": "markdown",
   "metadata": {},
   "source": [
    "Now we can take a look at those features related to each subdivision like: `Median Appraised Value:`, `Median Year Built:`, \n",
    "`Median Lot Square Ft.:`, `Median Square Ft.:`, `Neighborhood Value Range:`.\t"
   ]
  },
  {
   "cell_type": "code",
   "execution_count": 54,
   "metadata": {},
   "outputs": [
    {
     "data": {
      "text/plain": [
       "Median Appraised Value:      1728\n",
       "Median Year Built:           1728\n",
       "Median Lot Square Ft.:       1728\n",
       "Median Square Ft.:           1728\n",
       "Neighborhood Value Range:    1728\n",
       "dtype: int64"
      ]
     },
     "execution_count": 54,
     "metadata": {},
     "output_type": "execute_result"
    }
   ],
   "source": [
    "single_family_df[['Median Appraised Value:', 'Median Year Built:', 'Median Lot Square Ft.:', 'Median Square Ft.:', 'Neighborhood Value Range:']].isna().sum()"
   ]
  },
  {
   "cell_type": "markdown",
   "metadata": {},
   "source": [
    "Those features have same number of missing values and it seems it may because of value missing for some the subdivisions. lets take a look:"
   ]
  },
  {
   "cell_type": "code",
   "execution_count": 55,
   "metadata": {},
   "outputs": [
    {
     "data": {
      "text/plain": [
       "Katy - Old Towne                   134\n",
       "Spring Branch                      128\n",
       "Cypress South                      105\n",
       "Medical Center South                98\n",
       "Hockley                             74\n",
       "                                  ... \n",
       "Westchase Area                       1\n",
       "Fort Bend County North/Richmond      1\n",
       "Memorial Villages                    1\n",
       "Pasadena                             1\n",
       "Willow Meadows Area                  1\n",
       "Name: SubName, Length: 73, dtype: int64"
      ]
     },
     "execution_count": 55,
     "metadata": {},
     "output_type": "execute_result"
    }
   ],
   "source": [
    "single_family_df.SubName.loc[single_family_df['Median Appraised Value:'].isna()].value_counts()"
   ]
  },
  {
   "cell_type": "code",
   "execution_count": 56,
   "metadata": {},
   "outputs": [
    {
     "data": {
      "text/html": [
       "<div>\n",
       "<style scoped>\n",
       "    .dataframe tbody tr th:only-of-type {\n",
       "        vertical-align: middle;\n",
       "    }\n",
       "\n",
       "    .dataframe tbody tr th {\n",
       "        vertical-align: top;\n",
       "    }\n",
       "\n",
       "    .dataframe thead th {\n",
       "        text-align: right;\n",
       "    }\n",
       "</style>\n",
       "<table border=\"1\" class=\"dataframe\">\n",
       "  <thead>\n",
       "    <tr style=\"text-align: right;\">\n",
       "      <th></th>\n",
       "      <th>Subdivision</th>\n",
       "      <th>Zip</th>\n",
       "      <th>Med.Appraisal</th>\n",
       "      <th>Avg.Sqft.</th>\n",
       "      <th>Avg.Yr.Built</th>\n",
       "    </tr>\n",
       "  </thead>\n",
       "  <tbody>\n",
       "  </tbody>\n",
       "</table>\n",
       "</div>"
      ],
      "text/plain": [
       "Empty DataFrame\n",
       "Columns: [Subdivision, Zip, Med.Appraisal, Avg.Sqft., Avg.Yr.Built]\n",
       "Index: []"
      ]
     },
     "execution_count": 56,
     "metadata": {},
     "output_type": "execute_result"
    }
   ],
   "source": [
    "sub_df.loc[sub_df.Subdivision=='Cypress South']"
   ]
  },
  {
   "cell_type": "code",
   "execution_count": 57,
   "metadata": {},
   "outputs": [
    {
     "data": {
      "text/plain": [
       "2020   / Builder               1235\n",
       "2019   / Builder                 72\n",
       "2021   / Builder                 68\n",
       "2019   / Appraisal District      22\n",
       "2017   / Appraisal District      16\n",
       "                               ... \n",
       "2005   / Appraisal                1\n",
       "2007   / Appraisal                1\n",
       "2011   / Seller                   1\n",
       "1965   / Appraisal District       1\n",
       "2019   / Seller                   1\n",
       "Name: Year Built:, Length: 98, dtype: int64"
      ]
     },
     "execution_count": 57,
     "metadata": {},
     "output_type": "execute_result"
    }
   ],
   "source": [
    "single_family_df['Year Built:'].loc[single_family_df['Median Lot Square Ft.:'].isna()].value_counts()"
   ]
  },
  {
   "cell_type": "markdown",
   "metadata": {},
   "source": [
    "It seems there is no information for those subdivisions in HAR.com since more than 90% of them are for new subdivisions. so I will drop those rows."
   ]
  },
  {
   "cell_type": "code",
   "execution_count": 58,
   "metadata": {},
   "outputs": [],
   "source": [
    "single_family_df=single_family_df[~single_family_df['Median Appraised Value:'].isnull()]"
   ]
  },
  {
   "cell_type": "code",
   "execution_count": 59,
   "metadata": {},
   "outputs": [
    {
     "data": {
      "text/html": [
       "<div>\n",
       "<style scoped>\n",
       "    .dataframe tbody tr th:only-of-type {\n",
       "        vertical-align: middle;\n",
       "    }\n",
       "\n",
       "    .dataframe tbody tr th {\n",
       "        vertical-align: top;\n",
       "    }\n",
       "\n",
       "    .dataframe thead th {\n",
       "        text-align: right;\n",
       "    }\n",
       "</style>\n",
       "<table border=\"1\" class=\"dataframe\">\n",
       "  <thead>\n",
       "    <tr style=\"text-align: right;\">\n",
       "      <th></th>\n",
       "      <th>Median Appraised Value:</th>\n",
       "      <th>Median Year Built:</th>\n",
       "      <th>Median Lot Square Ft.:</th>\n",
       "      <th>Median Square Ft.:</th>\n",
       "      <th>Neighborhood Value Range:</th>\n",
       "    </tr>\n",
       "  </thead>\n",
       "  <tbody>\n",
       "    <tr>\n",
       "      <th>1</th>\n",
       "      <td>$469,147</td>\n",
       "      <td>2014.0</td>\n",
       "      <td>1,450</td>\n",
       "      <td>2,096</td>\n",
       "      <td>$441 - $476 K</td>\n",
       "    </tr>\n",
       "    <tr>\n",
       "      <th>2</th>\n",
       "      <td>$469,147</td>\n",
       "      <td>2014.0</td>\n",
       "      <td>1,450</td>\n",
       "      <td>2,096</td>\n",
       "      <td>$441 - $476 K</td>\n",
       "    </tr>\n",
       "    <tr>\n",
       "      <th>3</th>\n",
       "      <td>$141,314</td>\n",
       "      <td>1938.0</td>\n",
       "      <td>4,700</td>\n",
       "      <td>1,086</td>\n",
       "      <td>$90 - $213 K</td>\n",
       "    </tr>\n",
       "    <tr>\n",
       "      <th>4</th>\n",
       "      <td>$141,314</td>\n",
       "      <td>1938.0</td>\n",
       "      <td>4,700</td>\n",
       "      <td>1,086</td>\n",
       "      <td>$90 - $213 K</td>\n",
       "    </tr>\n",
       "    <tr>\n",
       "      <th>5</th>\n",
       "      <td>$404,408</td>\n",
       "      <td>2016.0</td>\n",
       "      <td>1,586</td>\n",
       "      <td>2,058</td>\n",
       "      <td>$329 - $443 K</td>\n",
       "    </tr>\n",
       "    <tr>\n",
       "      <th>...</th>\n",
       "      <td>...</td>\n",
       "      <td>...</td>\n",
       "      <td>...</td>\n",
       "      <td>...</td>\n",
       "      <td>...</td>\n",
       "    </tr>\n",
       "    <tr>\n",
       "      <th>11136</th>\n",
       "      <td>$75,165</td>\n",
       "      <td>1950.0</td>\n",
       "      <td>6,325</td>\n",
       "      <td>1,160</td>\n",
       "      <td>$56 - $111 K</td>\n",
       "    </tr>\n",
       "    <tr>\n",
       "      <th>11137</th>\n",
       "      <td>$106,856</td>\n",
       "      <td>1963.0</td>\n",
       "      <td>7,100</td>\n",
       "      <td>1,313</td>\n",
       "      <td>$37 - $170 K</td>\n",
       "    </tr>\n",
       "    <tr>\n",
       "      <th>11138</th>\n",
       "      <td>$106,856</td>\n",
       "      <td>1963.0</td>\n",
       "      <td>7,100</td>\n",
       "      <td>1,313</td>\n",
       "      <td>$37 - $170 K</td>\n",
       "    </tr>\n",
       "    <tr>\n",
       "      <th>11139</th>\n",
       "      <td>$106,856</td>\n",
       "      <td>1963.0</td>\n",
       "      <td>7,100</td>\n",
       "      <td>1,313</td>\n",
       "      <td>$37 - $170 K</td>\n",
       "    </tr>\n",
       "    <tr>\n",
       "      <th>11140</th>\n",
       "      <td>$106,856</td>\n",
       "      <td>1963.0</td>\n",
       "      <td>7,100</td>\n",
       "      <td>1,313</td>\n",
       "      <td>$37 - $170 K</td>\n",
       "    </tr>\n",
       "  </tbody>\n",
       "</table>\n",
       "<p>9395 rows × 5 columns</p>\n",
       "</div>"
      ],
      "text/plain": [
       "      Median Appraised Value:  Median Year Built: Median Lot Square Ft.:  \\\n",
       "1                   $469,147               2014.0                  1,450   \n",
       "2                   $469,147               2014.0                  1,450   \n",
       "3                   $141,314               1938.0                  4,700   \n",
       "4                   $141,314               1938.0                  4,700   \n",
       "5                   $404,408               2016.0                  1,586   \n",
       "...                       ...                 ...                    ...   \n",
       "11136                $75,165               1950.0                  6,325   \n",
       "11137               $106,856               1963.0                  7,100   \n",
       "11138               $106,856               1963.0                  7,100   \n",
       "11139               $106,856               1963.0                  7,100   \n",
       "11140               $106,856               1963.0                  7,100   \n",
       "\n",
       "      Median Square Ft.: Neighborhood Value Range:  \n",
       "1                  2,096             $441 - $476 K  \n",
       "2                  2,096             $441 - $476 K  \n",
       "3                  1,086              $90 - $213 K  \n",
       "4                  1,086              $90 - $213 K  \n",
       "5                  2,058             $329 - $443 K  \n",
       "...                  ...                       ...  \n",
       "11136              1,160              $56 - $111 K  \n",
       "11137              1,313              $37 - $170 K  \n",
       "11138              1,313              $37 - $170 K  \n",
       "11139              1,313              $37 - $170 K  \n",
       "11140              1,313              $37 - $170 K  \n",
       "\n",
       "[9395 rows x 5 columns]"
      ]
     },
     "execution_count": 59,
     "metadata": {},
     "output_type": "execute_result"
    }
   ],
   "source": [
    "single_family_df[['Median Appraised Value:', 'Median Year Built:', 'Median Lot Square Ft.:', 'Median Square Ft.:', 'Neighborhood Value Range:']]"
   ]
  },
  {
   "cell_type": "markdown",
   "metadata": {},
   "source": [
    "Now we need to clean those features and change their type to the right one."
   ]
  },
  {
   "cell_type": "code",
   "execution_count": 60,
   "metadata": {},
   "outputs": [],
   "source": [
    "single_family_df['MedianApp'] = single_family_df['Median Appraised Value:'].str.replace('$','').str.replace(',','').str.strip()\n",
    "single_family_df['MedianApp'] = pd.to_numeric(single_family_df['MedianApp'],errors='coerce')"
   ]
  },
  {
   "cell_type": "code",
   "execution_count": 61,
   "metadata": {},
   "outputs": [
    {
     "data": {
      "text/plain": [
       "1        469147\n",
       "2        469147\n",
       "3        141314\n",
       "4        141314\n",
       "5        404408\n",
       "          ...  \n",
       "11136     75165\n",
       "11137    106856\n",
       "11138    106856\n",
       "11139    106856\n",
       "11140    106856\n",
       "Name: MedianApp, Length: 9395, dtype: int64"
      ]
     },
     "execution_count": 61,
     "metadata": {},
     "output_type": "execute_result"
    }
   ],
   "source": [
    "single_family_df['MedianApp']"
   ]
  },
  {
   "cell_type": "code",
   "execution_count": 62,
   "metadata": {},
   "outputs": [],
   "source": [
    "single_family_df['MedianYearBlt'] = pd.to_datetime(single_family_df['Median Year Built:'],format='%Y').dt.year"
   ]
  },
  {
   "cell_type": "code",
   "execution_count": 63,
   "metadata": {},
   "outputs": [
    {
     "data": {
      "text/plain": [
       "1        2014\n",
       "2        2014\n",
       "3        1938\n",
       "4        1938\n",
       "5        2016\n",
       "         ... \n",
       "11136    1950\n",
       "11137    1963\n",
       "11138    1963\n",
       "11139    1963\n",
       "11140    1963\n",
       "Name: MedianYearBlt, Length: 9395, dtype: int64"
      ]
     },
     "execution_count": 63,
     "metadata": {},
     "output_type": "execute_result"
    }
   ],
   "source": [
    "single_family_df['MedianYearBlt']"
   ]
  },
  {
   "cell_type": "code",
   "execution_count": 64,
   "metadata": {},
   "outputs": [],
   "source": [
    "single_family_df['MedianSqft'] = single_family_df['Median Lot Square Ft.:'].str.replace(',','').str.strip()\n",
    "single_family_df['MedianSqft'] = pd.to_numeric(single_family_df['MedianSqft'],errors='coerce')"
   ]
  },
  {
   "cell_type": "code",
   "execution_count": 65,
   "metadata": {},
   "outputs": [
    {
     "data": {
      "text/plain": [
       "1        1450\n",
       "2        1450\n",
       "3        4700\n",
       "4        4700\n",
       "5        1586\n",
       "         ... \n",
       "11136    6325\n",
       "11137    7100\n",
       "11138    7100\n",
       "11139    7100\n",
       "11140    7100\n",
       "Name: MedianSqft, Length: 9395, dtype: int64"
      ]
     },
     "execution_count": 65,
     "metadata": {},
     "output_type": "execute_result"
    }
   ],
   "source": [
    "single_family_df['MedianSqft'] "
   ]
  },
  {
   "cell_type": "code",
   "execution_count": 66,
   "metadata": {},
   "outputs": [],
   "source": [
    "single_family_df['NeighborValRangeMin'] = single_family_df['Neighborhood Value Range:'].apply(lambda x:x.split('-')[0].strip().replace('$',''))\n",
    "single_family_df['NeighborValRangeMin'] = pd.to_numeric(single_family_df['NeighborValRangeMin'],errors='coerce')"
   ]
  },
  {
   "cell_type": "code",
   "execution_count": 67,
   "metadata": {},
   "outputs": [
    {
     "data": {
      "text/plain": [
       "1        441\n",
       "2        441\n",
       "3         90\n",
       "4         90\n",
       "5        329\n",
       "        ... \n",
       "11136     56\n",
       "11137     37\n",
       "11138     37\n",
       "11139     37\n",
       "11140     37\n",
       "Name: NeighborValRangeMin, Length: 9395, dtype: int64"
      ]
     },
     "execution_count": 67,
     "metadata": {},
     "output_type": "execute_result"
    }
   ],
   "source": [
    "single_family_df['NeighborValRangeMin'] "
   ]
  },
  {
   "cell_type": "code",
   "execution_count": 68,
   "metadata": {},
   "outputs": [],
   "source": [
    "single_family_df['NeighborValRangeMax'] = single_family_df['Neighborhood Value Range:'].apply(lambda x:x.split('-')[1].replace('$','').replace('K','').strip())\n",
    "single_family_df['NeighborValRangeMax'] = pd.to_numeric(single_family_df['NeighborValRangeMax'],errors='coerce')"
   ]
  },
  {
   "cell_type": "code",
   "execution_count": 69,
   "metadata": {},
   "outputs": [
    {
     "data": {
      "text/plain": [
       "1        476\n",
       "2        476\n",
       "3        213\n",
       "4        213\n",
       "5        443\n",
       "        ... \n",
       "11136    111\n",
       "11137    170\n",
       "11138    170\n",
       "11139    170\n",
       "11140    170\n",
       "Name: NeighborValRangeMax, Length: 9395, dtype: int64"
      ]
     },
     "execution_count": 69,
     "metadata": {},
     "output_type": "execute_result"
    }
   ],
   "source": [
    "single_family_df['NeighborValRangeMax'] "
   ]
  },
  {
   "cell_type": "markdown",
   "metadata": {},
   "source": [
    "Instead of having 2 min and max columns for neighborhood value I think using average of this to range would be better."
   ]
  },
  {
   "cell_type": "code",
   "execution_count": 70,
   "metadata": {},
   "outputs": [],
   "source": [
    "single_family_df['AvgNeighborValRange'] = ((single_family_df.NeighborValRangeMax + single_family_df.NeighborValRangeMin)/2)*1000"
   ]
  },
  {
   "cell_type": "code",
   "execution_count": 71,
   "metadata": {},
   "outputs": [],
   "source": [
    "single_family_df.drop(['Median Appraised Value:','NeighborValRangeMax', 'NeighborValRangeMin','Median Year Built:', 'Median Lot Square Ft.:', 'Median Square Ft.:', 'Neighborhood Value Range:'],\n",
    "                      axis=1,inplace=True)"
   ]
  },
  {
   "cell_type": "code",
   "execution_count": 72,
   "metadata": {},
   "outputs": [
    {
     "name": "stdout",
     "output_type": "stream",
     "text": [
      "<class 'pandas.core.frame.DataFrame'>\n",
      "Int64Index: 9395 entries, 1 to 11140\n",
      "Data columns (total 65 columns):\n",
      " #   Column                                Non-Null Count  Dtype  \n",
      "---  ------                                --------------  -----  \n",
      " 0   image_link                            9395 non-null   object \n",
      " 1   Listing Price:                        9392 non-null   object \n",
      " 2   Address:                              9395 non-null   object \n",
      " 3   City:                                 9395 non-null   object \n",
      " 4   Zip Code:                             9395 non-null   int64  \n",
      " 5   County:                               9395 non-null   object \n",
      " 6   Legal Description:                    9339 non-null   object \n",
      " 7   Bedrooms:                             9366 non-null   object \n",
      " 8   Baths:                                9373 non-null   object \n",
      " 9   Stories:                              9392 non-null   object \n",
      " 10  Style:                                9395 non-null   object \n",
      " 11  Year Built:                           9345 non-null   object \n",
      " 12  Building Sqft.:                       9352 non-null   object \n",
      " 13  Lot Size:                             8910 non-null   object \n",
      " 14  Maintenance Fee:                      9367 non-null   object \n",
      " 15  Primary Bedroom:                      8755 non-null   object \n",
      " 16  Bedroom:                              9304 non-null   object \n",
      " 17  Fireplace:                            6012 non-null   object \n",
      " 18  Heating:                              9395 non-null   object \n",
      " 19  Cooling:                              9395 non-null   object \n",
      " 20  Ice Maker:                            9395 non-null   object \n",
      " 21  Microwave:                            9395 non-null   object \n",
      " 22  Compactor:                            9395 non-null   object \n",
      " 23  Dishwasher:                           9395 non-null   object \n",
      " 24  Disposal:                             9395 non-null   object \n",
      " 25  Roof:                                 9395 non-null   object \n",
      " 26  Foundation:                           9395 non-null   object \n",
      " 27  Private Pool:                         9395 non-null   object \n",
      " 28  Exterior Type:                        9395 non-null   object \n",
      " 29  Lot Description:                      9395 non-null   object \n",
      " 30  Controlled Access:                    9395 non-null   object \n",
      " 31  Water Sewer:                          9395 non-null   object \n",
      " 32  Unit Location:                        9395 non-null   object \n",
      " 33  Area Pool:                            9395 non-null   object \n",
      " 34  Dwelling Type:                        9395 non-null   object \n",
      " 35  HOA Mandatory:                        9367 non-null   object \n",
      " 36  List Type:                            9395 non-null   object \n",
      " 37  Other Fees:                           9395 non-null   object \n",
      " 38  Taxes w/o Exemp:                      7889 non-null   object \n",
      " 39  Tax Rate:                             8532 non-null   float64\n",
      " 40  Average Bedrooms:                     9362 non-null   float64\n",
      " 41  Average Baths:                        9395 non-null   float64\n",
      " 42  Median Price / Square ft.:            8471 non-null   object \n",
      " 43  Home For Sales:                       0 non-null      object \n",
      " 44  Average List Price:                   0 non-null      object \n",
      " 45  Average Square Ft.:                   0 non-null      object \n",
      " 46  Average Price/Square Ft.:             0 non-null      object \n",
      " 47  Home For Lease:                       0 non-null      float64\n",
      " 48  Average Lease:                        0 non-null      object \n",
      " 49  Average Lease/Square Ft.:             0 non-null      object \n",
      " 50  Carport Description:                  9395 non-null   object \n",
      " 51  Median Appraised Value / Square ft.:  924 non-null    object \n",
      " 52  UtilitySqft                           9395 non-null   float64\n",
      " 53  StudySqft                             9395 non-null   float64\n",
      " 54  GameSqft                              9395 non-null   float64\n",
      " 55  BreakfastSqft                         9395 non-null   float64\n",
      " 56  Garage                                9395 non-null   int32  \n",
      " 57  LivingSqft                            5350 non-null   float64\n",
      " 58  DiningSqft                            6409 non-null   float64\n",
      " 59  KitchenSqft                           6643 non-null   float64\n",
      " 60  SubName                               9395 non-null   object \n",
      " 61  MedianApp                             9395 non-null   int64  \n",
      " 62  MedianYearBlt                         9395 non-null   int64  \n",
      " 63  MedianSqft                            9395 non-null   int64  \n",
      " 64  AvgNeighborValRange                   9395 non-null   float64\n",
      "dtypes: float64(12), int32(1), int64(4), object(48)\n",
      "memory usage: 4.7+ MB\n"
     ]
    }
   ],
   "source": [
    "single_family_df.info()"
   ]
  },
  {
   "cell_type": "markdown",
   "metadata": {},
   "source": [
    "We have some features with 100% null values. lets drop them:"
   ]
  },
  {
   "cell_type": "code",
   "execution_count": 73,
   "metadata": {},
   "outputs": [],
   "source": [
    "single_family_df.drop(['Home For Sales:', 'Average List Price:', 'Average Square Ft.:', 'Average Price/Square Ft.:',\n",
    "                       'Home For Lease:','Average Lease:','Average Lease/Square Ft.:'],axis=1,inplace=True)"
   ]
  },
  {
   "cell_type": "markdown",
   "metadata": {},
   "source": [
    "Now we are checking missing values again:"
   ]
  },
  {
   "cell_type": "code",
   "execution_count": 74,
   "metadata": {},
   "outputs": [
    {
     "data": {
      "text/html": [
       "<div>\n",
       "<style scoped>\n",
       "    .dataframe tbody tr th:only-of-type {\n",
       "        vertical-align: middle;\n",
       "    }\n",
       "\n",
       "    .dataframe tbody tr th {\n",
       "        vertical-align: top;\n",
       "    }\n",
       "\n",
       "    .dataframe thead th {\n",
       "        text-align: right;\n",
       "    }\n",
       "</style>\n",
       "<table border=\"1\" class=\"dataframe\">\n",
       "  <thead>\n",
       "    <tr style=\"text-align: right;\">\n",
       "      <th></th>\n",
       "      <th>count</th>\n",
       "      <th>%</th>\n",
       "    </tr>\n",
       "  </thead>\n",
       "  <tbody>\n",
       "    <tr>\n",
       "      <th>Median Appraised Value / Square ft.:</th>\n",
       "      <td>8471</td>\n",
       "      <td>90.164981</td>\n",
       "    </tr>\n",
       "    <tr>\n",
       "      <th>LivingSqft</th>\n",
       "      <td>4045</td>\n",
       "      <td>43.054816</td>\n",
       "    </tr>\n",
       "    <tr>\n",
       "      <th>Fireplace:</th>\n",
       "      <td>3383</td>\n",
       "      <td>36.008515</td>\n",
       "    </tr>\n",
       "    <tr>\n",
       "      <th>DiningSqft</th>\n",
       "      <td>2986</td>\n",
       "      <td>31.782863</td>\n",
       "    </tr>\n",
       "    <tr>\n",
       "      <th>KitchenSqft</th>\n",
       "      <td>2752</td>\n",
       "      <td>29.292177</td>\n",
       "    </tr>\n",
       "    <tr>\n",
       "      <th>Taxes w/o Exemp:</th>\n",
       "      <td>1506</td>\n",
       "      <td>16.029803</td>\n",
       "    </tr>\n",
       "    <tr>\n",
       "      <th>Median Price / Square ft.:</th>\n",
       "      <td>924</td>\n",
       "      <td>9.835019</td>\n",
       "    </tr>\n",
       "    <tr>\n",
       "      <th>Tax Rate:</th>\n",
       "      <td>863</td>\n",
       "      <td>9.185737</td>\n",
       "    </tr>\n",
       "    <tr>\n",
       "      <th>Primary Bedroom:</th>\n",
       "      <td>640</td>\n",
       "      <td>6.812134</td>\n",
       "    </tr>\n",
       "    <tr>\n",
       "      <th>Lot Size:</th>\n",
       "      <td>485</td>\n",
       "      <td>5.162320</td>\n",
       "    </tr>\n",
       "    <tr>\n",
       "      <th>Bedroom:</th>\n",
       "      <td>91</td>\n",
       "      <td>0.968600</td>\n",
       "    </tr>\n",
       "    <tr>\n",
       "      <th>Legal Description:</th>\n",
       "      <td>56</td>\n",
       "      <td>0.596062</td>\n",
       "    </tr>\n",
       "    <tr>\n",
       "      <th>Year Built:</th>\n",
       "      <td>50</td>\n",
       "      <td>0.532198</td>\n",
       "    </tr>\n",
       "    <tr>\n",
       "      <th>Building Sqft.:</th>\n",
       "      <td>43</td>\n",
       "      <td>0.457690</td>\n",
       "    </tr>\n",
       "    <tr>\n",
       "      <th>Average Bedrooms:</th>\n",
       "      <td>33</td>\n",
       "      <td>0.351251</td>\n",
       "    </tr>\n",
       "    <tr>\n",
       "      <th>Bedrooms:</th>\n",
       "      <td>29</td>\n",
       "      <td>0.308675</td>\n",
       "    </tr>\n",
       "    <tr>\n",
       "      <th>HOA Mandatory:</th>\n",
       "      <td>28</td>\n",
       "      <td>0.298031</td>\n",
       "    </tr>\n",
       "    <tr>\n",
       "      <th>Maintenance Fee:</th>\n",
       "      <td>28</td>\n",
       "      <td>0.298031</td>\n",
       "    </tr>\n",
       "    <tr>\n",
       "      <th>Baths:</th>\n",
       "      <td>22</td>\n",
       "      <td>0.234167</td>\n",
       "    </tr>\n",
       "    <tr>\n",
       "      <th>Stories:</th>\n",
       "      <td>3</td>\n",
       "      <td>0.031932</td>\n",
       "    </tr>\n",
       "    <tr>\n",
       "      <th>Listing Price:</th>\n",
       "      <td>3</td>\n",
       "      <td>0.031932</td>\n",
       "    </tr>\n",
       "  </tbody>\n",
       "</table>\n",
       "</div>"
      ],
      "text/plain": [
       "                                      count          %\n",
       "Median Appraised Value / Square ft.:   8471  90.164981\n",
       "LivingSqft                             4045  43.054816\n",
       "Fireplace:                             3383  36.008515\n",
       "DiningSqft                             2986  31.782863\n",
       "KitchenSqft                            2752  29.292177\n",
       "Taxes w/o Exemp:                       1506  16.029803\n",
       "Median Price / Square ft.:              924   9.835019\n",
       "Tax Rate:                               863   9.185737\n",
       "Primary Bedroom:                        640   6.812134\n",
       "Lot Size:                               485   5.162320\n",
       "Bedroom:                                 91   0.968600\n",
       "Legal Description:                       56   0.596062\n",
       "Year Built:                              50   0.532198\n",
       "Building Sqft.:                          43   0.457690\n",
       "Average Bedrooms:                        33   0.351251\n",
       "Bedrooms:                                29   0.308675\n",
       "HOA Mandatory:                           28   0.298031\n",
       "Maintenance Fee:                         28   0.298031\n",
       "Baths:                                   22   0.234167\n",
       "Stories:                                  3   0.031932\n",
       "Listing Price:                            3   0.031932"
      ]
     },
     "execution_count": 74,
     "metadata": {},
     "output_type": "execute_result"
    }
   ],
   "source": [
    "missing = missing_cal(single_family_df)\n",
    "missing.loc[missing['%'] > 0].sort_values(by=\"%\",ascending=False)"
   ]
  },
  {
   "cell_type": "code",
   "execution_count": 75,
   "metadata": {},
   "outputs": [
    {
     "data": {
      "text/plain": [
       "SubName\n",
       "1829 Bering Drive      1\n",
       "A L Coan               1\n",
       "ADELAIDE               0\n",
       "ALYS PARK              1\n",
       "ARCADIA COURT          1\n",
       "                      ..\n",
       "Yorkdale Tr            0\n",
       "Yorkshire              4\n",
       "Young Mens             3\n",
       "Young Samuel           1\n",
       "Zan Wun Patio Homes    1\n",
       "Name: Taxes w/o Exemp:, Length: 2111, dtype: int64"
      ]
     },
     "execution_count": 75,
     "metadata": {},
     "output_type": "execute_result"
    }
   ],
   "source": [
    "single_family_df.groupby('SubName').count()['Taxes w/o Exemp:']"
   ]
  },
  {
   "cell_type": "code",
   "execution_count": 76,
   "metadata": {},
   "outputs": [
    {
     "data": {
      "text/html": [
       "<div>\n",
       "<style scoped>\n",
       "    .dataframe tbody tr th:only-of-type {\n",
       "        vertical-align: middle;\n",
       "    }\n",
       "\n",
       "    .dataframe tbody tr th {\n",
       "        vertical-align: top;\n",
       "    }\n",
       "\n",
       "    .dataframe thead th {\n",
       "        text-align: right;\n",
       "    }\n",
       "</style>\n",
       "<table border=\"1\" class=\"dataframe\">\n",
       "  <thead>\n",
       "    <tr style=\"text-align: right;\">\n",
       "      <th></th>\n",
       "      <th>Taxes w/o Exemp:</th>\n",
       "      <th>Listing Price:</th>\n",
       "      <th>Median Price / Square ft.:</th>\n",
       "      <th>Tax Rate:</th>\n",
       "      <th>SubName</th>\n",
       "    </tr>\n",
       "  </thead>\n",
       "  <tbody>\n",
       "    <tr>\n",
       "      <th>1</th>\n",
       "      <td>$11, 138/2019</td>\n",
       "      <td>$ 465,000 ($221.85/sqft.) $Convert</td>\n",
       "      <td>NaN</td>\n",
       "      <td>2.4216</td>\n",
       "      <td>Modern Midtown</td>\n",
       "    </tr>\n",
       "    <tr>\n",
       "      <th>2</th>\n",
       "      <td>$11, 292/2019</td>\n",
       "      <td>$ 450,000 ($223.33/sqft.) $Convert</td>\n",
       "      <td>NaN</td>\n",
       "      <td>2.4216</td>\n",
       "      <td>Modern Midtown</td>\n",
       "    </tr>\n",
       "    <tr>\n",
       "      <th>3</th>\n",
       "      <td>$4, 480/2019</td>\n",
       "      <td>$ 259,000 ($203.30/sqft.) $Convert</td>\n",
       "      <td>$188.44</td>\n",
       "      <td>2.5716</td>\n",
       "      <td>Merkels</td>\n",
       "    </tr>\n",
       "    <tr>\n",
       "      <th>4</th>\n",
       "      <td>NaN</td>\n",
       "      <td>$ 236,999 ($196.19/sqft.) $Convert  \\r\\n\\r\\n\\r...</td>\n",
       "      <td>$188.44</td>\n",
       "      <td>NaN</td>\n",
       "      <td>Merkels</td>\n",
       "    </tr>\n",
       "    <tr>\n",
       "      <th>5</th>\n",
       "      <td>$9, 932/2019</td>\n",
       "      <td>$ 390,000 ($210.81/sqft.) $Convert</td>\n",
       "      <td>NaN</td>\n",
       "      <td>2.5716</td>\n",
       "      <td>East End On The Bayou</td>\n",
       "    </tr>\n",
       "    <tr>\n",
       "      <th>...</th>\n",
       "      <td>...</td>\n",
       "      <td>...</td>\n",
       "      <td>...</td>\n",
       "      <td>...</td>\n",
       "      <td>...</td>\n",
       "    </tr>\n",
       "    <tr>\n",
       "      <th>11136</th>\n",
       "      <td>$2, 607/2019</td>\n",
       "      <td>$ 189,000 ($111.77/sqft.) $Convert</td>\n",
       "      <td>$118.87</td>\n",
       "      <td>2.8732</td>\n",
       "      <td>Merilyn Place</td>\n",
       "    </tr>\n",
       "    <tr>\n",
       "      <th>11137</th>\n",
       "      <td>$2, 145/2019</td>\n",
       "      <td>$ 177,900 ($135.18/sqft.) $Convert</td>\n",
       "      <td>$92.11</td>\n",
       "      <td>2.8732</td>\n",
       "      <td>South Houston</td>\n",
       "    </tr>\n",
       "    <tr>\n",
       "      <th>11138</th>\n",
       "      <td>$3, 108/2019</td>\n",
       "      <td>$ 169,500 ($146.12/sqft.) $Convert</td>\n",
       "      <td>$92.11</td>\n",
       "      <td>2.8732</td>\n",
       "      <td>South Houston</td>\n",
       "    </tr>\n",
       "    <tr>\n",
       "      <th>11139</th>\n",
       "      <td>NaN</td>\n",
       "      <td>$ 165,000 ($145.37/sqft.) $Convert</td>\n",
       "      <td>$92.11</td>\n",
       "      <td>NaN</td>\n",
       "      <td>South Houston</td>\n",
       "    </tr>\n",
       "    <tr>\n",
       "      <th>11140</th>\n",
       "      <td>$2, 735/2019</td>\n",
       "      <td>$ 155,000 ($184.74/sqft.) $Convert</td>\n",
       "      <td>$92.11</td>\n",
       "      <td>2.8732</td>\n",
       "      <td>South Houston</td>\n",
       "    </tr>\n",
       "  </tbody>\n",
       "</table>\n",
       "<p>9395 rows × 5 columns</p>\n",
       "</div>"
      ],
      "text/plain": [
       "      Taxes w/o Exemp:                                     Listing Price:  \\\n",
       "1        $11, 138/2019                $ 465,000 ($221.85/sqft.) $Convert    \n",
       "2        $11, 292/2019                $ 450,000 ($223.33/sqft.) $Convert    \n",
       "3         $4, 480/2019                $ 259,000 ($203.30/sqft.) $Convert    \n",
       "4                  NaN  $ 236,999 ($196.19/sqft.) $Convert  \\r\\n\\r\\n\\r...   \n",
       "5         $9, 932/2019                $ 390,000 ($210.81/sqft.) $Convert    \n",
       "...                ...                                                ...   \n",
       "11136     $2, 607/2019                $ 189,000 ($111.77/sqft.) $Convert    \n",
       "11137     $2, 145/2019                $ 177,900 ($135.18/sqft.) $Convert    \n",
       "11138     $3, 108/2019                $ 169,500 ($146.12/sqft.) $Convert    \n",
       "11139              NaN                $ 165,000 ($145.37/sqft.) $Convert    \n",
       "11140     $2, 735/2019                $ 155,000 ($184.74/sqft.) $Convert    \n",
       "\n",
       "      Median Price / Square ft.:  Tax Rate:                SubName  \n",
       "1                            NaN     2.4216         Modern Midtown  \n",
       "2                            NaN     2.4216         Modern Midtown  \n",
       "3                       $188.44      2.5716                Merkels  \n",
       "4                       $188.44         NaN                Merkels  \n",
       "5                            NaN     2.5716  East End On The Bayou  \n",
       "...                          ...        ...                    ...  \n",
       "11136                   $118.87      2.8732          Merilyn Place  \n",
       "11137                    $92.11      2.8732          South Houston  \n",
       "11138                    $92.11      2.8732          South Houston  \n",
       "11139                    $92.11         NaN          South Houston  \n",
       "11140                    $92.11      2.8732          South Houston  \n",
       "\n",
       "[9395 rows x 5 columns]"
      ]
     },
     "execution_count": 76,
     "metadata": {},
     "output_type": "execute_result"
    }
   ],
   "source": [
    "single_family_df[['Taxes w/o Exemp:','Listing Price:','Median Price / Square ft.:','Tax Rate:','SubName']]"
   ]
  },
  {
   "cell_type": "markdown",
   "metadata": {},
   "source": [
    "Tax rate and Median Price / Square ft. would be the same for all house in same subdivision and Taxes paid is different for each house based on tax rate, total house sqft and other factor. I think filling null value for tax paid with the average of taxes per subdivision would be appropriate but first we need to clean these two columns."
   ]
  },
  {
   "cell_type": "code",
   "execution_count": 77,
   "metadata": {},
   "outputs": [],
   "source": [
    "single_family_df['MedianPrice/Sqft'] = pd.to_numeric(single_family_df['Median Price / Square ft.:'].str\n",
    "                                                     .replace('$','').str.strip(),errors='coerce')\n",
    "\n",
    "single_family_df['PaidTax'] = pd.to_numeric(single_family_df['Taxes w/o Exemp:'].apply(lambda x:x.split('/')[0].replace(',','')\n",
    "                                                                         .replace(' ','').strip().replace('$','') if \n",
    "                                                                         not pd.isna(x) else None),errors='coerce')\n",
    "single_family_df['TaxRate'] = pd.to_numeric(single_family_df['Tax Rate:'],errors='coerce')"
   ]
  },
  {
   "cell_type": "code",
   "execution_count": 78,
   "metadata": {},
   "outputs": [],
   "source": [
    "single_family_df['PaidTax'] = single_family_df.groupby('SubName')['PaidTax'].transform(lambda x: x.fillna(x.mean()))\n",
    "single_family_df['TaxRate'] = single_family_df.groupby('SubName')['TaxRate'].transform(lambda x: x.fillna(x.mean()))\n",
    "single_family_df['MedianPrice/Sqft'] = single_family_df.groupby('SubName')['MedianPrice/Sqft'].transform(lambda x: x.fillna(x.mean()))"
   ]
  },
  {
   "cell_type": "code",
   "execution_count": 79,
   "metadata": {},
   "outputs": [
    {
     "data": {
      "text/plain": [
       "924"
      ]
     },
     "execution_count": 79,
     "metadata": {},
     "output_type": "execute_result"
    }
   ],
   "source": [
    "single_family_df['MedianPrice/Sqft'].isna().sum()"
   ]
  },
  {
   "cell_type": "markdown",
   "metadata": {},
   "source": [
    "We still have some null values and it seems there is no information for those subdivisions. lets drop them."
   ]
  },
  {
   "cell_type": "code",
   "execution_count": 80,
   "metadata": {},
   "outputs": [],
   "source": [
    "single_family_df=single_family_df[~single_family_df['MedianPrice/Sqft'].isnull()]"
   ]
  },
  {
   "cell_type": "code",
   "execution_count": 81,
   "metadata": {},
   "outputs": [
    {
     "data": {
      "text/plain": [
       "53"
      ]
     },
     "execution_count": 81,
     "metadata": {},
     "output_type": "execute_result"
    }
   ],
   "source": [
    "single_family_df['TaxRate'].isna().sum()"
   ]
  },
  {
   "cell_type": "code",
   "execution_count": 82,
   "metadata": {},
   "outputs": [],
   "source": [
    "single_family_df=single_family_df[~single_family_df['TaxRate'].isnull()]"
   ]
  },
  {
   "cell_type": "code",
   "execution_count": 83,
   "metadata": {},
   "outputs": [
    {
     "data": {
      "text/plain": [
       "68"
      ]
     },
     "execution_count": 83,
     "metadata": {},
     "output_type": "execute_result"
    }
   ],
   "source": [
    "single_family_df['PaidTax'].isna().sum()"
   ]
  },
  {
   "cell_type": "code",
   "execution_count": 84,
   "metadata": {},
   "outputs": [],
   "source": [
    "single_family_df=single_family_df[~single_family_df['PaidTax'].isnull()]"
   ]
  },
  {
   "cell_type": "code",
   "execution_count": 85,
   "metadata": {},
   "outputs": [],
   "source": [
    "single_family_df.drop(['Taxes w/o Exemp:','Tax Rate:','Median Price / Square ft.:'],axis=1,inplace=True)"
   ]
  },
  {
   "cell_type": "code",
   "execution_count": 87,
   "metadata": {},
   "outputs": [
    {
     "data": {
      "text/html": [
       "<div>\n",
       "<style scoped>\n",
       "    .dataframe tbody tr th:only-of-type {\n",
       "        vertical-align: middle;\n",
       "    }\n",
       "\n",
       "    .dataframe tbody tr th {\n",
       "        vertical-align: top;\n",
       "    }\n",
       "\n",
       "    .dataframe thead th {\n",
       "        text-align: right;\n",
       "    }\n",
       "</style>\n",
       "<table border=\"1\" class=\"dataframe\">\n",
       "  <thead>\n",
       "    <tr style=\"text-align: right;\">\n",
       "      <th></th>\n",
       "      <th>image_link</th>\n",
       "      <th>Listing Price:</th>\n",
       "      <th>Address:</th>\n",
       "      <th>City:</th>\n",
       "      <th>Zip Code:</th>\n",
       "      <th>County:</th>\n",
       "      <th>Legal Description:</th>\n",
       "      <th>Bedrooms:</th>\n",
       "      <th>Baths:</th>\n",
       "      <th>Stories:</th>\n",
       "      <th>...</th>\n",
       "      <th>DiningSqft</th>\n",
       "      <th>KitchenSqft</th>\n",
       "      <th>SubName</th>\n",
       "      <th>MedianApp</th>\n",
       "      <th>MedianYearBlt</th>\n",
       "      <th>MedianSqft</th>\n",
       "      <th>AvgNeighborValRange</th>\n",
       "      <th>MedianPrice/Sqft</th>\n",
       "      <th>PaidTax</th>\n",
       "      <th>TaxRate</th>\n",
       "    </tr>\n",
       "  </thead>\n",
       "  <tbody>\n",
       "    <tr>\n",
       "      <th>2159</th>\n",
       "      <td>['https://photos.harstatic.com/185623019/hr/im...</td>\n",
       "      <td>$ 1,795,000 ($341.84/sqft.) $Convert</td>\n",
       "      <td>4034 Falkirk Lane</td>\n",
       "      <td>Houston</td>\n",
       "      <td>77025</td>\n",
       "      <td>Harris County</td>\n",
       "      <td>LT 16 BLK 26 AYRSHIRE SEC 13</td>\n",
       "      <td>4 - 5 Bedroom(s)</td>\n",
       "      <td>4 Full  &amp; 1 Half Bath(s)</td>\n",
       "      <td>2</td>\n",
       "      <td>...</td>\n",
       "      <td>266.000</td>\n",
       "      <td>315.0000</td>\n",
       "      <td>Ayrshire</td>\n",
       "      <td>650000</td>\n",
       "      <td>1970</td>\n",
       "      <td>9003</td>\n",
       "      <td>887500.0</td>\n",
       "      <td>262.37</td>\n",
       "      <td>17299.062500</td>\n",
       "      <td>4559.886541</td>\n",
       "    </tr>\n",
       "    <tr>\n",
       "      <th>2191</th>\n",
       "      <td>['https://photos.harstatic.com/178346102/hr/im...</td>\n",
       "      <td>$ 1,349,500 ($283.75/sqft.) $Convert  \\r\\n\\r\\n...</td>\n",
       "      <td>3543 Blue Bonnet Boulevard</td>\n",
       "      <td>Houston</td>\n",
       "      <td>77025</td>\n",
       "      <td>Harris County</td>\n",
       "      <td>LT 2 BLK 3 BRAES OAKS SEC 1</td>\n",
       "      <td>5 Bedroom(s)</td>\n",
       "      <td>5 Full  &amp; 1 Half Bath(s)</td>\n",
       "      <td>2</td>\n",
       "      <td>...</td>\n",
       "      <td>308.000</td>\n",
       "      <td>308.0000</td>\n",
       "      <td>Braes Oaks</td>\n",
       "      <td>880463</td>\n",
       "      <td>2001</td>\n",
       "      <td>7647</td>\n",
       "      <td>857000.0</td>\n",
       "      <td>273.61</td>\n",
       "      <td>13550.000000</td>\n",
       "      <td>77479.000000</td>\n",
       "    </tr>\n",
       "    <tr>\n",
       "      <th>2242</th>\n",
       "      <td>['https://photos.harstatic.com/181685006/hr/im...</td>\n",
       "      <td>$ 1,575,000 ($298.01/sqft.) $Convert</td>\n",
       "      <td>4010 Grennoch Lane</td>\n",
       "      <td>Houston</td>\n",
       "      <td>77025</td>\n",
       "      <td>Harris County</td>\n",
       "      <td>LT 31 BLK 20 AYRSHIRE SEC 9</td>\n",
       "      <td>5 - 6 Bedroom(s)</td>\n",
       "      <td>5 Full  &amp; 1 Half Bath(s)</td>\n",
       "      <td>2</td>\n",
       "      <td>...</td>\n",
       "      <td>180.000</td>\n",
       "      <td>220.0000</td>\n",
       "      <td>Ayrshire</td>\n",
       "      <td>650000</td>\n",
       "      <td>1970</td>\n",
       "      <td>9003</td>\n",
       "      <td>887500.0</td>\n",
       "      <td>262.37</td>\n",
       "      <td>17299.062500</td>\n",
       "      <td>77479.000000</td>\n",
       "    </tr>\n",
       "    <tr>\n",
       "      <th>4531</th>\n",
       "      <td>['https://photos.harstatic.com/187964297/hr/im...</td>\n",
       "      <td>$ 479,900 ($113.32/sqft.) $Convert  \\r\\n\\r\\n\\r...</td>\n",
       "      <td>11818 Key Biscayne Court</td>\n",
       "      <td>Houston</td>\n",
       "      <td>77065</td>\n",
       "      <td>Harris County</td>\n",
       "      <td>LT 29 BLK 2 WINDERMERE LAKES SEC 4</td>\n",
       "      <td>4 Bedroom(s)</td>\n",
       "      <td>3 Full  &amp; 1 Half Bath(s)</td>\n",
       "      <td>2</td>\n",
       "      <td>...</td>\n",
       "      <td>145.805</td>\n",
       "      <td>225.5025</td>\n",
       "      <td>Windermere Lakes</td>\n",
       "      <td>312891</td>\n",
       "      <td>2000</td>\n",
       "      <td>7800</td>\n",
       "      <td>319500.0</td>\n",
       "      <td>105.67</td>\n",
       "      <td>8073.333333</td>\n",
       "      <td>23243.000000</td>\n",
       "    </tr>\n",
       "  </tbody>\n",
       "</table>\n",
       "<p>4 rows × 58 columns</p>\n",
       "</div>"
      ],
      "text/plain": [
       "                                             image_link  \\\n",
       "2159  ['https://photos.harstatic.com/185623019/hr/im...   \n",
       "2191  ['https://photos.harstatic.com/178346102/hr/im...   \n",
       "2242  ['https://photos.harstatic.com/181685006/hr/im...   \n",
       "4531  ['https://photos.harstatic.com/187964297/hr/im...   \n",
       "\n",
       "                                         Listing Price:  \\\n",
       "2159              $ 1,795,000 ($341.84/sqft.) $Convert    \n",
       "2191  $ 1,349,500 ($283.75/sqft.) $Convert  \\r\\n\\r\\n...   \n",
       "2242              $ 1,575,000 ($298.01/sqft.) $Convert    \n",
       "4531  $ 479,900 ($113.32/sqft.) $Convert  \\r\\n\\r\\n\\r...   \n",
       "\n",
       "                        Address:    City:  Zip Code:        County:  \\\n",
       "2159           4034 Falkirk Lane  Houston      77025  Harris County   \n",
       "2191  3543 Blue Bonnet Boulevard  Houston      77025  Harris County   \n",
       "2242          4010 Grennoch Lane  Houston      77025  Harris County   \n",
       "4531    11818 Key Biscayne Court  Houston      77065  Harris County   \n",
       "\n",
       "                      Legal Description:         Bedrooms:  \\\n",
       "2159        LT 16 BLK 26 AYRSHIRE SEC 13  4 - 5 Bedroom(s)   \n",
       "2191         LT 2 BLK 3 BRAES OAKS SEC 1      5 Bedroom(s)   \n",
       "2242         LT 31 BLK 20 AYRSHIRE SEC 9  5 - 6 Bedroom(s)   \n",
       "4531  LT 29 BLK 2 WINDERMERE LAKES SEC 4      4 Bedroom(s)   \n",
       "\n",
       "                        Baths: Stories:  ... DiningSqft KitchenSqft  \\\n",
       "2159  4 Full  & 1 Half Bath(s)        2  ...    266.000    315.0000   \n",
       "2191  5 Full  & 1 Half Bath(s)        2  ...    308.000    308.0000   \n",
       "2242  5 Full  & 1 Half Bath(s)        2  ...    180.000    220.0000   \n",
       "4531  3 Full  & 1 Half Bath(s)        2  ...    145.805    225.5025   \n",
       "\n",
       "               SubName MedianApp MedianYearBlt MedianSqft AvgNeighborValRange  \\\n",
       "2159          Ayrshire    650000          1970       9003            887500.0   \n",
       "2191        Braes Oaks    880463          2001       7647            857000.0   \n",
       "2242          Ayrshire    650000          1970       9003            887500.0   \n",
       "4531  Windermere Lakes    312891          2000       7800            319500.0   \n",
       "\n",
       "     MedianPrice/Sqft       PaidTax       TaxRate  \n",
       "2159           262.37  17299.062500   4559.886541  \n",
       "2191           273.61  13550.000000  77479.000000  \n",
       "2242           262.37  17299.062500  77479.000000  \n",
       "4531           105.67   8073.333333  23243.000000  \n",
       "\n",
       "[4 rows x 58 columns]"
      ]
     },
     "execution_count": 87,
     "metadata": {},
     "output_type": "execute_result"
    }
   ],
   "source": [
    "single_family_df[single_family_df.TaxRate>10]"
   ]
  },
  {
   "cell_type": "code",
   "execution_count": 88,
   "metadata": {},
   "outputs": [
    {
     "data": {
      "text/plain": [
       "2159            Ayrshire\n",
       "2191          Braes Oaks\n",
       "2242            Ayrshire\n",
       "4531    Windermere Lakes\n",
       "Name: SubName, dtype: object"
      ]
     },
     "execution_count": 88,
     "metadata": {},
     "output_type": "execute_result"
    }
   ],
   "source": [
    "single_family_df.SubName[single_family_df.TaxRate>10]"
   ]
  },
  {
   "cell_type": "code",
   "execution_count": 89,
   "metadata": {},
   "outputs": [
    {
     "data": {
      "text/plain": [
       "4530        2.3243\n",
       "4531    23243.0000\n",
       "4534        2.3243\n",
       "4536        2.3243\n",
       "Name: TaxRate, dtype: float64"
      ]
     },
     "execution_count": 89,
     "metadata": {},
     "output_type": "execute_result"
    }
   ],
   "source": [
    "single_family_df.TaxRate[single_family_df.SubName=='Windermere Lakes']"
   ]
  },
  {
   "cell_type": "code",
   "execution_count": 90,
   "metadata": {},
   "outputs": [],
   "source": [
    "single_family_df.loc[4531,'TaxRate'] = 2.3243\n",
    "single_family_df = single_family_df[single_family_df.TaxRate < 10]"
   ]
  },
  {
   "cell_type": "markdown",
   "metadata": {},
   "source": [
    "These 4 houses have tax rate which is out of range, after checking those house on HAR.com I realized that first 3 are new houses and last one seems to be typo mistake and I will replace it with the correct tax rate for its subdivision(Windermere Lakes)"
   ]
  },
  {
   "cell_type": "code",
   "execution_count": 91,
   "metadata": {},
   "outputs": [
    {
     "data": {
      "text/plain": [
       "count      8347.000000\n",
       "mean       9871.722404\n",
       "std       13557.448522\n",
       "min          53.000000\n",
       "25%        4682.076923\n",
       "50%        7056.000000\n",
       "75%       11184.255814\n",
       "max      771540.000000\n",
       "Name: PaidTax, dtype: float64"
      ]
     },
     "execution_count": 91,
     "metadata": {},
     "output_type": "execute_result"
    }
   ],
   "source": [
    "single_family_df.PaidTax.describe()"
   ]
  },
  {
   "cell_type": "markdown",
   "metadata": {},
   "source": [
    "Lets take a look at maximum tax paid to see why it is too high."
   ]
  },
  {
   "cell_type": "code",
   "execution_count": 95,
   "metadata": {},
   "outputs": [
    {
     "data": {
      "text/html": [
       "<div>\n",
       "<style scoped>\n",
       "    .dataframe tbody tr th:only-of-type {\n",
       "        vertical-align: middle;\n",
       "    }\n",
       "\n",
       "    .dataframe tbody tr th {\n",
       "        vertical-align: top;\n",
       "    }\n",
       "\n",
       "    .dataframe thead th {\n",
       "        text-align: right;\n",
       "    }\n",
       "</style>\n",
       "<table border=\"1\" class=\"dataframe\">\n",
       "  <thead>\n",
       "    <tr style=\"text-align: right;\">\n",
       "      <th></th>\n",
       "      <th>image_link</th>\n",
       "      <th>Listing Price:</th>\n",
       "      <th>Address:</th>\n",
       "      <th>City:</th>\n",
       "      <th>Zip Code:</th>\n",
       "      <th>County:</th>\n",
       "      <th>Legal Description:</th>\n",
       "      <th>Bedrooms:</th>\n",
       "      <th>Baths:</th>\n",
       "      <th>Stories:</th>\n",
       "      <th>...</th>\n",
       "      <th>DiningSqft</th>\n",
       "      <th>KitchenSqft</th>\n",
       "      <th>SubName</th>\n",
       "      <th>MedianApp</th>\n",
       "      <th>MedianYearBlt</th>\n",
       "      <th>MedianSqft</th>\n",
       "      <th>AvgNeighborValRange</th>\n",
       "      <th>MedianPrice/Sqft</th>\n",
       "      <th>PaidTax</th>\n",
       "      <th>TaxRate</th>\n",
       "    </tr>\n",
       "  </thead>\n",
       "  <tbody>\n",
       "    <tr>\n",
       "      <th>1597</th>\n",
       "      <td>['https://photos.harstatic.com/177970173/hr/im...</td>\n",
       "      <td>$ 7,200,000 ($1,401.60/sqft.) $Convert</td>\n",
       "      <td>3702 Knollwood Street</td>\n",
       "      <td>Houston</td>\n",
       "      <td>77019</td>\n",
       "      <td>Harris County</td>\n",
       "      <td>LT 13 BLK 94 RIVER OAKS SEC 10</td>\n",
       "      <td>5 Bedroom(s)</td>\n",
       "      <td>4 Full  &amp; 1 Half Bath(s)</td>\n",
       "      <td>2</td>\n",
       "      <td>...</td>\n",
       "      <td>256.500000</td>\n",
       "      <td>378.0</td>\n",
       "      <td>River Oaks</td>\n",
       "      <td>2268725</td>\n",
       "      <td>1948</td>\n",
       "      <td>11420</td>\n",
       "      <td>2879000.0</td>\n",
       "      <td>512.55</td>\n",
       "      <td>160789.000000</td>\n",
       "      <td>2.530400</td>\n",
       "    </tr>\n",
       "    <tr>\n",
       "      <th>1599</th>\n",
       "      <td>['https://photos.harstatic.com/190563301/hr/im...</td>\n",
       "      <td>$ 6,995,000 ($976.00/sqft.) $Convert</td>\n",
       "      <td>3723 Knollwood Street</td>\n",
       "      <td>Houston</td>\n",
       "      <td>77019</td>\n",
       "      <td>Harris County</td>\n",
       "      <td>TRS 2A &amp; 3 BLK 95 RIVER OAKS SEC 10</td>\n",
       "      <td>5 Bedroom(s)</td>\n",
       "      <td>4 Full  &amp; 3 Half Bath(s)</td>\n",
       "      <td>2</td>\n",
       "      <td>...</td>\n",
       "      <td>192.000000</td>\n",
       "      <td>418.0</td>\n",
       "      <td>River Oaks</td>\n",
       "      <td>2268725</td>\n",
       "      <td>1948</td>\n",
       "      <td>11420</td>\n",
       "      <td>2879000.0</td>\n",
       "      <td>512.55</td>\n",
       "      <td>116968.000000</td>\n",
       "      <td>2.421600</td>\n",
       "    </tr>\n",
       "    <tr>\n",
       "      <th>1600</th>\n",
       "      <td>['https://photos.harstatic.com/187472036/hr/im...</td>\n",
       "      <td>$ 6,900,000 ($972.10/sqft.) $Convert  \\r\\n\\r\\n...</td>\n",
       "      <td>3229 Groveland Lane</td>\n",
       "      <td>Houston</td>\n",
       "      <td>77019</td>\n",
       "      <td>Harris County</td>\n",
       "      <td>TRS 4A &amp; 5 BLK 12 RIVER OAKS COUNTRY CLUB ESTATE</td>\n",
       "      <td>4 Bedroom(s)</td>\n",
       "      <td>5 Full  &amp; 2 Half Bath(s)</td>\n",
       "      <td>2</td>\n",
       "      <td>...</td>\n",
       "      <td>304.000000</td>\n",
       "      <td>240.0</td>\n",
       "      <td>River Oaks Country Club Estate</td>\n",
       "      <td>4435519</td>\n",
       "      <td>1948</td>\n",
       "      <td>23490</td>\n",
       "      <td>5558000.0</td>\n",
       "      <td>606.88</td>\n",
       "      <td>183920.000000</td>\n",
       "      <td>2.421600</td>\n",
       "    </tr>\n",
       "    <tr>\n",
       "      <th>1601</th>\n",
       "      <td>['https://photos.harstatic.com/190203098/hr/im...</td>\n",
       "      <td>$ 6,795,000 ($720.88/sqft.) $Convert</td>\n",
       "      <td>3257 Inwood</td>\n",
       "      <td>Houston</td>\n",
       "      <td>77019</td>\n",
       "      <td>Harris County</td>\n",
       "      <td>LT 2 &amp; TR 1A BLK 3 RIVER OAKS COUNTRY CLUB ESTATE</td>\n",
       "      <td>5 Bedroom(s)</td>\n",
       "      <td>6 Full  &amp; 2 Half Bath(s)</td>\n",
       "      <td>2</td>\n",
       "      <td>...</td>\n",
       "      <td>280.000000</td>\n",
       "      <td>375.0</td>\n",
       "      <td>River Oaks Country Club Estate</td>\n",
       "      <td>4435519</td>\n",
       "      <td>1948</td>\n",
       "      <td>23490</td>\n",
       "      <td>5558000.0</td>\n",
       "      <td>606.88</td>\n",
       "      <td>116099.750000</td>\n",
       "      <td>2.421595</td>\n",
       "    </tr>\n",
       "    <tr>\n",
       "      <th>1604</th>\n",
       "      <td>['https://photos.harstatic.com/186756176/hr/im...</td>\n",
       "      <td>$ 4,899,000 ($678.25/sqft.) $Convert  \\r\\n\\r\\n...</td>\n",
       "      <td>3315 Del Monte Drive</td>\n",
       "      <td>Houston</td>\n",
       "      <td>77019</td>\n",
       "      <td>Harris County</td>\n",
       "      <td>LT 9 BLK 8 RIVER OAKS COUNTRY CLUB ESTATE</td>\n",
       "      <td>5 Bedroom(s)</td>\n",
       "      <td>7 Full  &amp; 2 Half Bath(s)</td>\n",
       "      <td>3</td>\n",
       "      <td>...</td>\n",
       "      <td>345.000000</td>\n",
       "      <td>270.0</td>\n",
       "      <td>River Oaks Country Club Estate</td>\n",
       "      <td>4435519</td>\n",
       "      <td>1948</td>\n",
       "      <td>23490</td>\n",
       "      <td>5558000.0</td>\n",
       "      <td>606.88</td>\n",
       "      <td>101271.000000</td>\n",
       "      <td>2.421580</td>\n",
       "    </tr>\n",
       "    <tr>\n",
       "      <th>1605</th>\n",
       "      <td>['https://photos.harstatic.com/189953272/hr/im...</td>\n",
       "      <td>$ 4,650,000 ($628.80/sqft.) $Convert</td>\n",
       "      <td>1923 Olympia Drive</td>\n",
       "      <td>Houston</td>\n",
       "      <td>77019</td>\n",
       "      <td>Harris County</td>\n",
       "      <td>TR 4 BLK 74 RIVER OAKS SEC 9</td>\n",
       "      <td>5 - 6 Bedroom(s)</td>\n",
       "      <td>6 Full  &amp; 2 Half Bath(s)</td>\n",
       "      <td>2</td>\n",
       "      <td>...</td>\n",
       "      <td>266.000000</td>\n",
       "      <td>336.0</td>\n",
       "      <td>River Oaks</td>\n",
       "      <td>2268725</td>\n",
       "      <td>1948</td>\n",
       "      <td>11420</td>\n",
       "      <td>2879000.0</td>\n",
       "      <td>512.55</td>\n",
       "      <td>102094.000000</td>\n",
       "      <td>2.421600</td>\n",
       "    </tr>\n",
       "    <tr>\n",
       "      <th>1647</th>\n",
       "      <td>['https://photos.harstatic.com/188466658/hr/im...</td>\n",
       "      <td>$ 6,149,000 ($734.56/sqft.) $Convert  \\r\\n\\r\\n...</td>\n",
       "      <td>3257 Huntingdon Place</td>\n",
       "      <td>Houston</td>\n",
       "      <td>77019</td>\n",
       "      <td>Harris County</td>\n",
       "      <td>LT 3 BLK 17 RIVER OAKS COUNTRY CLUB ESTATE</td>\n",
       "      <td>5 Bedroom(s)</td>\n",
       "      <td>7 Full  &amp; 2 Half Bath(s)</td>\n",
       "      <td>2</td>\n",
       "      <td>...</td>\n",
       "      <td>255.000000</td>\n",
       "      <td>496.0</td>\n",
       "      <td>River Oaks Country Club Estate</td>\n",
       "      <td>4435519</td>\n",
       "      <td>1948</td>\n",
       "      <td>23490</td>\n",
       "      <td>5558000.0</td>\n",
       "      <td>606.88</td>\n",
       "      <td>116099.750000</td>\n",
       "      <td>2.421595</td>\n",
       "    </tr>\n",
       "    <tr>\n",
       "      <th>1648</th>\n",
       "      <td>['https://photos.harstatic.com/185262421/hr/im...</td>\n",
       "      <td>$ 5,999,000 ($869.42/sqft.) $Convert  \\r\\n\\r\\n...</td>\n",
       "      <td>3627 Inwood Drive</td>\n",
       "      <td>Houston</td>\n",
       "      <td>77019</td>\n",
       "      <td>Harris County</td>\n",
       "      <td>LT 7 BLK 77 RIVER OAKS SEC 9</td>\n",
       "      <td>5 Bedroom(s)</td>\n",
       "      <td>6 Full  &amp; 2 Half Bath(s)</td>\n",
       "      <td>2</td>\n",
       "      <td>...</td>\n",
       "      <td>279.000000</td>\n",
       "      <td>425.0</td>\n",
       "      <td>River Oaks</td>\n",
       "      <td>2268725</td>\n",
       "      <td>1948</td>\n",
       "      <td>11420</td>\n",
       "      <td>2879000.0</td>\n",
       "      <td>512.55</td>\n",
       "      <td>101039.000000</td>\n",
       "      <td>2.421600</td>\n",
       "    </tr>\n",
       "    <tr>\n",
       "      <th>1652</th>\n",
       "      <td>['https://photos.harstatic.com/190462692/hr/im...</td>\n",
       "      <td>$ 5,495,000 ($542.93/sqft.) $Convert</td>\n",
       "      <td>3330 Chevy Chase Drive</td>\n",
       "      <td>Houston</td>\n",
       "      <td>77019</td>\n",
       "      <td>Harris County</td>\n",
       "      <td>LT 14 BLK 8 RIVER OAKS COUNTRY CLUB ESTATE</td>\n",
       "      <td>6 - 7 Bedroom(s)</td>\n",
       "      <td>9 Full  &amp; 2 Half Bath(s)</td>\n",
       "      <td>2</td>\n",
       "      <td>...</td>\n",
       "      <td>272.000000</td>\n",
       "      <td>352.0</td>\n",
       "      <td>River Oaks Country Club Estate</td>\n",
       "      <td>4435519</td>\n",
       "      <td>1948</td>\n",
       "      <td>23490</td>\n",
       "      <td>5558000.0</td>\n",
       "      <td>606.88</td>\n",
       "      <td>132395.000000</td>\n",
       "      <td>2.421600</td>\n",
       "    </tr>\n",
       "    <tr>\n",
       "      <th>1653</th>\n",
       "      <td>['https://photos.harstatic.com/186493518/hr/im...</td>\n",
       "      <td>$ 5,495,000 ($592.77/sqft.) $Convert</td>\n",
       "      <td>3640 Inwood Drive</td>\n",
       "      <td>Houston</td>\n",
       "      <td>77019</td>\n",
       "      <td>Harris County</td>\n",
       "      <td>TR 8 BLK 78 RIVER OAKS SEC 9</td>\n",
       "      <td>6 - 7 Bedroom(s)</td>\n",
       "      <td>7 Full  &amp; 1 Half Bath(s)</td>\n",
       "      <td>2</td>\n",
       "      <td>...</td>\n",
       "      <td>266.000000</td>\n",
       "      <td>264.0</td>\n",
       "      <td>River Oaks</td>\n",
       "      <td>2268725</td>\n",
       "      <td>1948</td>\n",
       "      <td>11420</td>\n",
       "      <td>2879000.0</td>\n",
       "      <td>512.55</td>\n",
       "      <td>127860.000000</td>\n",
       "      <td>2.421600</td>\n",
       "    </tr>\n",
       "    <tr>\n",
       "      <th>3126</th>\n",
       "      <td>['https://photos.harstatic.com/153897541/hr/im...</td>\n",
       "      <td>$ 14,500,000 ($689.43/sqft.) $Convert  \\r\\n\\r\\...</td>\n",
       "      <td>6 W Rivercrest Drive</td>\n",
       "      <td>Houston</td>\n",
       "      <td>77042</td>\n",
       "      <td>Harris County</td>\n",
       "      <td>LT 2A BLK 2 RIVERCREST R/P</td>\n",
       "      <td>7 - 8 Bedroom(s)</td>\n",
       "      <td>9 Full  &amp; 5 Half Bath(s)</td>\n",
       "      <td>2</td>\n",
       "      <td>...</td>\n",
       "      <td>456.000000</td>\n",
       "      <td>600.0</td>\n",
       "      <td>Rivercrest</td>\n",
       "      <td>2620353</td>\n",
       "      <td>1996</td>\n",
       "      <td>160736</td>\n",
       "      <td>2883500.0</td>\n",
       "      <td>315.47</td>\n",
       "      <td>139071.000000</td>\n",
       "      <td>2.528560</td>\n",
       "    </tr>\n",
       "    <tr>\n",
       "      <th>3127</th>\n",
       "      <td>['https://photos.harstatic.com/190026928/hr/im...</td>\n",
       "      <td>$ 7,950,000 ($608.92/sqft.) $Convert</td>\n",
       "      <td>39 W Rivercrest Drive</td>\n",
       "      <td>Houston</td>\n",
       "      <td>77042</td>\n",
       "      <td>Harris County</td>\n",
       "      <td>LT 18 BLK 3 RIVERCREST</td>\n",
       "      <td>5 - 7 Bedroom(s)</td>\n",
       "      <td>7 Full  &amp; 1 Half Bath(s)</td>\n",
       "      <td>2</td>\n",
       "      <td>...</td>\n",
       "      <td>195.000000</td>\n",
       "      <td>500.0</td>\n",
       "      <td>Rivercrest</td>\n",
       "      <td>2620353</td>\n",
       "      <td>1996</td>\n",
       "      <td>160736</td>\n",
       "      <td>2883500.0</td>\n",
       "      <td>315.47</td>\n",
       "      <td>101522.000000</td>\n",
       "      <td>2.421600</td>\n",
       "    </tr>\n",
       "    <tr>\n",
       "      <th>3839</th>\n",
       "      <td>['https://photos.harstatic.com/182098982/hr/im...</td>\n",
       "      <td>$ 7,995,000 ($1,464.82/sqft.) $Convert</td>\n",
       "      <td>5345 Spring Park Street</td>\n",
       "      <td>Houston</td>\n",
       "      <td>77056</td>\n",
       "      <td>Harris County</td>\n",
       "      <td>LT 8 &amp; TR 5 BLK 14 TANGLEWOOD SEC 4A</td>\n",
       "      <td>4 Bedroom(s)</td>\n",
       "      <td>3 Full  &amp; 2 Half Bath(s)</td>\n",
       "      <td>2</td>\n",
       "      <td>...</td>\n",
       "      <td>299.763889</td>\n",
       "      <td>378.0</td>\n",
       "      <td>Tanglewood</td>\n",
       "      <td>1730000</td>\n",
       "      <td>1982</td>\n",
       "      <td>16500</td>\n",
       "      <td>2156000.0</td>\n",
       "      <td>392.39</td>\n",
       "      <td>123791.000000</td>\n",
       "      <td>2.526400</td>\n",
       "    </tr>\n",
       "    <tr>\n",
       "      <th>3842</th>\n",
       "      <td>['https://photos.harstatic.com/186554227/hr/im...</td>\n",
       "      <td>$ 5,500,000 ($539.06/sqft.) $Convert</td>\n",
       "      <td>5609 Lynbrook Drive</td>\n",
       "      <td>Houston</td>\n",
       "      <td>77056</td>\n",
       "      <td>Harris County</td>\n",
       "      <td>LT 15 BLK 37 TANGLEWOOD SEC 8</td>\n",
       "      <td>5 Bedroom(s)</td>\n",
       "      <td>5 Full  &amp; 3 Half Bath(s)</td>\n",
       "      <td>3</td>\n",
       "      <td>...</td>\n",
       "      <td>NaN</td>\n",
       "      <td>NaN</td>\n",
       "      <td>Tanglewood</td>\n",
       "      <td>1730000</td>\n",
       "      <td>1982</td>\n",
       "      <td>16500</td>\n",
       "      <td>2156000.0</td>\n",
       "      <td>392.39</td>\n",
       "      <td>115506.000000</td>\n",
       "      <td>2.421600</td>\n",
       "    </tr>\n",
       "    <tr>\n",
       "      <th>3846</th>\n",
       "      <td>['https://photos.harstatic.com/149186385/hr/im...</td>\n",
       "      <td>$ 4,245,000 ($341.62/sqft.) $Convert  \\r\\n\\r\\n...</td>\n",
       "      <td>5496 Holly Springs</td>\n",
       "      <td>Houston</td>\n",
       "      <td>77056</td>\n",
       "      <td>Harris County</td>\n",
       "      <td>LT 10 BLK 18 TANGLEWOOD SEC 9</td>\n",
       "      <td>5 - 7 Bedroom(s)</td>\n",
       "      <td>7 Full  &amp; 3 Half Bath(s)</td>\n",
       "      <td>3</td>\n",
       "      <td>...</td>\n",
       "      <td>352.000000</td>\n",
       "      <td>495.0</td>\n",
       "      <td>Tanglewood</td>\n",
       "      <td>1730000</td>\n",
       "      <td>1982</td>\n",
       "      <td>16500</td>\n",
       "      <td>2156000.0</td>\n",
       "      <td>392.39</td>\n",
       "      <td>118931.000000</td>\n",
       "      <td>2.530400</td>\n",
       "    </tr>\n",
       "    <tr>\n",
       "      <th>3848</th>\n",
       "      <td>['https://photos.harstatic.com/190261921/hr/im...</td>\n",
       "      <td>$ 3,799,999 $Convert</td>\n",
       "      <td>674 Shady Hollow Street</td>\n",
       "      <td>Houston</td>\n",
       "      <td>77056</td>\n",
       "      <td>Harris County</td>\n",
       "      <td>LTS 6 &amp; 7 BLK 14 TANGLEWOOD SEC 4A</td>\n",
       "      <td>5 Bedroom(s)</td>\n",
       "      <td>4 Full  &amp; 2 Half Bath(s)</td>\n",
       "      <td>1</td>\n",
       "      <td>...</td>\n",
       "      <td>0.000000</td>\n",
       "      <td>0.0</td>\n",
       "      <td>Tanglewood</td>\n",
       "      <td>1730000</td>\n",
       "      <td>1982</td>\n",
       "      <td>16500</td>\n",
       "      <td>2156000.0</td>\n",
       "      <td>392.39</td>\n",
       "      <td>153105.000000</td>\n",
       "      <td>2.530400</td>\n",
       "    </tr>\n",
       "    <tr>\n",
       "      <th>4313</th>\n",
       "      <td>['https://photos.harstatic.com/190350738/hr/im...</td>\n",
       "      <td>$ 3,999,000 ($324.83/sqft.) $Convert</td>\n",
       "      <td>2210 S Piney Point Road</td>\n",
       "      <td>Houston</td>\n",
       "      <td>77063</td>\n",
       "      <td>Harris County</td>\n",
       "      <td>LT 10 PINEY POINT WOODS</td>\n",
       "      <td>3 - 6 Bedroom(s)</td>\n",
       "      <td>7 Full  &amp; 3 Half Bath(s)</td>\n",
       "      <td>1</td>\n",
       "      <td>...</td>\n",
       "      <td>NaN</td>\n",
       "      <td>228.0</td>\n",
       "      <td>Piney Point Village</td>\n",
       "      <td>5195501</td>\n",
       "      <td>1976</td>\n",
       "      <td>190438</td>\n",
       "      <td>5195500.0</td>\n",
       "      <td>347.95</td>\n",
       "      <td>122194.000000</td>\n",
       "      <td>2.136300</td>\n",
       "    </tr>\n",
       "    <tr>\n",
       "      <th>5663</th>\n",
       "      <td>['https://photos.harstatic.com/186945743/hr/im...</td>\n",
       "      <td>$ 739,000 ($217.61/sqft.) $Convert  \\r\\n\\r\\n\\r...</td>\n",
       "      <td>12911 Taylorcrest Road</td>\n",
       "      <td>Houston</td>\n",
       "      <td>77079</td>\n",
       "      <td>Harris County</td>\n",
       "      <td>LT 16 BLK 6 MEMORIAL PLAZA SEC 1</td>\n",
       "      <td>5 Bedroom(s)</td>\n",
       "      <td>4 Full  Bath(s)</td>\n",
       "      <td>1</td>\n",
       "      <td>...</td>\n",
       "      <td>110.000000</td>\n",
       "      <td>360.0</td>\n",
       "      <td>Memorial Plaza (Harris)</td>\n",
       "      <td>690000</td>\n",
       "      <td>1960</td>\n",
       "      <td>10400</td>\n",
       "      <td>848500.0</td>\n",
       "      <td>271.35</td>\n",
       "      <td>771540.000000</td>\n",
       "      <td>2.505600</td>\n",
       "    </tr>\n",
       "    <tr>\n",
       "      <th>5685</th>\n",
       "      <td>['https://photos.harstatic.com/188477337/hr/im...</td>\n",
       "      <td>$ 1,425,000 ($308.84/sqft.) $Convert</td>\n",
       "      <td>12922 Kimberley Lane</td>\n",
       "      <td>Houston</td>\n",
       "      <td>77079</td>\n",
       "      <td>Harris County</td>\n",
       "      <td>LT 6 BLK 3 MEMORIAL PLAZA SEC 1</td>\n",
       "      <td>5 Bedroom(s)</td>\n",
       "      <td>5 Full  &amp; 1 Half Bath(s)</td>\n",
       "      <td>2</td>\n",
       "      <td>...</td>\n",
       "      <td>187.000000</td>\n",
       "      <td>NaN</td>\n",
       "      <td>Memorial Plaza (Harris)</td>\n",
       "      <td>690000</td>\n",
       "      <td>1960</td>\n",
       "      <td>10400</td>\n",
       "      <td>848500.0</td>\n",
       "      <td>271.35</td>\n",
       "      <td>123640.142857</td>\n",
       "      <td>2.505600</td>\n",
       "    </tr>\n",
       "  </tbody>\n",
       "</table>\n",
       "<p>19 rows × 58 columns</p>\n",
       "</div>"
      ],
      "text/plain": [
       "                                             image_link  \\\n",
       "1597  ['https://photos.harstatic.com/177970173/hr/im...   \n",
       "1599  ['https://photos.harstatic.com/190563301/hr/im...   \n",
       "1600  ['https://photos.harstatic.com/187472036/hr/im...   \n",
       "1601  ['https://photos.harstatic.com/190203098/hr/im...   \n",
       "1604  ['https://photos.harstatic.com/186756176/hr/im...   \n",
       "1605  ['https://photos.harstatic.com/189953272/hr/im...   \n",
       "1647  ['https://photos.harstatic.com/188466658/hr/im...   \n",
       "1648  ['https://photos.harstatic.com/185262421/hr/im...   \n",
       "1652  ['https://photos.harstatic.com/190462692/hr/im...   \n",
       "1653  ['https://photos.harstatic.com/186493518/hr/im...   \n",
       "3126  ['https://photos.harstatic.com/153897541/hr/im...   \n",
       "3127  ['https://photos.harstatic.com/190026928/hr/im...   \n",
       "3839  ['https://photos.harstatic.com/182098982/hr/im...   \n",
       "3842  ['https://photos.harstatic.com/186554227/hr/im...   \n",
       "3846  ['https://photos.harstatic.com/149186385/hr/im...   \n",
       "3848  ['https://photos.harstatic.com/190261921/hr/im...   \n",
       "4313  ['https://photos.harstatic.com/190350738/hr/im...   \n",
       "5663  ['https://photos.harstatic.com/186945743/hr/im...   \n",
       "5685  ['https://photos.harstatic.com/188477337/hr/im...   \n",
       "\n",
       "                                         Listing Price:  \\\n",
       "1597            $ 7,200,000 ($1,401.60/sqft.) $Convert    \n",
       "1599              $ 6,995,000 ($976.00/sqft.) $Convert    \n",
       "1600  $ 6,900,000 ($972.10/sqft.) $Convert  \\r\\n\\r\\n...   \n",
       "1601              $ 6,795,000 ($720.88/sqft.) $Convert    \n",
       "1604  $ 4,899,000 ($678.25/sqft.) $Convert  \\r\\n\\r\\n...   \n",
       "1605              $ 4,650,000 ($628.80/sqft.) $Convert    \n",
       "1647  $ 6,149,000 ($734.56/sqft.) $Convert  \\r\\n\\r\\n...   \n",
       "1648  $ 5,999,000 ($869.42/sqft.) $Convert  \\r\\n\\r\\n...   \n",
       "1652              $ 5,495,000 ($542.93/sqft.) $Convert    \n",
       "1653              $ 5,495,000 ($592.77/sqft.) $Convert    \n",
       "3126  $ 14,500,000 ($689.43/sqft.) $Convert  \\r\\n\\r\\...   \n",
       "3127              $ 7,950,000 ($608.92/sqft.) $Convert    \n",
       "3839            $ 7,995,000 ($1,464.82/sqft.) $Convert    \n",
       "3842              $ 5,500,000 ($539.06/sqft.) $Convert    \n",
       "3846  $ 4,245,000 ($341.62/sqft.) $Convert  \\r\\n\\r\\n...   \n",
       "3848                              $ 3,799,999 $Convert    \n",
       "4313              $ 3,999,000 ($324.83/sqft.) $Convert    \n",
       "5663  $ 739,000 ($217.61/sqft.) $Convert  \\r\\n\\r\\n\\r...   \n",
       "5685              $ 1,425,000 ($308.84/sqft.) $Convert    \n",
       "\n",
       "                     Address:    City:  Zip Code:        County:  \\\n",
       "1597    3702 Knollwood Street  Houston      77019  Harris County   \n",
       "1599    3723 Knollwood Street  Houston      77019  Harris County   \n",
       "1600      3229 Groveland Lane  Houston      77019  Harris County   \n",
       "1601              3257 Inwood  Houston      77019  Harris County   \n",
       "1604     3315 Del Monte Drive  Houston      77019  Harris County   \n",
       "1605       1923 Olympia Drive  Houston      77019  Harris County   \n",
       "1647    3257 Huntingdon Place  Houston      77019  Harris County   \n",
       "1648        3627 Inwood Drive  Houston      77019  Harris County   \n",
       "1652   3330 Chevy Chase Drive  Houston      77019  Harris County   \n",
       "1653        3640 Inwood Drive  Houston      77019  Harris County   \n",
       "3126     6 W Rivercrest Drive  Houston      77042  Harris County   \n",
       "3127    39 W Rivercrest Drive  Houston      77042  Harris County   \n",
       "3839  5345 Spring Park Street  Houston      77056  Harris County   \n",
       "3842      5609 Lynbrook Drive  Houston      77056  Harris County   \n",
       "3846       5496 Holly Springs  Houston      77056  Harris County   \n",
       "3848  674 Shady Hollow Street  Houston      77056  Harris County   \n",
       "4313  2210 S Piney Point Road  Houston      77063  Harris County   \n",
       "5663   12911 Taylorcrest Road  Houston      77079  Harris County   \n",
       "5685     12922 Kimberley Lane  Houston      77079  Harris County   \n",
       "\n",
       "                                     Legal Description:         Bedrooms:  \\\n",
       "1597                     LT 13 BLK 94 RIVER OAKS SEC 10      5 Bedroom(s)   \n",
       "1599                TRS 2A & 3 BLK 95 RIVER OAKS SEC 10      5 Bedroom(s)   \n",
       "1600   TRS 4A & 5 BLK 12 RIVER OAKS COUNTRY CLUB ESTATE      4 Bedroom(s)   \n",
       "1601  LT 2 & TR 1A BLK 3 RIVER OAKS COUNTRY CLUB ESTATE      5 Bedroom(s)   \n",
       "1604          LT 9 BLK 8 RIVER OAKS COUNTRY CLUB ESTATE      5 Bedroom(s)   \n",
       "1605                       TR 4 BLK 74 RIVER OAKS SEC 9  5 - 6 Bedroom(s)   \n",
       "1647         LT 3 BLK 17 RIVER OAKS COUNTRY CLUB ESTATE      5 Bedroom(s)   \n",
       "1648                       LT 7 BLK 77 RIVER OAKS SEC 9      5 Bedroom(s)   \n",
       "1652         LT 14 BLK 8 RIVER OAKS COUNTRY CLUB ESTATE  6 - 7 Bedroom(s)   \n",
       "1653                       TR 8 BLK 78 RIVER OAKS SEC 9  6 - 7 Bedroom(s)   \n",
       "3126                         LT 2A BLK 2 RIVERCREST R/P  7 - 8 Bedroom(s)   \n",
       "3127                             LT 18 BLK 3 RIVERCREST  5 - 7 Bedroom(s)   \n",
       "3839               LT 8 & TR 5 BLK 14 TANGLEWOOD SEC 4A      4 Bedroom(s)   \n",
       "3842                      LT 15 BLK 37 TANGLEWOOD SEC 8      5 Bedroom(s)   \n",
       "3846                      LT 10 BLK 18 TANGLEWOOD SEC 9  5 - 7 Bedroom(s)   \n",
       "3848                 LTS 6 & 7 BLK 14 TANGLEWOOD SEC 4A      5 Bedroom(s)   \n",
       "4313                            LT 10 PINEY POINT WOODS  3 - 6 Bedroom(s)   \n",
       "5663                   LT 16 BLK 6 MEMORIAL PLAZA SEC 1      5 Bedroom(s)   \n",
       "5685                    LT 6 BLK 3 MEMORIAL PLAZA SEC 1      5 Bedroom(s)   \n",
       "\n",
       "                        Baths: Stories:  ...  DiningSqft KitchenSqft  \\\n",
       "1597  4 Full  & 1 Half Bath(s)        2  ...  256.500000       378.0   \n",
       "1599  4 Full  & 3 Half Bath(s)        2  ...  192.000000       418.0   \n",
       "1600  5 Full  & 2 Half Bath(s)        2  ...  304.000000       240.0   \n",
       "1601  6 Full  & 2 Half Bath(s)        2  ...  280.000000       375.0   \n",
       "1604  7 Full  & 2 Half Bath(s)        3  ...  345.000000       270.0   \n",
       "1605  6 Full  & 2 Half Bath(s)        2  ...  266.000000       336.0   \n",
       "1647  7 Full  & 2 Half Bath(s)        2  ...  255.000000       496.0   \n",
       "1648  6 Full  & 2 Half Bath(s)        2  ...  279.000000       425.0   \n",
       "1652  9 Full  & 2 Half Bath(s)        2  ...  272.000000       352.0   \n",
       "1653  7 Full  & 1 Half Bath(s)        2  ...  266.000000       264.0   \n",
       "3126  9 Full  & 5 Half Bath(s)        2  ...  456.000000       600.0   \n",
       "3127  7 Full  & 1 Half Bath(s)        2  ...  195.000000       500.0   \n",
       "3839  3 Full  & 2 Half Bath(s)        2  ...  299.763889       378.0   \n",
       "3842  5 Full  & 3 Half Bath(s)        3  ...         NaN         NaN   \n",
       "3846  7 Full  & 3 Half Bath(s)        3  ...  352.000000       495.0   \n",
       "3848  4 Full  & 2 Half Bath(s)        1  ...    0.000000         0.0   \n",
       "4313  7 Full  & 3 Half Bath(s)        1  ...         NaN       228.0   \n",
       "5663           4 Full  Bath(s)        1  ...  110.000000       360.0   \n",
       "5685  5 Full  & 1 Half Bath(s)        2  ...  187.000000         NaN   \n",
       "\n",
       "                             SubName MedianApp MedianYearBlt MedianSqft  \\\n",
       "1597                      River Oaks   2268725          1948      11420   \n",
       "1599                      River Oaks   2268725          1948      11420   \n",
       "1600  River Oaks Country Club Estate   4435519          1948      23490   \n",
       "1601  River Oaks Country Club Estate   4435519          1948      23490   \n",
       "1604  River Oaks Country Club Estate   4435519          1948      23490   \n",
       "1605                      River Oaks   2268725          1948      11420   \n",
       "1647  River Oaks Country Club Estate   4435519          1948      23490   \n",
       "1648                      River Oaks   2268725          1948      11420   \n",
       "1652  River Oaks Country Club Estate   4435519          1948      23490   \n",
       "1653                      River Oaks   2268725          1948      11420   \n",
       "3126                      Rivercrest   2620353          1996     160736   \n",
       "3127                      Rivercrest   2620353          1996     160736   \n",
       "3839                      Tanglewood   1730000          1982      16500   \n",
       "3842                      Tanglewood   1730000          1982      16500   \n",
       "3846                      Tanglewood   1730000          1982      16500   \n",
       "3848                      Tanglewood   1730000          1982      16500   \n",
       "4313             Piney Point Village   5195501          1976     190438   \n",
       "5663         Memorial Plaza (Harris)    690000          1960      10400   \n",
       "5685         Memorial Plaza (Harris)    690000          1960      10400   \n",
       "\n",
       "     AvgNeighborValRange MedianPrice/Sqft        PaidTax   TaxRate  \n",
       "1597           2879000.0           512.55  160789.000000  2.530400  \n",
       "1599           2879000.0           512.55  116968.000000  2.421600  \n",
       "1600           5558000.0           606.88  183920.000000  2.421600  \n",
       "1601           5558000.0           606.88  116099.750000  2.421595  \n",
       "1604           5558000.0           606.88  101271.000000  2.421580  \n",
       "1605           2879000.0           512.55  102094.000000  2.421600  \n",
       "1647           5558000.0           606.88  116099.750000  2.421595  \n",
       "1648           2879000.0           512.55  101039.000000  2.421600  \n",
       "1652           5558000.0           606.88  132395.000000  2.421600  \n",
       "1653           2879000.0           512.55  127860.000000  2.421600  \n",
       "3126           2883500.0           315.47  139071.000000  2.528560  \n",
       "3127           2883500.0           315.47  101522.000000  2.421600  \n",
       "3839           2156000.0           392.39  123791.000000  2.526400  \n",
       "3842           2156000.0           392.39  115506.000000  2.421600  \n",
       "3846           2156000.0           392.39  118931.000000  2.530400  \n",
       "3848           2156000.0           392.39  153105.000000  2.530400  \n",
       "4313           5195500.0           347.95  122194.000000  2.136300  \n",
       "5663            848500.0           271.35  771540.000000  2.505600  \n",
       "5685            848500.0           271.35  123640.142857  2.505600  \n",
       "\n",
       "[19 rows x 58 columns]"
      ]
     },
     "execution_count": 95,
     "metadata": {},
     "output_type": "execute_result"
    }
   ],
   "source": [
    "single_family_df[single_family_df.PaidTax > 100000]"
   ]
  },
  {
   "cell_type": "markdown",
   "metadata": {},
   "source": [
    "19 houses paid more than \\\\$100,000 for tax and most of them are in `River Oaks` area which is one of the most expensive area in Houston. but there is on house in `Memorial Plaza` subdivision which paid more than \\\\$770,000 for tax which should not be right. The house price is \\\\$739,000 and tax rate for that area is 2.5 so the tax should not be that high."
   ]
  },
  {
   "cell_type": "code",
   "execution_count": 96,
   "metadata": {},
   "outputs": [],
   "source": [
    "single_family_df = single_family_df[single_family_df.PaidTax < 200000]"
   ]
  },
  {
   "cell_type": "markdown",
   "metadata": {},
   "source": [
    "## 1.8 Fill Null Kitchen, Dining and Living <a id='1.8_Fill_Null_For_Kitchen_Dining_Living'></a>"
   ]
  },
  {
   "cell_type": "markdown",
   "metadata": {},
   "source": [
    "I think we can fill null values for living, dining and kitchen area with them mean sqft for each subdivision since most of the house in one subdivision are almost the same."
   ]
  },
  {
   "cell_type": "code",
   "execution_count": 97,
   "metadata": {},
   "outputs": [],
   "source": [
    "single_family_df['LivingSqft'] = single_family_df.groupby('SubName')['LivingSqft'].apply(lambda x: x.fillna(x.mean()))\n",
    "single_family_df['DiningSqft'] = single_family_df.groupby('SubName')['DiningSqft'].apply(lambda x: x.fillna(x.mean()))\n",
    "single_family_df['KitchenSqft'] = single_family_df.groupby('SubName')['KitchenSqft'].apply(lambda x: x.fillna(x.mean()))"
   ]
  },
  {
   "cell_type": "code",
   "execution_count": 98,
   "metadata": {},
   "outputs": [
    {
     "data": {
      "text/plain": [
       "367"
      ]
     },
     "execution_count": 98,
     "metadata": {},
     "output_type": "execute_result"
    }
   ],
   "source": [
    "single_family_df['LivingSqft'].isna().sum()"
   ]
  },
  {
   "cell_type": "code",
   "execution_count": 99,
   "metadata": {},
   "outputs": [
    {
     "data": {
      "text/plain": [
       "445"
      ]
     },
     "execution_count": 99,
     "metadata": {},
     "output_type": "execute_result"
    }
   ],
   "source": [
    "single_family_df['DiningSqft'].isna().sum()"
   ]
  },
  {
   "cell_type": "code",
   "execution_count": 100,
   "metadata": {},
   "outputs": [
    {
     "data": {
      "text/plain": [
       "234"
      ]
     },
     "execution_count": 100,
     "metadata": {},
     "output_type": "execute_result"
    }
   ],
   "source": [
    "single_family_df['KitchenSqft'].isna().sum()"
   ]
  },
  {
   "cell_type": "markdown",
   "metadata": {},
   "source": [
    "We still have some null values and it seems there is no information for those subdivisions. lets drop them."
   ]
  },
  {
   "cell_type": "code",
   "execution_count": 101,
   "metadata": {},
   "outputs": [],
   "source": [
    "single_family_df=single_family_df[~single_family_df['DiningSqft'].isnull()]"
   ]
  },
  {
   "cell_type": "code",
   "execution_count": 102,
   "metadata": {},
   "outputs": [
    {
     "data": {
      "text/plain": [
       "197"
      ]
     },
     "execution_count": 102,
     "metadata": {},
     "output_type": "execute_result"
    }
   ],
   "source": [
    "single_family_df['LivingSqft'].isna().sum()"
   ]
  },
  {
   "cell_type": "code",
   "execution_count": 103,
   "metadata": {},
   "outputs": [
    {
     "data": {
      "text/plain": [
       "75"
      ]
     },
     "execution_count": 103,
     "metadata": {},
     "output_type": "execute_result"
    }
   ],
   "source": [
    "single_family_df['KitchenSqft'].isna().sum()"
   ]
  },
  {
   "cell_type": "code",
   "execution_count": 104,
   "metadata": {},
   "outputs": [],
   "source": [
    "single_family_df=single_family_df[~single_family_df['LivingSqft'].isnull()]"
   ]
  },
  {
   "cell_type": "code",
   "execution_count": 105,
   "metadata": {},
   "outputs": [
    {
     "data": {
      "text/plain": [
       "51"
      ]
     },
     "execution_count": 105,
     "metadata": {},
     "output_type": "execute_result"
    }
   ],
   "source": [
    "single_family_df['KitchenSqft'].isna().sum()"
   ]
  },
  {
   "cell_type": "code",
   "execution_count": 106,
   "metadata": {},
   "outputs": [],
   "source": [
    "single_family_df=single_family_df[~single_family_df['KitchenSqft'].isnull()]"
   ]
  },
  {
   "cell_type": "markdown",
   "metadata": {},
   "source": [
    "## 1.9 Listing Price<a id='1.9_Listing_Price'></a>"
   ]
  },
  {
   "cell_type": "code",
   "execution_count": 107,
   "metadata": {},
   "outputs": [
    {
     "data": {
      "text/plain": [
       "2"
      ]
     },
     "execution_count": 107,
     "metadata": {},
     "output_type": "execute_result"
    }
   ],
   "source": [
    "single_family_df['Listing Price:'].isna().sum()"
   ]
  },
  {
   "cell_type": "code",
   "execution_count": 108,
   "metadata": {},
   "outputs": [],
   "source": [
    "single_family_df=single_family_df[~single_family_df['Listing Price:'].isnull()]"
   ]
  },
  {
   "cell_type": "code",
   "execution_count": 109,
   "metadata": {},
   "outputs": [],
   "source": [
    "single_family_df['Listing Price:']=single_family_df['Listing Price:'].str.split(' ').str[1]\n",
    "single_family_df['Listing Price:']=single_family_df['Listing Price:'].str.replace(',','')\n",
    "single_family_df['Listing Price:']=pd.to_numeric(single_family_df['Listing Price:'])\n",
    "single_family_df.rename(columns = {'Listing Price:':'ListingPrice','Address:':'Address', 'Zip Code:':'ZipCode', 'County:':'County',\n",
    "                                 'Subdivision:':'sub', 'Legal Description:':'Legal'},inplace=True)"
   ]
  },
  {
   "cell_type": "code",
   "execution_count": 110,
   "metadata": {},
   "outputs": [
    {
     "data": {
      "text/plain": [
       "count    7.651000e+03\n",
       "mean     5.314244e+05\n",
       "std      6.398276e+05\n",
       "min      1.000000e+00\n",
       "25%      2.400000e+05\n",
       "50%      3.449990e+05\n",
       "75%      5.590000e+05\n",
       "max      1.450000e+07\n",
       "Name: ListingPrice, dtype: float64"
      ]
     },
     "execution_count": 110,
     "metadata": {},
     "output_type": "execute_result"
    }
   ],
   "source": [
    "single_family_df['ListingPrice'].describe()"
   ]
  },
  {
   "cell_type": "markdown",
   "metadata": {},
   "source": [
    "it seems minimum listing price is $1 which needs to be investigated."
   ]
  },
  {
   "cell_type": "code",
   "execution_count": 111,
   "metadata": {},
   "outputs": [
    {
     "data": {
      "text/html": [
       "<div>\n",
       "<style scoped>\n",
       "    .dataframe tbody tr th:only-of-type {\n",
       "        vertical-align: middle;\n",
       "    }\n",
       "\n",
       "    .dataframe tbody tr th {\n",
       "        vertical-align: top;\n",
       "    }\n",
       "\n",
       "    .dataframe thead th {\n",
       "        text-align: right;\n",
       "    }\n",
       "</style>\n",
       "<table border=\"1\" class=\"dataframe\">\n",
       "  <thead>\n",
       "    <tr style=\"text-align: right;\">\n",
       "      <th></th>\n",
       "      <th>image_link</th>\n",
       "      <th>ListingPrice</th>\n",
       "      <th>Address</th>\n",
       "      <th>City:</th>\n",
       "      <th>ZipCode</th>\n",
       "      <th>County</th>\n",
       "      <th>Legal</th>\n",
       "      <th>Bedrooms:</th>\n",
       "      <th>Baths:</th>\n",
       "      <th>Stories:</th>\n",
       "      <th>...</th>\n",
       "      <th>DiningSqft</th>\n",
       "      <th>KitchenSqft</th>\n",
       "      <th>SubName</th>\n",
       "      <th>MedianApp</th>\n",
       "      <th>MedianYearBlt</th>\n",
       "      <th>MedianSqft</th>\n",
       "      <th>AvgNeighborValRange</th>\n",
       "      <th>MedianPrice/Sqft</th>\n",
       "      <th>PaidTax</th>\n",
       "      <th>TaxRate</th>\n",
       "    </tr>\n",
       "  </thead>\n",
       "  <tbody>\n",
       "    <tr>\n",
       "      <th>4981</th>\n",
       "      <td>['https://photos.harstatic.com/189947720/hr/im...</td>\n",
       "      <td>1</td>\n",
       "      <td>7626 Candlegreen Lane</td>\n",
       "      <td>Houston</td>\n",
       "      <td>77071</td>\n",
       "      <td>Harris County</td>\n",
       "      <td>W 60 FT OF LT 23 BLK 4 FONDREN SW SOUTHMEADOW ...</td>\n",
       "      <td>3 Bedroom(s)</td>\n",
       "      <td>2 Full  Bath(s)</td>\n",
       "      <td>1</td>\n",
       "      <td>...</td>\n",
       "      <td>144.0</td>\n",
       "      <td>201.285714</td>\n",
       "      <td>Fondren Sw Southmeadow</td>\n",
       "      <td>143407</td>\n",
       "      <td>1977</td>\n",
       "      <td>6900</td>\n",
       "      <td>147500.0</td>\n",
       "      <td>80.02</td>\n",
       "      <td>3566.0</td>\n",
       "      <td>2.5216</td>\n",
       "    </tr>\n",
       "  </tbody>\n",
       "</table>\n",
       "<p>1 rows × 58 columns</p>\n",
       "</div>"
      ],
      "text/plain": [
       "                                             image_link  ListingPrice  \\\n",
       "4981  ['https://photos.harstatic.com/189947720/hr/im...             1   \n",
       "\n",
       "                    Address    City:  ZipCode         County  \\\n",
       "4981  7626 Candlegreen Lane  Houston    77071  Harris County   \n",
       "\n",
       "                                                  Legal     Bedrooms:  \\\n",
       "4981  W 60 FT OF LT 23 BLK 4 FONDREN SW SOUTHMEADOW ...  3 Bedroom(s)   \n",
       "\n",
       "               Baths: Stories:  ... DiningSqft KitchenSqft  \\\n",
       "4981  2 Full  Bath(s)        1  ...      144.0  201.285714   \n",
       "\n",
       "                     SubName MedianApp MedianYearBlt MedianSqft  \\\n",
       "4981  Fondren Sw Southmeadow    143407          1977       6900   \n",
       "\n",
       "     AvgNeighborValRange MedianPrice/Sqft PaidTax TaxRate  \n",
       "4981            147500.0            80.02  3566.0  2.5216  \n",
       "\n",
       "[1 rows x 58 columns]"
      ]
     },
     "execution_count": 111,
     "metadata": {},
     "output_type": "execute_result"
    }
   ],
   "source": [
    "single_family_df.loc[single_family_df.ListingPrice <10000]"
   ]
  },
  {
   "cell_type": "markdown",
   "metadata": {},
   "source": [
    "There is one house with the price less than $10000."
   ]
  },
  {
   "cell_type": "code",
   "execution_count": 113,
   "metadata": {},
   "outputs": [
    {
     "data": {
      "text/plain": [
       "count    7.650000e+03\n",
       "mean     5.314939e+05\n",
       "std      6.398405e+05\n",
       "min      2.390000e+04\n",
       "25%      2.401225e+05\n",
       "50%      3.449995e+05\n",
       "75%      5.590000e+05\n",
       "max      1.450000e+07\n",
       "Name: ListingPrice, dtype: float64"
      ]
     },
     "execution_count": 113,
     "metadata": {},
     "output_type": "execute_result"
    }
   ],
   "source": [
    "#removing the row with the price less than $10000\n",
    "single_family_df = single_family_df[single_family_df.ListingPrice >= 10000]\n",
    "single_family_df.ListingPrice.describe()"
   ]
  },
  {
   "cell_type": "markdown",
   "metadata": {},
   "source": [
    "## 1.10 Bedrooms<a id='1.10_Bedrooms'></a>"
   ]
  },
  {
   "cell_type": "code",
   "execution_count": 115,
   "metadata": {},
   "outputs": [
    {
     "data": {
      "text/html": [
       "<div>\n",
       "<style scoped>\n",
       "    .dataframe tbody tr th:only-of-type {\n",
       "        vertical-align: middle;\n",
       "    }\n",
       "\n",
       "    .dataframe tbody tr th {\n",
       "        vertical-align: top;\n",
       "    }\n",
       "\n",
       "    .dataframe thead th {\n",
       "        text-align: right;\n",
       "    }\n",
       "</style>\n",
       "<table border=\"1\" class=\"dataframe\">\n",
       "  <thead>\n",
       "    <tr style=\"text-align: right;\">\n",
       "      <th></th>\n",
       "      <th>Bedrooms:</th>\n",
       "      <th>Bedroom:</th>\n",
       "      <th>Primary Bedroom:</th>\n",
       "    </tr>\n",
       "  </thead>\n",
       "  <tbody>\n",
       "    <tr>\n",
       "      <th>10</th>\n",
       "      <td>3 Bedroom(s)</td>\n",
       "      <td>[\"12' X 10', 3rd\", '12\\'10\\' X 11\\'4\", 1st', \"...</td>\n",
       "      <td>['16\\'4\" X 12\\'8\", 3rd', '16\\'4\" , 12\\'8\", 3rd']</td>\n",
       "    </tr>\n",
       "    <tr>\n",
       "      <th>22</th>\n",
       "      <td>3 Bedroom(s)</td>\n",
       "      <td>['12X11, 3rd', '12X11, 1st', '3.66 x 3.35(m)',...</td>\n",
       "      <td>['15X14, 3rd', '4.57 x 4.27(m)']</td>\n",
       "    </tr>\n",
       "    <tr>\n",
       "      <th>23</th>\n",
       "      <td>3 Bedroom(s)</td>\n",
       "      <td>['12X11, 1st', '12X11, 3rd', '3.66 x 3.35(m)',...</td>\n",
       "      <td>['15X14, 3rd', '4.57 x 4.27(m)']</td>\n",
       "    </tr>\n",
       "    <tr>\n",
       "      <th>29</th>\n",
       "      <td>3 Bedroom(s)</td>\n",
       "      <td>['13 x 11, 1st', '11 x 10, 3rd', '13 , 11, 1st...</td>\n",
       "      <td>['17 x 13, 3rd', '17 , 13, 3rd']</td>\n",
       "    </tr>\n",
       "    <tr>\n",
       "      <th>30</th>\n",
       "      <td>3 Bedroom(s)</td>\n",
       "      <td>['11x10, 3rd', '15x11, 1st', '3.35 x 3.05(m)',...</td>\n",
       "      <td>['19X13, 3rd', '5.79 x 3.96(m)']</td>\n",
       "    </tr>\n",
       "    <tr>\n",
       "      <th>...</th>\n",
       "      <td>...</td>\n",
       "      <td>...</td>\n",
       "      <td>...</td>\n",
       "    </tr>\n",
       "    <tr>\n",
       "      <th>11135</th>\n",
       "      <td>3 Bedroom(s)</td>\n",
       "      <td>['10x11, 1st', '10x11, 1st', '10x11, 1st', '3....</td>\n",
       "      <td>NaN</td>\n",
       "    </tr>\n",
       "    <tr>\n",
       "      <th>11137</th>\n",
       "      <td>3 Bedroom(s)</td>\n",
       "      <td>['10x8, 1st', '10x8, 1st', '3.05 x 2.44(m)', '...</td>\n",
       "      <td>['12x14, 1st', '3.66 x 4.27(m)']</td>\n",
       "    </tr>\n",
       "    <tr>\n",
       "      <th>11138</th>\n",
       "      <td>3 Bedroom(s)</td>\n",
       "      <td>['12x11, 1st', '12x11, 1st', '3.66 x 3.35(m)',...</td>\n",
       "      <td>['13x15, 1st', '3.96 x 4.57(m)']</td>\n",
       "    </tr>\n",
       "    <tr>\n",
       "      <th>11139</th>\n",
       "      <td>3 Bedroom(s)</td>\n",
       "      <td>['12x12, 1st', '12x12, 1st', '3.66 x 3.66(m)',...</td>\n",
       "      <td>['13x15, 1st', '3.96 x 4.57(m)']</td>\n",
       "    </tr>\n",
       "    <tr>\n",
       "      <th>11140</th>\n",
       "      <td>2 Bedroom(s)</td>\n",
       "      <td>['11 x 11.5, 1st', '11 x 11.5, 1st', '11 , 11....</td>\n",
       "      <td>NaN</td>\n",
       "    </tr>\n",
       "  </tbody>\n",
       "</table>\n",
       "<p>7650 rows × 3 columns</p>\n",
       "</div>"
      ],
      "text/plain": [
       "          Bedrooms:                                           Bedroom:  \\\n",
       "10     3 Bedroom(s)  [\"12' X 10', 3rd\", '12\\'10\\' X 11\\'4\", 1st', \"...   \n",
       "22     3 Bedroom(s)  ['12X11, 3rd', '12X11, 1st', '3.66 x 3.35(m)',...   \n",
       "23     3 Bedroom(s)  ['12X11, 1st', '12X11, 3rd', '3.66 x 3.35(m)',...   \n",
       "29     3 Bedroom(s)  ['13 x 11, 1st', '11 x 10, 3rd', '13 , 11, 1st...   \n",
       "30     3 Bedroom(s)  ['11x10, 3rd', '15x11, 1st', '3.35 x 3.05(m)',...   \n",
       "...             ...                                                ...   \n",
       "11135  3 Bedroom(s)  ['10x11, 1st', '10x11, 1st', '10x11, 1st', '3....   \n",
       "11137  3 Bedroom(s)  ['10x8, 1st', '10x8, 1st', '3.05 x 2.44(m)', '...   \n",
       "11138  3 Bedroom(s)  ['12x11, 1st', '12x11, 1st', '3.66 x 3.35(m)',...   \n",
       "11139  3 Bedroom(s)  ['12x12, 1st', '12x12, 1st', '3.66 x 3.66(m)',...   \n",
       "11140  2 Bedroom(s)  ['11 x 11.5, 1st', '11 x 11.5, 1st', '11 , 11....   \n",
       "\n",
       "                                       Primary Bedroom:  \n",
       "10     ['16\\'4\" X 12\\'8\", 3rd', '16\\'4\" , 12\\'8\", 3rd']  \n",
       "22                     ['15X14, 3rd', '4.57 x 4.27(m)']  \n",
       "23                     ['15X14, 3rd', '4.57 x 4.27(m)']  \n",
       "29                     ['17 x 13, 3rd', '17 , 13, 3rd']  \n",
       "30                     ['19X13, 3rd', '5.79 x 3.96(m)']  \n",
       "...                                                 ...  \n",
       "11135                                               NaN  \n",
       "11137                  ['12x14, 1st', '3.66 x 4.27(m)']  \n",
       "11138                  ['13x15, 1st', '3.96 x 4.57(m)']  \n",
       "11139                  ['13x15, 1st', '3.96 x 4.57(m)']  \n",
       "11140                                               NaN  \n",
       "\n",
       "[7650 rows x 3 columns]"
      ]
     },
     "execution_count": 115,
     "metadata": {},
     "output_type": "execute_result"
    }
   ],
   "source": [
    "single_family_df[['Bedrooms:','Bedroom:','Primary Bedroom:']]"
   ]
  },
  {
   "cell_type": "code",
   "execution_count": 116,
   "metadata": {},
   "outputs": [
    {
     "data": {
      "text/plain": [
       "Bedrooms:             15\n",
       "Bedroom:              57\n",
       "Primary Bedroom:     447\n",
       "Average Bedrooms:     27\n",
       "dtype: int64"
      ]
     },
     "execution_count": 116,
     "metadata": {},
     "output_type": "execute_result"
    }
   ],
   "source": [
    "single_family_df[['Bedrooms:','Bedroom:','Primary Bedroom:','Average Bedrooms:']].isna().sum()"
   ]
  },
  {
   "cell_type": "markdown",
   "metadata": {},
   "source": [
    "First I calculate area for Bedroom and Primary Bedroom separately then fill null values with the average of area per subdivision and then add them as total bedrooms in Sqft. "
   ]
  },
  {
   "cell_type": "code",
   "execution_count": 117,
   "metadata": {},
   "outputs": [],
   "source": [
    "single_family_df['Primary_Bedroom_clean'] = single_family_df['Primary Bedroom:'].str.split(',')\n",
    "single_family_df['Primary_Bedroom_clean'] = single_family_df['Primary_Bedroom_clean'].apply(area_calc)\n",
    "single_family_df.update(single_family_df[['Primary_Bedroom_clean']].fillna(0))\n",
    "\n",
    "single_family_df['Bedroom_clean'] = single_family_df['Bedroom:'].str.split(',')\n",
    "single_family_df['Bedroom_clean'] = single_family_df['Bedroom_clean'].apply(area_calc)\n",
    "single_family_df['Bedroom_clean'] = single_family_df.groupby('SubName')['Bedroom_clean'].transform(lambda x: x.fillna(x.mean()))"
   ]
  },
  {
   "cell_type": "code",
   "execution_count": 118,
   "metadata": {},
   "outputs": [],
   "source": [
    "single_family_df['TotalBedSqft'] = single_family_df['Bedroom_clean'] + single_family_df['Primary_Bedroom_clean']"
   ]
  },
  {
   "cell_type": "code",
   "execution_count": 119,
   "metadata": {},
   "outputs": [
    {
     "data": {
      "text/html": [
       "<div>\n",
       "<style scoped>\n",
       "    .dataframe tbody tr th:only-of-type {\n",
       "        vertical-align: middle;\n",
       "    }\n",
       "\n",
       "    .dataframe tbody tr th {\n",
       "        vertical-align: top;\n",
       "    }\n",
       "\n",
       "    .dataframe thead th {\n",
       "        text-align: right;\n",
       "    }\n",
       "</style>\n",
       "<table border=\"1\" class=\"dataframe\">\n",
       "  <thead>\n",
       "    <tr style=\"text-align: right;\">\n",
       "      <th></th>\n",
       "      <th>Bedrooms:</th>\n",
       "      <th>Bedroom:</th>\n",
       "      <th>Primary Bedroom:</th>\n",
       "      <th>Primary_Bedroom_clean</th>\n",
       "      <th>Bedroom_clean</th>\n",
       "      <th>TotalBedSqft</th>\n",
       "    </tr>\n",
       "  </thead>\n",
       "  <tbody>\n",
       "    <tr>\n",
       "      <th>993</th>\n",
       "      <td>2 Bedroom(s)</td>\n",
       "      <td>['unknown, 1st', 'unknown, 1st']</td>\n",
       "      <td>['unknown, 1st', 'unknown, 1st']</td>\n",
       "      <td>0.0</td>\n",
       "      <td>0.000000</td>\n",
       "      <td>0.000000</td>\n",
       "    </tr>\n",
       "    <tr>\n",
       "      <th>1171</th>\n",
       "      <td>4 Bedroom(s)</td>\n",
       "      <td>['12x11, 2nd', '12x11, 2nd', '10 x 10, 1st', '3.66 x 3.35(m)', '3.66 x 3.35(m)', '10 , 10, 1st']</td>\n",
       "      <td>['12X11, 1st', '3.66 x 3.35(m)']</td>\n",
       "      <td>132.0</td>\n",
       "      <td>364.000000</td>\n",
       "      <td>496.000000</td>\n",
       "    </tr>\n",
       "    <tr>\n",
       "      <th>1483</th>\n",
       "      <td>5 Bedroom(s)</td>\n",
       "      <td>['13x10, 2nd', '13x13, 2nd', '19x12, 2nd', '3.96 x 3.05(m)', '3.96 x 3.96(m)', '5.79 x 3.66(m)']</td>\n",
       "      <td>['16x13, 2nd', '19x17, 1st', '4.88 x 3.96(m)', '5.79 x 5.18(m)']</td>\n",
       "      <td>531.0</td>\n",
       "      <td>527.000000</td>\n",
       "      <td>1058.000000</td>\n",
       "    </tr>\n",
       "    <tr>\n",
       "      <th>5949</th>\n",
       "      <td>4 Bedroom(s)</td>\n",
       "      <td>['13x11, 2nd', '12x11, 2nd', '13x11, 2nd', '3.96 x 3.35(m)', '3.66 x 3.35(m)', '3.96 x 3.35(m)']</td>\n",
       "      <td>['17x13, 1st', '5.18 x 3.96(m)']</td>\n",
       "      <td>221.0</td>\n",
       "      <td>418.000000</td>\n",
       "      <td>639.000000</td>\n",
       "    </tr>\n",
       "    <tr>\n",
       "      <th>3813</th>\n",
       "      <td>5 Bedroom(s)</td>\n",
       "      <td>['13x13, 1st', '20x13, 1st', '12x12, 1st', '15x13, 1st', '3.96 x 3.96(m)', '6.10 x 3.96(m)', '3....</td>\n",
       "      <td>['19x15, 1st', '5.79 x 4.57(m)']</td>\n",
       "      <td>285.0</td>\n",
       "      <td>768.000000</td>\n",
       "      <td>1053.000000</td>\n",
       "    </tr>\n",
       "    <tr>\n",
       "      <th>1035</th>\n",
       "      <td>3 Bedroom(s)</td>\n",
       "      <td>['16 x 12, 1st', '14 x 13, 1st', '13 x 13, 1st', '16 , 12, 1st', '14 , 13, 1st', '13 , 13, 1st']</td>\n",
       "      <td>NaN</td>\n",
       "      <td>0.0</td>\n",
       "      <td>543.000000</td>\n",
       "      <td>543.000000</td>\n",
       "    </tr>\n",
       "    <tr>\n",
       "      <th>5896</th>\n",
       "      <td>3 Bedroom(s)</td>\n",
       "      <td>['10x9, 2nd', '10x9, 2nd', '3.05 x 2.74(m)', '3.05 x 2.74(m)']</td>\n",
       "      <td>['13x12, 2nd', '3.96 x 3.66(m)']</td>\n",
       "      <td>156.0</td>\n",
       "      <td>180.000000</td>\n",
       "      <td>336.000000</td>\n",
       "    </tr>\n",
       "    <tr>\n",
       "      <th>10087</th>\n",
       "      <td>4 Bedroom(s)</td>\n",
       "      <td>['12x11, 1st', '13x11, 1st', '13x11, 1st', '3.66 x 3.35(m)', '3.96 x 3.35(m)', '3.96 x 3.35(m)']</td>\n",
       "      <td>['17x14, 1st', '5.18 x 4.27(m)']</td>\n",
       "      <td>238.0</td>\n",
       "      <td>418.000000</td>\n",
       "      <td>656.000000</td>\n",
       "    </tr>\n",
       "    <tr>\n",
       "      <th>6545</th>\n",
       "      <td>6 Bedroom(s)</td>\n",
       "      <td>['14x11, 2nd', '10x11, 2nd', '11x11, 2nd', '15x11, 2nd', '12x11, 2nd', '4.27 x 3.35(m)', '3.05 x...</td>\n",
       "      <td>['17x15, 1st', '5.18 x 4.57(m)']</td>\n",
       "      <td>255.0</td>\n",
       "      <td>682.000000</td>\n",
       "      <td>937.000000</td>\n",
       "    </tr>\n",
       "    <tr>\n",
       "      <th>10506</th>\n",
       "      <td>3 Bedroom(s)</td>\n",
       "      <td>['12 X 10, 1st', '12 X 10, 1st', '12 , 10, 1st', '12 , 10, 1st']</td>\n",
       "      <td>['17 X 12, 1st', '17 , 12, 1st']</td>\n",
       "      <td>204.0</td>\n",
       "      <td>240.000000</td>\n",
       "      <td>444.000000</td>\n",
       "    </tr>\n",
       "    <tr>\n",
       "      <th>3897</th>\n",
       "      <td>4 Bedroom(s)</td>\n",
       "      <td>NaN</td>\n",
       "      <td>['22 x 18, 1st', '22 , 18, 1st']</td>\n",
       "      <td>396.0</td>\n",
       "      <td>721.081344</td>\n",
       "      <td>1117.081344</td>\n",
       "    </tr>\n",
       "    <tr>\n",
       "      <th>4711</th>\n",
       "      <td>3 Bedroom(s)</td>\n",
       "      <td>['17 X 12, 1st', '12 X 11, 1st', '17 , 12, 1st', '12 , 11, 1st']</td>\n",
       "      <td>['20 X 15, 1st', '20 , 15, 1st']</td>\n",
       "      <td>300.0</td>\n",
       "      <td>336.000000</td>\n",
       "      <td>636.000000</td>\n",
       "    </tr>\n",
       "    <tr>\n",
       "      <th>9388</th>\n",
       "      <td>4 Bedroom(s)</td>\n",
       "      <td>['14 x 13, 2nd', '20 X13, 2nd', '11x13, 2nd', '14 , 13, 2nd', '20 ,13, 2nd', '3.35 x 3.96(m)']</td>\n",
       "      <td>['17 x 14, 1st', '17 , 14, 1st']</td>\n",
       "      <td>238.0</td>\n",
       "      <td>585.000000</td>\n",
       "      <td>823.000000</td>\n",
       "    </tr>\n",
       "    <tr>\n",
       "      <th>8106</th>\n",
       "      <td>4 Bedroom(s)</td>\n",
       "      <td>['15x13, 1st', '13x13, 1st', '16x13, 1st', '4.57 x 3.96(m)', '3.96 x 3.96(m)', '4.88 x 3.96(m)']</td>\n",
       "      <td>['20x16, 1st', '6.10 x 4.88(m)']</td>\n",
       "      <td>320.0</td>\n",
       "      <td>572.000000</td>\n",
       "      <td>892.000000</td>\n",
       "    </tr>\n",
       "    <tr>\n",
       "      <th>5131</th>\n",
       "      <td>3 Bedroom(s)</td>\n",
       "      <td>['10x11, 1st', '12x10, 1st', '3.05 x 3.35(m)', '3.66 x 3.05(m)']</td>\n",
       "      <td>['14x14, 1st', '4.27 x 4.27(m)']</td>\n",
       "      <td>196.0</td>\n",
       "      <td>230.000000</td>\n",
       "      <td>426.000000</td>\n",
       "    </tr>\n",
       "    <tr>\n",
       "      <th>2892</th>\n",
       "      <td>3 Bedroom(s)</td>\n",
       "      <td>['12X13, 1st', '16X20, 1st', '3.66 x 3.96(m)', '4.88 x 6.10(m)']</td>\n",
       "      <td>['19X20, 1st', '5.79 x 6.10(m)']</td>\n",
       "      <td>380.0</td>\n",
       "      <td>476.000000</td>\n",
       "      <td>856.000000</td>\n",
       "    </tr>\n",
       "    <tr>\n",
       "      <th>8144</th>\n",
       "      <td>4 Bedroom(s)</td>\n",
       "      <td>['13.6x12, 1st', '12x12, 1st', '12x13, 1st', '4.15 x 3.66(m)', '3.66 x 3.66(m)', '3.66 x 3.96(m)']</td>\n",
       "      <td>['16x18.6, 1st', '4.88 x 5.67(m)']</td>\n",
       "      <td>297.6</td>\n",
       "      <td>463.200000</td>\n",
       "      <td>760.800000</td>\n",
       "    </tr>\n",
       "    <tr>\n",
       "      <th>6593</th>\n",
       "      <td>3 Bedroom(s)</td>\n",
       "      <td>['14x11, 2nd', '14x10, 2nd', '4.27 x 3.35(m)', '4.27 x 3.05(m)']</td>\n",
       "      <td>['14x14, 2nd', '4.27 x 4.27(m)']</td>\n",
       "      <td>196.0</td>\n",
       "      <td>294.000000</td>\n",
       "      <td>490.000000</td>\n",
       "    </tr>\n",
       "    <tr>\n",
       "      <th>4151</th>\n",
       "      <td>5 Bedroom(s)</td>\n",
       "      <td>['18x13, 2nd', '16x12, 2nd', '15x14, 2nd', '14x13, 2nd', '5.49 x 3.96(m)', '4.88 x 3.66(m)', '4....</td>\n",
       "      <td>['20x15, 1st', '6.10 x 4.57(m)']</td>\n",
       "      <td>300.0</td>\n",
       "      <td>818.000000</td>\n",
       "      <td>1118.000000</td>\n",
       "    </tr>\n",
       "    <tr>\n",
       "      <th>2950</th>\n",
       "      <td>4 Bedroom(s)</td>\n",
       "      <td>['14x10, 2nd', '11x11, 1st', '13x10, 2nd', '4.27 x 3.05(m)', '3.35 x 3.35(m)', '3.96 x 3.05(m)']</td>\n",
       "      <td>['14x13, 2nd', '4.27 x 3.96(m)']</td>\n",
       "      <td>182.0</td>\n",
       "      <td>391.000000</td>\n",
       "      <td>573.000000</td>\n",
       "    </tr>\n",
       "  </tbody>\n",
       "</table>\n",
       "</div>"
      ],
      "text/plain": [
       "          Bedrooms:  \\\n",
       "993    2 Bedroom(s)   \n",
       "1171   4 Bedroom(s)   \n",
       "1483   5 Bedroom(s)   \n",
       "5949   4 Bedroom(s)   \n",
       "3813   5 Bedroom(s)   \n",
       "1035   3 Bedroom(s)   \n",
       "5896   3 Bedroom(s)   \n",
       "10087  4 Bedroom(s)   \n",
       "6545   6 Bedroom(s)   \n",
       "10506  3 Bedroom(s)   \n",
       "3897   4 Bedroom(s)   \n",
       "4711   3 Bedroom(s)   \n",
       "9388   4 Bedroom(s)   \n",
       "8106   4 Bedroom(s)   \n",
       "5131   3 Bedroom(s)   \n",
       "2892   3 Bedroom(s)   \n",
       "8144   4 Bedroom(s)   \n",
       "6593   3 Bedroom(s)   \n",
       "4151   5 Bedroom(s)   \n",
       "2950   4 Bedroom(s)   \n",
       "\n",
       "                                                                                                  Bedroom:  \\\n",
       "993                                                                       ['unknown, 1st', 'unknown, 1st']   \n",
       "1171      ['12x11, 2nd', '12x11, 2nd', '10 x 10, 1st', '3.66 x 3.35(m)', '3.66 x 3.35(m)', '10 , 10, 1st']   \n",
       "1483      ['13x10, 2nd', '13x13, 2nd', '19x12, 2nd', '3.96 x 3.05(m)', '3.96 x 3.96(m)', '5.79 x 3.66(m)']   \n",
       "5949      ['13x11, 2nd', '12x11, 2nd', '13x11, 2nd', '3.96 x 3.35(m)', '3.66 x 3.35(m)', '3.96 x 3.35(m)']   \n",
       "3813   ['13x13, 1st', '20x13, 1st', '12x12, 1st', '15x13, 1st', '3.96 x 3.96(m)', '6.10 x 3.96(m)', '3....   \n",
       "1035      ['16 x 12, 1st', '14 x 13, 1st', '13 x 13, 1st', '16 , 12, 1st', '14 , 13, 1st', '13 , 13, 1st']   \n",
       "5896                                        ['10x9, 2nd', '10x9, 2nd', '3.05 x 2.74(m)', '3.05 x 2.74(m)']   \n",
       "10087     ['12x11, 1st', '13x11, 1st', '13x11, 1st', '3.66 x 3.35(m)', '3.96 x 3.35(m)', '3.96 x 3.35(m)']   \n",
       "6545   ['14x11, 2nd', '10x11, 2nd', '11x11, 2nd', '15x11, 2nd', '12x11, 2nd', '4.27 x 3.35(m)', '3.05 x...   \n",
       "10506                                     ['12 X 10, 1st', '12 X 10, 1st', '12 , 10, 1st', '12 , 10, 1st']   \n",
       "3897                                                                                                   NaN   \n",
       "4711                                      ['17 X 12, 1st', '12 X 11, 1st', '17 , 12, 1st', '12 , 11, 1st']   \n",
       "9388        ['14 x 13, 2nd', '20 X13, 2nd', '11x13, 2nd', '14 , 13, 2nd', '20 ,13, 2nd', '3.35 x 3.96(m)']   \n",
       "8106      ['15x13, 1st', '13x13, 1st', '16x13, 1st', '4.57 x 3.96(m)', '3.96 x 3.96(m)', '4.88 x 3.96(m)']   \n",
       "5131                                      ['10x11, 1st', '12x10, 1st', '3.05 x 3.35(m)', '3.66 x 3.05(m)']   \n",
       "2892                                      ['12X13, 1st', '16X20, 1st', '3.66 x 3.96(m)', '4.88 x 6.10(m)']   \n",
       "8144    ['13.6x12, 1st', '12x12, 1st', '12x13, 1st', '4.15 x 3.66(m)', '3.66 x 3.66(m)', '3.66 x 3.96(m)']   \n",
       "6593                                      ['14x11, 2nd', '14x10, 2nd', '4.27 x 3.35(m)', '4.27 x 3.05(m)']   \n",
       "4151   ['18x13, 2nd', '16x12, 2nd', '15x14, 2nd', '14x13, 2nd', '5.49 x 3.96(m)', '4.88 x 3.66(m)', '4....   \n",
       "2950      ['14x10, 2nd', '11x11, 1st', '13x10, 2nd', '4.27 x 3.05(m)', '3.35 x 3.35(m)', '3.96 x 3.05(m)']   \n",
       "\n",
       "                                                       Primary Bedroom:  \\\n",
       "993                                    ['unknown, 1st', 'unknown, 1st']   \n",
       "1171                                   ['12X11, 1st', '3.66 x 3.35(m)']   \n",
       "1483   ['16x13, 2nd', '19x17, 1st', '4.88 x 3.96(m)', '5.79 x 5.18(m)']   \n",
       "5949                                   ['17x13, 1st', '5.18 x 3.96(m)']   \n",
       "3813                                   ['19x15, 1st', '5.79 x 4.57(m)']   \n",
       "1035                                                                NaN   \n",
       "5896                                   ['13x12, 2nd', '3.96 x 3.66(m)']   \n",
       "10087                                  ['17x14, 1st', '5.18 x 4.27(m)']   \n",
       "6545                                   ['17x15, 1st', '5.18 x 4.57(m)']   \n",
       "10506                                  ['17 X 12, 1st', '17 , 12, 1st']   \n",
       "3897                                   ['22 x 18, 1st', '22 , 18, 1st']   \n",
       "4711                                   ['20 X 15, 1st', '20 , 15, 1st']   \n",
       "9388                                   ['17 x 14, 1st', '17 , 14, 1st']   \n",
       "8106                                   ['20x16, 1st', '6.10 x 4.88(m)']   \n",
       "5131                                   ['14x14, 1st', '4.27 x 4.27(m)']   \n",
       "2892                                   ['19X20, 1st', '5.79 x 6.10(m)']   \n",
       "8144                                 ['16x18.6, 1st', '4.88 x 5.67(m)']   \n",
       "6593                                   ['14x14, 2nd', '4.27 x 4.27(m)']   \n",
       "4151                                   ['20x15, 1st', '6.10 x 4.57(m)']   \n",
       "2950                                   ['14x13, 2nd', '4.27 x 3.96(m)']   \n",
       "\n",
       "       Primary_Bedroom_clean  Bedroom_clean  TotalBedSqft  \n",
       "993                      0.0       0.000000      0.000000  \n",
       "1171                   132.0     364.000000    496.000000  \n",
       "1483                   531.0     527.000000   1058.000000  \n",
       "5949                   221.0     418.000000    639.000000  \n",
       "3813                   285.0     768.000000   1053.000000  \n",
       "1035                     0.0     543.000000    543.000000  \n",
       "5896                   156.0     180.000000    336.000000  \n",
       "10087                  238.0     418.000000    656.000000  \n",
       "6545                   255.0     682.000000    937.000000  \n",
       "10506                  204.0     240.000000    444.000000  \n",
       "3897                   396.0     721.081344   1117.081344  \n",
       "4711                   300.0     336.000000    636.000000  \n",
       "9388                   238.0     585.000000    823.000000  \n",
       "8106                   320.0     572.000000    892.000000  \n",
       "5131                   196.0     230.000000    426.000000  \n",
       "2892                   380.0     476.000000    856.000000  \n",
       "8144                   297.6     463.200000    760.800000  \n",
       "6593                   196.0     294.000000    490.000000  \n",
       "4151                   300.0     818.000000   1118.000000  \n",
       "2950                   182.0     391.000000    573.000000  "
      ]
     },
     "execution_count": 119,
     "metadata": {},
     "output_type": "execute_result"
    }
   ],
   "source": [
    "pd.options.display.max_colwidth = 100\n",
    "single_family_df[['Bedrooms:','Bedroom:','Primary Bedroom:','Primary_Bedroom_clean','Bedroom_clean','TotalBedSqft']].sample(20,random_state=100)"
   ]
  },
  {
   "cell_type": "code",
   "execution_count": 120,
   "metadata": {},
   "outputs": [
    {
     "data": {
      "text/plain": [
       "15"
      ]
     },
     "execution_count": 120,
     "metadata": {},
     "output_type": "execute_result"
    }
   ],
   "source": [
    "single_family_df['Bedrooms:'].isnull().sum()"
   ]
  },
  {
   "cell_type": "markdown",
   "metadata": {},
   "source": [
    "There is 15 houses with no information about bedrooms and I will drop those rows."
   ]
  },
  {
   "cell_type": "code",
   "execution_count": 121,
   "metadata": {},
   "outputs": [],
   "source": [
    "single_family_df=single_family_df[~single_family_df['Bedrooms:'].isnull()]"
   ]
  },
  {
   "cell_type": "code",
   "execution_count": 122,
   "metadata": {},
   "outputs": [
    {
     "data": {
      "text/plain": [
       "count    7635.000000\n",
       "mean        3.727963\n",
       "std         0.790464\n",
       "min         1.000000\n",
       "25%         3.000000\n",
       "50%         4.000000\n",
       "75%         4.000000\n",
       "max        10.000000\n",
       "Name: NoBed, dtype: float64"
      ]
     },
     "execution_count": 122,
     "metadata": {},
     "output_type": "execute_result"
    }
   ],
   "source": [
    "single_family_df['Bedrooms:']=single_family_df['Bedrooms:'].str.split(' ').str[0]\n",
    "single_family_df['Bedrooms:']=single_family_df['Bedrooms:'].astype(int)\n",
    "single_family_df.rename(columns = {'Bedrooms:':'NoBed'},inplace=True)\n",
    "single_family_df['NoBed'].describe()"
   ]
  },
  {
   "cell_type": "code",
   "execution_count": 123,
   "metadata": {},
   "outputs": [
    {
     "data": {
      "text/plain": [
       "27"
      ]
     },
     "execution_count": 123,
     "metadata": {},
     "output_type": "execute_result"
    }
   ],
   "source": [
    "single_family_df['Average Bedrooms:'].isna().sum()"
   ]
  },
  {
   "cell_type": "code",
   "execution_count": 124,
   "metadata": {},
   "outputs": [
    {
     "data": {
      "text/plain": [
       "SubName                           Average Bedrooms:\n",
       "ASHFORD MANOR                     3.52                  5\n",
       "Aberdeen Green                    3.46                  7\n",
       "Aberdeen Trails                   3.84                  4\n",
       "Afton Oaks                        3.56                 24\n",
       "Airport Blvd Estates              3.47                  1\n",
       "                                                       ..\n",
       "Wrights Landing At Legends Trace  3.64                  5\n",
       "Wyndham Village                   4.16                  3\n",
       "YAUPON TRLS                       3.67                  1\n",
       "Yorkshire                         4.59                  4\n",
       "Young Mens                        2.85                  4\n",
       "Name: Average Bedrooms:, Length: 1054, dtype: int64"
      ]
     },
     "execution_count": 124,
     "metadata": {},
     "output_type": "execute_result"
    }
   ],
   "source": [
    "single_family_df.groupby('SubName')['Average Bedrooms:'].value_counts()"
   ]
  },
  {
   "cell_type": "code",
   "execution_count": 125,
   "metadata": {},
   "outputs": [
    {
     "data": {
      "text/plain": [
       "2338    3.56\n",
       "2339    3.56\n",
       "2345    3.56\n",
       "2351    3.56\n",
       "2352    3.56\n",
       "2353    3.56\n",
       "2354    3.56\n",
       "2355    3.56\n",
       "2356    3.56\n",
       "2359    3.56\n",
       "2363    3.56\n",
       "2376    3.56\n",
       "2378    3.56\n",
       "2383    3.56\n",
       "2384    3.56\n",
       "2391    3.56\n",
       "2394    3.56\n",
       "2403    3.56\n",
       "2408    3.56\n",
       "2412    3.56\n",
       "2417    3.56\n",
       "2418    3.56\n",
       "2421    3.56\n",
       "2426    3.56\n",
       "Name: Average Bedrooms:, dtype: float64"
      ]
     },
     "execution_count": 125,
     "metadata": {},
     "output_type": "execute_result"
    }
   ],
   "source": [
    "single_family_df['Average Bedrooms:'].loc[single_family_df.SubName=='Afton Oaks']"
   ]
  },
  {
   "cell_type": "markdown",
   "metadata": {},
   "source": [
    "It seems average bedroom is same for each subdivision. We can fill null values with the mean. "
   ]
  },
  {
   "cell_type": "code",
   "execution_count": 126,
   "metadata": {},
   "outputs": [],
   "source": [
    "single_family_df['Average Bedrooms:'] = single_family_df.groupby('SubName')['Average Bedrooms:'].transform(lambda x: x.fillna(x.mean()))"
   ]
  },
  {
   "cell_type": "code",
   "execution_count": 127,
   "metadata": {},
   "outputs": [
    {
     "data": {
      "text/plain": [
       "27"
      ]
     },
     "execution_count": 127,
     "metadata": {},
     "output_type": "execute_result"
    }
   ],
   "source": [
    "single_family_df['Average Bedrooms:'].isna().sum()"
   ]
  },
  {
   "cell_type": "markdown",
   "metadata": {},
   "source": [
    "So there is no information for those subdivisions. lets drop these rows"
   ]
  },
  {
   "cell_type": "code",
   "execution_count": 128,
   "metadata": {},
   "outputs": [],
   "source": [
    "single_family_df=single_family_df[~single_family_df['Average Bedrooms:'].isnull()]\n",
    "single_family_df.rename(columns ={'Average Bedrooms:':'AvgBed'},inplace=True)"
   ]
  },
  {
   "cell_type": "code",
   "execution_count": 129,
   "metadata": {},
   "outputs": [],
   "source": [
    "single_family_df.drop(['Bedroom:','Primary Bedroom:','Primary_Bedroom_clean','Bedroom_clean'],axis=1,inplace=True)"
   ]
  },
  {
   "cell_type": "markdown",
   "metadata": {},
   "source": [
    "## 1.11 Bathrooms<a id='1.11_Bathrooms'></a>"
   ]
  },
  {
   "cell_type": "code",
   "execution_count": 130,
   "metadata": {},
   "outputs": [
    {
     "data": {
      "text/plain": [
       "3"
      ]
     },
     "execution_count": 130,
     "metadata": {},
     "output_type": "execute_result"
    }
   ],
   "source": [
    "single_family_df['Baths:'].isnull().sum()"
   ]
  },
  {
   "cell_type": "code",
   "execution_count": 131,
   "metadata": {},
   "outputs": [],
   "source": [
    "single_family_df=single_family_df[~single_family_df['Baths:'].isnull()]"
   ]
  },
  {
   "cell_type": "code",
   "execution_count": 132,
   "metadata": {},
   "outputs": [
    {
     "data": {
      "text/html": [
       "<div>\n",
       "<style scoped>\n",
       "    .dataframe tbody tr th:only-of-type {\n",
       "        vertical-align: middle;\n",
       "    }\n",
       "\n",
       "    .dataframe tbody tr th {\n",
       "        vertical-align: top;\n",
       "    }\n",
       "\n",
       "    .dataframe thead th {\n",
       "        text-align: right;\n",
       "    }\n",
       "</style>\n",
       "<table border=\"1\" class=\"dataframe\">\n",
       "  <thead>\n",
       "    <tr style=\"text-align: right;\">\n",
       "      <th></th>\n",
       "      <th>Baths:</th>\n",
       "    </tr>\n",
       "  </thead>\n",
       "  <tbody>\n",
       "    <tr>\n",
       "      <th>10</th>\n",
       "      <td>3 Full  &amp; 1 Half Bath(s)</td>\n",
       "    </tr>\n",
       "    <tr>\n",
       "      <th>22</th>\n",
       "      <td>3 Full  &amp; 1 Half Bath(s)</td>\n",
       "    </tr>\n",
       "    <tr>\n",
       "      <th>23</th>\n",
       "      <td>3 Full  &amp; 1 Half Bath(s)</td>\n",
       "    </tr>\n",
       "    <tr>\n",
       "      <th>29</th>\n",
       "      <td>3 Full  &amp; 1 Half Bath(s)</td>\n",
       "    </tr>\n",
       "    <tr>\n",
       "      <th>30</th>\n",
       "      <td>3 Full  &amp; 1 Half Bath(s)</td>\n",
       "    </tr>\n",
       "    <tr>\n",
       "      <th>...</th>\n",
       "      <td>...</td>\n",
       "    </tr>\n",
       "    <tr>\n",
       "      <th>11135</th>\n",
       "      <td>1 Full  Bath(s)</td>\n",
       "    </tr>\n",
       "    <tr>\n",
       "      <th>11137</th>\n",
       "      <td>1 Full  &amp; 1 Half Bath(s)</td>\n",
       "    </tr>\n",
       "    <tr>\n",
       "      <th>11138</th>\n",
       "      <td>1 Full  &amp; 1 Half Bath(s)</td>\n",
       "    </tr>\n",
       "    <tr>\n",
       "      <th>11139</th>\n",
       "      <td>2 Full  Bath(s)</td>\n",
       "    </tr>\n",
       "    <tr>\n",
       "      <th>11140</th>\n",
       "      <td>1 Full  Bath(s)</td>\n",
       "    </tr>\n",
       "  </tbody>\n",
       "</table>\n",
       "<p>7605 rows × 1 columns</p>\n",
       "</div>"
      ],
      "text/plain": [
       "                         Baths:\n",
       "10     3 Full  & 1 Half Bath(s)\n",
       "22     3 Full  & 1 Half Bath(s)\n",
       "23     3 Full  & 1 Half Bath(s)\n",
       "29     3 Full  & 1 Half Bath(s)\n",
       "30     3 Full  & 1 Half Bath(s)\n",
       "...                         ...\n",
       "11135           1 Full  Bath(s)\n",
       "11137  1 Full  & 1 Half Bath(s)\n",
       "11138  1 Full  & 1 Half Bath(s)\n",
       "11139           2 Full  Bath(s)\n",
       "11140           1 Full  Bath(s)\n",
       "\n",
       "[7605 rows x 1 columns]"
      ]
     },
     "execution_count": 132,
     "metadata": {},
     "output_type": "execute_result"
    }
   ],
   "source": [
    "single_family_df[['Baths:']]"
   ]
  },
  {
   "cell_type": "code",
   "execution_count": 133,
   "metadata": {},
   "outputs": [],
   "source": [
    "single_family_df['FullBath']=single_family_df['Baths:'].str.split(' ').str[0].astype(int)"
   ]
  },
  {
   "cell_type": "code",
   "execution_count": 134,
   "metadata": {},
   "outputs": [
    {
     "data": {
      "text/plain": [
       "10       3\n",
       "22       3\n",
       "23       3\n",
       "29       3\n",
       "30       3\n",
       "        ..\n",
       "11135    1\n",
       "11137    1\n",
       "11138    1\n",
       "11139    2\n",
       "11140    1\n",
       "Name: FullBath, Length: 7605, dtype: int32"
      ]
     },
     "execution_count": 134,
     "metadata": {},
     "output_type": "execute_result"
    }
   ],
   "source": [
    "single_family_df['FullBath']"
   ]
  },
  {
   "cell_type": "code",
   "execution_count": 135,
   "metadata": {},
   "outputs": [
    {
     "name": "stdout",
     "output_type": "stream",
     "text": [
      "<class 'pandas.core.frame.DataFrame'>\n",
      "Int64Index: 7605 entries, 10 to 11140\n",
      "Data columns (total 2 columns):\n",
      " #   Column    Non-Null Count  Dtype\n",
      "---  ------    --------------  -----\n",
      " 0   FullBath  7605 non-null   int32\n",
      " 1   HalfBath  7605 non-null   int64\n",
      "dtypes: int32(1), int64(1)\n",
      "memory usage: 148.5 KB\n"
     ]
    }
   ],
   "source": [
    "No_Bath = single_family_df['Baths:'].str.split('&').str[1].str.strip()\n",
    "No_Bath.fillna('0',inplace=True) \n",
    "single_family_df['HalfBath']=[int(item[0]) for item in No_Bath.str.split(' ')]\n",
    "single_family_df['HalfBath'].replace(',','',inplace=True)\n",
    "single_family_df[['FullBath','HalfBath']].info()"
   ]
  },
  {
   "cell_type": "code",
   "execution_count": 136,
   "metadata": {},
   "outputs": [],
   "source": [
    "single_family_df.drop('Baths:',axis=1,inplace=True)"
   ]
  },
  {
   "cell_type": "markdown",
   "metadata": {},
   "source": [
    "## 1.12 Stories<a id='1.12_Stories'></a>"
   ]
  },
  {
   "cell_type": "code",
   "execution_count": 137,
   "metadata": {},
   "outputs": [
    {
     "data": {
      "text/plain": [
       "2       3809\n",
       "1       3191\n",
       "3        371\n",
       "1.5      167\n",
       "4         52\n",
       "2.5       12\n",
       "2576       1\n",
       "5          1\n",
       "Name: Stories:, dtype: int64"
      ]
     },
     "execution_count": 137,
     "metadata": {},
     "output_type": "execute_result"
    }
   ],
   "source": [
    "single_family_df['Stories:'].value_counts()"
   ]
  },
  {
   "cell_type": "markdown",
   "metadata": {},
   "source": [
    "There is one house with 2576 stories which I believe it is a typo. Lets take look at this home."
   ]
  },
  {
   "cell_type": "code",
   "execution_count": 138,
   "metadata": {},
   "outputs": [
    {
     "data": {
      "text/plain": [
       "1"
      ]
     },
     "execution_count": 138,
     "metadata": {},
     "output_type": "execute_result"
    }
   ],
   "source": [
    "single_family_df['Stories:'].isnull().sum()"
   ]
  },
  {
   "cell_type": "code",
   "execution_count": 139,
   "metadata": {},
   "outputs": [],
   "source": [
    "single_family_df=single_family_df[~single_family_df['Stories:'].isnull()]"
   ]
  },
  {
   "cell_type": "code",
   "execution_count": 140,
   "metadata": {},
   "outputs": [],
   "source": [
    "single_family_df.rename(columns ={'Stories:':'Stories'},inplace=True)\n",
    "single_family_df['Stories']=pd.to_numeric(single_family_df['Stories'])"
   ]
  },
  {
   "cell_type": "code",
   "execution_count": 141,
   "metadata": {},
   "outputs": [
    {
     "data": {
      "text/plain": [
       "535        5334 Calle Cadiz Place\n",
       "10448    22614 Auburn Valley Lane\n",
       "Name: Address, dtype: object"
      ]
     },
     "execution_count": 141,
     "metadata": {},
     "output_type": "execute_result"
    }
   ],
   "source": [
    "single_family_df['Address'].loc[single_family_df['Stories']>4]"
   ]
  },
  {
   "cell_type": "markdown",
   "metadata": {},
   "source": [
    "The first one is an apartment and second one is 2 stories house. know we replace 2576 with 2."
   ]
  },
  {
   "cell_type": "code",
   "execution_count": 142,
   "metadata": {},
   "outputs": [],
   "source": [
    "single_family_df['Stories'].loc[single_family_df['Stories']==2576]=2"
   ]
  },
  {
   "cell_type": "code",
   "execution_count": 143,
   "metadata": {},
   "outputs": [
    {
     "data": {
      "text/plain": [
       "2.0    3810\n",
       "1.0    3191\n",
       "3.0     371\n",
       "1.5     167\n",
       "4.0      52\n",
       "2.5      12\n",
       "5.0       1\n",
       "Name: Stories, dtype: int64"
      ]
     },
     "execution_count": 143,
     "metadata": {},
     "output_type": "execute_result"
    }
   ],
   "source": [
    "single_family_df['Stories'].value_counts()"
   ]
  },
  {
   "cell_type": "markdown",
   "metadata": {},
   "source": [
    "Since we are looking for single family homes, those apartment are different from what we are looking for. so, images for those houses would be different. I will keep the houses with have equal or less than 3 stories."
   ]
  },
  {
   "cell_type": "code",
   "execution_count": 144,
   "metadata": {},
   "outputs": [
    {
     "data": {
      "text/plain": [
       "2.0    3810\n",
       "1.0    3191\n",
       "3.0     371\n",
       "1.5     167\n",
       "2.5      12\n",
       "Name: Stories, dtype: int64"
      ]
     },
     "execution_count": 144,
     "metadata": {},
     "output_type": "execute_result"
    }
   ],
   "source": [
    "single_family_df = single_family_df[single_family_df.Stories < 4]\n",
    "single_family_df['Stories'].value_counts()"
   ]
  },
  {
   "cell_type": "markdown",
   "metadata": {},
   "source": [
    "## 1.13 Style<a id='1.13_Style'></a>"
   ]
  },
  {
   "cell_type": "code",
   "execution_count": 145,
   "metadata": {},
   "outputs": [
    {
     "data": {
      "text/plain": [
       "Traditional                                           5359\n",
       "Contemporary/Modern                                    649\n",
       "Ranch                                                  331\n",
       "Contemporary/Modern,Traditional                        184\n",
       "Other Style                                            162\n",
       "                                                      ... \n",
       "English,French                                           1\n",
       "Contemporary/Modern,Traditional,Victorian                1\n",
       "Georgian,Victorian                                       1\n",
       "Contemporary/Modern,French,Mediterranean,Tradition       1\n",
       "Colonial,Contemporary/Modern,Georgian                    1\n",
       "Name: Style:, Length: 80, dtype: int64"
      ]
     },
     "execution_count": 145,
     "metadata": {},
     "output_type": "execute_result"
    }
   ],
   "source": [
    "single_family_df['Style:'].value_counts()"
   ]
  },
  {
   "cell_type": "code",
   "execution_count": 146,
   "metadata": {},
   "outputs": [
    {
     "data": {
      "text/plain": [
       "0"
      ]
     },
     "execution_count": 146,
     "metadata": {},
     "output_type": "execute_result"
    }
   ],
   "source": [
    "single_family_df['Style:'].isnull().sum()"
   ]
  },
  {
   "cell_type": "code",
   "execution_count": 147,
   "metadata": {},
   "outputs": [],
   "source": [
    "single_family_df.rename(columns ={'Style:':'Style'},inplace=True)"
   ]
  },
  {
   "cell_type": "code",
   "execution_count": 148,
   "metadata": {},
   "outputs": [
    {
     "data": {
      "text/plain": [
       "array(['Contemporary/Modern', 'Contemporary/Modern,Traditional',\n",
       "       'Traditional', 'Split Level', 'Other Style', 'Ranch',\n",
       "       'Mediterranean,Traditional', 'Colonial', 'French',\n",
       "       'Contemporary/Modern,Ranch,Traditional', 'Georgian,Traditional',\n",
       "       'Colonial,Traditional', 'Mediterranean',\n",
       "       'Colonial,Georgian,Traditional', 'Other Style,Traditional',\n",
       "       'Contemporary/Modern,French', 'Contemporary/Modern,English,French',\n",
       "       'French,Traditional', 'Spanish,Traditional', 'Georgian',\n",
       "       'Colonial,Georgian', 'English,French,Traditional', 'Spanish',\n",
       "       'Victorian', 'Traditional,Victorian',\n",
       "       'Contemporary/Modern,English,French,Traditional',\n",
       "       'Contemporary/Modern,French,Traditional', 'Other Style,Ranch',\n",
       "       'Colonial,Contemporary/Modern',\n",
       "       'Contemporary/Modern,Split Level,Traditional',\n",
       "       'Contemporary/Modern,Mediterranean', 'Georgian,Victorian',\n",
       "       'Colonial,French', 'Contemporary/Modern,Victorian',\n",
       "       'Contemporary/Modern,Mediterranean,Traditional',\n",
       "       'Ranch,Traditional', 'Other Style,Traditional,Victorian',\n",
       "       'Colonial,French,Traditional', 'Contemporary/Modern,Ranch,Spanish',\n",
       "       'Other Style,Spanish', 'Contemporary/Modern,Traditional,Victorian',\n",
       "       'Other Style,Victorian', 'Other Style,Ranch,Traditional',\n",
       "       'Mediterranean,Ranch,Spanish,Traditional',\n",
       "       'Ranch,Split Level,Traditional', 'Contemporary/Modern,Split Level',\n",
       "       'Mediterranean,Spanish', 'Colonial,Contemporary/Modern,Georgian',\n",
       "       'English,Traditional', 'Colonial,English,Traditional', 'English',\n",
       "       'Contemporary/Modern,Georgian,Traditional',\n",
       "       'Contemporary/Modern,English,Traditional',\n",
       "       'Contemporary/Modern,Spanish', 'Mediterranean,Spanish,Traditional',\n",
       "       'French,Mediterranean', 'Contemporary/Modern,Ranch',\n",
       "       'Split Level,Traditional', 'Spanish,Split Level', 'Colonial,Ranch',\n",
       "       'Mediterranean,Ranch', 'English,French', 'Ranch,Spanish',\n",
       "       'Contemporary/Modern,English', 'Colonial,Ranch,Traditional',\n",
       "       'Colonial,Contemporary/Modern,English,French',\n",
       "       'Colonial,Split Level',\n",
       "       'Contemporary/Modern,Ranch,Traditional,Victorian',\n",
       "       'Contemporary/Modern,Mediterranean,Spanish', 'Colonial,English',\n",
       "       'French,Mediterranean,Traditional', 'English,Georgian',\n",
       "       'French,Spanish', 'Other Style,Split Level',\n",
       "       'Split Level,Victorian',\n",
       "       'French,Mediterranean,Spanish,Traditional',\n",
       "       'Contemporary/Modern,Georgian',\n",
       "       'Colonial,Contemporary/Modern,English,French,Ranch',\n",
       "       'Mediterranean,Split Level',\n",
       "       'Contemporary/Modern,French,Mediterranean,Tradition'], dtype=object)"
      ]
     },
     "execution_count": 148,
     "metadata": {},
     "output_type": "execute_result"
    }
   ],
   "source": [
    "single_family_df['Style'].unique()"
   ]
  },
  {
   "cell_type": "markdown",
   "metadata": {},
   "source": [
    "## 1.14 Year Built<a id='1.14_Year_Built'></a>"
   ]
  },
  {
   "cell_type": "code",
   "execution_count": 149,
   "metadata": {},
   "outputs": [
    {
     "data": {
      "text/plain": [
       "27"
      ]
     },
     "execution_count": 149,
     "metadata": {},
     "output_type": "execute_result"
    }
   ],
   "source": [
    "single_family_df['Year Built:'].isnull().sum()"
   ]
  },
  {
   "cell_type": "code",
   "execution_count": 150,
   "metadata": {},
   "outputs": [
    {
     "data": {
      "text/plain": [
       "2020   / Builder               962\n",
       "2005   / Appraisal District    154\n",
       "2006   / Appraisal District    149\n",
       "2015   / Appraisal District    144\n",
       "1955   / Appraisal District    140\n",
       "                              ... \n",
       "1930   / Seller                  1\n",
       "1982   / Seller                  1\n",
       "1929   / Appraisal               1\n",
       "1935   / Appraisal               1\n",
       "1900   / Appraisal District      1\n",
       "Name: Year Built:, Length: 281, dtype: int64"
      ]
     },
     "execution_count": 150,
     "metadata": {},
     "output_type": "execute_result"
    }
   ],
   "source": [
    "single_family_df['Year Built:'].value_counts()"
   ]
  },
  {
   "cell_type": "code",
   "execution_count": 151,
   "metadata": {},
   "outputs": [
    {
     "data": {
      "text/plain": [
       "2020    1007\n",
       "2015     184\n",
       "2006     172\n",
       "2005     170\n",
       "2014     166\n",
       "        ... \n",
       "1907       1\n",
       "1934       1\n",
       "1918       1\n",
       "1905       1\n",
       "1896       1\n",
       "Name: Year Built:, Length: 112, dtype: int64"
      ]
     },
     "execution_count": 151,
     "metadata": {},
     "output_type": "execute_result"
    }
   ],
   "source": [
    "single_family_df=single_family_df[~single_family_df['Year Built:'].isnull()]\n",
    "single_family_df['Year Built:']=single_family_df['Year Built:'].apply(lambda x:str(x).split(' ')[0])\n",
    "single_family_df['Year Built:']=pd.to_datetime(single_family_df['Year Built:'],format='%Y').dt.year\n",
    "single_family_df['Year Built:'].value_counts()"
   ]
  },
  {
   "cell_type": "markdown",
   "metadata": {},
   "source": [
    "Those houses with year build of 2020 mostly under construction and there is no images from inside or even outside. I will drop those houses too."
   ]
  },
  {
   "cell_type": "code",
   "execution_count": 152,
   "metadata": {},
   "outputs": [],
   "source": [
    "single_family_df.rename(columns ={'Year Built:':'YearBuilt'},inplace=True)"
   ]
  },
  {
   "cell_type": "code",
   "execution_count": 155,
   "metadata": {},
   "outputs": [
    {
     "data": {
      "text/plain": [
       "2015    184\n",
       "2006    172\n",
       "2005    170\n",
       "2014    166\n",
       "1955    151\n",
       "       ... \n",
       "1924      1\n",
       "1908      1\n",
       "1904      1\n",
       "1900      1\n",
       "1896      1\n",
       "Name: YearBuilt, Length: 110, dtype: int64"
      ]
     },
     "execution_count": 155,
     "metadata": {},
     "output_type": "execute_result"
    }
   ],
   "source": [
    "single_family_df = single_family_df[single_family_df.YearBuilt < 2020]\n",
    "single_family_df['YearBuilt'].value_counts()"
   ]
  },
  {
   "cell_type": "markdown",
   "metadata": {},
   "source": [
    "## 1.15 Building Sqft<a id='1.15_Building_Sqft'></a>"
   ]
  },
  {
   "cell_type": "code",
   "execution_count": 156,
   "metadata": {},
   "outputs": [
    {
     "data": {
      "text/plain": [
       "30       1,920178(mÂ²)  /Appraisal District\n",
       "33                  2,162201(mÂ²)  /Builder\n",
       "46       2,671248(mÂ²)  /Appraisal District\n",
       "50       1,688157(mÂ²)  /Appraisal District\n",
       "52       1,688157(mÂ²)  /Appraisal District\n",
       "                        ...                \n",
       "11133    1,651153(mÂ²)  /Appraisal District\n",
       "11137    1,316122(mÂ²)  /Appraisal District\n",
       "11138    1,160108(mÂ²)  /Appraisal District\n",
       "11139    1,135105(mÂ²)  /Appraisal District\n",
       "11140       83978(mÂ²)  /Appraisal District\n",
       "Name: Building Sqft.:, Length: 6476, dtype: object"
      ]
     },
     "execution_count": 156,
     "metadata": {},
     "output_type": "execute_result"
    }
   ],
   "source": [
    "single_family_df['Building Sqft.:']"
   ]
  },
  {
   "cell_type": "code",
   "execution_count": 157,
   "metadata": {},
   "outputs": [
    {
     "data": {
      "text/plain": [
       "8"
      ]
     },
     "execution_count": 157,
     "metadata": {},
     "output_type": "execute_result"
    }
   ],
   "source": [
    "single_family_df['Building Sqft.:'].isnull().sum()"
   ]
  },
  {
   "cell_type": "code",
   "execution_count": 158,
   "metadata": {},
   "outputs": [],
   "source": [
    "single_family_df=single_family_df[~single_family_df['Building Sqft.:'].isnull()]\n",
    "single_family_df['Building Sqft.:']=single_family_df['Building Sqft.:'].apply(lambda x:x[0:5] if ',' in x else x[0:3])\n",
    "single_family_df['Building Sqft.:']=single_family_df['Building Sqft.:'].str.replace(',','')\n",
    "single_family_df['Building Sqft.:']=pd.to_numeric(single_family_df['Building Sqft.:'])\n",
    "single_family_df.rename(columns ={'Building Sqft.:':'BuildSqft'},inplace=True)"
   ]
  },
  {
   "cell_type": "code",
   "execution_count": 159,
   "metadata": {},
   "outputs": [
    {
     "data": {
      "text/plain": [
       "count    6468.000000\n",
       "mean     2783.966450\n",
       "std      1203.564704\n",
       "min       400.000000\n",
       "25%      1957.000000\n",
       "50%      2547.500000\n",
       "75%      3350.250000\n",
       "max      9769.000000\n",
       "Name: BuildSqft, dtype: float64"
      ]
     },
     "execution_count": 159,
     "metadata": {},
     "output_type": "execute_result"
    }
   ],
   "source": [
    "single_family_df.BuildSqft.describe()"
   ]
  },
  {
   "cell_type": "markdown",
   "metadata": {},
   "source": [
    "## 1.16 Lot Size<a id='1.16_Lot_Size'></a>"
   ]
  },
  {
   "cell_type": "code",
   "execution_count": 162,
   "metadata": {},
   "outputs": [
    {
     "data": {
      "text/plain": [
       "49"
      ]
     },
     "execution_count": 162,
     "metadata": {},
     "output_type": "execute_result"
    }
   ],
   "source": [
    "single_family_df['Lot Size:'].isnull().sum()"
   ]
  },
  {
   "cell_type": "code",
   "execution_count": 163,
   "metadata": {},
   "outputs": [],
   "source": [
    "single_family_df=single_family_df[~single_family_df['Lot Size:'].isnull()]"
   ]
  },
  {
   "cell_type": "code",
   "execution_count": 164,
   "metadata": {},
   "outputs": [
    {
     "data": {
      "text/plain": [
       "30       1,556 Sqft.145(mÂ²)  /Appraisal District\n",
       "33       1,435 Sqft.133(mÂ²)  /Appraisal District\n",
       "46       2,006 Sqft.186(mÂ²)  /Appraisal District\n",
       "50       2,220 Sqft.206(mÂ²)  /Appraisal District\n",
       "52       2,110 Sqft.196(mÂ²)  /Appraisal District\n",
       "                           ...                   \n",
       "11133    7,100 Sqft.660(mÂ²)  /Appraisal District\n",
       "11137    7,100 Sqft.660(mÂ²)  /Appraisal District\n",
       "11138    7,100 Sqft.660(mÂ²)  /Appraisal District\n",
       "11139    7,100 Sqft.660(mÂ²)  /Appraisal District\n",
       "11140    7,100 Sqft.660(mÂ²)  /Appraisal District\n",
       "Name: Lot Size:, Length: 6419, dtype: object"
      ]
     },
     "execution_count": 164,
     "metadata": {},
     "output_type": "execute_result"
    }
   ],
   "source": [
    "single_family_df['Lot Size:']"
   ]
  },
  {
   "cell_type": "code",
   "execution_count": 165,
   "metadata": {},
   "outputs": [],
   "source": [
    "single_family_df['Lot Size:']=single_family_df['Lot Size:'].str.replace(',','')\n",
    "single_family_df['Lot Size:']=single_family_df['Lot Size:'].apply(lambda x:float(x.split(' ')[0])*43560 if 'Acres' in \n",
    "                                                                  x else float(x.split(' ')[0]))\n",
    "\n",
    "# single_family_df['Lot Size:']=pd.to_numeric(single_family_df['Lot Size:'])\n",
    "single_family_df.rename(columns ={'Lot Size:':'LotSize'},inplace=True)"
   ]
  },
  {
   "cell_type": "code",
   "execution_count": 166,
   "metadata": {},
   "outputs": [
    {
     "data": {
      "text/plain": [
       "count    6.419000e+03\n",
       "mean     1.107953e+04\n",
       "std      2.779575e+04\n",
       "min      0.000000e+00\n",
       "25%      6.507000e+03\n",
       "50%      8.140000e+03\n",
       "75%      9.943500e+03\n",
       "max      1.306800e+06\n",
       "Name: LotSize, dtype: float64"
      ]
     },
     "execution_count": 166,
     "metadata": {},
     "output_type": "execute_result"
    }
   ],
   "source": [
    "single_family_df.LotSize.describe()"
   ]
  },
  {
   "cell_type": "markdown",
   "metadata": {},
   "source": [
    "the minimum lot size is 0 which need to investigate."
   ]
  },
  {
   "cell_type": "code",
   "execution_count": 167,
   "metadata": {},
   "outputs": [
    {
     "data": {
      "text/html": [
       "<div>\n",
       "<style scoped>\n",
       "    .dataframe tbody tr th:only-of-type {\n",
       "        vertical-align: middle;\n",
       "    }\n",
       "\n",
       "    .dataframe tbody tr th {\n",
       "        vertical-align: top;\n",
       "    }\n",
       "\n",
       "    .dataframe thead th {\n",
       "        text-align: right;\n",
       "    }\n",
       "</style>\n",
       "<table border=\"1\" class=\"dataframe\">\n",
       "  <thead>\n",
       "    <tr style=\"text-align: right;\">\n",
       "      <th></th>\n",
       "      <th>image_link</th>\n",
       "      <th>ListingPrice</th>\n",
       "      <th>Address</th>\n",
       "      <th>City:</th>\n",
       "      <th>ZipCode</th>\n",
       "      <th>County</th>\n",
       "      <th>Legal</th>\n",
       "      <th>NoBed</th>\n",
       "      <th>Stories</th>\n",
       "      <th>Style</th>\n",
       "      <th>...</th>\n",
       "      <th>MedianApp</th>\n",
       "      <th>MedianYearBlt</th>\n",
       "      <th>MedianSqft</th>\n",
       "      <th>AvgNeighborValRange</th>\n",
       "      <th>MedianPrice/Sqft</th>\n",
       "      <th>PaidTax</th>\n",
       "      <th>TaxRate</th>\n",
       "      <th>TotalBedSqft</th>\n",
       "      <th>FullBath</th>\n",
       "      <th>HalfBath</th>\n",
       "    </tr>\n",
       "  </thead>\n",
       "  <tbody>\n",
       "    <tr>\n",
       "      <th>4975</th>\n",
       "      <td>['https://photos.harstatic.com/190806088/hr/img-1.jpeg?ts=2020-10-25T08:51:53.280', 'https://pho...</td>\n",
       "      <td>173550</td>\n",
       "      <td>7807 Vickijohn</td>\n",
       "      <td>Houston</td>\n",
       "      <td>77071</td>\n",
       "      <td>Harris County</td>\n",
       "      <td>TR 2 BLK 2 FONDREN SW NORTHFIELD SEC 1</td>\n",
       "      <td>3</td>\n",
       "      <td>1.0</td>\n",
       "      <td>Contemporary/Modern</td>\n",
       "      <td>...</td>\n",
       "      <td>214780</td>\n",
       "      <td>1977</td>\n",
       "      <td>8740</td>\n",
       "      <td>229000.0</td>\n",
       "      <td>84.39</td>\n",
       "      <td>2743.0</td>\n",
       "      <td>2.6237</td>\n",
       "      <td>528.0</td>\n",
       "      <td>2</td>\n",
       "      <td>0</td>\n",
       "    </tr>\n",
       "  </tbody>\n",
       "</table>\n",
       "<p>1 rows × 58 columns</p>\n",
       "</div>"
      ],
      "text/plain": [
       "                                                                                               image_link  \\\n",
       "4975  ['https://photos.harstatic.com/190806088/hr/img-1.jpeg?ts=2020-10-25T08:51:53.280', 'https://pho...   \n",
       "\n",
       "      ListingPrice         Address    City:  ZipCode         County  \\\n",
       "4975        173550  7807 Vickijohn  Houston    77071  Harris County   \n",
       "\n",
       "                                       Legal  NoBed  Stories  \\\n",
       "4975  TR 2 BLK 2 FONDREN SW NORTHFIELD SEC 1      3      1.0   \n",
       "\n",
       "                    Style  ...  MedianApp  MedianYearBlt  MedianSqft  \\\n",
       "4975  Contemporary/Modern  ...     214780           1977        8740   \n",
       "\n",
       "     AvgNeighborValRange MedianPrice/Sqft PaidTax TaxRate TotalBedSqft  \\\n",
       "4975            229000.0            84.39  2743.0  2.6237        528.0   \n",
       "\n",
       "     FullBath HalfBath  \n",
       "4975        2        0  \n",
       "\n",
       "[1 rows x 58 columns]"
      ]
     },
     "execution_count": 167,
     "metadata": {},
     "output_type": "execute_result"
    }
   ],
   "source": [
    "single_family_df[single_family_df.LotSize <1000]"
   ]
  },
  {
   "cell_type": "markdown",
   "metadata": {},
   "source": [
    "There is one house with lot size less than 1000. lest drop it."
   ]
  },
  {
   "cell_type": "code",
   "execution_count": 170,
   "metadata": {},
   "outputs": [
    {
     "data": {
      "text/plain": [
       "count    6.418000e+03\n",
       "mean     1.108126e+04\n",
       "std      2.779757e+04\n",
       "min      1.104000e+03\n",
       "25%      6.510000e+03\n",
       "50%      8.140500e+03\n",
       "75%      9.944750e+03\n",
       "max      1.306800e+06\n",
       "Name: LotSize, dtype: float64"
      ]
     },
     "execution_count": 170,
     "metadata": {},
     "output_type": "execute_result"
    }
   ],
   "source": [
    "single_family_df = single_family_df[single_family_df.LotSize >= 1000]\n",
    "single_family_df.LotSize.describe()"
   ]
  },
  {
   "cell_type": "markdown",
   "metadata": {},
   "source": [
    "## 1.17 Maintenance Fee<a id='1.17_Maintenance_Fee'></a>"
   ]
  },
  {
   "cell_type": "code",
   "execution_count": 171,
   "metadata": {},
   "outputs": [
    {
     "data": {
      "text/plain": [
       "30       ['$ 2250 / Annually', 'Mandatory / $2250 / Annually']\n",
       "33       ['$ 1195 / Annually', 'Mandatory / $1195 / Annually']\n",
       "46       ['$ 2244 / Annually', 'Mandatory / $2244 / Annually']\n",
       "50       ['$ 1400 / Annually', 'Mandatory / $1400 / Annually']\n",
       "52       ['$ 1400 / Annually', 'Mandatory / $1400 / Annually']\n",
       "                                 ...                          \n",
       "11133                                                       No\n",
       "11137                                                       No\n",
       "11138                                                       No\n",
       "11139                                                       No\n",
       "11140                                                       No\n",
       "Name: Maintenance Fee:, Length: 6418, dtype: object"
      ]
     },
     "execution_count": 171,
     "metadata": {},
     "output_type": "execute_result"
    }
   ],
   "source": [
    "single_family_df['Maintenance Fee:']"
   ]
  },
  {
   "cell_type": "code",
   "execution_count": 172,
   "metadata": {},
   "outputs": [
    {
     "data": {
      "text/plain": [
       "20"
      ]
     },
     "execution_count": 172,
     "metadata": {},
     "output_type": "execute_result"
    }
   ],
   "source": [
    "single_family_df['Maintenance Fee:'].isnull().sum()"
   ]
  },
  {
   "cell_type": "code",
   "execution_count": 173,
   "metadata": {},
   "outputs": [
    {
     "data": {
      "text/plain": [
       "No                                                     1530\n",
       "['$ 650 / Annually', 'Mandatory / $650 / Annually']     125\n",
       "['$ 450 / Annually', 'Mandatory / $450 / Annually']     116\n",
       "['$ 350 / Annually', 'Mandatory / $350 / Annually']     113\n",
       "['$ 600 / Annually', 'Mandatory / $600 / Annually']     102\n",
       "                                                       ... \n",
       "['$ 59 / Monthly', 'Mandatory / $59 / Monthly']           1\n",
       "['$ 684 / Annually', 'Mandatory / $684 / Annually']       1\n",
       "['$ 797 / Annually', 'Mandatory / $797 / Annually']       1\n",
       "['$ 67 / Monthly', 'Mandatory / $67 / Monthly']           1\n",
       "['$ 88 / Annually', 'Mandatory / $88 / Annually']         1\n",
       "Name: Maintenance Fee:, Length: 797, dtype: int64"
      ]
     },
     "execution_count": 173,
     "metadata": {},
     "output_type": "execute_result"
    }
   ],
   "source": [
    "single_family_df['Maintenance Fee:'].value_counts()"
   ]
  },
  {
   "cell_type": "code",
   "execution_count": 174,
   "metadata": {},
   "outputs": [
    {
     "data": {
      "text/plain": [
       "1577"
      ]
     },
     "execution_count": 174,
     "metadata": {},
     "output_type": "execute_result"
    }
   ],
   "source": [
    "single_family_df['Maintenance Fee:'].isin(['No','No / $0','Voluntary / Annually','Voluntary /0/ Annually']).sum()"
   ]
  },
  {
   "cell_type": "code",
   "execution_count": 175,
   "metadata": {},
   "outputs": [],
   "source": [
    "def MaintenanceFee(fee):\n",
    "    \"\"\"This function calculates the Maintenance fee for this column\"\"\"\n",
    "    if type(fee) != float:\n",
    "        fee = fee.split(',')[0].split('/')\n",
    "        if fee[0].strip() in ['No','No / $0','Voluntary / Annually','Voluntary /0/ Annually','Voluntary','Mandatory']:\n",
    "            fee = 0\n",
    "        elif len(fee) > 1 and fee[1].replace('\\'','').strip() in ['Annually']:\n",
    "            fee = float(fee[0].replace('$','').replace('\\'','').replace(' ','').replace('[',''))\n",
    "        elif len(fee) > 1 and fee[1].replace('\\'','').strip() in ['Quarterly']:   \n",
    "            fee = float(fee[0].replace('$','').replace('\\'','').replace(' ','').replace('[',''))*4\n",
    "        elif len(fee) > 1 and fee[1].replace('\\'','').strip() in ['Monthly']:   \n",
    "            fee = float(fee[0].replace('$','').replace('\\'','').replace(' ','').replace('[',''))*12 \n",
    "        else:\n",
    "            fee = float(fee[0].replace('$','').replace('\\'','').replace(' ','').replace('[',''))\n",
    "    else:\n",
    "        fee = 0\n",
    "    return fee"
   ]
  },
  {
   "cell_type": "code",
   "execution_count": 176,
   "metadata": {},
   "outputs": [],
   "source": [
    "single_family_df['MaintenanceFee'] = single_family_df['Maintenance Fee:'].apply(MaintenanceFee)"
   ]
  },
  {
   "cell_type": "code",
   "execution_count": 177,
   "metadata": {},
   "outputs": [],
   "source": [
    "single_family_df.drop('Maintenance Fee:',axis=1,inplace=True)"
   ]
  },
  {
   "cell_type": "markdown",
   "metadata": {},
   "source": [
    "## 1.18 Fireplace<a id='1.18_Fireplace'></a>"
   ]
  },
  {
   "cell_type": "code",
   "execution_count": 178,
   "metadata": {},
   "outputs": [
    {
     "data": {
      "text/plain": [
       "1/Gaslog Fireplace                                                                           1206\n",
       "1                                                                                             782\n",
       "1/Gas Connections                                                                             644\n",
       "1/Wood Burning Fireplace                                                                      449\n",
       "1/Gas Connections, Gaslog Fireplace                                                           358\n",
       "                                                                                             ... \n",
       "1/Gas Connections, Stove                                                                        1\n",
       "2/Freestanding, Gas Connections, Gaslog Fireplace, Wood Burning Fireplace                       1\n",
       "2/Freestanding, Gas Connections, Gaslog Fireplace, Mock Fireplace, Wood Burning Fireplace       1\n",
       "1/Gas Connections, Mock Fireplace, Wood Burning Fireplace                                       1\n",
       "3/Freestanding, Gaslog Fireplace                                                                1\n",
       "Name: Fireplace:, Length: 82, dtype: int64"
      ]
     },
     "execution_count": 178,
     "metadata": {},
     "output_type": "execute_result"
    }
   ],
   "source": [
    "single_family_df['Fireplace:'].value_counts()"
   ]
  },
  {
   "cell_type": "code",
   "execution_count": 179,
   "metadata": {},
   "outputs": [
    {
     "data": {
      "text/plain": [
       "1    4142\n",
       "n    1696\n",
       "2     416\n",
       "3      88\n",
       "/      46\n",
       "4      22\n",
       "5       8\n",
       "dtype: int64"
      ]
     },
     "execution_count": 179,
     "metadata": {},
     "output_type": "execute_result"
    }
   ],
   "source": [
    "pd.Series([str(x)[0]  for x in single_family_df['Fireplace:'] if x is not None]).value_counts()"
   ]
  },
  {
   "cell_type": "code",
   "execution_count": 180,
   "metadata": {},
   "outputs": [],
   "source": [
    "single_family_df['Fireplace:']=single_family_df['Fireplace:'].apply(lambda x:int(str(x)[0]) if str(x)[0]\n",
    "                                                                    in ['1','2','3','4','5','6','7'] else 0)"
   ]
  },
  {
   "cell_type": "code",
   "execution_count": 181,
   "metadata": {},
   "outputs": [
    {
     "data": {
      "text/plain": [
       "1    4142\n",
       "0    1742\n",
       "2     416\n",
       "3      88\n",
       "4      22\n",
       "5       8\n",
       "Name: Fireplace:, dtype: int64"
      ]
     },
     "execution_count": 181,
     "metadata": {},
     "output_type": "execute_result"
    }
   ],
   "source": [
    "single_family_df['Fireplace:'].value_counts()"
   ]
  },
  {
   "cell_type": "markdown",
   "metadata": {},
   "source": [
    "## 1.19 HOA Mandatory<a id='1.19_HOA_Mandatory'></a>"
   ]
  },
  {
   "cell_type": "code",
   "execution_count": 182,
   "metadata": {},
   "outputs": [
    {
     "data": {
      "text/plain": [
       "30       Yes\n",
       "33       Yes\n",
       "46       Yes\n",
       "50       NaN\n",
       "52       Yes\n",
       "        ... \n",
       "11133     No\n",
       "11137     No\n",
       "11138     No\n",
       "11139     No\n",
       "11140     No\n",
       "Name: HOA Mandatory:, Length: 6418, dtype: object"
      ]
     },
     "execution_count": 182,
     "metadata": {},
     "output_type": "execute_result"
    }
   ],
   "source": [
    "single_family_df['HOA Mandatory:']"
   ]
  },
  {
   "cell_type": "markdown",
   "metadata": {},
   "source": [
    "We can fill null values for HOA by 'NO'."
   ]
  },
  {
   "cell_type": "code",
   "execution_count": 183,
   "metadata": {},
   "outputs": [],
   "source": [
    "single_family_df['HOA Mandatory:'][single_family_df['HOA Mandatory:'].isnull()]='No'\n",
    "single_family_df.rename(columns ={'HOA Mandatory:':'HOA'},inplace=True)"
   ]
  },
  {
   "cell_type": "code",
   "execution_count": 184,
   "metadata": {},
   "outputs": [
    {
     "data": {
      "text/html": [
       "<div>\n",
       "<style scoped>\n",
       "    .dataframe tbody tr th:only-of-type {\n",
       "        vertical-align: middle;\n",
       "    }\n",
       "\n",
       "    .dataframe tbody tr th {\n",
       "        vertical-align: top;\n",
       "    }\n",
       "\n",
       "    .dataframe thead th {\n",
       "        text-align: right;\n",
       "    }\n",
       "</style>\n",
       "<table border=\"1\" class=\"dataframe\">\n",
       "  <thead>\n",
       "    <tr style=\"text-align: right;\">\n",
       "      <th></th>\n",
       "      <th>count</th>\n",
       "      <th>%</th>\n",
       "    </tr>\n",
       "  </thead>\n",
       "  <tbody>\n",
       "    <tr>\n",
       "      <th>Median Appraised Value / Square ft.:</th>\n",
       "      <td>6418</td>\n",
       "      <td>100.000000</td>\n",
       "    </tr>\n",
       "    <tr>\n",
       "      <th>Legal</th>\n",
       "      <td>1</td>\n",
       "      <td>0.015581</td>\n",
       "    </tr>\n",
       "  </tbody>\n",
       "</table>\n",
       "</div>"
      ],
      "text/plain": [
       "                                      count           %\n",
       "Median Appraised Value / Square ft.:   6418  100.000000\n",
       "Legal                                     1    0.015581"
      ]
     },
     "execution_count": 184,
     "metadata": {},
     "output_type": "execute_result"
    }
   ],
   "source": [
    "missing = missing_cal(single_family_df)\n",
    "missing.loc[missing['%'] > 0].sort_values(by=\"%\",ascending=False)"
   ]
  },
  {
   "cell_type": "markdown",
   "metadata": {},
   "source": [
    "Median Appraised Value / Square ft.: has 100% missing value we can drop it and also drop rows with null value for legal."
   ]
  },
  {
   "cell_type": "code",
   "execution_count": 185,
   "metadata": {},
   "outputs": [],
   "source": [
    "single_family_df.drop('Median Appraised Value / Square ft.:',axis = 1, inplace=True)\n",
    "single_family_df=single_family_df[~single_family_df['Legal'].isnull()]"
   ]
  },
  {
   "cell_type": "markdown",
   "metadata": {},
   "source": [
    "lets take a look at dataset to see if we need to rename some columns:"
   ]
  },
  {
   "cell_type": "code",
   "execution_count": 186,
   "metadata": {},
   "outputs": [
    {
     "data": {
      "text/plain": [
       "Index(['image_link', 'ListingPrice', 'Address', 'City:', 'ZipCode', 'County',\n",
       "       'Legal', 'NoBed', 'Stories', 'Style', 'YearBuilt', 'BuildSqft',\n",
       "       'LotSize', 'Fireplace:', 'Heating:', 'Cooling:', 'Ice Maker:',\n",
       "       'Microwave:', 'Compactor:', 'Dishwasher:', 'Disposal:', 'Roof:',\n",
       "       'Foundation:', 'Private Pool:', 'Exterior Type:', 'Lot Description:',\n",
       "       'Controlled Access:', 'Water Sewer:', 'Unit Location:', 'Area Pool:',\n",
       "       'Dwelling Type:', 'HOA', 'List Type:', 'Other Fees:', 'AvgBed',\n",
       "       'Average Baths:', 'Carport Description:', 'UtilitySqft', 'StudySqft',\n",
       "       'GameSqft', 'BreakfastSqft', 'Garage', 'LivingSqft', 'DiningSqft',\n",
       "       'KitchenSqft', 'SubName', 'MedianApp', 'MedianYearBlt', 'MedianSqft',\n",
       "       'AvgNeighborValRange', 'MedianPrice/Sqft', 'PaidTax', 'TaxRate',\n",
       "       'TotalBedSqft', 'FullBath', 'HalfBath', 'MaintenanceFee'],\n",
       "      dtype='object')"
      ]
     },
     "execution_count": 186,
     "metadata": {},
     "output_type": "execute_result"
    }
   ],
   "source": [
    "single_family_df.columns"
   ]
  },
  {
   "cell_type": "code",
   "execution_count": 187,
   "metadata": {},
   "outputs": [],
   "source": [
    "single_family_df.reset_index(inplace=True,drop=True)"
   ]
  },
  {
   "cell_type": "code",
   "execution_count": 188,
   "metadata": {},
   "outputs": [],
   "source": [
    "single_family_df.rename(columns = {'City:':'City','Fireplace:':'Fireplace', 'Heating:':'Heating', 'Cooling:':'Cooling',\n",
    "                                   'Ice Maker:':'IceMaker', 'Microwave:':'Microwave','Compactor:':'Compactor',\n",
    "                                   'Dishwasher:':'Dishwasher','Disposal:':'Disposal','Roof:':'Roof',\n",
    "                                   'Foundation:':'Foundation','Private Pool:':'PrivatePool',\n",
    "                                   'Exterior Type:':'ExteriorType','Lot Description:':'LotDes',\n",
    "                                   'Controlled Access:':'ControlAccess','Water Sewer:':'WaterSewer',\n",
    "                                   'Unit Location:':'UnitLoc','Area Pool:':'AreaPool','Dwelling Type:':'DwellingType',\n",
    "                                   'List Type:':'ListType','Other Fees:':'OtherFees','Average Baths:':'AvgBaths',\n",
    "                                   'Carport Description:':'CarportDescription'},inplace=True)"
   ]
  },
  {
   "cell_type": "code",
   "execution_count": 189,
   "metadata": {},
   "outputs": [
    {
     "name": "stdout",
     "output_type": "stream",
     "text": [
      "<class 'pandas.core.frame.DataFrame'>\n",
      "RangeIndex: 6417 entries, 0 to 6416\n",
      "Data columns (total 57 columns):\n",
      " #   Column               Non-Null Count  Dtype  \n",
      "---  ------               --------------  -----  \n",
      " 0   image_link           6417 non-null   object \n",
      " 1   ListingPrice         6417 non-null   int64  \n",
      " 2   Address              6417 non-null   object \n",
      " 3   City                 6417 non-null   object \n",
      " 4   ZipCode              6417 non-null   int64  \n",
      " 5   County               6417 non-null   object \n",
      " 6   Legal                6417 non-null   object \n",
      " 7   NoBed                6417 non-null   int32  \n",
      " 8   Stories              6417 non-null   float64\n",
      " 9   Style                6417 non-null   object \n",
      " 10  YearBuilt            6417 non-null   int64  \n",
      " 11  BuildSqft            6417 non-null   int64  \n",
      " 12  LotSize              6417 non-null   float64\n",
      " 13  Fireplace            6417 non-null   int64  \n",
      " 14  Heating              6417 non-null   object \n",
      " 15  Cooling              6417 non-null   object \n",
      " 16  IceMaker             6417 non-null   object \n",
      " 17  Microwave            6417 non-null   object \n",
      " 18  Compactor            6417 non-null   object \n",
      " 19  Dishwasher           6417 non-null   object \n",
      " 20  Disposal             6417 non-null   object \n",
      " 21  Roof                 6417 non-null   object \n",
      " 22  Foundation           6417 non-null   object \n",
      " 23  PrivatePool          6417 non-null   object \n",
      " 24  ExteriorType         6417 non-null   object \n",
      " 25  LotDes               6417 non-null   object \n",
      " 26  ControlAccess        6417 non-null   object \n",
      " 27  WaterSewer           6417 non-null   object \n",
      " 28  UnitLoc              6417 non-null   object \n",
      " 29  AreaPool             6417 non-null   object \n",
      " 30  DwellingType         6417 non-null   object \n",
      " 31  HOA                  6417 non-null   object \n",
      " 32  ListType             6417 non-null   object \n",
      " 33  OtherFees            6417 non-null   object \n",
      " 34  AvgBed               6417 non-null   float64\n",
      " 35  AvgBaths             6417 non-null   float64\n",
      " 36  CarportDescription   6417 non-null   object \n",
      " 37  UtilitySqft          6417 non-null   float64\n",
      " 38  StudySqft            6417 non-null   float64\n",
      " 39  GameSqft             6417 non-null   float64\n",
      " 40  BreakfastSqft        6417 non-null   float64\n",
      " 41  Garage               6417 non-null   int32  \n",
      " 42  LivingSqft           6417 non-null   float64\n",
      " 43  DiningSqft           6417 non-null   float64\n",
      " 44  KitchenSqft          6417 non-null   float64\n",
      " 45  SubName              6417 non-null   object \n",
      " 46  MedianApp            6417 non-null   int64  \n",
      " 47  MedianYearBlt        6417 non-null   int64  \n",
      " 48  MedianSqft           6417 non-null   int64  \n",
      " 49  AvgNeighborValRange  6417 non-null   float64\n",
      " 50  MedianPrice/Sqft     6417 non-null   float64\n",
      " 51  PaidTax              6417 non-null   float64\n",
      " 52  TaxRate              6417 non-null   float64\n",
      " 53  TotalBedSqft         6417 non-null   float64\n",
      " 54  FullBath             6417 non-null   int32  \n",
      " 55  HalfBath             6417 non-null   int64  \n",
      " 56  MaintenanceFee       6417 non-null   float64\n",
      "dtypes: float64(17), int32(3), int64(9), object(28)\n",
      "memory usage: 2.7+ MB\n"
     ]
    }
   ],
   "source": [
    "single_family_df.info()"
   ]
  },
  {
   "cell_type": "markdown",
   "metadata": {},
   "source": [
    "## 1.20 Other Fees<a id='1.20_Other_Fees'></a>"
   ]
  },
  {
   "cell_type": "code",
   "execution_count": 190,
   "metadata": {},
   "outputs": [
    {
     "data": {
      "text/plain": [
       "No / 0       2914\n",
       "Yes / 250    1303\n",
       "Yes / 200     436\n",
       "Yes / 300     257\n",
       "Yes / 150     210\n",
       "             ... \n",
       "Yes / 210       1\n",
       "Yes / 526       1\n",
       "Yes / 89        1\n",
       "Yes / 572       1\n",
       "Yes / 390       1\n",
       "Name: OtherFees, Length: 190, dtype: int64"
      ]
     },
     "execution_count": 190,
     "metadata": {},
     "output_type": "execute_result"
    }
   ],
   "source": [
    "single_family_df.OtherFees.value_counts()"
   ]
  },
  {
   "cell_type": "markdown",
   "metadata": {},
   "source": [
    "We need to clean this column and to do so I will change No value with 0 and calculate total fees for the rest."
   ]
  },
  {
   "cell_type": "code",
   "execution_count": 191,
   "metadata": {},
   "outputs": [],
   "source": [
    "single_family_df.OtherFees = single_family_df.OtherFees.apply(lambda x: float(x.split('/')[1].strip()))"
   ]
  },
  {
   "cell_type": "code",
   "execution_count": 192,
   "metadata": {},
   "outputs": [
    {
     "data": {
      "text/plain": [
       "0       250.0\n",
       "1        80.0\n",
       "2       250.0\n",
       "3       350.0\n",
       "4       250.0\n",
       "        ...  \n",
       "6412      0.0\n",
       "6413      0.0\n",
       "6414      0.0\n",
       "6415      0.0\n",
       "6416      0.0\n",
       "Name: OtherFees, Length: 6417, dtype: float64"
      ]
     },
     "execution_count": 192,
     "metadata": {},
     "output_type": "execute_result"
    }
   ],
   "source": [
    "single_family_df.OtherFees"
   ]
  },
  {
   "cell_type": "code",
   "execution_count": 193,
   "metadata": {},
   "outputs": [
    {
     "data": {
      "text/html": [
       "<div>\n",
       "<style scoped>\n",
       "    .dataframe tbody tr th:only-of-type {\n",
       "        vertical-align: middle;\n",
       "    }\n",
       "\n",
       "    .dataframe tbody tr th {\n",
       "        vertical-align: top;\n",
       "    }\n",
       "\n",
       "    .dataframe thead th {\n",
       "        text-align: right;\n",
       "    }\n",
       "</style>\n",
       "<table border=\"1\" class=\"dataframe\">\n",
       "  <thead>\n",
       "    <tr style=\"text-align: right;\">\n",
       "      <th></th>\n",
       "      <th>image_link</th>\n",
       "      <th>ListingPrice</th>\n",
       "      <th>Address</th>\n",
       "      <th>City</th>\n",
       "      <th>ZipCode</th>\n",
       "      <th>County</th>\n",
       "      <th>Legal</th>\n",
       "      <th>NoBed</th>\n",
       "      <th>Stories</th>\n",
       "      <th>Style</th>\n",
       "      <th>...</th>\n",
       "      <th>MedianYearBlt</th>\n",
       "      <th>MedianSqft</th>\n",
       "      <th>AvgNeighborValRange</th>\n",
       "      <th>MedianPrice/Sqft</th>\n",
       "      <th>PaidTax</th>\n",
       "      <th>TaxRate</th>\n",
       "      <th>TotalBedSqft</th>\n",
       "      <th>FullBath</th>\n",
       "      <th>HalfBath</th>\n",
       "      <th>MaintenanceFee</th>\n",
       "    </tr>\n",
       "  </thead>\n",
       "  <tbody>\n",
       "    <tr>\n",
       "      <th>0</th>\n",
       "      <td>['https://photos.harstatic.com/189100987/hr/img-1.jpeg?ts=2020-09-04T12:19:37.237', 'https://pho...</td>\n",
       "      <td>408000</td>\n",
       "      <td>2614 Capitol Street</td>\n",
       "      <td>Houston</td>\n",
       "      <td>77003</td>\n",
       "      <td>Harris County</td>\n",
       "      <td>LT 7 BLK 1 CAPITOL OAKS SEC 1 2ND AMEND</td>\n",
       "      <td>3</td>\n",
       "      <td>3.0</td>\n",
       "      <td>Contemporary/Modern,Traditional</td>\n",
       "      <td>...</td>\n",
       "      <td>2012</td>\n",
       "      <td>1563</td>\n",
       "      <td>443500.0</td>\n",
       "      <td>200.05</td>\n",
       "      <td>8899.0</td>\n",
       "      <td>2.5466</td>\n",
       "      <td>522.0</td>\n",
       "      <td>3</td>\n",
       "      <td>1</td>\n",
       "      <td>2250.0</td>\n",
       "    </tr>\n",
       "    <tr>\n",
       "      <th>1</th>\n",
       "      <td>['https://photos.harstatic.com/189116198/hr/img-1.jpeg?ts=2020-10-21T19:55:31.780', 'https://pho...</td>\n",
       "      <td>402115</td>\n",
       "      <td>2708 EaDo Grove Lane</td>\n",
       "      <td>Houston</td>\n",
       "      <td>77003</td>\n",
       "      <td>Harris County</td>\n",
       "      <td>LT 19 BLK 1 EaDo Grove</td>\n",
       "      <td>3</td>\n",
       "      <td>3.0</td>\n",
       "      <td>Contemporary/Modern</td>\n",
       "      <td>...</td>\n",
       "      <td>2018</td>\n",
       "      <td>1485</td>\n",
       "      <td>217000.0</td>\n",
       "      <td>192.51</td>\n",
       "      <td>2169.0</td>\n",
       "      <td>2.6554</td>\n",
       "      <td>474.0</td>\n",
       "      <td>3</td>\n",
       "      <td>1</td>\n",
       "      <td>1195.0</td>\n",
       "    </tr>\n",
       "    <tr>\n",
       "      <th>2</th>\n",
       "      <td>['https://photos.harstatic.com/188179029/hr/img-1.jpeg?ts=2020-08-03T08:56:34.177', 'https://pho...</td>\n",
       "      <td>419000</td>\n",
       "      <td>619 Live Oak Street</td>\n",
       "      <td>Houston</td>\n",
       "      <td>77003</td>\n",
       "      <td>Harris County</td>\n",
       "      <td>LT 7 BLK 1 CAPITOL OAKS SEC 3 RP NO 1</td>\n",
       "      <td>3</td>\n",
       "      <td>3.0</td>\n",
       "      <td>Traditional</td>\n",
       "      <td>...</td>\n",
       "      <td>2012</td>\n",
       "      <td>1563</td>\n",
       "      <td>443500.0</td>\n",
       "      <td>200.05</td>\n",
       "      <td>8899.0</td>\n",
       "      <td>2.5466</td>\n",
       "      <td>320.0</td>\n",
       "      <td>3</td>\n",
       "      <td>1</td>\n",
       "      <td>2244.0</td>\n",
       "    </tr>\n",
       "    <tr>\n",
       "      <th>3</th>\n",
       "      <td>['https://photos.harstatic.com/190180506/hr/img-1.jpeg?ts=2020-10-15T11:16:28.257', 'https://pho...</td>\n",
       "      <td>320000</td>\n",
       "      <td>1725 Aden Drive</td>\n",
       "      <td>Houston</td>\n",
       "      <td>77003</td>\n",
       "      <td>Harris County</td>\n",
       "      <td>LT 66 BLK 1 MIDTOWN VILLAGE</td>\n",
       "      <td>2</td>\n",
       "      <td>2.0</td>\n",
       "      <td>Split Level</td>\n",
       "      <td>...</td>\n",
       "      <td>2005</td>\n",
       "      <td>1904</td>\n",
       "      <td>259000.0</td>\n",
       "      <td>181.62</td>\n",
       "      <td>7078.0</td>\n",
       "      <td>2.5466</td>\n",
       "      <td>302.0</td>\n",
       "      <td>2</td>\n",
       "      <td>1</td>\n",
       "      <td>1400.0</td>\n",
       "    </tr>\n",
       "    <tr>\n",
       "      <th>4</th>\n",
       "      <td>['https://photos.harstatic.com/189461143/hr/img-1.jpeg?ts=2020-10-26T15:31:30.800', 'https://pho...</td>\n",
       "      <td>305000</td>\n",
       "      <td>1716 Aden Mist Drive</td>\n",
       "      <td>Houston</td>\n",
       "      <td>77003</td>\n",
       "      <td>Harris County</td>\n",
       "      <td>LT 117 BLK 1 MIDTOWN VILLAGE</td>\n",
       "      <td>2</td>\n",
       "      <td>2.0</td>\n",
       "      <td>Traditional</td>\n",
       "      <td>...</td>\n",
       "      <td>2005</td>\n",
       "      <td>1904</td>\n",
       "      <td>259000.0</td>\n",
       "      <td>181.62</td>\n",
       "      <td>7155.0</td>\n",
       "      <td>2.5466</td>\n",
       "      <td>340.0</td>\n",
       "      <td>2</td>\n",
       "      <td>0</td>\n",
       "      <td>1400.0</td>\n",
       "    </tr>\n",
       "  </tbody>\n",
       "</table>\n",
       "<p>5 rows × 57 columns</p>\n",
       "</div>"
      ],
      "text/plain": [
       "                                                                                            image_link  \\\n",
       "0  ['https://photos.harstatic.com/189100987/hr/img-1.jpeg?ts=2020-09-04T12:19:37.237', 'https://pho...   \n",
       "1  ['https://photos.harstatic.com/189116198/hr/img-1.jpeg?ts=2020-10-21T19:55:31.780', 'https://pho...   \n",
       "2  ['https://photos.harstatic.com/188179029/hr/img-1.jpeg?ts=2020-08-03T08:56:34.177', 'https://pho...   \n",
       "3  ['https://photos.harstatic.com/190180506/hr/img-1.jpeg?ts=2020-10-15T11:16:28.257', 'https://pho...   \n",
       "4  ['https://photos.harstatic.com/189461143/hr/img-1.jpeg?ts=2020-10-26T15:31:30.800', 'https://pho...   \n",
       "\n",
       "   ListingPrice               Address     City  ZipCode         County  \\\n",
       "0        408000   2614 Capitol Street  Houston    77003  Harris County   \n",
       "1        402115  2708 EaDo Grove Lane  Houston    77003  Harris County   \n",
       "2        419000   619 Live Oak Street  Houston    77003  Harris County   \n",
       "3        320000       1725 Aden Drive  Houston    77003  Harris County   \n",
       "4        305000  1716 Aden Mist Drive  Houston    77003  Harris County   \n",
       "\n",
       "                                     Legal  NoBed  Stories  \\\n",
       "0  LT 7 BLK 1 CAPITOL OAKS SEC 1 2ND AMEND      3      3.0   \n",
       "1                   LT 19 BLK 1 EaDo Grove      3      3.0   \n",
       "2    LT 7 BLK 1 CAPITOL OAKS SEC 3 RP NO 1      3      3.0   \n",
       "3              LT 66 BLK 1 MIDTOWN VILLAGE      2      2.0   \n",
       "4             LT 117 BLK 1 MIDTOWN VILLAGE      2      2.0   \n",
       "\n",
       "                             Style  ...  MedianYearBlt  MedianSqft  \\\n",
       "0  Contemporary/Modern,Traditional  ...           2012        1563   \n",
       "1              Contemporary/Modern  ...           2018        1485   \n",
       "2                      Traditional  ...           2012        1563   \n",
       "3                      Split Level  ...           2005        1904   \n",
       "4                      Traditional  ...           2005        1904   \n",
       "\n",
       "   AvgNeighborValRange  MedianPrice/Sqft PaidTax TaxRate TotalBedSqft  \\\n",
       "0             443500.0            200.05  8899.0  2.5466        522.0   \n",
       "1             217000.0            192.51  2169.0  2.6554        474.0   \n",
       "2             443500.0            200.05  8899.0  2.5466        320.0   \n",
       "3             259000.0            181.62  7078.0  2.5466        302.0   \n",
       "4             259000.0            181.62  7155.0  2.5466        340.0   \n",
       "\n",
       "  FullBath HalfBath MaintenanceFee  \n",
       "0        3        1         2250.0  \n",
       "1        3        1         1195.0  \n",
       "2        3        1         2244.0  \n",
       "3        2        1         1400.0  \n",
       "4        2        0         1400.0  \n",
       "\n",
       "[5 rows x 57 columns]"
      ]
     },
     "execution_count": 193,
     "metadata": {},
     "output_type": "execute_result"
    }
   ],
   "source": [
    "single_family_df.head()"
   ]
  },
  {
   "cell_type": "markdown",
   "metadata": {},
   "source": [
    "## 1.21 Roof<a id='1.21_Roof'></a>"
   ]
  },
  {
   "cell_type": "code",
   "execution_count": 194,
   "metadata": {},
   "outputs": [
    {
     "data": {
      "text/plain": [
       "array(['Composition', 'Aluminum', 'Other', 'Tile', 'Composition, Other',\n",
       "       'Aluminum, Composition', 'Composition, Slate', 'Slate',\n",
       "       'Composition, Tile', 'Wood Shingle', 'Built Up, Composition',\n",
       "       'Aluminum, Other', 'Other, Tile', 'Aluminum, Composition, Other',\n",
       "       'Other, Wood Shingle', 'Built Up', 'Aluminum, Other, Wood Shingle',\n",
       "       'Aluminum, Slate', 'Composition, Wood Shingle'], dtype=object)"
      ]
     },
     "execution_count": 194,
     "metadata": {},
     "output_type": "execute_result"
    }
   ],
   "source": [
    "single_family_df.Roof.unique()"
   ]
  },
  {
   "cell_type": "markdown",
   "metadata": {},
   "source": [
    "To reduce number of category in roof type column I create a list of standard roof type and will match each category to standard list, then replace it with higher score."
   ]
  },
  {
   "cell_type": "code",
   "execution_count": 195,
   "metadata": {},
   "outputs": [],
   "source": [
    "standard_roof=['Composition','Aluminum','Tile','Slate','Wood Shingle','Built Up','Other']\n",
    "#For each correct roof  type . in standard roof list\n",
    "for roof in standard_roof:\n",
    "    \n",
    "    # Find matches in gender\n",
    "    matches = process.extract(roof, single_family_df.Roof,\n",
    "                 limit = single_family_df.shape[0])\n",
    "    \n",
    "    \n",
    "# For each possible_match with similarity score >= 90\n",
    "    for possible_match in matches:\n",
    "        if possible_match[1] >= 90:\n",
    "      \n",
    "            \n",
    "            matching = single_family_df.Roof == possible_match[0]\n",
    "           # I decided to use 'W' for female since there is high similarity between 'female' and 'male' \n",
    "        single_family_df.loc[matching , 'Roof'] = roof"
   ]
  },
  {
   "cell_type": "code",
   "execution_count": 196,
   "metadata": {},
   "outputs": [
    {
     "data": {
      "text/plain": [
       "array(['Composition', 'Aluminum', 'Other', 'Tile', 'Slate',\n",
       "       'Wood Shingle', 'Built Up'], dtype=object)"
      ]
     },
     "execution_count": 196,
     "metadata": {},
     "output_type": "execute_result"
    }
   ],
   "source": [
    "single_family_df.Roof.unique()"
   ]
  },
  {
   "cell_type": "markdown",
   "metadata": {},
   "source": [
    "## 1.21 Foundation<a id='1.21_Foundation'></a>"
   ]
  },
  {
   "cell_type": "code",
   "execution_count": 197,
   "metadata": {},
   "outputs": [
    {
     "data": {
      "text/plain": [
       "array(['Slab', 'Block & Beam', 'Slab on Builders Pier', 'Pier & Beam',\n",
       "       'Other, Slab', 'Pier & Beam, Slab', 'Slab, Slab on Builders Pier',\n",
       "       'Pier & Beam, Slab on Builders Pier', 'Block & Beam, Slab',\n",
       "       'Other, Pier & Beam', 'Other', 'Block & Beam, Pier & Beam',\n",
       "       'Block & Beam, Slab on Builders Pier',\n",
       "       'Other, Slab on Builders Pier', 'On Stilts'], dtype=object)"
      ]
     },
     "execution_count": 197,
     "metadata": {},
     "output_type": "execute_result"
    }
   ],
   "source": [
    "single_family_df.Foundation.unique()"
   ]
  },
  {
   "cell_type": "code",
   "execution_count": 198,
   "metadata": {},
   "outputs": [
    {
     "name": "stdout",
     "output_type": "stream",
     "text": [
      "['Slab' 'Block & Beam' 'Pier & Beam' 'Other' 'On Stilts']\n"
     ]
    }
   ],
   "source": [
    "standard_foundation=['Slab','Block & Beam','Pier & Beam','On Stilts','Other']\n",
    "for found in standard_foundation:\n",
    "    \n",
    "    # Find matches in gender\n",
    "    matches = process.extract(found, single_family_df.Foundation,\n",
    "                 limit = single_family_df.shape[0])\n",
    "    \n",
    "    \n",
    "# For each possible_match with similarity score >= 90\n",
    "    for possible_match in matches:\n",
    "        if possible_match[1] >= 90:\n",
    "      \n",
    "            \n",
    "            matching = single_family_df.Foundation == possible_match[0]\n",
    "           # I decided to use 'W' for female since there is high similarity between 'female' and 'male' \n",
    "        single_family_df.loc[matching , 'Foundation'] = found\n",
    "print(single_family_df.Foundation.unique())"
   ]
  },
  {
   "cell_type": "code",
   "execution_count": 199,
   "metadata": {},
   "outputs": [
    {
     "data": {
      "text/plain": [
       "array(['Cement Board, Stucco', 'Cement Board', 'Brick, Wood',\n",
       "       'Brick, Cement Board, Wood', 'Brick, Cement Board',\n",
       "       'Brick & Wood, Cement Board', 'Stucco', 'Brick, Vinyl, Wood',\n",
       "       'Brick, Other', 'Other', 'Brick', 'Brick & Wood', 'Wood',\n",
       "       'Aluminum', 'Brick & Wood, Cement Board, Wood',\n",
       "       'Cement Board, Stone', 'Brick, Stucco', 'Stone, Stucco',\n",
       "       'Asbestos, Wood', 'Brick, Stone, Stucco, Vinyl, Wood',\n",
       "       'Brick Veneer, Stucco', 'Cement Board, Stone, Wood',\n",
       "       'Aluminum, Vinyl', 'Stone', 'Stucco, Wood', 'Other, Wood',\n",
       "       'Brick & Wood, Brick', 'Asbestos, Brick & Wood', 'Brick, Vinyl',\n",
       "       'Brick Veneer', 'Cement Board, Other, Stone, Wood',\n",
       "       'Brick, Stone, Stucco', 'Brick Veneer, Stone', 'Other, Stucco',\n",
       "       'Stone & Wood, Stucco', 'Unknown', 'Cement Board, Wood',\n",
       "       'Aluminum, Other', 'Brick & Wood, Stone & Wood',\n",
       "       'Aluminum, Brick, Vinyl, Wood', 'Cement Board, Stone, Stucco',\n",
       "       'Cement Board, Unknown', 'Brick & Wood, Cement Board, Stucco',\n",
       "       'Brick, Cement Board, Stucco', 'Brick Veneer, Cement Board',\n",
       "       'Cement Board, Stucco, Wood', 'Aluminum, Wood', 'Vinyl',\n",
       "       'Brick & Wood, Stone, Stucco', 'Brick, Cement Board, Stone',\n",
       "       'Asbestos, Other', 'Brick, Cement Board, Stucco, Wood',\n",
       "       'Aluminum, Cement Board, Wood', 'Brick, Cement Board, Other',\n",
       "       'Brick & Wood, Other', 'Stone, Stucco, Wood', 'Asbestos',\n",
       "       'Brick & Wood, Wood', 'Cement Board, Stone & Wood',\n",
       "       'Aluminum, Vinyl, Wood', 'Asbestos, Vinyl', 'Brick, Other, Wood',\n",
       "       'Brick & Wood, Vinyl', 'Unknown, Wood', 'Brick, Unknown',\n",
       "       'Stone & Wood', 'Asbestos, Cement Board, Wood',\n",
       "       'Brick, Cement Board, Stone, Stucco',\n",
       "       'Brick & Wood, Brick Veneer, Stucco', 'Stone, Wood', 'Vinyl, Wood',\n",
       "       'Brick & Wood, Stone', 'Brick, Stucco, Vinyl',\n",
       "       'Brick & Wood, Brick, Stucco', 'Brick, Other, Stucco',\n",
       "       'Brick, Stone', 'Brick & Wood, Stucco', 'Brick, Stone, Wood',\n",
       "       'Unknown, Vinyl', 'Brick Veneer, Vinyl',\n",
       "       'Brick Veneer, Cement Board, Stucco', 'Cement Board, Other, Wood',\n",
       "       'Brick & Wood, Stone, Wood', 'Cement Board, Unknown, Wood',\n",
       "       'Brick & Wood, Brick Veneer, Cement Board', 'Cement Board, Other',\n",
       "       'Brick & Wood, Unknown', 'Other, Stone & Wood, Stucco',\n",
       "       'Asbestos, Brick & Wood, Wood', 'Brick & Wood, Brick Veneer',\n",
       "       'Stone, Vinyl', 'Brick & Wood, Brick, Cement Board',\n",
       "       'Brick, Cement Board, Vinyl, Wood', 'Brick, Cement Board, Vinyl',\n",
       "       'Brick & Wood, Cement Board, Other', 'Brick, Stucco, Wood',\n",
       "       'Synthetic Stucco', 'Aluminum, Brick, Cement Board',\n",
       "       'Cement Board, Other, Stone', 'Brick Veneer, Wood',\n",
       "       'Cement Board, Vinyl', 'Aluminum, Brick', 'Other, Stone',\n",
       "       'Stone, Stone & Wood', 'Brick & Wood, Cement Board, Stone',\n",
       "       'Brick, Stone, Stucco, Wood', 'Brick, Other, Vinyl, Wood',\n",
       "       'Aluminum, Brick & Wood, Vinyl', 'Brick, Other, Stone',\n",
       "       'Stone & Wood, Wood', 'Brick, Cement Board, Unknown, Wood',\n",
       "       'Brick & Wood, Cement Board, Stone & Wood',\n",
       "       'Asbestos, Stucco, Wood', 'Aluminum, Brick, Vinyl',\n",
       "       'Aluminum, Brick & Wood', 'Stucco, Vinyl',\n",
       "       'Brick & Wood, Cement Board, Stucco, Wood',\n",
       "       'Brick & Wood, Synthetic Stucco',\n",
       "       'Brick & Wood, Brick, Cement Board, Wood',\n",
       "       'Brick Veneer, Cement Board, Wood', 'Brick, Other, Vinyl',\n",
       "       'Aluminum, Brick, Wood', 'Asbestos, Cement Board',\n",
       "       'Brick, Cement Board, Other, Wood',\n",
       "       'Brick, Cement Board, Stone, Wood', 'Other, Stucco, Wood',\n",
       "       'Brick & Wood, Cement Board, Vinyl',\n",
       "       'Brick Veneer, Cement Board, Stone',\n",
       "       'Brick & Wood, Cement Board, Synthetic Stucco',\n",
       "       'Brick & Wood, Stone, Stone & Wood', 'Other, Stone, Stucco',\n",
       "       'Brick, Stone & Wood', 'Other, Unknown',\n",
       "       'Brick, Cement Board, Stone, Stucco, Wood',\n",
       "       'Brick Veneer, Cement Board, Stone & Wood',\n",
       "       'Cement Board, Stone, Stone & Wood, Stucco',\n",
       "       'Brick Veneer, Stone, Stucco', 'Cement Board, Stone, Stone & Wood',\n",
       "       'Brick, Cement Board, Stone, Synthetic Stucco, Wood',\n",
       "       'Stucco, Synthetic Stucco',\n",
       "       'Brick & Wood, Cement Board, Stone, Stucco',\n",
       "       'Stone, Synthetic Stucco', 'Brick & Wood, Brick, Stone & Wood',\n",
       "       'Brick & Wood, Brick, Stone',\n",
       "       'Brick & Wood, Brick, Cement Board, Stucco',\n",
       "       'Cement Board, Stone & Wood, Stucco', 'Brick, Other, Unknown',\n",
       "       'Brick, Unknown, Vinyl'], dtype=object)"
      ]
     },
     "execution_count": 199,
     "metadata": {},
     "output_type": "execute_result"
    }
   ],
   "source": [
    "single_family_df.ExteriorType.unique()"
   ]
  },
  {
   "cell_type": "code",
   "execution_count": 200,
   "metadata": {},
   "outputs": [],
   "source": [
    "single_family_df.to_csv('../data/processed/SingleFamily.csv',index=False)"
   ]
  },
  {
   "cell_type": "code",
   "execution_count": null,
   "metadata": {},
   "outputs": [],
   "source": []
  }
 ],
 "metadata": {
  "kernelspec": {
   "display_name": "Python 3",
   "language": "python",
   "name": "python3"
  },
  "language_info": {
   "codemirror_mode": {
    "name": "ipython",
    "version": 3
   },
   "file_extension": ".py",
   "mimetype": "text/x-python",
   "name": "python",
   "nbconvert_exporter": "python",
   "pygments_lexer": "ipython3",
   "version": "3.8.3"
  }
 },
 "nbformat": 4,
 "nbformat_minor": 4
}
