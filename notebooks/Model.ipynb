{
 "cells": [
  {
   "cell_type": "code",
   "execution_count": null,
   "metadata": {},
   "outputs": [],
   "source": []
  },
  {
   "cell_type": "code",
   "execution_count": null,
   "metadata": {},
   "outputs": [],
   "source": []
  },
  {
   "cell_type": "code",
   "execution_count": 30,
   "metadata": {},
   "outputs": [],
   "source": [
    "import numpy as np\n",
    "import os\n",
    "import pandas as pd\n",
    "import matplotlib.pyplot as plt\n",
    "from matplotlib import gridspec\n",
    "import seaborn as sns\n",
    "from sklearn.preprocessing import scale,LabelEncoder,LabelBinarizer,MinMaxScaler,OrdinalEncoder\n",
    "from sklearn.compose import make_column_transformer\n",
    "from sklearn.pipeline import make_pipeline,Pipeline\n",
    "from sklearn.model_selection import cross_val_score\n",
    "from sklearn.ensemble import RandomForestRegressor\n",
    "from sklearn.model_selection import train_test_split\n",
    "from scipy.stats import skew, norm\n",
    "from scipy import stats\n",
    "from datetime import date\n",
    "from collections import Counter\n",
    "import category_encoders as ce\n",
    "import torch\n",
    "import torch.nn as nn\n",
    "import locale\n",
    "from fuzzywuzzy import process\n",
    "import warnings\n",
    "warnings.filterwarnings('ignore')"
   ]
  },
  {
   "cell_type": "code",
   "execution_count": 2,
   "metadata": {},
   "outputs": [],
   "source": [
    "SingleFamilyHome = pd.read_csv('../data/processed/SingleFamilyFinal.csv')"
   ]
  },
  {
   "cell_type": "code",
   "execution_count": 3,
   "metadata": {},
   "outputs": [
    {
     "data": {
      "text/plain": [
       "(6348, 56)"
      ]
     },
     "execution_count": 3,
     "metadata": {},
     "output_type": "execute_result"
    }
   ],
   "source": [
    "SingleFamilyHome.shape"
   ]
  },
  {
   "cell_type": "code",
   "execution_count": 4,
   "metadata": {},
   "outputs": [
    {
     "name": "stdout",
     "output_type": "stream",
     "text": [
      "<class 'pandas.core.frame.DataFrame'>\n",
      "RangeIndex: 6348 entries, 0 to 6347\n",
      "Data columns (total 56 columns):\n",
      " #   Column               Non-Null Count  Dtype  \n",
      "---  ------               --------------  -----  \n",
      " 0   image_link           6348 non-null   object \n",
      " 1   ListingPrice         6348 non-null   int64  \n",
      " 2   Address              6348 non-null   object \n",
      " 3   City                 6348 non-null   object \n",
      " 4   ZipCode              6348 non-null   int64  \n",
      " 5   County               6348 non-null   object \n",
      " 6   Legal                6348 non-null   object \n",
      " 7   NoBed                6348 non-null   int64  \n",
      " 8   Stories              6348 non-null   float64\n",
      " 9   Style                6348 non-null   object \n",
      " 10  BuildSqft            6348 non-null   int64  \n",
      " 11  LotSize              6348 non-null   float64\n",
      " 12  Fireplace            6348 non-null   int64  \n",
      " 13  Heating              6348 non-null   object \n",
      " 14  Cooling              6348 non-null   object \n",
      " 15  IceMaker             6348 non-null   int64  \n",
      " 16  Microwave            6348 non-null   int64  \n",
      " 17  Compactor            6348 non-null   int64  \n",
      " 18  Dishwasher           6348 non-null   int64  \n",
      " 19  Disposal             6348 non-null   int64  \n",
      " 20  Roof                 6348 non-null   object \n",
      " 21  Foundation           6348 non-null   object \n",
      " 22  PrivatePool          6348 non-null   int64  \n",
      " 23  ExteriorType         6348 non-null   object \n",
      " 24  LotDes               6348 non-null   object \n",
      " 25  ControlAccess        6348 non-null   object \n",
      " 26  WaterSewer           6348 non-null   object \n",
      " 27  UnitLoc              6348 non-null   object \n",
      " 28  AreaPool             6348 non-null   int64  \n",
      " 29  DwellingType         6348 non-null   object \n",
      " 30  HOA                  6348 non-null   int64  \n",
      " 31  ListType             6348 non-null   object \n",
      " 32  AvgBed               6348 non-null   float64\n",
      " 33  AvgBaths             6348 non-null   float64\n",
      " 34  CarportDescription   6348 non-null   object \n",
      " 35  UtilitySqft          6348 non-null   float64\n",
      " 36  StudySqft            6348 non-null   float64\n",
      " 37  GameSqft             6348 non-null   float64\n",
      " 38  BreakfastSqft        6348 non-null   float64\n",
      " 39  Garage               6348 non-null   int64  \n",
      " 40  LivingSqft           6348 non-null   float64\n",
      " 41  DiningSqft           6348 non-null   float64\n",
      " 42  KitchenSqft          6348 non-null   float64\n",
      " 43  SubName              6348 non-null   object \n",
      " 44  MedianApp            6348 non-null   int64  \n",
      " 45  MedianSqft           6348 non-null   int64  \n",
      " 46  AvgNeighborValRange  6348 non-null   float64\n",
      " 47  MedianPrice/Sqft     6348 non-null   float64\n",
      " 48  PaidTax              6348 non-null   float64\n",
      " 49  TaxRate              6348 non-null   float64\n",
      " 50  TotalBedSqft         6348 non-null   float64\n",
      " 51  FullBath             6348 non-null   int64  \n",
      " 52  HalfBath             6348 non-null   int64  \n",
      " 53  MaintenanceFee       6348 non-null   float64\n",
      " 54  Age                  6348 non-null   int64  \n",
      " 55  MedianAge            6348 non-null   int64  \n",
      "dtypes: float64(17), int64(20), object(19)\n",
      "memory usage: 2.7+ MB\n"
     ]
    }
   ],
   "source": [
    "SingleFamilyHome.info()"
   ]
  },
  {
   "cell_type": "code",
   "execution_count": 5,
   "metadata": {},
   "outputs": [],
   "source": [
    "SingleFamilyHome.ZipCode = SingleFamilyHome.ZipCode.astype('object',copy=False)"
   ]
  },
  {
   "cell_type": "code",
   "execution_count": 20,
   "metadata": {},
   "outputs": [
    {
     "data": {
      "text/html": [
       "<div>\n",
       "<style scoped>\n",
       "    .dataframe tbody tr th:only-of-type {\n",
       "        vertical-align: middle;\n",
       "    }\n",
       "\n",
       "    .dataframe tbody tr th {\n",
       "        vertical-align: top;\n",
       "    }\n",
       "\n",
       "    .dataframe thead th {\n",
       "        text-align: right;\n",
       "    }\n",
       "</style>\n",
       "<table border=\"1\" class=\"dataframe\">\n",
       "  <thead>\n",
       "    <tr style=\"text-align: right;\">\n",
       "      <th></th>\n",
       "      <th>image_link</th>\n",
       "      <th>Address</th>\n",
       "      <th>City</th>\n",
       "      <th>ZipCode</th>\n",
       "      <th>County</th>\n",
       "      <th>Legal</th>\n",
       "      <th>Style</th>\n",
       "      <th>Heating</th>\n",
       "      <th>Cooling</th>\n",
       "      <th>Roof</th>\n",
       "      <th>Foundation</th>\n",
       "      <th>ExteriorType</th>\n",
       "      <th>LotDes</th>\n",
       "      <th>ControlAccess</th>\n",
       "      <th>WaterSewer</th>\n",
       "      <th>DwellingType</th>\n",
       "      <th>CarportDescription</th>\n",
       "      <th>SubName</th>\n",
       "    </tr>\n",
       "  </thead>\n",
       "  <tbody>\n",
       "    <tr>\n",
       "      <th>0</th>\n",
       "      <td>['https://photos.harstatic.com/189115929/hr/im...</td>\n",
       "      <td>1735 Eado Point Lane</td>\n",
       "      <td>Houston</td>\n",
       "      <td>77003</td>\n",
       "      <td>Harris County</td>\n",
       "      <td>LT 17 BLK 2 EADO POINT</td>\n",
       "      <td>Contemporary/Modern</td>\n",
       "      <td>Central Gas, Zoned</td>\n",
       "      <td>Central Electric, Zoned</td>\n",
       "      <td>Composition</td>\n",
       "      <td>Slab</td>\n",
       "      <td>Cement Board</td>\n",
       "      <td>Other</td>\n",
       "      <td>Automatic Gate, Driveway Gate</td>\n",
       "      <td>Public</td>\n",
       "      <td>Free Standing</td>\n",
       "      <td>not applicable</td>\n",
       "      <td>EADO POINT</td>\n",
       "    </tr>\n",
       "    <tr>\n",
       "      <th>1</th>\n",
       "      <td>['https://photos.harstatic.com/188179029/hr/im...</td>\n",
       "      <td>619 Live Oak Street</td>\n",
       "      <td>Houston</td>\n",
       "      <td>77003</td>\n",
       "      <td>Harris County</td>\n",
       "      <td>LT 7 BLK 1 CAPITOL OAKS SEC 3 RP NO 1</td>\n",
       "      <td>Traditional</td>\n",
       "      <td>Central Gas</td>\n",
       "      <td>Central Electric</td>\n",
       "      <td>Aluminum</td>\n",
       "      <td>Slab</td>\n",
       "      <td>Stucco</td>\n",
       "      <td>Subdivision Lot</td>\n",
       "      <td>no controlled access</td>\n",
       "      <td>Public</td>\n",
       "      <td>Free Standing</td>\n",
       "      <td>not applicable</td>\n",
       "      <td>Capitol Oaks</td>\n",
       "    </tr>\n",
       "    <tr>\n",
       "      <th>2</th>\n",
       "      <td>['https://photos.harstatic.com/189527871/hr/im...</td>\n",
       "      <td>1417 Hussion Street</td>\n",
       "      <td>Houston</td>\n",
       "      <td>77003</td>\n",
       "      <td>Harris County</td>\n",
       "      <td>LT 7 BLK 1 W L EDMUNDSON SEC 3</td>\n",
       "      <td>Traditional</td>\n",
       "      <td>Central Gas</td>\n",
       "      <td>Central Electric</td>\n",
       "      <td>Composition</td>\n",
       "      <td>Pier &amp; Beam</td>\n",
       "      <td>Cement Board</td>\n",
       "      <td>Subdivision Lot</td>\n",
       "      <td>no controlled access</td>\n",
       "      <td>Public</td>\n",
       "      <td>Free Standing</td>\n",
       "      <td>not applicable</td>\n",
       "      <td>Edmundson (77023)</td>\n",
       "    </tr>\n",
       "    <tr>\n",
       "      <th>3</th>\n",
       "      <td>['https://photos.harstatic.com/189915458/hr/im...</td>\n",
       "      <td>1737 Aden Drive</td>\n",
       "      <td>Houston</td>\n",
       "      <td>77003</td>\n",
       "      <td>Harris County</td>\n",
       "      <td>Lot 59, Block 1</td>\n",
       "      <td>Other</td>\n",
       "      <td>Central Gas</td>\n",
       "      <td>Central Electric</td>\n",
       "      <td>Composition</td>\n",
       "      <td>Slab</td>\n",
       "      <td>Brick</td>\n",
       "      <td>Corner</td>\n",
       "      <td>Automatic Gate</td>\n",
       "      <td>Public</td>\n",
       "      <td>Free Standing</td>\n",
       "      <td>not applicable</td>\n",
       "      <td>Midtown Village</td>\n",
       "    </tr>\n",
       "    <tr>\n",
       "      <th>4</th>\n",
       "      <td>['https://photos.harstatic.com/190529396/hr/im...</td>\n",
       "      <td>1773 Aden Drive</td>\n",
       "      <td>Houston</td>\n",
       "      <td>77003</td>\n",
       "      <td>Harris County</td>\n",
       "      <td>LT 90 BLK 1 MIDTOWN VILLAGE</td>\n",
       "      <td>Traditional</td>\n",
       "      <td>Central Gas</td>\n",
       "      <td>Central Electric</td>\n",
       "      <td>Composition</td>\n",
       "      <td>Slab</td>\n",
       "      <td>Brick</td>\n",
       "      <td>Subdivision Lot</td>\n",
       "      <td>Automatic Gate</td>\n",
       "      <td>Public</td>\n",
       "      <td>Free Standing</td>\n",
       "      <td>not applicable</td>\n",
       "      <td>Midtown Village</td>\n",
       "    </tr>\n",
       "  </tbody>\n",
       "</table>\n",
       "</div>"
      ],
      "text/plain": [
       "                                          image_link               Address  \\\n",
       "0  ['https://photos.harstatic.com/189115929/hr/im...  1735 Eado Point Lane   \n",
       "1  ['https://photos.harstatic.com/188179029/hr/im...   619 Live Oak Street   \n",
       "2  ['https://photos.harstatic.com/189527871/hr/im...   1417 Hussion Street   \n",
       "3  ['https://photos.harstatic.com/189915458/hr/im...       1737 Aden Drive   \n",
       "4  ['https://photos.harstatic.com/190529396/hr/im...       1773 Aden Drive   \n",
       "\n",
       "      City ZipCode         County                                  Legal  \\\n",
       "0  Houston   77003  Harris County                 LT 17 BLK 2 EADO POINT   \n",
       "1  Houston   77003  Harris County  LT 7 BLK 1 CAPITOL OAKS SEC 3 RP NO 1   \n",
       "2  Houston   77003  Harris County         LT 7 BLK 1 W L EDMUNDSON SEC 3   \n",
       "3  Houston   77003  Harris County                        Lot 59, Block 1   \n",
       "4  Houston   77003  Harris County            LT 90 BLK 1 MIDTOWN VILLAGE   \n",
       "\n",
       "                 Style             Heating                  Cooling  \\\n",
       "0  Contemporary/Modern  Central Gas, Zoned  Central Electric, Zoned   \n",
       "1          Traditional         Central Gas         Central Electric   \n",
       "2          Traditional         Central Gas         Central Electric   \n",
       "3                Other         Central Gas         Central Electric   \n",
       "4          Traditional         Central Gas         Central Electric   \n",
       "\n",
       "          Roof   Foundation  ExteriorType           LotDes  \\\n",
       "0  Composition         Slab  Cement Board            Other   \n",
       "1     Aluminum         Slab        Stucco  Subdivision Lot   \n",
       "2  Composition  Pier & Beam  Cement Board  Subdivision Lot   \n",
       "3  Composition         Slab         Brick           Corner   \n",
       "4  Composition         Slab         Brick  Subdivision Lot   \n",
       "\n",
       "                   ControlAccess WaterSewer   DwellingType CarportDescription  \\\n",
       "0  Automatic Gate, Driveway Gate     Public  Free Standing     not applicable   \n",
       "1           no controlled access     Public  Free Standing     not applicable   \n",
       "2           no controlled access     Public  Free Standing     not applicable   \n",
       "3                 Automatic Gate     Public  Free Standing     not applicable   \n",
       "4                 Automatic Gate     Public  Free Standing     not applicable   \n",
       "\n",
       "             SubName  \n",
       "0         EADO POINT  \n",
       "1       Capitol Oaks  \n",
       "2  Edmundson (77023)  \n",
       "3    Midtown Village  \n",
       "4    Midtown Village  "
      ]
     },
     "execution_count": 20,
     "metadata": {},
     "output_type": "execute_result"
    }
   ],
   "source": [
    "SingleFamilyHome.select_dtypes(include=['object']).head()"
   ]
  },
  {
   "cell_type": "code",
   "execution_count": 23,
   "metadata": {},
   "outputs": [],
   "source": [
    "SingleFamilyHome.drop(['image_link','Address','Legal','Heating'],axis=1,inplace=True)"
   ]
  },
  {
   "cell_type": "code",
   "execution_count": 22,
   "metadata": {},
   "outputs": [
    {
     "data": {
      "text/plain": [
       "Central Electric                                         5109\n",
       "Central Electric, Zoned                                   793\n",
       "Central Gas                                               171\n",
       "Central Electric, Central Gas                              98\n",
       "Window Units                                               41\n",
       "Central Electric, Window Units                             25\n",
       "No Cooling/Vent                                            23\n",
       "Central Gas, Zoned                                         16\n",
       "Other Cooling                                              14\n",
       "Central Electric, Other Cooling                             9\n",
       "Zoned                                                       9\n",
       "Central Electric, Other Cooling, Zoned                      7\n",
       "Central Electric, Heat Pump                                 7\n",
       "Central Electric, Central Gas, Zoned                        6\n",
       "No Cooling/Vent, Other Cooling                              5\n",
       "Central Electric, Solar Assisted                            3\n",
       "Heat Pump                                                   3\n",
       "Central Gas, Heat Pump                                      2\n",
       "Central Electric, Central Gas, Heat Pump                    1\n",
       "Other Cooling, Window Units                                 1\n",
       "Central Electric, Solar Assisted, Zoned                     1\n",
       "Central Gas, Window Units                                   1\n",
       "Central Electric, Solar Assisted, Window Units, Zoned       1\n",
       "Central Gas, Other Cooling                                  1\n",
       "Heat Pump, Zoned                                            1\n",
       "Name: Cooling, dtype: int64"
      ]
     },
     "execution_count": 22,
     "metadata": {},
     "output_type": "execute_result"
    }
   ],
   "source": [
    "SingleFamilyHome.Cooling.value_counts()"
   ]
  },
  {
   "cell_type": "code",
   "execution_count": 25,
   "metadata": {},
   "outputs": [
    {
     "data": {
      "text/plain": [
       "Central         6251\n",
       "Window Units      41\n",
       "No Cooling        28\n",
       "Other             15\n",
       "Zoned              9\n",
       "Heat Pump          4\n",
       "Name: Cooling, dtype: int64"
      ]
     },
     "execution_count": 25,
     "metadata": {},
     "output_type": "execute_result"
    }
   ],
   "source": [
    "standard_colling=['Central','No Cooling','Other','Heat Pump']\n",
    "#For each correct roof  type . in standard roof list\n",
    "for cool in standard_colling:\n",
    "    \n",
    "    # Find matches in gender\n",
    "    matches = process.extract(cool, SingleFamilyHome.Cooling,\n",
    "                 limit = SingleFamilyHome.shape[0])\n",
    "    \n",
    "    \n",
    "# For each possible_match with similarity score >= 90\n",
    "    for possible_match in matches:\n",
    "        if possible_match[1] >= 90:\n",
    "      \n",
    "            \n",
    "            matching = SingleFamilyHome.Cooling == possible_match[0]\n",
    "           # I decided to use 'W' for female since there is high similarity between 'female' and 'male' \n",
    "        SingleFamilyHome.loc[matching , 'Cooling'] = cool\n",
    "\n",
    "SingleFamilyHome.Cooling.value_counts()"
   ]
  },
  {
   "cell_type": "code",
   "execution_count": 6,
   "metadata": {},
   "outputs": [
    {
     "data": {
      "text/plain": [
       "Subdivision Lot                                             3408\n",
       "Cul-De-Sac, Subdivision Lot                                  365\n",
       "Corner, Subdivision Lot                                      313\n",
       "Corner                                                       285\n",
       "Cul-De-Sac                                                   265\n",
       "                                                            ... \n",
       "Cleared, Corner, Cul-De-Sac, Subdivision Lot, Water View       1\n",
       "Cleared, Waterfront                                            1\n",
       "Corner, Cul-De-Sac, Patio Lot, Wooded                          1\n",
       "On Golf Course, Subdivision Lot                                1\n",
       "Cul-De-Sac, Other                                              1\n",
       "Name: LotDes, Length: 210, dtype: int64"
      ]
     },
     "execution_count": 6,
     "metadata": {},
     "output_type": "execute_result"
    }
   ],
   "source": [
    "SingleFamilyHome.LotDes.value_counts()"
   ]
  },
  {
   "cell_type": "code",
   "execution_count": 13,
   "metadata": {},
   "outputs": [
    {
     "data": {
      "text/plain": [
       "Subdivision Lot                                             3408\n",
       "Cul-De-Sac, Subdivision Lot                                  365\n",
       "Corner, Subdivision Lot                                      313\n",
       "Corner                                                       285\n",
       "Cul-De-Sac                                                   265\n",
       "                                                            ... \n",
       "Cleared, Corner, Cul-De-Sac, Subdivision Lot, Water View       1\n",
       "Cleared, Waterfront                                            1\n",
       "Corner, Cul-De-Sac, Patio Lot, Wooded                          1\n",
       "On Golf Course, Subdivision Lot                                1\n",
       "Cul-De-Sac, Other                                              1\n",
       "Name: UnitLoc, Length: 210, dtype: int64"
      ]
     },
     "execution_count": 13,
     "metadata": {},
     "output_type": "execute_result"
    }
   ],
   "source": [
    "SingleFamilyHome.UnitLoc.value_counts()"
   ]
  },
  {
   "cell_type": "code",
   "execution_count": 15,
   "metadata": {},
   "outputs": [],
   "source": [
    "SingleFamilyHome.drop('UnitLoc',axis=1,inplace=True)"
   ]
  },
  {
   "cell_type": "code",
   "execution_count": 7,
   "metadata": {},
   "outputs": [
    {
     "data": {
      "text/plain": [
       "Subdivision Lot    4963\n",
       "Cul-De-Sac          408\n",
       "Corner              339\n",
       "Other               204\n",
       "Cleared             166\n",
       "Patio Lot            93\n",
       "Water View           64\n",
       "Golf Course          56\n",
       "Wooded               43\n",
       "Greenbelt            10\n",
       "Ravine                2\n",
       "Name: LotDes, dtype: int64"
      ]
     },
     "execution_count": 7,
     "metadata": {},
     "output_type": "execute_result"
    }
   ],
   "source": [
    "standard_LotDes=['Subdivision Lot','Cul-De-Sac','Corner','Patio Lot','Water View','Cleared','Wooded','Other','Golf Course']\n",
    "#For each correct roof  type . in standard roof list\n",
    "for des in standard_LotDes:\n",
    "    \n",
    "    # Find matches in gender\n",
    "    matches = process.extract(des, SingleFamilyHome.LotDes,\n",
    "                 limit = SingleFamilyHome.shape[0])\n",
    "    \n",
    "    \n",
    "# For each possible_match with similarity score >= 90\n",
    "    for possible_match in matches:\n",
    "        if possible_match[1] >= 90:\n",
    "      \n",
    "            \n",
    "            matching = SingleFamilyHome.LotDes == possible_match[0]\n",
    "           # I decided to use 'W' for female since there is high similarity between 'female' and 'male' \n",
    "        SingleFamilyHome.loc[matching , 'LotDes'] = des\n",
    "SingleFamilyHome.LotDes = SingleFamilyHome.LotDes.replace(['Waterfront'],'Water View')\n",
    "SingleFamilyHome.LotDes.value_counts()"
   ]
  },
  {
   "cell_type": "code",
   "execution_count": 8,
   "metadata": {},
   "outputs": [
    {
     "data": {
      "text/plain": [
       "Brick                                        1377\n",
       "Brick, Wood                                  1028\n",
       "Brick, Cement Board                           801\n",
       "Brick & Wood                                  564\n",
       "Stucco                                        321\n",
       "                                             ... \n",
       "Brick & Wood, Cement Board, Stone, Stucco       1\n",
       "Aluminum, Stone                                 1\n",
       "Brick, Cement Board, Stone, Vinyl, Wood         1\n",
       "Brick & Wood, Cement Board, Vinyl               1\n",
       "Aluminum, Brick, Stone                          1\n",
       "Name: ExteriorType, Length: 140, dtype: int64"
      ]
     },
     "execution_count": 8,
     "metadata": {},
     "output_type": "execute_result"
    }
   ],
   "source": [
    "SingleFamilyHome.ExteriorType.value_counts()"
   ]
  },
  {
   "cell_type": "code",
   "execution_count": 9,
   "metadata": {},
   "outputs": [
    {
     "data": {
      "text/plain": [
       "Brick           4887\n",
       "Stucco           601\n",
       "Wood             356\n",
       "Cement Board     310\n",
       "Other            100\n",
       "Vinyl             39\n",
       "Stone             29\n",
       "Aluminum          20\n",
       "Asbestos           6\n",
       "Name: ExteriorType, dtype: int64"
      ]
     },
     "execution_count": 9,
     "metadata": {},
     "output_type": "execute_result"
    }
   ],
   "source": [
    "standard_exterior=['Brick','Wood','Stucco','Cement Board','Stone','Aluminum','Other']\n",
    "#For each correct roof  type . in standard roof list\n",
    "for exterior in standard_exterior:\n",
    "    \n",
    "    # Find matches in gender\n",
    "    matches = process.extract(exterior, SingleFamilyHome.ExteriorType,\n",
    "                 limit = SingleFamilyHome.shape[0])\n",
    "    \n",
    "    \n",
    "# For each possible_match with similarity score >= 90\n",
    "    for possible_match in matches:\n",
    "        if possible_match[1] >= 90:\n",
    "      \n",
    "            \n",
    "            matching = SingleFamilyHome.ExteriorType == possible_match[0]\n",
    "           # I decided to use 'W' for female since there is high similarity between 'female' and 'male' \n",
    "        SingleFamilyHome.loc[matching , 'ExteriorType'] = exterior\n",
    "SingleFamilyHome.ExteriorType = SingleFamilyHome.ExteriorType.replace(['Unknown'],'Other')\n",
    "SingleFamilyHome.ExteriorType.value_counts()"
   ]
  },
  {
   "cell_type": "code",
   "execution_count": 10,
   "metadata": {},
   "outputs": [
    {
     "data": {
      "text/plain": [
       "Public Sewer, Public Water                        3600\n",
       "Water District                                    1570\n",
       "Public Sewer, Public Water, Water District         456\n",
       "Public Sewer, Water District                       197\n",
       "Public Water                                       188\n",
       "Public Sewer                                        98\n",
       "Public Water, Water District                        32\n",
       "Septic Tank                                         29\n",
       "Septic Tank, Well                                   29\n",
       "Public Water, Septic Tank                           19\n",
       "Other Water/Sewer                                   18\n",
       "Public Sewer, Public Water, Well                    15\n",
       "Aerobic, Public Water                               14\n",
       "Aerobic                                             13\n",
       "Aerobic, Septic Tank                                 7\n",
       "Aerobic, Septic Tank, Well                           7\n",
       "Aerobic, Other Water/Sewer, Septic Tank              6\n",
       "Aerobic, Well                                        6\n",
       "Septic Tank, Water District                          4\n",
       "Aerobic, Water District                              4\n",
       "Aerobic, Other Water/Sewer                           3\n",
       "Other Water/Sewer, Public Sewer                      3\n",
       "Other Water/Sewer, Septic Tank                       3\n",
       "No Sewer, No Water, Public Sewer, Public Water       2\n",
       "Public Water, Septic Tank, Well                      2\n",
       "Aerobic, Public Water, Septic Tank                   2\n",
       "Public Sewer, Water District, Well                   2\n",
       "Other Water/Sewer, Public Sewer, Public Water        2\n",
       "Public Sewer, Well                                   2\n",
       "Other Water/Sewer, Public Water                      2\n",
       "Aerobic, Public Water, Septic Tank, Well             1\n",
       "Well                                                 1\n",
       "Public Sewer, Public Water, Septic Tank              1\n",
       "Public Sewer, Septic Tank                            1\n",
       "Aerobic, Other Water/Sewer, Public Water             1\n",
       "No Sewer                                             1\n",
       "Other Water/Sewer, Septic Tank, Well                 1\n",
       "No Sewer, Well                                       1\n",
       "No Sewer, Water District                             1\n",
       "Public Sewer, Septic Tank, Water District            1\n",
       "Other Water/Sewer, Water District                    1\n",
       "Other Water/Sewer, Public Water, Septic Tank         1\n",
       "Aerobic, Public Water, Water District                1\n",
       "Name: WaterSewer, dtype: int64"
      ]
     },
     "execution_count": 10,
     "metadata": {},
     "output_type": "execute_result"
    }
   ],
   "source": [
    "SingleFamilyHome.WaterSewer.value_counts()"
   ]
  },
  {
   "cell_type": "code",
   "execution_count": 11,
   "metadata": {},
   "outputs": [
    {
     "data": {
      "text/plain": [
       "Public            4643\n",
       "Water District    1580\n",
       "Septic Tank         82\n",
       "Aerobic             22\n",
       "Other               18\n",
       "No Sewer             2\n",
       "Well                 1\n",
       "Name: WaterSewer, dtype: int64"
      ]
     },
     "execution_count": 11,
     "metadata": {},
     "output_type": "execute_result"
    }
   ],
   "source": [
    "standard_watersewer=['Public','Water District','Septic Tank','Aerobic','No Sewer','Other']\n",
    "#For each correct roof  type . in standard roof list\n",
    "for water in standard_watersewer:\n",
    "    \n",
    "    # Find matches in gender\n",
    "    matches = process.extract(water, SingleFamilyHome.WaterSewer,limit = SingleFamilyHome.shape[0])\n",
    "    \n",
    "    \n",
    "# For each possible_match with similarity score >= 90\n",
    "    for possible_match in matches:\n",
    "        if possible_match[1] >= 90:\n",
    "      \n",
    "            \n",
    "            matching = SingleFamilyHome.WaterSewer == possible_match[0]\n",
    "           # I decided to use 'W' for female since there is high similarity between 'female' and 'male' \n",
    "        SingleFamilyHome.loc[matching , 'WaterSewer'] = water\n",
    "\n",
    "SingleFamilyHome.WaterSewer.value_counts()"
   ]
  },
  {
   "cell_type": "code",
   "execution_count": 16,
   "metadata": {},
   "outputs": [
    {
     "data": {
      "text/plain": [
       "Exclusive Right to Sell/Lease                    6208\n",
       "Exclusive Agency to Sell/Lease                    111\n",
       "Exclusive Right to Sell/Lse w/ Named Prospect      29\n",
       "Name: ListType, dtype: int64"
      ]
     },
     "execution_count": 16,
     "metadata": {},
     "output_type": "execute_result"
    }
   ],
   "source": [
    "SingleFamilyHome.ListType.value_counts()"
   ]
  },
  {
   "cell_type": "code",
   "execution_count": 17,
   "metadata": {},
   "outputs": [],
   "source": [
    "SingleFamilyHome.drop('ListType',axis=1,inplace=True)"
   ]
  },
  {
   "cell_type": "code",
   "execution_count": 18,
   "metadata": {},
   "outputs": [
    {
     "data": {
      "text/plain": [
       "Free Standing    6272\n",
       "Patio Home         40\n",
       "Duplex             24\n",
       "Historic            6\n",
       "Manufactured        6\n",
       "Name: DwellingType, dtype: int64"
      ]
     },
     "execution_count": 18,
     "metadata": {},
     "output_type": "execute_result"
    }
   ],
   "source": [
    "SingleFamilyHome.DwellingType.value_counts()"
   ]
  },
  {
   "cell_type": "code",
   "execution_count": 41,
   "metadata": {},
   "outputs": [],
   "source": [
    "categorical = SingleFamilyHome.columns[SingleFamilyHome.dtypes=='object']"
   ]
  },
  {
   "cell_type": "code",
   "execution_count": 42,
   "metadata": {},
   "outputs": [
    {
     "data": {
      "text/plain": [
       "Index(['City', 'ZipCode', 'County', 'Style', 'Cooling', 'Roof', 'Foundation',\n",
       "       'ExteriorType', 'LotDes', 'ControlAccess', 'WaterSewer', 'DwellingType',\n",
       "       'CarportDescription', 'SubName'],\n",
       "      dtype='object')"
      ]
     },
     "execution_count": 42,
     "metadata": {},
     "output_type": "execute_result"
    }
   ],
   "source": [
    "categorical"
   ]
  },
  {
   "cell_type": "markdown",
   "metadata": {},
   "source": [
    "There are various ways to encode data , converting to 1-hot encoding or Label, or Ordinal. I will convert categorical features  with sklearn ordinal encoding to simply because it keeps our feature count field to variable and saves lot of time and space in processing"
   ]
  },
  {
   "cell_type": "code",
   "execution_count": 43,
   "metadata": {},
   "outputs": [],
   "source": [
    "ordinal = OrdinalEncoder()"
   ]
  },
  {
   "cell_type": "code",
   "execution_count": 46,
   "metadata": {},
   "outputs": [],
   "source": [
    "SingleFamilyHome[categorical] = ordinal.fit_transform(SingleFamilyHome[categorical])"
   ]
  },
  {
   "cell_type": "code",
   "execution_count": 47,
   "metadata": {},
   "outputs": [
    {
     "data": {
      "text/html": [
       "<div>\n",
       "<style scoped>\n",
       "    .dataframe tbody tr th:only-of-type {\n",
       "        vertical-align: middle;\n",
       "    }\n",
       "\n",
       "    .dataframe tbody tr th {\n",
       "        vertical-align: top;\n",
       "    }\n",
       "\n",
       "    .dataframe thead th {\n",
       "        text-align: right;\n",
       "    }\n",
       "</style>\n",
       "<table border=\"1\" class=\"dataframe\">\n",
       "  <thead>\n",
       "    <tr style=\"text-align: right;\">\n",
       "      <th></th>\n",
       "      <th>ListingPrice</th>\n",
       "      <th>City</th>\n",
       "      <th>ZipCode</th>\n",
       "      <th>County</th>\n",
       "      <th>NoBed</th>\n",
       "      <th>Stories</th>\n",
       "      <th>Style</th>\n",
       "      <th>BuildSqft</th>\n",
       "      <th>LotSize</th>\n",
       "      <th>Fireplace</th>\n",
       "      <th>...</th>\n",
       "      <th>AvgNeighborValRange</th>\n",
       "      <th>MedianPrice/Sqft</th>\n",
       "      <th>PaidTax</th>\n",
       "      <th>TaxRate</th>\n",
       "      <th>TotalBedSqft</th>\n",
       "      <th>FullBath</th>\n",
       "      <th>HalfBath</th>\n",
       "      <th>MaintenanceFee</th>\n",
       "      <th>Age</th>\n",
       "      <th>MedianAge</th>\n",
       "    </tr>\n",
       "  </thead>\n",
       "  <tbody>\n",
       "    <tr>\n",
       "      <th>0</th>\n",
       "      <td>364990</td>\n",
       "      <td>2.0</td>\n",
       "      <td>0.0</td>\n",
       "      <td>1.0</td>\n",
       "      <td>3</td>\n",
       "      <td>3.0</td>\n",
       "      <td>1.0</td>\n",
       "      <td>1736</td>\n",
       "      <td>1428.0</td>\n",
       "      <td>0</td>\n",
       "      <td>...</td>\n",
       "      <td>217000.0</td>\n",
       "      <td>192.51</td>\n",
       "      <td>2169.0</td>\n",
       "      <td>2.6554</td>\n",
       "      <td>430.0</td>\n",
       "      <td>3</td>\n",
       "      <td>1</td>\n",
       "      <td>1195.0</td>\n",
       "      <td>1</td>\n",
       "      <td>2</td>\n",
       "    </tr>\n",
       "    <tr>\n",
       "      <th>1</th>\n",
       "      <td>419000</td>\n",
       "      <td>2.0</td>\n",
       "      <td>0.0</td>\n",
       "      <td>1.0</td>\n",
       "      <td>3</td>\n",
       "      <td>3.0</td>\n",
       "      <td>14.0</td>\n",
       "      <td>2671</td>\n",
       "      <td>2006.0</td>\n",
       "      <td>1</td>\n",
       "      <td>...</td>\n",
       "      <td>443500.0</td>\n",
       "      <td>200.05</td>\n",
       "      <td>10366.0</td>\n",
       "      <td>2.5466</td>\n",
       "      <td>320.0</td>\n",
       "      <td>3</td>\n",
       "      <td>1</td>\n",
       "      <td>2244.0</td>\n",
       "      <td>10</td>\n",
       "      <td>8</td>\n",
       "    </tr>\n",
       "    <tr>\n",
       "      <th>2</th>\n",
       "      <td>298800</td>\n",
       "      <td>2.0</td>\n",
       "      <td>0.0</td>\n",
       "      <td>1.0</td>\n",
       "      <td>3</td>\n",
       "      <td>1.0</td>\n",
       "      <td>14.0</td>\n",
       "      <td>1972</td>\n",
       "      <td>5000.0</td>\n",
       "      <td>0</td>\n",
       "      <td>...</td>\n",
       "      <td>126500.0</td>\n",
       "      <td>147.06</td>\n",
       "      <td>5854.0</td>\n",
       "      <td>2.5716</td>\n",
       "      <td>616.0</td>\n",
       "      <td>1</td>\n",
       "      <td>1</td>\n",
       "      <td>0.0</td>\n",
       "      <td>14</td>\n",
       "      <td>91</td>\n",
       "    </tr>\n",
       "    <tr>\n",
       "      <th>3</th>\n",
       "      <td>289900</td>\n",
       "      <td>2.0</td>\n",
       "      <td>0.0</td>\n",
       "      <td>1.0</td>\n",
       "      <td>2</td>\n",
       "      <td>2.0</td>\n",
       "      <td>10.0</td>\n",
       "      <td>1688</td>\n",
       "      <td>1918.0</td>\n",
       "      <td>0</td>\n",
       "      <td>...</td>\n",
       "      <td>259000.0</td>\n",
       "      <td>181.62</td>\n",
       "      <td>6685.4</td>\n",
       "      <td>2.5465</td>\n",
       "      <td>330.0</td>\n",
       "      <td>2</td>\n",
       "      <td>0</td>\n",
       "      <td>1500.0</td>\n",
       "      <td>14</td>\n",
       "      <td>15</td>\n",
       "    </tr>\n",
       "    <tr>\n",
       "      <th>4</th>\n",
       "      <td>284900</td>\n",
       "      <td>2.0</td>\n",
       "      <td>0.0</td>\n",
       "      <td>1.0</td>\n",
       "      <td>2</td>\n",
       "      <td>2.0</td>\n",
       "      <td>14.0</td>\n",
       "      <td>1410</td>\n",
       "      <td>1845.0</td>\n",
       "      <td>0</td>\n",
       "      <td>...</td>\n",
       "      <td>259000.0</td>\n",
       "      <td>181.62</td>\n",
       "      <td>6299.0</td>\n",
       "      <td>2.5466</td>\n",
       "      <td>282.0</td>\n",
       "      <td>2</td>\n",
       "      <td>1</td>\n",
       "      <td>1400.0</td>\n",
       "      <td>15</td>\n",
       "      <td>15</td>\n",
       "    </tr>\n",
       "  </tbody>\n",
       "</table>\n",
       "<p>5 rows × 50 columns</p>\n",
       "</div>"
      ],
      "text/plain": [
       "   ListingPrice  City  ZipCode  County  NoBed  Stories  Style  BuildSqft  \\\n",
       "0        364990   2.0      0.0     1.0      3      3.0    1.0       1736   \n",
       "1        419000   2.0      0.0     1.0      3      3.0   14.0       2671   \n",
       "2        298800   2.0      0.0     1.0      3      1.0   14.0       1972   \n",
       "3        289900   2.0      0.0     1.0      2      2.0   10.0       1688   \n",
       "4        284900   2.0      0.0     1.0      2      2.0   14.0       1410   \n",
       "\n",
       "   LotSize  Fireplace  ...  AvgNeighborValRange  MedianPrice/Sqft  PaidTax  \\\n",
       "0   1428.0          0  ...             217000.0            192.51   2169.0   \n",
       "1   2006.0          1  ...             443500.0            200.05  10366.0   \n",
       "2   5000.0          0  ...             126500.0            147.06   5854.0   \n",
       "3   1918.0          0  ...             259000.0            181.62   6685.4   \n",
       "4   1845.0          0  ...             259000.0            181.62   6299.0   \n",
       "\n",
       "   TaxRate  TotalBedSqft  FullBath  HalfBath  MaintenanceFee  Age  MedianAge  \n",
       "0   2.6554         430.0         3         1          1195.0    1          2  \n",
       "1   2.5466         320.0         3         1          2244.0   10          8  \n",
       "2   2.5716         616.0         1         1             0.0   14         91  \n",
       "3   2.5465         330.0         2         0          1500.0   14         15  \n",
       "4   2.5466         282.0         2         1          1400.0   15         15  \n",
       "\n",
       "[5 rows x 50 columns]"
      ]
     },
     "execution_count": 47,
     "metadata": {},
     "output_type": "execute_result"
    }
   ],
   "source": [
    "SingleFamilyHome.head()"
   ]
  },
  {
   "cell_type": "code",
   "execution_count": 48,
   "metadata": {},
   "outputs": [
    {
     "name": "stdout",
     "output_type": "stream",
     "text": [
      "<class 'pandas.core.frame.DataFrame'>\n",
      "RangeIndex: 6348 entries, 0 to 6347\n",
      "Data columns (total 50 columns):\n",
      " #   Column               Non-Null Count  Dtype  \n",
      "---  ------               --------------  -----  \n",
      " 0   ListingPrice         6348 non-null   int64  \n",
      " 1   City                 6348 non-null   float64\n",
      " 2   ZipCode              6348 non-null   float64\n",
      " 3   County               6348 non-null   float64\n",
      " 4   NoBed                6348 non-null   int64  \n",
      " 5   Stories              6348 non-null   float64\n",
      " 6   Style                6348 non-null   float64\n",
      " 7   BuildSqft            6348 non-null   int64  \n",
      " 8   LotSize              6348 non-null   float64\n",
      " 9   Fireplace            6348 non-null   int64  \n",
      " 10  Cooling              6348 non-null   float64\n",
      " 11  IceMaker             6348 non-null   int64  \n",
      " 12  Microwave            6348 non-null   int64  \n",
      " 13  Compactor            6348 non-null   int64  \n",
      " 14  Dishwasher           6348 non-null   int64  \n",
      " 15  Disposal             6348 non-null   int64  \n",
      " 16  Roof                 6348 non-null   float64\n",
      " 17  Foundation           6348 non-null   float64\n",
      " 18  PrivatePool          6348 non-null   int64  \n",
      " 19  ExteriorType         6348 non-null   float64\n",
      " 20  LotDes               6348 non-null   float64\n",
      " 21  ControlAccess        6348 non-null   float64\n",
      " 22  WaterSewer           6348 non-null   float64\n",
      " 23  AreaPool             6348 non-null   int64  \n",
      " 24  DwellingType         6348 non-null   float64\n",
      " 25  HOA                  6348 non-null   int64  \n",
      " 26  AvgBed               6348 non-null   float64\n",
      " 27  AvgBaths             6348 non-null   float64\n",
      " 28  CarportDescription   6348 non-null   float64\n",
      " 29  UtilitySqft          6348 non-null   float64\n",
      " 30  StudySqft            6348 non-null   float64\n",
      " 31  GameSqft             6348 non-null   float64\n",
      " 32  BreakfastSqft        6348 non-null   float64\n",
      " 33  Garage               6348 non-null   int64  \n",
      " 34  LivingSqft           6348 non-null   float64\n",
      " 35  DiningSqft           6348 non-null   float64\n",
      " 36  KitchenSqft          6348 non-null   float64\n",
      " 37  SubName              6348 non-null   float64\n",
      " 38  MedianApp            6348 non-null   int64  \n",
      " 39  MedianSqft           6348 non-null   int64  \n",
      " 40  AvgNeighborValRange  6348 non-null   float64\n",
      " 41  MedianPrice/Sqft     6348 non-null   float64\n",
      " 42  PaidTax              6348 non-null   float64\n",
      " 43  TaxRate              6348 non-null   float64\n",
      " 44  TotalBedSqft         6348 non-null   float64\n",
      " 45  FullBath             6348 non-null   int64  \n",
      " 46  HalfBath             6348 non-null   int64  \n",
      " 47  MaintenanceFee       6348 non-null   float64\n",
      " 48  Age                  6348 non-null   int64  \n",
      " 49  MedianAge            6348 non-null   int64  \n",
      "dtypes: float64(31), int64(19)\n",
      "memory usage: 2.4 MB\n"
     ]
    }
   ],
   "source": [
    "SingleFamilyHome.info()"
   ]
  },
  {
   "cell_type": "code",
   "execution_count": null,
   "metadata": {},
   "outputs": [],
   "source": []
  }
 ],
 "metadata": {
  "kernelspec": {
   "display_name": "Python 3",
   "language": "python",
   "name": "python3"
  },
  "language_info": {
   "codemirror_mode": {
    "name": "ipython",
    "version": 3
   },
   "file_extension": ".py",
   "mimetype": "text/x-python",
   "name": "python",
   "nbconvert_exporter": "python",
   "pygments_lexer": "ipython3",
   "version": "3.8.5"
  }
 },
 "nbformat": 4,
 "nbformat_minor": 4
}
